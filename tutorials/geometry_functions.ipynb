{
 "cells": [
  {
   "attachments": {},
   "cell_type": "markdown",
   "metadata": {},
   "source": [
    "# geometry functions allow a ***design*** to be created more easily\n",
    "\n",
    "the geometry functions here allow points to be created (part I), measured (part II) and moved/copied (part III)\n",
    "\n",
    "geometry functions work best when x, y and z are all defined for all points\n",
    "\n",
    "'tau' (equal to 2*pi) is used throughout this notebook - see tau section of the [design tips notebook](design_tips.ipynb) for further details\n",
    "\n",
    "<*this document is a jupyter notebook - if they're new to you, check out how they work:\n",
    "[link](https://www.google.com/search?q=ipynb+tutorial),\n",
    "[link](https://jupyter.org/try-jupyter/retro/notebooks/?path=notebooks/Intro.ipynb),\n",
    "[link](https://colab.research.google.com/)*>\n",
    "\n",
    "*run all cells in this notebook in order (keep pressing shift+enter)*"
   ]
  },
  {
   "cell_type": "code",
   "execution_count": 1,
   "metadata": {},
   "outputs": [],
   "source": [
    "import fullcontrol as fc\n",
    "from math import tau, sin"
   ]
  },
  {
   "attachments": {},
   "cell_type": "markdown",
   "metadata": {},
   "source": [
    "## I. create points\n",
    "\n",
    "single points:\n",
    "- points defined by polar coordinates\n",
    "- midpoint of two points\n",
    "\n",
    "lists of points:\n",
    "- arc\n",
    "- arc with variable radius\n",
    "- elliptical arc\n",
    "- rectangle\n",
    "- circle\n",
    "- polygon\n",
    "- spiral\n",
    "- helix (optionally with variable radius)\n",
    "- squarewave\n",
    "- segmented line"
   ]
  },
  {
   "attachments": {},
   "cell_type": "markdown",
   "metadata": {},
   "source": [
    "#### midpoint() and polar_to_point() (point defined by polar coordinates)"
   ]
  },
  {
   "cell_type": "code",
   "execution_count": 2,
   "metadata": {},
   "outputs": [
    {
     "data": {
      "application/vnd.plotly.v1+json": {
       "config": {
        "plotlyServerURL": "https://plot.ly"
       },
       "data": [
        {
         "line": {
          "color": [
           "rgb(204.00, 0.00, 255.00)",
           "rgb(102.00, 0.00, 255.00)",
           "rgb(0.00, 0.00, 255.00)",
           "rgb(0.00, 127.50, 255.00)"
          ],
          "width": 4
         },
         "mode": "lines",
         "showlegend": false,
         "type": "scatter3d",
         "x": [
          0,
          0,
          7.071,
          0
         ],
         "y": [
          0,
          10,
          17.071,
          5
         ],
         "z": [
          0,
          0,
          0,
          0
         ]
        },
        {
         "marker": {
          "color": "red",
          "size": 2
         },
         "mode": "markers",
         "showlegend": false,
         "type": "scatter3d",
         "x": [
          0,
          0,
          0,
          7.0710678118654755
         ],
         "y": [
          5,
          0,
          10,
          17.071067811865476
         ],
         "z": [
          0,
          0,
          0,
          0
         ]
        }
       ],
       "layout": {
        "height": 500,
        "margin": {
         "b": 10,
         "l": 10,
         "pad": 4,
         "r": 10,
         "t": 10
        },
        "paper_bgcolor": "black",
        "scene": {
         "annotations": [
          {
           "showarrow": false,
           "text": "midpoint between point 1 and point 2",
           "x": 0,
           "y": 5,
           "yshift": 10,
           "z": 0
          },
          {
           "showarrow": false,
           "text": "point 1",
           "x": 0,
           "y": 0,
           "yshift": 10,
           "z": 0
          },
          {
           "showarrow": false,
           "text": "point 2",
           "x": 0,
           "y": 10,
           "yshift": 10,
           "z": 0
          },
          {
           "showarrow": false,
           "text": "point defined by polar coordinates relative to point 2",
           "x": 7.0710678118654755,
           "y": 17.071067811865476,
           "yshift": 10,
           "z": 0
          }
         ],
         "aspectmode": "cube",
         "camera": {
          "center": {
           "x": 0,
           "y": 0,
           "z": -0.5
          },
          "eye": {
           "x": -0.5,
           "y": -1,
           "z": 0
          }
         },
         "xaxis": {
          "backgroundcolor": "black",
          "nticks": 10,
          "range": [
           -5.0009999999999994,
           12.072067811865475
          ]
         },
         "yaxis": {
          "backgroundcolor": "black",
          "nticks": 10,
          "range": [
           -0.0009999999999994458,
           17.072067811865473
          ]
         },
         "zaxis": {
          "backgroundcolor": "black",
          "nticks": 10,
          "range": [
           0,
           17.073067811865474
          ]
         }
        },
        "template": {
         "data": {
          "bar": [
           {
            "error_x": {
             "color": "#f2f5fa"
            },
            "error_y": {
             "color": "#f2f5fa"
            },
            "marker": {
             "line": {
              "color": "rgb(17,17,17)",
              "width": 0.5
             },
             "pattern": {
              "fillmode": "overlay",
              "size": 10,
              "solidity": 0.2
             }
            },
            "type": "bar"
           }
          ],
          "barpolar": [
           {
            "marker": {
             "line": {
              "color": "rgb(17,17,17)",
              "width": 0.5
             },
             "pattern": {
              "fillmode": "overlay",
              "size": 10,
              "solidity": 0.2
             }
            },
            "type": "barpolar"
           }
          ],
          "carpet": [
           {
            "aaxis": {
             "endlinecolor": "#A2B1C6",
             "gridcolor": "#506784",
             "linecolor": "#506784",
             "minorgridcolor": "#506784",
             "startlinecolor": "#A2B1C6"
            },
            "baxis": {
             "endlinecolor": "#A2B1C6",
             "gridcolor": "#506784",
             "linecolor": "#506784",
             "minorgridcolor": "#506784",
             "startlinecolor": "#A2B1C6"
            },
            "type": "carpet"
           }
          ],
          "choropleth": [
           {
            "colorbar": {
             "outlinewidth": 0,
             "ticks": ""
            },
            "type": "choropleth"
           }
          ],
          "contour": [
           {
            "colorbar": {
             "outlinewidth": 0,
             "ticks": ""
            },
            "colorscale": [
             [
              0,
              "#0d0887"
             ],
             [
              0.1111111111111111,
              "#46039f"
             ],
             [
              0.2222222222222222,
              "#7201a8"
             ],
             [
              0.3333333333333333,
              "#9c179e"
             ],
             [
              0.4444444444444444,
              "#bd3786"
             ],
             [
              0.5555555555555556,
              "#d8576b"
             ],
             [
              0.6666666666666666,
              "#ed7953"
             ],
             [
              0.7777777777777778,
              "#fb9f3a"
             ],
             [
              0.8888888888888888,
              "#fdca26"
             ],
             [
              1,
              "#f0f921"
             ]
            ],
            "type": "contour"
           }
          ],
          "contourcarpet": [
           {
            "colorbar": {
             "outlinewidth": 0,
             "ticks": ""
            },
            "type": "contourcarpet"
           }
          ],
          "heatmap": [
           {
            "colorbar": {
             "outlinewidth": 0,
             "ticks": ""
            },
            "colorscale": [
             [
              0,
              "#0d0887"
             ],
             [
              0.1111111111111111,
              "#46039f"
             ],
             [
              0.2222222222222222,
              "#7201a8"
             ],
             [
              0.3333333333333333,
              "#9c179e"
             ],
             [
              0.4444444444444444,
              "#bd3786"
             ],
             [
              0.5555555555555556,
              "#d8576b"
             ],
             [
              0.6666666666666666,
              "#ed7953"
             ],
             [
              0.7777777777777778,
              "#fb9f3a"
             ],
             [
              0.8888888888888888,
              "#fdca26"
             ],
             [
              1,
              "#f0f921"
             ]
            ],
            "type": "heatmap"
           }
          ],
          "histogram": [
           {
            "marker": {
             "pattern": {
              "fillmode": "overlay",
              "size": 10,
              "solidity": 0.2
             }
            },
            "type": "histogram"
           }
          ],
          "histogram2d": [
           {
            "colorbar": {
             "outlinewidth": 0,
             "ticks": ""
            },
            "colorscale": [
             [
              0,
              "#0d0887"
             ],
             [
              0.1111111111111111,
              "#46039f"
             ],
             [
              0.2222222222222222,
              "#7201a8"
             ],
             [
              0.3333333333333333,
              "#9c179e"
             ],
             [
              0.4444444444444444,
              "#bd3786"
             ],
             [
              0.5555555555555556,
              "#d8576b"
             ],
             [
              0.6666666666666666,
              "#ed7953"
             ],
             [
              0.7777777777777778,
              "#fb9f3a"
             ],
             [
              0.8888888888888888,
              "#fdca26"
             ],
             [
              1,
              "#f0f921"
             ]
            ],
            "type": "histogram2d"
           }
          ],
          "histogram2dcontour": [
           {
            "colorbar": {
             "outlinewidth": 0,
             "ticks": ""
            },
            "colorscale": [
             [
              0,
              "#0d0887"
             ],
             [
              0.1111111111111111,
              "#46039f"
             ],
             [
              0.2222222222222222,
              "#7201a8"
             ],
             [
              0.3333333333333333,
              "#9c179e"
             ],
             [
              0.4444444444444444,
              "#bd3786"
             ],
             [
              0.5555555555555556,
              "#d8576b"
             ],
             [
              0.6666666666666666,
              "#ed7953"
             ],
             [
              0.7777777777777778,
              "#fb9f3a"
             ],
             [
              0.8888888888888888,
              "#fdca26"
             ],
             [
              1,
              "#f0f921"
             ]
            ],
            "type": "histogram2dcontour"
           }
          ],
          "mesh3d": [
           {
            "colorbar": {
             "outlinewidth": 0,
             "ticks": ""
            },
            "type": "mesh3d"
           }
          ],
          "parcoords": [
           {
            "line": {
             "colorbar": {
              "outlinewidth": 0,
              "ticks": ""
             }
            },
            "type": "parcoords"
           }
          ],
          "pie": [
           {
            "automargin": true,
            "type": "pie"
           }
          ],
          "scatter": [
           {
            "marker": {
             "line": {
              "color": "#283442"
             }
            },
            "type": "scatter"
           }
          ],
          "scatter3d": [
           {
            "line": {
             "colorbar": {
              "outlinewidth": 0,
              "ticks": ""
             }
            },
            "marker": {
             "colorbar": {
              "outlinewidth": 0,
              "ticks": ""
             }
            },
            "type": "scatter3d"
           }
          ],
          "scattercarpet": [
           {
            "marker": {
             "colorbar": {
              "outlinewidth": 0,
              "ticks": ""
             }
            },
            "type": "scattercarpet"
           }
          ],
          "scattergeo": [
           {
            "marker": {
             "colorbar": {
              "outlinewidth": 0,
              "ticks": ""
             }
            },
            "type": "scattergeo"
           }
          ],
          "scattergl": [
           {
            "marker": {
             "line": {
              "color": "#283442"
             }
            },
            "type": "scattergl"
           }
          ],
          "scattermap": [
           {
            "marker": {
             "colorbar": {
              "outlinewidth": 0,
              "ticks": ""
             }
            },
            "type": "scattermap"
           }
          ],
          "scattermapbox": [
           {
            "marker": {
             "colorbar": {
              "outlinewidth": 0,
              "ticks": ""
             }
            },
            "type": "scattermapbox"
           }
          ],
          "scatterpolar": [
           {
            "marker": {
             "colorbar": {
              "outlinewidth": 0,
              "ticks": ""
             }
            },
            "type": "scatterpolar"
           }
          ],
          "scatterpolargl": [
           {
            "marker": {
             "colorbar": {
              "outlinewidth": 0,
              "ticks": ""
             }
            },
            "type": "scatterpolargl"
           }
          ],
          "scatterternary": [
           {
            "marker": {
             "colorbar": {
              "outlinewidth": 0,
              "ticks": ""
             }
            },
            "type": "scatterternary"
           }
          ],
          "surface": [
           {
            "colorbar": {
             "outlinewidth": 0,
             "ticks": ""
            },
            "colorscale": [
             [
              0,
              "#0d0887"
             ],
             [
              0.1111111111111111,
              "#46039f"
             ],
             [
              0.2222222222222222,
              "#7201a8"
             ],
             [
              0.3333333333333333,
              "#9c179e"
             ],
             [
              0.4444444444444444,
              "#bd3786"
             ],
             [
              0.5555555555555556,
              "#d8576b"
             ],
             [
              0.6666666666666666,
              "#ed7953"
             ],
             [
              0.7777777777777778,
              "#fb9f3a"
             ],
             [
              0.8888888888888888,
              "#fdca26"
             ],
             [
              1,
              "#f0f921"
             ]
            ],
            "type": "surface"
           }
          ],
          "table": [
           {
            "cells": {
             "fill": {
              "color": "#506784"
             },
             "line": {
              "color": "rgb(17,17,17)"
             }
            },
            "header": {
             "fill": {
              "color": "#2a3f5f"
             },
             "line": {
              "color": "rgb(17,17,17)"
             }
            },
            "type": "table"
           }
          ]
         },
         "layout": {
          "annotationdefaults": {
           "arrowcolor": "#f2f5fa",
           "arrowhead": 0,
           "arrowwidth": 1
          },
          "autotypenumbers": "strict",
          "coloraxis": {
           "colorbar": {
            "outlinewidth": 0,
            "ticks": ""
           }
          },
          "colorscale": {
           "diverging": [
            [
             0,
             "#8e0152"
            ],
            [
             0.1,
             "#c51b7d"
            ],
            [
             0.2,
             "#de77ae"
            ],
            [
             0.3,
             "#f1b6da"
            ],
            [
             0.4,
             "#fde0ef"
            ],
            [
             0.5,
             "#f7f7f7"
            ],
            [
             0.6,
             "#e6f5d0"
            ],
            [
             0.7,
             "#b8e186"
            ],
            [
             0.8,
             "#7fbc41"
            ],
            [
             0.9,
             "#4d9221"
            ],
            [
             1,
             "#276419"
            ]
           ],
           "sequential": [
            [
             0,
             "#0d0887"
            ],
            [
             0.1111111111111111,
             "#46039f"
            ],
            [
             0.2222222222222222,
             "#7201a8"
            ],
            [
             0.3333333333333333,
             "#9c179e"
            ],
            [
             0.4444444444444444,
             "#bd3786"
            ],
            [
             0.5555555555555556,
             "#d8576b"
            ],
            [
             0.6666666666666666,
             "#ed7953"
            ],
            [
             0.7777777777777778,
             "#fb9f3a"
            ],
            [
             0.8888888888888888,
             "#fdca26"
            ],
            [
             1,
             "#f0f921"
            ]
           ],
           "sequentialminus": [
            [
             0,
             "#0d0887"
            ],
            [
             0.1111111111111111,
             "#46039f"
            ],
            [
             0.2222222222222222,
             "#7201a8"
            ],
            [
             0.3333333333333333,
             "#9c179e"
            ],
            [
             0.4444444444444444,
             "#bd3786"
            ],
            [
             0.5555555555555556,
             "#d8576b"
            ],
            [
             0.6666666666666666,
             "#ed7953"
            ],
            [
             0.7777777777777778,
             "#fb9f3a"
            ],
            [
             0.8888888888888888,
             "#fdca26"
            ],
            [
             1,
             "#f0f921"
            ]
           ]
          },
          "colorway": [
           "#636efa",
           "#EF553B",
           "#00cc96",
           "#ab63fa",
           "#FFA15A",
           "#19d3f3",
           "#FF6692",
           "#B6E880",
           "#FF97FF",
           "#FECB52"
          ],
          "font": {
           "color": "#f2f5fa"
          },
          "geo": {
           "bgcolor": "rgb(17,17,17)",
           "lakecolor": "rgb(17,17,17)",
           "landcolor": "rgb(17,17,17)",
           "showlakes": true,
           "showland": true,
           "subunitcolor": "#506784"
          },
          "hoverlabel": {
           "align": "left"
          },
          "hovermode": "closest",
          "mapbox": {
           "style": "dark"
          },
          "paper_bgcolor": "rgb(17,17,17)",
          "plot_bgcolor": "rgb(17,17,17)",
          "polar": {
           "angularaxis": {
            "gridcolor": "#506784",
            "linecolor": "#506784",
            "ticks": ""
           },
           "bgcolor": "rgb(17,17,17)",
           "radialaxis": {
            "gridcolor": "#506784",
            "linecolor": "#506784",
            "ticks": ""
           }
          },
          "scene": {
           "xaxis": {
            "backgroundcolor": "rgb(17,17,17)",
            "gridcolor": "#506784",
            "gridwidth": 2,
            "linecolor": "#506784",
            "showbackground": true,
            "ticks": "",
            "zerolinecolor": "#C8D4E3"
           },
           "yaxis": {
            "backgroundcolor": "rgb(17,17,17)",
            "gridcolor": "#506784",
            "gridwidth": 2,
            "linecolor": "#506784",
            "showbackground": true,
            "ticks": "",
            "zerolinecolor": "#C8D4E3"
           },
           "zaxis": {
            "backgroundcolor": "rgb(17,17,17)",
            "gridcolor": "#506784",
            "gridwidth": 2,
            "linecolor": "#506784",
            "showbackground": true,
            "ticks": "",
            "zerolinecolor": "#C8D4E3"
           }
          },
          "shapedefaults": {
           "line": {
            "color": "#f2f5fa"
           }
          },
          "sliderdefaults": {
           "bgcolor": "#C8D4E3",
           "bordercolor": "rgb(17,17,17)",
           "borderwidth": 1,
           "tickwidth": 0
          },
          "ternary": {
           "aaxis": {
            "gridcolor": "#506784",
            "linecolor": "#506784",
            "ticks": ""
           },
           "baxis": {
            "gridcolor": "#506784",
            "linecolor": "#506784",
            "ticks": ""
           },
           "bgcolor": "rgb(17,17,17)",
           "caxis": {
            "gridcolor": "#506784",
            "linecolor": "#506784",
            "ticks": ""
           }
          },
          "title": {
           "x": 0.05
          },
          "updatemenudefaults": {
           "bgcolor": "#506784",
           "borderwidth": 0
          },
          "xaxis": {
           "automargin": true,
           "gridcolor": "#283442",
           "linecolor": "#506784",
           "ticks": "",
           "title": {
            "standoff": 15
           },
           "zerolinecolor": "#283442",
           "zerolinewidth": 2
          },
          "yaxis": {
           "automargin": true,
           "gridcolor": "#283442",
           "linecolor": "#506784",
           "ticks": "",
           "title": {
            "standoff": 15
           },
           "zerolinecolor": "#283442",
           "zerolinewidth": 2
          }
         }
        },
        "width": 800
       }
      }
     },
     "metadata": {},
     "output_type": "display_data"
    }
   ],
   "source": [
    "pt1 = fc.Point(x=0,y=0,z=0)\n",
    "pt2 = fc.Point(x=0,y=10,z=0)\n",
    "pt3 = fc.polar_to_point(pt2, 10, tau/8)\n",
    "pt4 = fc.midpoint(pt1, pt2)\n",
    "steps = [pt1, pt2, pt3, pt4]\n",
    "steps.append(fc.PlotAnnotation(point=pt4, label=\"midpoint between point 1 and point 2\"))\n",
    "steps.append(fc.PlotAnnotation(point=pt1, label=\"point 1\"))\n",
    "steps.append(fc.PlotAnnotation(point=pt2, label=\"point 2\"))\n",
    "steps.append(fc.PlotAnnotation(point=pt3, label=\"point defined by polar coordinates relative to point 2\"))\n",
    "fc.transform(steps, 'plot', fc.PlotControls(color_type='print_sequence', style='line'))"
   ]
  },
  {
   "attachments": {},
   "cell_type": "markdown",
   "metadata": {},
   "source": [
    "#### rectangle"
   ]
  },
  {
   "cell_type": "code",
   "execution_count": 3,
   "metadata": {},
   "outputs": [
    {
     "data": {
      "application/vnd.plotly.v1+json": {
       "config": {
        "plotlyServerURL": "https://plot.ly"
       },
       "data": [
        {
         "line": {
          "color": [
           "rgb(204.00, 0.00, 255.00)",
           "rgb(122.40, 0.00, 255.00)",
           "rgb(40.80, 0.00, 255.00)",
           "rgb(0.00, 51.00, 255.00)",
           "rgb(0.00, 153.00, 255.00)"
          ],
          "width": 4
         },
         "mode": "lines",
         "showlegend": false,
         "type": "scatter3d",
         "x": [
          10,
          10,
          20,
          20,
          10
         ],
         "y": [
          10,
          15,
          15,
          10,
          10
         ],
         "z": [
          0,
          0,
          0,
          0,
          0
         ]
        },
        {
         "marker": {
          "color": "red",
          "size": 2
         },
         "mode": "markers",
         "showlegend": false,
         "type": "scatter3d",
         "x": [
          10,
          10
         ],
         "y": [
          10,
          15
         ],
         "z": [
          0,
          0
         ]
        }
       ],
       "layout": {
        "height": 500,
        "margin": {
         "b": 10,
         "l": 10,
         "pad": 4,
         "r": 10,
         "t": 10
        },
        "paper_bgcolor": "black",
        "scene": {
         "annotations": [
          {
           "showarrow": false,
           "text": "start/end",
           "x": 10,
           "y": 10,
           "yshift": 10,
           "z": 0
          },
          {
           "showarrow": false,
           "text": "first point after start",
           "x": 10,
           "y": 15,
           "yshift": 10,
           "z": 0
          }
         ],
         "aspectmode": "cube",
         "camera": {
          "center": {
           "x": 0,
           "y": 0,
           "z": -0.5
          },
          "eye": {
           "x": -0.5,
           "y": -1,
           "z": 0
          }
         },
         "xaxis": {
          "backgroundcolor": "black",
          "nticks": 10,
          "range": [
           9.998999999999999,
           20.001
          ]
         },
         "yaxis": {
          "backgroundcolor": "black",
          "nticks": 10,
          "range": [
           7.499,
           17.501
          ]
         },
         "zaxis": {
          "backgroundcolor": "black",
          "nticks": 10,
          "range": [
           0,
           10.002
          ]
         }
        },
        "template": {
         "data": {
          "bar": [
           {
            "error_x": {
             "color": "#f2f5fa"
            },
            "error_y": {
             "color": "#f2f5fa"
            },
            "marker": {
             "line": {
              "color": "rgb(17,17,17)",
              "width": 0.5
             },
             "pattern": {
              "fillmode": "overlay",
              "size": 10,
              "solidity": 0.2
             }
            },
            "type": "bar"
           }
          ],
          "barpolar": [
           {
            "marker": {
             "line": {
              "color": "rgb(17,17,17)",
              "width": 0.5
             },
             "pattern": {
              "fillmode": "overlay",
              "size": 10,
              "solidity": 0.2
             }
            },
            "type": "barpolar"
           }
          ],
          "carpet": [
           {
            "aaxis": {
             "endlinecolor": "#A2B1C6",
             "gridcolor": "#506784",
             "linecolor": "#506784",
             "minorgridcolor": "#506784",
             "startlinecolor": "#A2B1C6"
            },
            "baxis": {
             "endlinecolor": "#A2B1C6",
             "gridcolor": "#506784",
             "linecolor": "#506784",
             "minorgridcolor": "#506784",
             "startlinecolor": "#A2B1C6"
            },
            "type": "carpet"
           }
          ],
          "choropleth": [
           {
            "colorbar": {
             "outlinewidth": 0,
             "ticks": ""
            },
            "type": "choropleth"
           }
          ],
          "contour": [
           {
            "colorbar": {
             "outlinewidth": 0,
             "ticks": ""
            },
            "colorscale": [
             [
              0,
              "#0d0887"
             ],
             [
              0.1111111111111111,
              "#46039f"
             ],
             [
              0.2222222222222222,
              "#7201a8"
             ],
             [
              0.3333333333333333,
              "#9c179e"
             ],
             [
              0.4444444444444444,
              "#bd3786"
             ],
             [
              0.5555555555555556,
              "#d8576b"
             ],
             [
              0.6666666666666666,
              "#ed7953"
             ],
             [
              0.7777777777777778,
              "#fb9f3a"
             ],
             [
              0.8888888888888888,
              "#fdca26"
             ],
             [
              1,
              "#f0f921"
             ]
            ],
            "type": "contour"
           }
          ],
          "contourcarpet": [
           {
            "colorbar": {
             "outlinewidth": 0,
             "ticks": ""
            },
            "type": "contourcarpet"
           }
          ],
          "heatmap": [
           {
            "colorbar": {
             "outlinewidth": 0,
             "ticks": ""
            },
            "colorscale": [
             [
              0,
              "#0d0887"
             ],
             [
              0.1111111111111111,
              "#46039f"
             ],
             [
              0.2222222222222222,
              "#7201a8"
             ],
             [
              0.3333333333333333,
              "#9c179e"
             ],
             [
              0.4444444444444444,
              "#bd3786"
             ],
             [
              0.5555555555555556,
              "#d8576b"
             ],
             [
              0.6666666666666666,
              "#ed7953"
             ],
             [
              0.7777777777777778,
              "#fb9f3a"
             ],
             [
              0.8888888888888888,
              "#fdca26"
             ],
             [
              1,
              "#f0f921"
             ]
            ],
            "type": "heatmap"
           }
          ],
          "histogram": [
           {
            "marker": {
             "pattern": {
              "fillmode": "overlay",
              "size": 10,
              "solidity": 0.2
             }
            },
            "type": "histogram"
           }
          ],
          "histogram2d": [
           {
            "colorbar": {
             "outlinewidth": 0,
             "ticks": ""
            },
            "colorscale": [
             [
              0,
              "#0d0887"
             ],
             [
              0.1111111111111111,
              "#46039f"
             ],
             [
              0.2222222222222222,
              "#7201a8"
             ],
             [
              0.3333333333333333,
              "#9c179e"
             ],
             [
              0.4444444444444444,
              "#bd3786"
             ],
             [
              0.5555555555555556,
              "#d8576b"
             ],
             [
              0.6666666666666666,
              "#ed7953"
             ],
             [
              0.7777777777777778,
              "#fb9f3a"
             ],
             [
              0.8888888888888888,
              "#fdca26"
             ],
             [
              1,
              "#f0f921"
             ]
            ],
            "type": "histogram2d"
           }
          ],
          "histogram2dcontour": [
           {
            "colorbar": {
             "outlinewidth": 0,
             "ticks": ""
            },
            "colorscale": [
             [
              0,
              "#0d0887"
             ],
             [
              0.1111111111111111,
              "#46039f"
             ],
             [
              0.2222222222222222,
              "#7201a8"
             ],
             [
              0.3333333333333333,
              "#9c179e"
             ],
             [
              0.4444444444444444,
              "#bd3786"
             ],
             [
              0.5555555555555556,
              "#d8576b"
             ],
             [
              0.6666666666666666,
              "#ed7953"
             ],
             [
              0.7777777777777778,
              "#fb9f3a"
             ],
             [
              0.8888888888888888,
              "#fdca26"
             ],
             [
              1,
              "#f0f921"
             ]
            ],
            "type": "histogram2dcontour"
           }
          ],
          "mesh3d": [
           {
            "colorbar": {
             "outlinewidth": 0,
             "ticks": ""
            },
            "type": "mesh3d"
           }
          ],
          "parcoords": [
           {
            "line": {
             "colorbar": {
              "outlinewidth": 0,
              "ticks": ""
             }
            },
            "type": "parcoords"
           }
          ],
          "pie": [
           {
            "automargin": true,
            "type": "pie"
           }
          ],
          "scatter": [
           {
            "marker": {
             "line": {
              "color": "#283442"
             }
            },
            "type": "scatter"
           }
          ],
          "scatter3d": [
           {
            "line": {
             "colorbar": {
              "outlinewidth": 0,
              "ticks": ""
             }
            },
            "marker": {
             "colorbar": {
              "outlinewidth": 0,
              "ticks": ""
             }
            },
            "type": "scatter3d"
           }
          ],
          "scattercarpet": [
           {
            "marker": {
             "colorbar": {
              "outlinewidth": 0,
              "ticks": ""
             }
            },
            "type": "scattercarpet"
           }
          ],
          "scattergeo": [
           {
            "marker": {
             "colorbar": {
              "outlinewidth": 0,
              "ticks": ""
             }
            },
            "type": "scattergeo"
           }
          ],
          "scattergl": [
           {
            "marker": {
             "line": {
              "color": "#283442"
             }
            },
            "type": "scattergl"
           }
          ],
          "scattermap": [
           {
            "marker": {
             "colorbar": {
              "outlinewidth": 0,
              "ticks": ""
             }
            },
            "type": "scattermap"
           }
          ],
          "scattermapbox": [
           {
            "marker": {
             "colorbar": {
              "outlinewidth": 0,
              "ticks": ""
             }
            },
            "type": "scattermapbox"
           }
          ],
          "scatterpolar": [
           {
            "marker": {
             "colorbar": {
              "outlinewidth": 0,
              "ticks": ""
             }
            },
            "type": "scatterpolar"
           }
          ],
          "scatterpolargl": [
           {
            "marker": {
             "colorbar": {
              "outlinewidth": 0,
              "ticks": ""
             }
            },
            "type": "scatterpolargl"
           }
          ],
          "scatterternary": [
           {
            "marker": {
             "colorbar": {
              "outlinewidth": 0,
              "ticks": ""
             }
            },
            "type": "scatterternary"
           }
          ],
          "surface": [
           {
            "colorbar": {
             "outlinewidth": 0,
             "ticks": ""
            },
            "colorscale": [
             [
              0,
              "#0d0887"
             ],
             [
              0.1111111111111111,
              "#46039f"
             ],
             [
              0.2222222222222222,
              "#7201a8"
             ],
             [
              0.3333333333333333,
              "#9c179e"
             ],
             [
              0.4444444444444444,
              "#bd3786"
             ],
             [
              0.5555555555555556,
              "#d8576b"
             ],
             [
              0.6666666666666666,
              "#ed7953"
             ],
             [
              0.7777777777777778,
              "#fb9f3a"
             ],
             [
              0.8888888888888888,
              "#fdca26"
             ],
             [
              1,
              "#f0f921"
             ]
            ],
            "type": "surface"
           }
          ],
          "table": [
           {
            "cells": {
             "fill": {
              "color": "#506784"
             },
             "line": {
              "color": "rgb(17,17,17)"
             }
            },
            "header": {
             "fill": {
              "color": "#2a3f5f"
             },
             "line": {
              "color": "rgb(17,17,17)"
             }
            },
            "type": "table"
           }
          ]
         },
         "layout": {
          "annotationdefaults": {
           "arrowcolor": "#f2f5fa",
           "arrowhead": 0,
           "arrowwidth": 1
          },
          "autotypenumbers": "strict",
          "coloraxis": {
           "colorbar": {
            "outlinewidth": 0,
            "ticks": ""
           }
          },
          "colorscale": {
           "diverging": [
            [
             0,
             "#8e0152"
            ],
            [
             0.1,
             "#c51b7d"
            ],
            [
             0.2,
             "#de77ae"
            ],
            [
             0.3,
             "#f1b6da"
            ],
            [
             0.4,
             "#fde0ef"
            ],
            [
             0.5,
             "#f7f7f7"
            ],
            [
             0.6,
             "#e6f5d0"
            ],
            [
             0.7,
             "#b8e186"
            ],
            [
             0.8,
             "#7fbc41"
            ],
            [
             0.9,
             "#4d9221"
            ],
            [
             1,
             "#276419"
            ]
           ],
           "sequential": [
            [
             0,
             "#0d0887"
            ],
            [
             0.1111111111111111,
             "#46039f"
            ],
            [
             0.2222222222222222,
             "#7201a8"
            ],
            [
             0.3333333333333333,
             "#9c179e"
            ],
            [
             0.4444444444444444,
             "#bd3786"
            ],
            [
             0.5555555555555556,
             "#d8576b"
            ],
            [
             0.6666666666666666,
             "#ed7953"
            ],
            [
             0.7777777777777778,
             "#fb9f3a"
            ],
            [
             0.8888888888888888,
             "#fdca26"
            ],
            [
             1,
             "#f0f921"
            ]
           ],
           "sequentialminus": [
            [
             0,
             "#0d0887"
            ],
            [
             0.1111111111111111,
             "#46039f"
            ],
            [
             0.2222222222222222,
             "#7201a8"
            ],
            [
             0.3333333333333333,
             "#9c179e"
            ],
            [
             0.4444444444444444,
             "#bd3786"
            ],
            [
             0.5555555555555556,
             "#d8576b"
            ],
            [
             0.6666666666666666,
             "#ed7953"
            ],
            [
             0.7777777777777778,
             "#fb9f3a"
            ],
            [
             0.8888888888888888,
             "#fdca26"
            ],
            [
             1,
             "#f0f921"
            ]
           ]
          },
          "colorway": [
           "#636efa",
           "#EF553B",
           "#00cc96",
           "#ab63fa",
           "#FFA15A",
           "#19d3f3",
           "#FF6692",
           "#B6E880",
           "#FF97FF",
           "#FECB52"
          ],
          "font": {
           "color": "#f2f5fa"
          },
          "geo": {
           "bgcolor": "rgb(17,17,17)",
           "lakecolor": "rgb(17,17,17)",
           "landcolor": "rgb(17,17,17)",
           "showlakes": true,
           "showland": true,
           "subunitcolor": "#506784"
          },
          "hoverlabel": {
           "align": "left"
          },
          "hovermode": "closest",
          "mapbox": {
           "style": "dark"
          },
          "paper_bgcolor": "rgb(17,17,17)",
          "plot_bgcolor": "rgb(17,17,17)",
          "polar": {
           "angularaxis": {
            "gridcolor": "#506784",
            "linecolor": "#506784",
            "ticks": ""
           },
           "bgcolor": "rgb(17,17,17)",
           "radialaxis": {
            "gridcolor": "#506784",
            "linecolor": "#506784",
            "ticks": ""
           }
          },
          "scene": {
           "xaxis": {
            "backgroundcolor": "rgb(17,17,17)",
            "gridcolor": "#506784",
            "gridwidth": 2,
            "linecolor": "#506784",
            "showbackground": true,
            "ticks": "",
            "zerolinecolor": "#C8D4E3"
           },
           "yaxis": {
            "backgroundcolor": "rgb(17,17,17)",
            "gridcolor": "#506784",
            "gridwidth": 2,
            "linecolor": "#506784",
            "showbackground": true,
            "ticks": "",
            "zerolinecolor": "#C8D4E3"
           },
           "zaxis": {
            "backgroundcolor": "rgb(17,17,17)",
            "gridcolor": "#506784",
            "gridwidth": 2,
            "linecolor": "#506784",
            "showbackground": true,
            "ticks": "",
            "zerolinecolor": "#C8D4E3"
           }
          },
          "shapedefaults": {
           "line": {
            "color": "#f2f5fa"
           }
          },
          "sliderdefaults": {
           "bgcolor": "#C8D4E3",
           "bordercolor": "rgb(17,17,17)",
           "borderwidth": 1,
           "tickwidth": 0
          },
          "ternary": {
           "aaxis": {
            "gridcolor": "#506784",
            "linecolor": "#506784",
            "ticks": ""
           },
           "baxis": {
            "gridcolor": "#506784",
            "linecolor": "#506784",
            "ticks": ""
           },
           "bgcolor": "rgb(17,17,17)",
           "caxis": {
            "gridcolor": "#506784",
            "linecolor": "#506784",
            "ticks": ""
           }
          },
          "title": {
           "x": 0.05
          },
          "updatemenudefaults": {
           "bgcolor": "#506784",
           "borderwidth": 0
          },
          "xaxis": {
           "automargin": true,
           "gridcolor": "#283442",
           "linecolor": "#506784",
           "ticks": "",
           "title": {
            "standoff": 15
           },
           "zerolinecolor": "#283442",
           "zerolinewidth": 2
          },
          "yaxis": {
           "automargin": true,
           "gridcolor": "#283442",
           "linecolor": "#506784",
           "ticks": "",
           "title": {
            "standoff": 15
           },
           "zerolinecolor": "#283442",
           "zerolinewidth": 2
          }
         }
        },
        "width": 800
       }
      }
     },
     "metadata": {},
     "output_type": "display_data"
    }
   ],
   "source": [
    "start_point = fc.Point(x=10, y=10, z=0)\n",
    "x_size = 10\n",
    "y_size = 5\n",
    "clockwise = True\n",
    "steps = fc.rectangleXY(start_point, x_size, y_size, clockwise)\n",
    "steps.append(fc.PlotAnnotation(point=steps[-1], label=\"start/end\"))\n",
    "steps.append(fc.PlotAnnotation(point=steps[1], label=\"first point after start\"))\n",
    "fc.transform(steps, 'plot', fc.PlotControls(color_type='print_sequence', style='line'))"
   ]
  },
  {
   "attachments": {},
   "cell_type": "markdown",
   "metadata": {},
   "source": [
    "#### circle"
   ]
  },
  {
   "cell_type": "code",
   "execution_count": 4,
   "metadata": {},
   "outputs": [
    {
     "data": {
      "application/vnd.plotly.v1+json": {
       "config": {
        "plotlyServerURL": "https://plot.ly"
       },
       "data": [
        {
         "line": {
          "color": [
           "rgb(204.00, 0.00, 255.00)",
           "rgb(191.76, 0.00, 255.00)",
           "rgb(179.26, 0.00, 255.00)",
           "rgb(167.03, 0.00, 255.00)",
           "rgb(154.53, 0.00, 255.00)",
           "rgb(142.29, 0.00, 255.00)",
           "rgb(129.80, 0.00, 255.00)",
           "rgb(117.56, 0.00, 255.00)",
           "rgb(105.06, 0.00, 255.00)",
           "rgb(92.82, 0.00, 255.00)",
           "rgb(80.33, 0.00, 255.00)",
           "rgb(68.09, 0.00, 255.00)",
           "rgb(55.59, 0.00, 255.00)",
           "rgb(43.35, 0.00, 255.00)",
           "rgb(30.86, 0.00, 255.00)",
           "rgb(18.61, 0.00, 255.00)",
           "rgb(6.12, 0.00, 255.00)",
           "rgb(0.00, 7.65, 255.00)",
           "rgb(0.00, 23.20, 255.00)",
           "rgb(0.00, 38.76, 255.00)",
           "rgb(0.00, 54.06, 255.00)",
           "rgb(0.00, 69.62, 255.00)",
           "rgb(0.00, 84.92, 255.00)",
           "rgb(0.00, 100.47, 255.00)",
           "rgb(0.00, 116.03, 255.00)",
           "rgb(0.00, 131.33, 255.00)",
           "rgb(0.00, 146.88, 255.00)",
           "rgb(0.00, 162.18, 255.00)",
           "rgb(0.00, 177.73, 255.00)",
           "rgb(0.00, 193.29, 255.00)",
           "rgb(0.00, 208.59, 255.00)",
           "rgb(0.00, 224.15, 255.00)",
           "rgb(0.00, 239.44, 255.00)"
          ],
          "width": 4
         },
         "mode": "lines",
         "showlegend": false,
         "type": "scatter3d",
         "x": [
          20,
          19.808,
          19.239,
          18.315,
          17.071,
          15.556,
          13.827,
          11.951,
          10,
          8.049,
          6.173,
          4.444,
          2.929,
          1.685,
          0.761,
          0.192,
          0,
          0.192,
          0.761,
          1.685,
          2.929,
          4.444,
          6.173,
          8.049,
          10,
          11.951,
          13.827,
          15.556,
          17.071,
          18.315,
          19.239,
          19.808,
          20
         ],
         "y": [
          10,
          8.049,
          6.173,
          4.444,
          2.929,
          1.685,
          0.761,
          0.192,
          0,
          0.192,
          0.761,
          1.685,
          2.929,
          4.444,
          6.173,
          8.049,
          10,
          11.951,
          13.827,
          15.556,
          17.071,
          18.315,
          19.239,
          19.808,
          20,
          19.808,
          19.239,
          18.315,
          17.071,
          15.556,
          13.827,
          11.951,
          10
         ],
         "z": [
          0,
          0,
          0,
          0,
          0,
          0,
          0,
          0,
          0,
          0,
          0,
          0,
          0,
          0,
          0,
          0,
          0,
          0,
          0,
          0,
          0,
          0,
          0,
          0,
          0,
          0,
          0,
          0,
          0,
          0,
          0,
          0,
          0
         ]
        },
        {
         "marker": {
          "color": "red",
          "size": 2
         },
         "mode": "markers",
         "showlegend": false,
         "type": "scatter3d",
         "x": [
          20,
          19.807852804032304,
          10
         ],
         "y": [
          10.000000000000002,
          8.049096779838717,
          10
         ],
         "z": [
          0,
          0,
          0
         ]
        }
       ],
       "layout": {
        "height": 500,
        "margin": {
         "b": 10,
         "l": 10,
         "pad": 4,
         "r": 10,
         "t": 10
        },
        "paper_bgcolor": "black",
        "scene": {
         "annotations": [
          {
           "showarrow": false,
           "text": "start/end",
           "x": 20,
           "y": 10.000000000000002,
           "yshift": 10,
           "z": 0
          },
          {
           "showarrow": false,
           "text": "first point after start",
           "x": 19.807852804032304,
           "y": 8.049096779838717,
           "yshift": 10,
           "z": 0
          },
          {
           "showarrow": false,
           "text": "centre",
           "x": 10,
           "y": 10,
           "yshift": 10,
           "z": 0
          }
         ],
         "aspectmode": "cube",
         "camera": {
          "center": {
           "x": 0,
           "y": 0,
           "z": -0.5
          },
          "eye": {
           "x": -0.5,
           "y": -1,
           "z": 0
          }
         },
         "xaxis": {
          "backgroundcolor": "black",
          "nticks": 10,
          "range": [
           -0.0009999999999994458,
           20.000999999999998
          ]
         },
         "yaxis": {
          "backgroundcolor": "black",
          "nticks": 10,
          "range": [
           -0.0009999999999994458,
           20.000999999999998
          ]
         },
         "zaxis": {
          "backgroundcolor": "black",
          "nticks": 10,
          "range": [
           0,
           20.002
          ]
         }
        },
        "template": {
         "data": {
          "bar": [
           {
            "error_x": {
             "color": "#f2f5fa"
            },
            "error_y": {
             "color": "#f2f5fa"
            },
            "marker": {
             "line": {
              "color": "rgb(17,17,17)",
              "width": 0.5
             },
             "pattern": {
              "fillmode": "overlay",
              "size": 10,
              "solidity": 0.2
             }
            },
            "type": "bar"
           }
          ],
          "barpolar": [
           {
            "marker": {
             "line": {
              "color": "rgb(17,17,17)",
              "width": 0.5
             },
             "pattern": {
              "fillmode": "overlay",
              "size": 10,
              "solidity": 0.2
             }
            },
            "type": "barpolar"
           }
          ],
          "carpet": [
           {
            "aaxis": {
             "endlinecolor": "#A2B1C6",
             "gridcolor": "#506784",
             "linecolor": "#506784",
             "minorgridcolor": "#506784",
             "startlinecolor": "#A2B1C6"
            },
            "baxis": {
             "endlinecolor": "#A2B1C6",
             "gridcolor": "#506784",
             "linecolor": "#506784",
             "minorgridcolor": "#506784",
             "startlinecolor": "#A2B1C6"
            },
            "type": "carpet"
           }
          ],
          "choropleth": [
           {
            "colorbar": {
             "outlinewidth": 0,
             "ticks": ""
            },
            "type": "choropleth"
           }
          ],
          "contour": [
           {
            "colorbar": {
             "outlinewidth": 0,
             "ticks": ""
            },
            "colorscale": [
             [
              0,
              "#0d0887"
             ],
             [
              0.1111111111111111,
              "#46039f"
             ],
             [
              0.2222222222222222,
              "#7201a8"
             ],
             [
              0.3333333333333333,
              "#9c179e"
             ],
             [
              0.4444444444444444,
              "#bd3786"
             ],
             [
              0.5555555555555556,
              "#d8576b"
             ],
             [
              0.6666666666666666,
              "#ed7953"
             ],
             [
              0.7777777777777778,
              "#fb9f3a"
             ],
             [
              0.8888888888888888,
              "#fdca26"
             ],
             [
              1,
              "#f0f921"
             ]
            ],
            "type": "contour"
           }
          ],
          "contourcarpet": [
           {
            "colorbar": {
             "outlinewidth": 0,
             "ticks": ""
            },
            "type": "contourcarpet"
           }
          ],
          "heatmap": [
           {
            "colorbar": {
             "outlinewidth": 0,
             "ticks": ""
            },
            "colorscale": [
             [
              0,
              "#0d0887"
             ],
             [
              0.1111111111111111,
              "#46039f"
             ],
             [
              0.2222222222222222,
              "#7201a8"
             ],
             [
              0.3333333333333333,
              "#9c179e"
             ],
             [
              0.4444444444444444,
              "#bd3786"
             ],
             [
              0.5555555555555556,
              "#d8576b"
             ],
             [
              0.6666666666666666,
              "#ed7953"
             ],
             [
              0.7777777777777778,
              "#fb9f3a"
             ],
             [
              0.8888888888888888,
              "#fdca26"
             ],
             [
              1,
              "#f0f921"
             ]
            ],
            "type": "heatmap"
           }
          ],
          "histogram": [
           {
            "marker": {
             "pattern": {
              "fillmode": "overlay",
              "size": 10,
              "solidity": 0.2
             }
            },
            "type": "histogram"
           }
          ],
          "histogram2d": [
           {
            "colorbar": {
             "outlinewidth": 0,
             "ticks": ""
            },
            "colorscale": [
             [
              0,
              "#0d0887"
             ],
             [
              0.1111111111111111,
              "#46039f"
             ],
             [
              0.2222222222222222,
              "#7201a8"
             ],
             [
              0.3333333333333333,
              "#9c179e"
             ],
             [
              0.4444444444444444,
              "#bd3786"
             ],
             [
              0.5555555555555556,
              "#d8576b"
             ],
             [
              0.6666666666666666,
              "#ed7953"
             ],
             [
              0.7777777777777778,
              "#fb9f3a"
             ],
             [
              0.8888888888888888,
              "#fdca26"
             ],
             [
              1,
              "#f0f921"
             ]
            ],
            "type": "histogram2d"
           }
          ],
          "histogram2dcontour": [
           {
            "colorbar": {
             "outlinewidth": 0,
             "ticks": ""
            },
            "colorscale": [
             [
              0,
              "#0d0887"
             ],
             [
              0.1111111111111111,
              "#46039f"
             ],
             [
              0.2222222222222222,
              "#7201a8"
             ],
             [
              0.3333333333333333,
              "#9c179e"
             ],
             [
              0.4444444444444444,
              "#bd3786"
             ],
             [
              0.5555555555555556,
              "#d8576b"
             ],
             [
              0.6666666666666666,
              "#ed7953"
             ],
             [
              0.7777777777777778,
              "#fb9f3a"
             ],
             [
              0.8888888888888888,
              "#fdca26"
             ],
             [
              1,
              "#f0f921"
             ]
            ],
            "type": "histogram2dcontour"
           }
          ],
          "mesh3d": [
           {
            "colorbar": {
             "outlinewidth": 0,
             "ticks": ""
            },
            "type": "mesh3d"
           }
          ],
          "parcoords": [
           {
            "line": {
             "colorbar": {
              "outlinewidth": 0,
              "ticks": ""
             }
            },
            "type": "parcoords"
           }
          ],
          "pie": [
           {
            "automargin": true,
            "type": "pie"
           }
          ],
          "scatter": [
           {
            "marker": {
             "line": {
              "color": "#283442"
             }
            },
            "type": "scatter"
           }
          ],
          "scatter3d": [
           {
            "line": {
             "colorbar": {
              "outlinewidth": 0,
              "ticks": ""
             }
            },
            "marker": {
             "colorbar": {
              "outlinewidth": 0,
              "ticks": ""
             }
            },
            "type": "scatter3d"
           }
          ],
          "scattercarpet": [
           {
            "marker": {
             "colorbar": {
              "outlinewidth": 0,
              "ticks": ""
             }
            },
            "type": "scattercarpet"
           }
          ],
          "scattergeo": [
           {
            "marker": {
             "colorbar": {
              "outlinewidth": 0,
              "ticks": ""
             }
            },
            "type": "scattergeo"
           }
          ],
          "scattergl": [
           {
            "marker": {
             "line": {
              "color": "#283442"
             }
            },
            "type": "scattergl"
           }
          ],
          "scattermap": [
           {
            "marker": {
             "colorbar": {
              "outlinewidth": 0,
              "ticks": ""
             }
            },
            "type": "scattermap"
           }
          ],
          "scattermapbox": [
           {
            "marker": {
             "colorbar": {
              "outlinewidth": 0,
              "ticks": ""
             }
            },
            "type": "scattermapbox"
           }
          ],
          "scatterpolar": [
           {
            "marker": {
             "colorbar": {
              "outlinewidth": 0,
              "ticks": ""
             }
            },
            "type": "scatterpolar"
           }
          ],
          "scatterpolargl": [
           {
            "marker": {
             "colorbar": {
              "outlinewidth": 0,
              "ticks": ""
             }
            },
            "type": "scatterpolargl"
           }
          ],
          "scatterternary": [
           {
            "marker": {
             "colorbar": {
              "outlinewidth": 0,
              "ticks": ""
             }
            },
            "type": "scatterternary"
           }
          ],
          "surface": [
           {
            "colorbar": {
             "outlinewidth": 0,
             "ticks": ""
            },
            "colorscale": [
             [
              0,
              "#0d0887"
             ],
             [
              0.1111111111111111,
              "#46039f"
             ],
             [
              0.2222222222222222,
              "#7201a8"
             ],
             [
              0.3333333333333333,
              "#9c179e"
             ],
             [
              0.4444444444444444,
              "#bd3786"
             ],
             [
              0.5555555555555556,
              "#d8576b"
             ],
             [
              0.6666666666666666,
              "#ed7953"
             ],
             [
              0.7777777777777778,
              "#fb9f3a"
             ],
             [
              0.8888888888888888,
              "#fdca26"
             ],
             [
              1,
              "#f0f921"
             ]
            ],
            "type": "surface"
           }
          ],
          "table": [
           {
            "cells": {
             "fill": {
              "color": "#506784"
             },
             "line": {
              "color": "rgb(17,17,17)"
             }
            },
            "header": {
             "fill": {
              "color": "#2a3f5f"
             },
             "line": {
              "color": "rgb(17,17,17)"
             }
            },
            "type": "table"
           }
          ]
         },
         "layout": {
          "annotationdefaults": {
           "arrowcolor": "#f2f5fa",
           "arrowhead": 0,
           "arrowwidth": 1
          },
          "autotypenumbers": "strict",
          "coloraxis": {
           "colorbar": {
            "outlinewidth": 0,
            "ticks": ""
           }
          },
          "colorscale": {
           "diverging": [
            [
             0,
             "#8e0152"
            ],
            [
             0.1,
             "#c51b7d"
            ],
            [
             0.2,
             "#de77ae"
            ],
            [
             0.3,
             "#f1b6da"
            ],
            [
             0.4,
             "#fde0ef"
            ],
            [
             0.5,
             "#f7f7f7"
            ],
            [
             0.6,
             "#e6f5d0"
            ],
            [
             0.7,
             "#b8e186"
            ],
            [
             0.8,
             "#7fbc41"
            ],
            [
             0.9,
             "#4d9221"
            ],
            [
             1,
             "#276419"
            ]
           ],
           "sequential": [
            [
             0,
             "#0d0887"
            ],
            [
             0.1111111111111111,
             "#46039f"
            ],
            [
             0.2222222222222222,
             "#7201a8"
            ],
            [
             0.3333333333333333,
             "#9c179e"
            ],
            [
             0.4444444444444444,
             "#bd3786"
            ],
            [
             0.5555555555555556,
             "#d8576b"
            ],
            [
             0.6666666666666666,
             "#ed7953"
            ],
            [
             0.7777777777777778,
             "#fb9f3a"
            ],
            [
             0.8888888888888888,
             "#fdca26"
            ],
            [
             1,
             "#f0f921"
            ]
           ],
           "sequentialminus": [
            [
             0,
             "#0d0887"
            ],
            [
             0.1111111111111111,
             "#46039f"
            ],
            [
             0.2222222222222222,
             "#7201a8"
            ],
            [
             0.3333333333333333,
             "#9c179e"
            ],
            [
             0.4444444444444444,
             "#bd3786"
            ],
            [
             0.5555555555555556,
             "#d8576b"
            ],
            [
             0.6666666666666666,
             "#ed7953"
            ],
            [
             0.7777777777777778,
             "#fb9f3a"
            ],
            [
             0.8888888888888888,
             "#fdca26"
            ],
            [
             1,
             "#f0f921"
            ]
           ]
          },
          "colorway": [
           "#636efa",
           "#EF553B",
           "#00cc96",
           "#ab63fa",
           "#FFA15A",
           "#19d3f3",
           "#FF6692",
           "#B6E880",
           "#FF97FF",
           "#FECB52"
          ],
          "font": {
           "color": "#f2f5fa"
          },
          "geo": {
           "bgcolor": "rgb(17,17,17)",
           "lakecolor": "rgb(17,17,17)",
           "landcolor": "rgb(17,17,17)",
           "showlakes": true,
           "showland": true,
           "subunitcolor": "#506784"
          },
          "hoverlabel": {
           "align": "left"
          },
          "hovermode": "closest",
          "mapbox": {
           "style": "dark"
          },
          "paper_bgcolor": "rgb(17,17,17)",
          "plot_bgcolor": "rgb(17,17,17)",
          "polar": {
           "angularaxis": {
            "gridcolor": "#506784",
            "linecolor": "#506784",
            "ticks": ""
           },
           "bgcolor": "rgb(17,17,17)",
           "radialaxis": {
            "gridcolor": "#506784",
            "linecolor": "#506784",
            "ticks": ""
           }
          },
          "scene": {
           "xaxis": {
            "backgroundcolor": "rgb(17,17,17)",
            "gridcolor": "#506784",
            "gridwidth": 2,
            "linecolor": "#506784",
            "showbackground": true,
            "ticks": "",
            "zerolinecolor": "#C8D4E3"
           },
           "yaxis": {
            "backgroundcolor": "rgb(17,17,17)",
            "gridcolor": "#506784",
            "gridwidth": 2,
            "linecolor": "#506784",
            "showbackground": true,
            "ticks": "",
            "zerolinecolor": "#C8D4E3"
           },
           "zaxis": {
            "backgroundcolor": "rgb(17,17,17)",
            "gridcolor": "#506784",
            "gridwidth": 2,
            "linecolor": "#506784",
            "showbackground": true,
            "ticks": "",
            "zerolinecolor": "#C8D4E3"
           }
          },
          "shapedefaults": {
           "line": {
            "color": "#f2f5fa"
           }
          },
          "sliderdefaults": {
           "bgcolor": "#C8D4E3",
           "bordercolor": "rgb(17,17,17)",
           "borderwidth": 1,
           "tickwidth": 0
          },
          "ternary": {
           "aaxis": {
            "gridcolor": "#506784",
            "linecolor": "#506784",
            "ticks": ""
           },
           "baxis": {
            "gridcolor": "#506784",
            "linecolor": "#506784",
            "ticks": ""
           },
           "bgcolor": "rgb(17,17,17)",
           "caxis": {
            "gridcolor": "#506784",
            "linecolor": "#506784",
            "ticks": ""
           }
          },
          "title": {
           "x": 0.05
          },
          "updatemenudefaults": {
           "bgcolor": "#506784",
           "borderwidth": 0
          },
          "xaxis": {
           "automargin": true,
           "gridcolor": "#283442",
           "linecolor": "#506784",
           "ticks": "",
           "title": {
            "standoff": 15
           },
           "zerolinecolor": "#283442",
           "zerolinewidth": 2
          },
          "yaxis": {
           "automargin": true,
           "gridcolor": "#283442",
           "linecolor": "#506784",
           "ticks": "",
           "title": {
            "standoff": 15
           },
           "zerolinecolor": "#283442",
           "zerolinewidth": 2
          }
         }
        },
        "width": 800
       }
      }
     },
     "metadata": {},
     "output_type": "display_data"
    }
   ],
   "source": [
    "centre_point = fc.Point(x=10, y=10, z=0)\n",
    "radius = 10\n",
    "start_angle = 0\n",
    "segments = 32\n",
    "clockwise = True\n",
    "steps = fc.circleXY(centre_point, radius, start_angle, segments, clockwise)\n",
    "steps.append(fc.PlotAnnotation(point=steps[-1], label=\"start/end\"))\n",
    "steps.append(fc.PlotAnnotation(point=steps[1], label=\"first point after start\"))\n",
    "steps.append(fc.PlotAnnotation(point=centre_point, label=\"centre\"))\n",
    "fc.transform(steps, 'plot', fc.PlotControls(color_type='print_sequence', style='line'))"
   ]
  },
  {
   "attachments": {},
   "cell_type": "markdown",
   "metadata": {},
   "source": [
    "#### ellipse"
   ]
  },
  {
   "cell_type": "code",
   "execution_count": 5,
   "metadata": {},
   "outputs": [
    {
     "data": {
      "application/vnd.plotly.v1+json": {
       "config": {
        "plotlyServerURL": "https://plot.ly"
       },
       "data": [
        {
         "line": {
          "color": [
           "rgb(204.00, 0.00, 255.00)",
           "rgb(191.76, 0.00, 255.00)",
           "rgb(179.26, 0.00, 255.00)",
           "rgb(167.03, 0.00, 255.00)",
           "rgb(154.53, 0.00, 255.00)",
           "rgb(142.29, 0.00, 255.00)",
           "rgb(129.80, 0.00, 255.00)",
           "rgb(117.56, 0.00, 255.00)",
           "rgb(105.06, 0.00, 255.00)",
           "rgb(92.82, 0.00, 255.00)",
           "rgb(80.33, 0.00, 255.00)",
           "rgb(68.09, 0.00, 255.00)",
           "rgb(55.59, 0.00, 255.00)",
           "rgb(43.35, 0.00, 255.00)",
           "rgb(30.86, 0.00, 255.00)",
           "rgb(18.61, 0.00, 255.00)",
           "rgb(6.12, 0.00, 255.00)",
           "rgb(0.00, 7.65, 255.00)",
           "rgb(0.00, 23.20, 255.00)",
           "rgb(0.00, 38.76, 255.00)",
           "rgb(0.00, 54.06, 255.00)",
           "rgb(0.00, 69.62, 255.00)",
           "rgb(0.00, 84.92, 255.00)",
           "rgb(0.00, 100.47, 255.00)",
           "rgb(0.00, 116.03, 255.00)",
           "rgb(0.00, 131.33, 255.00)",
           "rgb(0.00, 146.88, 255.00)",
           "rgb(0.00, 162.18, 255.00)",
           "rgb(0.00, 177.73, 255.00)",
           "rgb(0.00, 193.29, 255.00)",
           "rgb(0.00, 208.59, 255.00)",
           "rgb(0.00, 224.15, 255.00)",
           "rgb(0.00, 239.44, 255.00)"
          ],
          "width": 4
         },
         "mode": "lines",
         "showlegend": false,
         "type": "scatter3d",
         "x": [
          20,
          19.808,
          19.239,
          18.315,
          17.071,
          15.556,
          13.827,
          11.951,
          10,
          8.049,
          6.173,
          4.444,
          2.929,
          1.685,
          0.761,
          0.192,
          0,
          0.192,
          0.761,
          1.685,
          2.929,
          4.444,
          6.173,
          8.049,
          10,
          11.951,
          13.827,
          15.556,
          17.071,
          18.315,
          19.239,
          19.808,
          20
         ],
         "y": [
          10,
          9.025,
          8.087,
          7.222,
          6.464,
          5.843,
          5.381,
          5.096,
          5,
          5.096,
          5.381,
          5.843,
          6.464,
          7.222,
          8.087,
          9.025,
          10,
          10.975,
          11.913,
          12.778,
          13.536,
          14.157,
          14.619,
          14.904,
          15,
          14.904,
          14.619,
          14.157,
          13.536,
          12.778,
          11.913,
          10.975,
          10
         ],
         "z": [
          0,
          0,
          0,
          0,
          0,
          0,
          0,
          0,
          0,
          0,
          0,
          0,
          0,
          0,
          0,
          0,
          0,
          0,
          0,
          0,
          0,
          0,
          0,
          0,
          0,
          0,
          0,
          0,
          0,
          0,
          0,
          0,
          0
         ]
        },
        {
         "marker": {
          "color": "red",
          "size": 2
         },
         "mode": "markers",
         "showlegend": false,
         "type": "scatter3d",
         "x": [
          20,
          19.807852804032304,
          10
         ],
         "y": [
          10.000000000000002,
          9.024548389919358,
          10
         ],
         "z": [
          0,
          0,
          0
         ]
        }
       ],
       "layout": {
        "height": 500,
        "margin": {
         "b": 10,
         "l": 10,
         "pad": 4,
         "r": 10,
         "t": 10
        },
        "paper_bgcolor": "black",
        "scene": {
         "annotations": [
          {
           "showarrow": false,
           "text": "start/end",
           "x": 20,
           "y": 10.000000000000002,
           "yshift": 10,
           "z": 0
          },
          {
           "showarrow": false,
           "text": "first point after start",
           "x": 19.807852804032304,
           "y": 9.024548389919358,
           "yshift": 10,
           "z": 0
          },
          {
           "showarrow": false,
           "text": "centre",
           "x": 10,
           "y": 10,
           "yshift": 10,
           "z": 0
          }
         ],
         "aspectmode": "cube",
         "camera": {
          "center": {
           "x": 0,
           "y": 0,
           "z": -0.5
          },
          "eye": {
           "x": -0.5,
           "y": -1,
           "z": 0
          }
         },
         "xaxis": {
          "backgroundcolor": "black",
          "nticks": 10,
          "range": [
           -0.0009999999999994458,
           20.000999999999998
          ]
         },
         "yaxis": {
          "backgroundcolor": "black",
          "nticks": 10,
          "range": [
           -0.0009999999999994458,
           20.000999999999998
          ]
         },
         "zaxis": {
          "backgroundcolor": "black",
          "nticks": 10,
          "range": [
           0,
           20.002
          ]
         }
        },
        "template": {
         "data": {
          "bar": [
           {
            "error_x": {
             "color": "#f2f5fa"
            },
            "error_y": {
             "color": "#f2f5fa"
            },
            "marker": {
             "line": {
              "color": "rgb(17,17,17)",
              "width": 0.5
             },
             "pattern": {
              "fillmode": "overlay",
              "size": 10,
              "solidity": 0.2
             }
            },
            "type": "bar"
           }
          ],
          "barpolar": [
           {
            "marker": {
             "line": {
              "color": "rgb(17,17,17)",
              "width": 0.5
             },
             "pattern": {
              "fillmode": "overlay",
              "size": 10,
              "solidity": 0.2
             }
            },
            "type": "barpolar"
           }
          ],
          "carpet": [
           {
            "aaxis": {
             "endlinecolor": "#A2B1C6",
             "gridcolor": "#506784",
             "linecolor": "#506784",
             "minorgridcolor": "#506784",
             "startlinecolor": "#A2B1C6"
            },
            "baxis": {
             "endlinecolor": "#A2B1C6",
             "gridcolor": "#506784",
             "linecolor": "#506784",
             "minorgridcolor": "#506784",
             "startlinecolor": "#A2B1C6"
            },
            "type": "carpet"
           }
          ],
          "choropleth": [
           {
            "colorbar": {
             "outlinewidth": 0,
             "ticks": ""
            },
            "type": "choropleth"
           }
          ],
          "contour": [
           {
            "colorbar": {
             "outlinewidth": 0,
             "ticks": ""
            },
            "colorscale": [
             [
              0,
              "#0d0887"
             ],
             [
              0.1111111111111111,
              "#46039f"
             ],
             [
              0.2222222222222222,
              "#7201a8"
             ],
             [
              0.3333333333333333,
              "#9c179e"
             ],
             [
              0.4444444444444444,
              "#bd3786"
             ],
             [
              0.5555555555555556,
              "#d8576b"
             ],
             [
              0.6666666666666666,
              "#ed7953"
             ],
             [
              0.7777777777777778,
              "#fb9f3a"
             ],
             [
              0.8888888888888888,
              "#fdca26"
             ],
             [
              1,
              "#f0f921"
             ]
            ],
            "type": "contour"
           }
          ],
          "contourcarpet": [
           {
            "colorbar": {
             "outlinewidth": 0,
             "ticks": ""
            },
            "type": "contourcarpet"
           }
          ],
          "heatmap": [
           {
            "colorbar": {
             "outlinewidth": 0,
             "ticks": ""
            },
            "colorscale": [
             [
              0,
              "#0d0887"
             ],
             [
              0.1111111111111111,
              "#46039f"
             ],
             [
              0.2222222222222222,
              "#7201a8"
             ],
             [
              0.3333333333333333,
              "#9c179e"
             ],
             [
              0.4444444444444444,
              "#bd3786"
             ],
             [
              0.5555555555555556,
              "#d8576b"
             ],
             [
              0.6666666666666666,
              "#ed7953"
             ],
             [
              0.7777777777777778,
              "#fb9f3a"
             ],
             [
              0.8888888888888888,
              "#fdca26"
             ],
             [
              1,
              "#f0f921"
             ]
            ],
            "type": "heatmap"
           }
          ],
          "histogram": [
           {
            "marker": {
             "pattern": {
              "fillmode": "overlay",
              "size": 10,
              "solidity": 0.2
             }
            },
            "type": "histogram"
           }
          ],
          "histogram2d": [
           {
            "colorbar": {
             "outlinewidth": 0,
             "ticks": ""
            },
            "colorscale": [
             [
              0,
              "#0d0887"
             ],
             [
              0.1111111111111111,
              "#46039f"
             ],
             [
              0.2222222222222222,
              "#7201a8"
             ],
             [
              0.3333333333333333,
              "#9c179e"
             ],
             [
              0.4444444444444444,
              "#bd3786"
             ],
             [
              0.5555555555555556,
              "#d8576b"
             ],
             [
              0.6666666666666666,
              "#ed7953"
             ],
             [
              0.7777777777777778,
              "#fb9f3a"
             ],
             [
              0.8888888888888888,
              "#fdca26"
             ],
             [
              1,
              "#f0f921"
             ]
            ],
            "type": "histogram2d"
           }
          ],
          "histogram2dcontour": [
           {
            "colorbar": {
             "outlinewidth": 0,
             "ticks": ""
            },
            "colorscale": [
             [
              0,
              "#0d0887"
             ],
             [
              0.1111111111111111,
              "#46039f"
             ],
             [
              0.2222222222222222,
              "#7201a8"
             ],
             [
              0.3333333333333333,
              "#9c179e"
             ],
             [
              0.4444444444444444,
              "#bd3786"
             ],
             [
              0.5555555555555556,
              "#d8576b"
             ],
             [
              0.6666666666666666,
              "#ed7953"
             ],
             [
              0.7777777777777778,
              "#fb9f3a"
             ],
             [
              0.8888888888888888,
              "#fdca26"
             ],
             [
              1,
              "#f0f921"
             ]
            ],
            "type": "histogram2dcontour"
           }
          ],
          "mesh3d": [
           {
            "colorbar": {
             "outlinewidth": 0,
             "ticks": ""
            },
            "type": "mesh3d"
           }
          ],
          "parcoords": [
           {
            "line": {
             "colorbar": {
              "outlinewidth": 0,
              "ticks": ""
             }
            },
            "type": "parcoords"
           }
          ],
          "pie": [
           {
            "automargin": true,
            "type": "pie"
           }
          ],
          "scatter": [
           {
            "marker": {
             "line": {
              "color": "#283442"
             }
            },
            "type": "scatter"
           }
          ],
          "scatter3d": [
           {
            "line": {
             "colorbar": {
              "outlinewidth": 0,
              "ticks": ""
             }
            },
            "marker": {
             "colorbar": {
              "outlinewidth": 0,
              "ticks": ""
             }
            },
            "type": "scatter3d"
           }
          ],
          "scattercarpet": [
           {
            "marker": {
             "colorbar": {
              "outlinewidth": 0,
              "ticks": ""
             }
            },
            "type": "scattercarpet"
           }
          ],
          "scattergeo": [
           {
            "marker": {
             "colorbar": {
              "outlinewidth": 0,
              "ticks": ""
             }
            },
            "type": "scattergeo"
           }
          ],
          "scattergl": [
           {
            "marker": {
             "line": {
              "color": "#283442"
             }
            },
            "type": "scattergl"
           }
          ],
          "scattermap": [
           {
            "marker": {
             "colorbar": {
              "outlinewidth": 0,
              "ticks": ""
             }
            },
            "type": "scattermap"
           }
          ],
          "scattermapbox": [
           {
            "marker": {
             "colorbar": {
              "outlinewidth": 0,
              "ticks": ""
             }
            },
            "type": "scattermapbox"
           }
          ],
          "scatterpolar": [
           {
            "marker": {
             "colorbar": {
              "outlinewidth": 0,
              "ticks": ""
             }
            },
            "type": "scatterpolar"
           }
          ],
          "scatterpolargl": [
           {
            "marker": {
             "colorbar": {
              "outlinewidth": 0,
              "ticks": ""
             }
            },
            "type": "scatterpolargl"
           }
          ],
          "scatterternary": [
           {
            "marker": {
             "colorbar": {
              "outlinewidth": 0,
              "ticks": ""
             }
            },
            "type": "scatterternary"
           }
          ],
          "surface": [
           {
            "colorbar": {
             "outlinewidth": 0,
             "ticks": ""
            },
            "colorscale": [
             [
              0,
              "#0d0887"
             ],
             [
              0.1111111111111111,
              "#46039f"
             ],
             [
              0.2222222222222222,
              "#7201a8"
             ],
             [
              0.3333333333333333,
              "#9c179e"
             ],
             [
              0.4444444444444444,
              "#bd3786"
             ],
             [
              0.5555555555555556,
              "#d8576b"
             ],
             [
              0.6666666666666666,
              "#ed7953"
             ],
             [
              0.7777777777777778,
              "#fb9f3a"
             ],
             [
              0.8888888888888888,
              "#fdca26"
             ],
             [
              1,
              "#f0f921"
             ]
            ],
            "type": "surface"
           }
          ],
          "table": [
           {
            "cells": {
             "fill": {
              "color": "#506784"
             },
             "line": {
              "color": "rgb(17,17,17)"
             }
            },
            "header": {
             "fill": {
              "color": "#2a3f5f"
             },
             "line": {
              "color": "rgb(17,17,17)"
             }
            },
            "type": "table"
           }
          ]
         },
         "layout": {
          "annotationdefaults": {
           "arrowcolor": "#f2f5fa",
           "arrowhead": 0,
           "arrowwidth": 1
          },
          "autotypenumbers": "strict",
          "coloraxis": {
           "colorbar": {
            "outlinewidth": 0,
            "ticks": ""
           }
          },
          "colorscale": {
           "diverging": [
            [
             0,
             "#8e0152"
            ],
            [
             0.1,
             "#c51b7d"
            ],
            [
             0.2,
             "#de77ae"
            ],
            [
             0.3,
             "#f1b6da"
            ],
            [
             0.4,
             "#fde0ef"
            ],
            [
             0.5,
             "#f7f7f7"
            ],
            [
             0.6,
             "#e6f5d0"
            ],
            [
             0.7,
             "#b8e186"
            ],
            [
             0.8,
             "#7fbc41"
            ],
            [
             0.9,
             "#4d9221"
            ],
            [
             1,
             "#276419"
            ]
           ],
           "sequential": [
            [
             0,
             "#0d0887"
            ],
            [
             0.1111111111111111,
             "#46039f"
            ],
            [
             0.2222222222222222,
             "#7201a8"
            ],
            [
             0.3333333333333333,
             "#9c179e"
            ],
            [
             0.4444444444444444,
             "#bd3786"
            ],
            [
             0.5555555555555556,
             "#d8576b"
            ],
            [
             0.6666666666666666,
             "#ed7953"
            ],
            [
             0.7777777777777778,
             "#fb9f3a"
            ],
            [
             0.8888888888888888,
             "#fdca26"
            ],
            [
             1,
             "#f0f921"
            ]
           ],
           "sequentialminus": [
            [
             0,
             "#0d0887"
            ],
            [
             0.1111111111111111,
             "#46039f"
            ],
            [
             0.2222222222222222,
             "#7201a8"
            ],
            [
             0.3333333333333333,
             "#9c179e"
            ],
            [
             0.4444444444444444,
             "#bd3786"
            ],
            [
             0.5555555555555556,
             "#d8576b"
            ],
            [
             0.6666666666666666,
             "#ed7953"
            ],
            [
             0.7777777777777778,
             "#fb9f3a"
            ],
            [
             0.8888888888888888,
             "#fdca26"
            ],
            [
             1,
             "#f0f921"
            ]
           ]
          },
          "colorway": [
           "#636efa",
           "#EF553B",
           "#00cc96",
           "#ab63fa",
           "#FFA15A",
           "#19d3f3",
           "#FF6692",
           "#B6E880",
           "#FF97FF",
           "#FECB52"
          ],
          "font": {
           "color": "#f2f5fa"
          },
          "geo": {
           "bgcolor": "rgb(17,17,17)",
           "lakecolor": "rgb(17,17,17)",
           "landcolor": "rgb(17,17,17)",
           "showlakes": true,
           "showland": true,
           "subunitcolor": "#506784"
          },
          "hoverlabel": {
           "align": "left"
          },
          "hovermode": "closest",
          "mapbox": {
           "style": "dark"
          },
          "paper_bgcolor": "rgb(17,17,17)",
          "plot_bgcolor": "rgb(17,17,17)",
          "polar": {
           "angularaxis": {
            "gridcolor": "#506784",
            "linecolor": "#506784",
            "ticks": ""
           },
           "bgcolor": "rgb(17,17,17)",
           "radialaxis": {
            "gridcolor": "#506784",
            "linecolor": "#506784",
            "ticks": ""
           }
          },
          "scene": {
           "xaxis": {
            "backgroundcolor": "rgb(17,17,17)",
            "gridcolor": "#506784",
            "gridwidth": 2,
            "linecolor": "#506784",
            "showbackground": true,
            "ticks": "",
            "zerolinecolor": "#C8D4E3"
           },
           "yaxis": {
            "backgroundcolor": "rgb(17,17,17)",
            "gridcolor": "#506784",
            "gridwidth": 2,
            "linecolor": "#506784",
            "showbackground": true,
            "ticks": "",
            "zerolinecolor": "#C8D4E3"
           },
           "zaxis": {
            "backgroundcolor": "rgb(17,17,17)",
            "gridcolor": "#506784",
            "gridwidth": 2,
            "linecolor": "#506784",
            "showbackground": true,
            "ticks": "",
            "zerolinecolor": "#C8D4E3"
           }
          },
          "shapedefaults": {
           "line": {
            "color": "#f2f5fa"
           }
          },
          "sliderdefaults": {
           "bgcolor": "#C8D4E3",
           "bordercolor": "rgb(17,17,17)",
           "borderwidth": 1,
           "tickwidth": 0
          },
          "ternary": {
           "aaxis": {
            "gridcolor": "#506784",
            "linecolor": "#506784",
            "ticks": ""
           },
           "baxis": {
            "gridcolor": "#506784",
            "linecolor": "#506784",
            "ticks": ""
           },
           "bgcolor": "rgb(17,17,17)",
           "caxis": {
            "gridcolor": "#506784",
            "linecolor": "#506784",
            "ticks": ""
           }
          },
          "title": {
           "x": 0.05
          },
          "updatemenudefaults": {
           "bgcolor": "#506784",
           "borderwidth": 0
          },
          "xaxis": {
           "automargin": true,
           "gridcolor": "#283442",
           "linecolor": "#506784",
           "ticks": "",
           "title": {
            "standoff": 15
           },
           "zerolinecolor": "#283442",
           "zerolinewidth": 2
          },
          "yaxis": {
           "automargin": true,
           "gridcolor": "#283442",
           "linecolor": "#506784",
           "ticks": "",
           "title": {
            "standoff": 15
           },
           "zerolinecolor": "#283442",
           "zerolinewidth": 2
          }
         }
        },
        "width": 800
       }
      }
     },
     "metadata": {},
     "output_type": "display_data"
    }
   ],
   "source": [
    "centre_point = fc.Point(x=10, y=10, z=0)\n",
    "a = 10\n",
    "b = 5\n",
    "start_angle = 0\n",
    "segments = 32\n",
    "clockwise = True\n",
    "steps = fc.ellipseXY(centre_point, a, b, start_angle, segments, clockwise)\n",
    "steps.append(fc.PlotAnnotation(point=steps[-1], label=\"start/end\"))\n",
    "steps.append(fc.PlotAnnotation(point=steps[1], label=\"first point after start\"))\n",
    "steps.append(fc.PlotAnnotation(point=centre_point, label=\"centre\"))\n",
    "fc.transform(steps, 'plot', fc.PlotControls(color_type='print_sequence', style='line'))"
   ]
  },
  {
   "attachments": {},
   "cell_type": "markdown",
   "metadata": {},
   "source": [
    "#### polygon"
   ]
  },
  {
   "cell_type": "code",
   "execution_count": 6,
   "metadata": {},
   "outputs": [
    {
     "data": {
      "application/vnd.plotly.v1+json": {
       "config": {
        "plotlyServerURL": "https://plot.ly"
       },
       "data": [
        {
         "line": {
          "color": [
           "rgb(204.00, 0.00, 255.00)",
           "rgb(145.60, 0.00, 255.00)",
           "rgb(87.47, 0.00, 255.00)",
           "rgb(29.07, 0.00, 255.00)",
           "rgb(0.00, 36.46, 255.00)",
           "rgb(0.00, 109.39, 255.00)",
           "rgb(0.00, 182.07, 255.00)"
          ],
          "width": 4
         },
         "mode": "lines",
         "showlegend": false,
         "type": "scatter3d",
         "x": [
          20,
          15,
          5,
          0,
          5,
          15,
          20
         ],
         "y": [
          10,
          1.34,
          1.34,
          10,
          18.66,
          18.66,
          10
         ],
         "z": [
          0,
          0,
          0,
          0,
          0,
          0,
          0
         ]
        },
        {
         "marker": {
          "color": "red",
          "size": 2
         },
         "mode": "markers",
         "showlegend": false,
         "type": "scatter3d",
         "x": [
          20,
          15,
          10
         ],
         "y": [
          10.000000000000002,
          1.3397459621556145,
          10
         ],
         "z": [
          0,
          0,
          0
         ]
        }
       ],
       "layout": {
        "height": 500,
        "margin": {
         "b": 10,
         "l": 10,
         "pad": 4,
         "r": 10,
         "t": 10
        },
        "paper_bgcolor": "black",
        "scene": {
         "annotations": [
          {
           "showarrow": false,
           "text": "start/end",
           "x": 20,
           "y": 10.000000000000002,
           "yshift": 10,
           "z": 0
          },
          {
           "showarrow": false,
           "text": "first point after start",
           "x": 15,
           "y": 1.3397459621556145,
           "yshift": 10,
           "z": 0
          },
          {
           "showarrow": false,
           "text": "centre",
           "x": 10,
           "y": 10,
           "yshift": 10,
           "z": 0
          }
         ],
         "aspectmode": "cube",
         "camera": {
          "center": {
           "x": 0,
           "y": 0,
           "z": -0.5
          },
          "eye": {
           "x": -0.5,
           "y": -1,
           "z": 0
          }
         },
         "xaxis": {
          "backgroundcolor": "black",
          "nticks": 10,
          "range": [
           -0.0009999999999994458,
           20.000999999999998
          ]
         },
         "yaxis": {
          "backgroundcolor": "black",
          "nticks": 10,
          "range": [
           -0.0009999999999994458,
           20.000999999999998
          ]
         },
         "zaxis": {
          "backgroundcolor": "black",
          "nticks": 10,
          "range": [
           0,
           20.002
          ]
         }
        },
        "template": {
         "data": {
          "bar": [
           {
            "error_x": {
             "color": "#f2f5fa"
            },
            "error_y": {
             "color": "#f2f5fa"
            },
            "marker": {
             "line": {
              "color": "rgb(17,17,17)",
              "width": 0.5
             },
             "pattern": {
              "fillmode": "overlay",
              "size": 10,
              "solidity": 0.2
             }
            },
            "type": "bar"
           }
          ],
          "barpolar": [
           {
            "marker": {
             "line": {
              "color": "rgb(17,17,17)",
              "width": 0.5
             },
             "pattern": {
              "fillmode": "overlay",
              "size": 10,
              "solidity": 0.2
             }
            },
            "type": "barpolar"
           }
          ],
          "carpet": [
           {
            "aaxis": {
             "endlinecolor": "#A2B1C6",
             "gridcolor": "#506784",
             "linecolor": "#506784",
             "minorgridcolor": "#506784",
             "startlinecolor": "#A2B1C6"
            },
            "baxis": {
             "endlinecolor": "#A2B1C6",
             "gridcolor": "#506784",
             "linecolor": "#506784",
             "minorgridcolor": "#506784",
             "startlinecolor": "#A2B1C6"
            },
            "type": "carpet"
           }
          ],
          "choropleth": [
           {
            "colorbar": {
             "outlinewidth": 0,
             "ticks": ""
            },
            "type": "choropleth"
           }
          ],
          "contour": [
           {
            "colorbar": {
             "outlinewidth": 0,
             "ticks": ""
            },
            "colorscale": [
             [
              0,
              "#0d0887"
             ],
             [
              0.1111111111111111,
              "#46039f"
             ],
             [
              0.2222222222222222,
              "#7201a8"
             ],
             [
              0.3333333333333333,
              "#9c179e"
             ],
             [
              0.4444444444444444,
              "#bd3786"
             ],
             [
              0.5555555555555556,
              "#d8576b"
             ],
             [
              0.6666666666666666,
              "#ed7953"
             ],
             [
              0.7777777777777778,
              "#fb9f3a"
             ],
             [
              0.8888888888888888,
              "#fdca26"
             ],
             [
              1,
              "#f0f921"
             ]
            ],
            "type": "contour"
           }
          ],
          "contourcarpet": [
           {
            "colorbar": {
             "outlinewidth": 0,
             "ticks": ""
            },
            "type": "contourcarpet"
           }
          ],
          "heatmap": [
           {
            "colorbar": {
             "outlinewidth": 0,
             "ticks": ""
            },
            "colorscale": [
             [
              0,
              "#0d0887"
             ],
             [
              0.1111111111111111,
              "#46039f"
             ],
             [
              0.2222222222222222,
              "#7201a8"
             ],
             [
              0.3333333333333333,
              "#9c179e"
             ],
             [
              0.4444444444444444,
              "#bd3786"
             ],
             [
              0.5555555555555556,
              "#d8576b"
             ],
             [
              0.6666666666666666,
              "#ed7953"
             ],
             [
              0.7777777777777778,
              "#fb9f3a"
             ],
             [
              0.8888888888888888,
              "#fdca26"
             ],
             [
              1,
              "#f0f921"
             ]
            ],
            "type": "heatmap"
           }
          ],
          "histogram": [
           {
            "marker": {
             "pattern": {
              "fillmode": "overlay",
              "size": 10,
              "solidity": 0.2
             }
            },
            "type": "histogram"
           }
          ],
          "histogram2d": [
           {
            "colorbar": {
             "outlinewidth": 0,
             "ticks": ""
            },
            "colorscale": [
             [
              0,
              "#0d0887"
             ],
             [
              0.1111111111111111,
              "#46039f"
             ],
             [
              0.2222222222222222,
              "#7201a8"
             ],
             [
              0.3333333333333333,
              "#9c179e"
             ],
             [
              0.4444444444444444,
              "#bd3786"
             ],
             [
              0.5555555555555556,
              "#d8576b"
             ],
             [
              0.6666666666666666,
              "#ed7953"
             ],
             [
              0.7777777777777778,
              "#fb9f3a"
             ],
             [
              0.8888888888888888,
              "#fdca26"
             ],
             [
              1,
              "#f0f921"
             ]
            ],
            "type": "histogram2d"
           }
          ],
          "histogram2dcontour": [
           {
            "colorbar": {
             "outlinewidth": 0,
             "ticks": ""
            },
            "colorscale": [
             [
              0,
              "#0d0887"
             ],
             [
              0.1111111111111111,
              "#46039f"
             ],
             [
              0.2222222222222222,
              "#7201a8"
             ],
             [
              0.3333333333333333,
              "#9c179e"
             ],
             [
              0.4444444444444444,
              "#bd3786"
             ],
             [
              0.5555555555555556,
              "#d8576b"
             ],
             [
              0.6666666666666666,
              "#ed7953"
             ],
             [
              0.7777777777777778,
              "#fb9f3a"
             ],
             [
              0.8888888888888888,
              "#fdca26"
             ],
             [
              1,
              "#f0f921"
             ]
            ],
            "type": "histogram2dcontour"
           }
          ],
          "mesh3d": [
           {
            "colorbar": {
             "outlinewidth": 0,
             "ticks": ""
            },
            "type": "mesh3d"
           }
          ],
          "parcoords": [
           {
            "line": {
             "colorbar": {
              "outlinewidth": 0,
              "ticks": ""
             }
            },
            "type": "parcoords"
           }
          ],
          "pie": [
           {
            "automargin": true,
            "type": "pie"
           }
          ],
          "scatter": [
           {
            "marker": {
             "line": {
              "color": "#283442"
             }
            },
            "type": "scatter"
           }
          ],
          "scatter3d": [
           {
            "line": {
             "colorbar": {
              "outlinewidth": 0,
              "ticks": ""
             }
            },
            "marker": {
             "colorbar": {
              "outlinewidth": 0,
              "ticks": ""
             }
            },
            "type": "scatter3d"
           }
          ],
          "scattercarpet": [
           {
            "marker": {
             "colorbar": {
              "outlinewidth": 0,
              "ticks": ""
             }
            },
            "type": "scattercarpet"
           }
          ],
          "scattergeo": [
           {
            "marker": {
             "colorbar": {
              "outlinewidth": 0,
              "ticks": ""
             }
            },
            "type": "scattergeo"
           }
          ],
          "scattergl": [
           {
            "marker": {
             "line": {
              "color": "#283442"
             }
            },
            "type": "scattergl"
           }
          ],
          "scattermap": [
           {
            "marker": {
             "colorbar": {
              "outlinewidth": 0,
              "ticks": ""
             }
            },
            "type": "scattermap"
           }
          ],
          "scattermapbox": [
           {
            "marker": {
             "colorbar": {
              "outlinewidth": 0,
              "ticks": ""
             }
            },
            "type": "scattermapbox"
           }
          ],
          "scatterpolar": [
           {
            "marker": {
             "colorbar": {
              "outlinewidth": 0,
              "ticks": ""
             }
            },
            "type": "scatterpolar"
           }
          ],
          "scatterpolargl": [
           {
            "marker": {
             "colorbar": {
              "outlinewidth": 0,
              "ticks": ""
             }
            },
            "type": "scatterpolargl"
           }
          ],
          "scatterternary": [
           {
            "marker": {
             "colorbar": {
              "outlinewidth": 0,
              "ticks": ""
             }
            },
            "type": "scatterternary"
           }
          ],
          "surface": [
           {
            "colorbar": {
             "outlinewidth": 0,
             "ticks": ""
            },
            "colorscale": [
             [
              0,
              "#0d0887"
             ],
             [
              0.1111111111111111,
              "#46039f"
             ],
             [
              0.2222222222222222,
              "#7201a8"
             ],
             [
              0.3333333333333333,
              "#9c179e"
             ],
             [
              0.4444444444444444,
              "#bd3786"
             ],
             [
              0.5555555555555556,
              "#d8576b"
             ],
             [
              0.6666666666666666,
              "#ed7953"
             ],
             [
              0.7777777777777778,
              "#fb9f3a"
             ],
             [
              0.8888888888888888,
              "#fdca26"
             ],
             [
              1,
              "#f0f921"
             ]
            ],
            "type": "surface"
           }
          ],
          "table": [
           {
            "cells": {
             "fill": {
              "color": "#506784"
             },
             "line": {
              "color": "rgb(17,17,17)"
             }
            },
            "header": {
             "fill": {
              "color": "#2a3f5f"
             },
             "line": {
              "color": "rgb(17,17,17)"
             }
            },
            "type": "table"
           }
          ]
         },
         "layout": {
          "annotationdefaults": {
           "arrowcolor": "#f2f5fa",
           "arrowhead": 0,
           "arrowwidth": 1
          },
          "autotypenumbers": "strict",
          "coloraxis": {
           "colorbar": {
            "outlinewidth": 0,
            "ticks": ""
           }
          },
          "colorscale": {
           "diverging": [
            [
             0,
             "#8e0152"
            ],
            [
             0.1,
             "#c51b7d"
            ],
            [
             0.2,
             "#de77ae"
            ],
            [
             0.3,
             "#f1b6da"
            ],
            [
             0.4,
             "#fde0ef"
            ],
            [
             0.5,
             "#f7f7f7"
            ],
            [
             0.6,
             "#e6f5d0"
            ],
            [
             0.7,
             "#b8e186"
            ],
            [
             0.8,
             "#7fbc41"
            ],
            [
             0.9,
             "#4d9221"
            ],
            [
             1,
             "#276419"
            ]
           ],
           "sequential": [
            [
             0,
             "#0d0887"
            ],
            [
             0.1111111111111111,
             "#46039f"
            ],
            [
             0.2222222222222222,
             "#7201a8"
            ],
            [
             0.3333333333333333,
             "#9c179e"
            ],
            [
             0.4444444444444444,
             "#bd3786"
            ],
            [
             0.5555555555555556,
             "#d8576b"
            ],
            [
             0.6666666666666666,
             "#ed7953"
            ],
            [
             0.7777777777777778,
             "#fb9f3a"
            ],
            [
             0.8888888888888888,
             "#fdca26"
            ],
            [
             1,
             "#f0f921"
            ]
           ],
           "sequentialminus": [
            [
             0,
             "#0d0887"
            ],
            [
             0.1111111111111111,
             "#46039f"
            ],
            [
             0.2222222222222222,
             "#7201a8"
            ],
            [
             0.3333333333333333,
             "#9c179e"
            ],
            [
             0.4444444444444444,
             "#bd3786"
            ],
            [
             0.5555555555555556,
             "#d8576b"
            ],
            [
             0.6666666666666666,
             "#ed7953"
            ],
            [
             0.7777777777777778,
             "#fb9f3a"
            ],
            [
             0.8888888888888888,
             "#fdca26"
            ],
            [
             1,
             "#f0f921"
            ]
           ]
          },
          "colorway": [
           "#636efa",
           "#EF553B",
           "#00cc96",
           "#ab63fa",
           "#FFA15A",
           "#19d3f3",
           "#FF6692",
           "#B6E880",
           "#FF97FF",
           "#FECB52"
          ],
          "font": {
           "color": "#f2f5fa"
          },
          "geo": {
           "bgcolor": "rgb(17,17,17)",
           "lakecolor": "rgb(17,17,17)",
           "landcolor": "rgb(17,17,17)",
           "showlakes": true,
           "showland": true,
           "subunitcolor": "#506784"
          },
          "hoverlabel": {
           "align": "left"
          },
          "hovermode": "closest",
          "mapbox": {
           "style": "dark"
          },
          "paper_bgcolor": "rgb(17,17,17)",
          "plot_bgcolor": "rgb(17,17,17)",
          "polar": {
           "angularaxis": {
            "gridcolor": "#506784",
            "linecolor": "#506784",
            "ticks": ""
           },
           "bgcolor": "rgb(17,17,17)",
           "radialaxis": {
            "gridcolor": "#506784",
            "linecolor": "#506784",
            "ticks": ""
           }
          },
          "scene": {
           "xaxis": {
            "backgroundcolor": "rgb(17,17,17)",
            "gridcolor": "#506784",
            "gridwidth": 2,
            "linecolor": "#506784",
            "showbackground": true,
            "ticks": "",
            "zerolinecolor": "#C8D4E3"
           },
           "yaxis": {
            "backgroundcolor": "rgb(17,17,17)",
            "gridcolor": "#506784",
            "gridwidth": 2,
            "linecolor": "#506784",
            "showbackground": true,
            "ticks": "",
            "zerolinecolor": "#C8D4E3"
           },
           "zaxis": {
            "backgroundcolor": "rgb(17,17,17)",
            "gridcolor": "#506784",
            "gridwidth": 2,
            "linecolor": "#506784",
            "showbackground": true,
            "ticks": "",
            "zerolinecolor": "#C8D4E3"
           }
          },
          "shapedefaults": {
           "line": {
            "color": "#f2f5fa"
           }
          },
          "sliderdefaults": {
           "bgcolor": "#C8D4E3",
           "bordercolor": "rgb(17,17,17)",
           "borderwidth": 1,
           "tickwidth": 0
          },
          "ternary": {
           "aaxis": {
            "gridcolor": "#506784",
            "linecolor": "#506784",
            "ticks": ""
           },
           "baxis": {
            "gridcolor": "#506784",
            "linecolor": "#506784",
            "ticks": ""
           },
           "bgcolor": "rgb(17,17,17)",
           "caxis": {
            "gridcolor": "#506784",
            "linecolor": "#506784",
            "ticks": ""
           }
          },
          "title": {
           "x": 0.05
          },
          "updatemenudefaults": {
           "bgcolor": "#506784",
           "borderwidth": 0
          },
          "xaxis": {
           "automargin": true,
           "gridcolor": "#283442",
           "linecolor": "#506784",
           "ticks": "",
           "title": {
            "standoff": 15
           },
           "zerolinecolor": "#283442",
           "zerolinewidth": 2
          },
          "yaxis": {
           "automargin": true,
           "gridcolor": "#283442",
           "linecolor": "#506784",
           "ticks": "",
           "title": {
            "standoff": 15
           },
           "zerolinecolor": "#283442",
           "zerolinewidth": 2
          }
         }
        },
        "width": 800
       }
      }
     },
     "metadata": {},
     "output_type": "display_data"
    }
   ],
   "source": [
    "centre_point = fc.Point(x=10, y=10, z=0)\n",
    "enclosing_radius = 10\n",
    "start_angle = 0\n",
    "sides = 6\n",
    "clockwise = True\n",
    "steps = fc.polygonXY(centre_point, enclosing_radius, start_angle, sides, clockwise)\n",
    "steps.append(fc.PlotAnnotation(point=steps[-1], label=\"start/end\"))\n",
    "steps.append(fc.PlotAnnotation(point=steps[1], label=\"first point after start\"))\n",
    "steps.append(fc.PlotAnnotation(point=centre_point, label=\"centre\"))\n",
    "fc.transform(steps, 'plot', fc.PlotControls(color_type='print_sequence', style='line'))"
   ]
  },
  {
   "attachments": {},
   "cell_type": "markdown",
   "metadata": {},
   "source": [
    "#### arc"
   ]
  },
  {
   "cell_type": "code",
   "execution_count": 7,
   "metadata": {},
   "outputs": [
    {
     "data": {
      "application/vnd.plotly.v1+json": {
       "config": {
        "plotlyServerURL": "https://plot.ly"
       },
       "data": [
        {
         "line": {
          "color": [
           "rgb(204.00, 0.00, 255.00)",
           "rgb(197.62, 0.00, 255.00)",
           "rgb(191.50, 0.00, 255.00)",
           "rgb(185.13, 0.00, 255.00)",
           "rgb(179.01, 0.00, 255.00)",
           "rgb(172.64, 0.00, 255.00)",
           "rgb(166.26, 0.00, 255.00)",
           "rgb(160.14, 0.00, 255.00)",
           "rgb(153.76, 0.00, 255.00)",
           "rgb(147.39, 0.00, 255.00)",
           "rgb(141.27, 0.00, 255.00)",
           "rgb(134.90, 0.00, 255.00)",
           "rgb(128.78, 0.00, 255.00)",
           "rgb(122.40, 0.00, 255.00)",
           "rgb(116.03, 0.00, 255.00)",
           "rgb(109.91, 0.00, 255.00)",
           "rgb(103.53, 0.00, 255.00)",
           "rgb(97.41, 0.00, 255.00)",
           "rgb(91.03, 0.00, 255.00)",
           "rgb(84.66, 0.00, 255.00)",
           "rgb(78.54, 0.00, 255.00)",
           "rgb(72.16, 0.00, 255.00)",
           "rgb(65.79, 0.00, 255.00)",
           "rgb(59.67, 0.00, 255.00)",
           "rgb(53.29, 0.00, 255.00)",
           "rgb(47.17, 0.00, 255.00)",
           "rgb(40.80, 0.00, 255.00)",
           "rgb(34.43, 0.00, 255.00)",
           "rgb(28.30, 0.00, 255.00)",
           "rgb(21.93, 0.00, 255.00)",
           "rgb(15.81, 0.00, 255.00)",
           "rgb(9.43, 0.00, 255.00)",
           "rgb(3.06, 0.00, 255.00)",
           "rgb(0.00, 3.82, 255.00)",
           "rgb(0.00, 11.73, 255.00)",
           "rgb(0.00, 19.63, 255.00)",
           "rgb(0.00, 27.54, 255.00)",
           "rgb(0.00, 35.19, 255.00)",
           "rgb(0.00, 43.10, 255.00)",
           "rgb(0.00, 51.00, 255.00)",
           "rgb(0.00, 58.91, 255.00)",
           "rgb(0.00, 66.81, 255.00)",
           "rgb(0.00, 74.46, 255.00)",
           "rgb(0.00, 82.37, 255.00)",
           "rgb(0.00, 90.27, 255.00)",
           "rgb(0.00, 98.17, 255.00)",
           "rgb(0.00, 105.82, 255.00)",
           "rgb(0.00, 113.73, 255.00)",
           "rgb(0.00, 121.63, 255.00)",
           "rgb(0.00, 129.54, 255.00)",
           "rgb(0.00, 137.19, 255.00)",
           "rgb(0.00, 145.09, 255.00)",
           "rgb(0.00, 153.00, 255.00)",
           "rgb(0.00, 160.91, 255.00)",
           "rgb(0.00, 168.81, 255.00)",
           "rgb(0.00, 176.46, 255.00)",
           "rgb(0.00, 184.36, 255.00)",
           "rgb(0.00, 192.27, 255.00)",
           "rgb(0.00, 200.18, 255.00)",
           "rgb(0.00, 207.82, 255.00)",
           "rgb(0.00, 215.73, 255.00)",
           "rgb(0.00, 223.63, 255.00)",
           "rgb(0.00, 231.54, 255.00)",
           "rgb(0.00, 239.19, 255.00)",
           "rgb(0.00, 247.09, 255.00)"
          ],
          "width": 4
         },
         "mode": "lines",
         "showlegend": false,
         "type": "scatter3d",
         "x": [
          20,
          19.973,
          19.892,
          19.757,
          19.569,
          19.33,
          19.04,
          18.701,
          18.315,
          17.883,
          17.41,
          16.895,
          16.344,
          15.758,
          15.141,
          14.496,
          13.827,
          13.137,
          12.43,
          11.71,
          10.98,
          10.245,
          9.509,
          8.776,
          8.049,
          7.333,
          6.631,
          5.948,
          5.286,
          4.65,
          4.043,
          3.468,
          2.929,
          2.428,
          1.968,
          1.551,
          1.181,
          0.858,
          0.585,
          0.362,
          0.192,
          0.075,
          0.012,
          0.003,
          0.048,
          0.147,
          0.3,
          0.505,
          0.761,
          1.068,
          1.423,
          1.824,
          2.27,
          2.758,
          3.284,
          3.848,
          4.444,
          5.071,
          5.724,
          6.401,
          7.097,
          7.809,
          8.533,
          9.264,
          10
         ],
         "y": [
          10,
          10.736,
          11.467,
          12.191,
          12.903,
          13.599,
          14.276,
          14.929,
          15.556,
          16.152,
          16.716,
          17.242,
          17.73,
          18.176,
          18.577,
          18.932,
          19.239,
          19.495,
          19.7,
          19.853,
          19.952,
          19.997,
          19.988,
          19.925,
          19.808,
          19.638,
          19.415,
          19.142,
          18.819,
          18.449,
          18.032,
          17.572,
          17.071,
          16.532,
          15.957,
          15.35,
          14.714,
          14.052,
          13.369,
          12.667,
          11.951,
          11.224,
          10.491,
          9.755,
          9.02,
          8.29,
          7.57,
          6.863,
          6.173,
          5.504,
          4.859,
          4.242,
          3.656,
          3.105,
          2.59,
          2.117,
          1.685,
          1.299,
          0.96,
          0.67,
          0.431,
          0.243,
          0.108,
          0.027,
          0
         ],
         "z": [
          0,
          0,
          0,
          0,
          0,
          0,
          0,
          0,
          0,
          0,
          0,
          0,
          0,
          0,
          0,
          0,
          0,
          0,
          0,
          0,
          0,
          0,
          0,
          0,
          0,
          0,
          0,
          0,
          0,
          0,
          0,
          0,
          0,
          0,
          0,
          0,
          0,
          0,
          0,
          0,
          0,
          0,
          0,
          0,
          0,
          0,
          0,
          0,
          0,
          0,
          0,
          0,
          0,
          0,
          0,
          0,
          0,
          0,
          0,
          0,
          0,
          0,
          0,
          0,
          0
         ]
        },
        {
         "marker": {
          "color": "red",
          "size": 2
         },
         "mode": "markers",
         "showlegend": false,
         "type": "scatter3d",
         "x": [
          9.999999999999998,
          20,
          10
         ],
         "y": [
          0,
          10,
          10
         ],
         "z": [
          0,
          0,
          0
         ]
        }
       ],
       "layout": {
        "height": 500,
        "margin": {
         "b": 10,
         "l": 10,
         "pad": 4,
         "r": 10,
         "t": 10
        },
        "paper_bgcolor": "black",
        "scene": {
         "annotations": [
          {
           "showarrow": false,
           "text": "end",
           "x": 9.999999999999998,
           "y": 0,
           "yshift": 10,
           "z": 0
          },
          {
           "showarrow": false,
           "text": "start",
           "x": 20,
           "y": 10,
           "yshift": 10,
           "z": 0
          },
          {
           "showarrow": false,
           "text": "centre",
           "x": 10,
           "y": 10,
           "yshift": 10,
           "z": 0
          }
         ],
         "aspectmode": "cube",
         "camera": {
          "center": {
           "x": 0,
           "y": 0,
           "z": -0.5
          },
          "eye": {
           "x": -0.5,
           "y": -1,
           "z": 0
          }
         },
         "xaxis": {
          "backgroundcolor": "black",
          "nticks": 10,
          "range": [
           0.0020118130379582766,
           20.000999999999998
          ]
         },
         "yaxis": {
          "backgroundcolor": "black",
          "nticks": 10,
          "range": [
           -0.0009999999999994458,
           19.99798818696204
          ]
         },
         "zaxis": {
          "backgroundcolor": "black",
          "nticks": 10,
          "range": [
           0,
           19.99898818696204
          ]
         }
        },
        "template": {
         "data": {
          "bar": [
           {
            "error_x": {
             "color": "#f2f5fa"
            },
            "error_y": {
             "color": "#f2f5fa"
            },
            "marker": {
             "line": {
              "color": "rgb(17,17,17)",
              "width": 0.5
             },
             "pattern": {
              "fillmode": "overlay",
              "size": 10,
              "solidity": 0.2
             }
            },
            "type": "bar"
           }
          ],
          "barpolar": [
           {
            "marker": {
             "line": {
              "color": "rgb(17,17,17)",
              "width": 0.5
             },
             "pattern": {
              "fillmode": "overlay",
              "size": 10,
              "solidity": 0.2
             }
            },
            "type": "barpolar"
           }
          ],
          "carpet": [
           {
            "aaxis": {
             "endlinecolor": "#A2B1C6",
             "gridcolor": "#506784",
             "linecolor": "#506784",
             "minorgridcolor": "#506784",
             "startlinecolor": "#A2B1C6"
            },
            "baxis": {
             "endlinecolor": "#A2B1C6",
             "gridcolor": "#506784",
             "linecolor": "#506784",
             "minorgridcolor": "#506784",
             "startlinecolor": "#A2B1C6"
            },
            "type": "carpet"
           }
          ],
          "choropleth": [
           {
            "colorbar": {
             "outlinewidth": 0,
             "ticks": ""
            },
            "type": "choropleth"
           }
          ],
          "contour": [
           {
            "colorbar": {
             "outlinewidth": 0,
             "ticks": ""
            },
            "colorscale": [
             [
              0,
              "#0d0887"
             ],
             [
              0.1111111111111111,
              "#46039f"
             ],
             [
              0.2222222222222222,
              "#7201a8"
             ],
             [
              0.3333333333333333,
              "#9c179e"
             ],
             [
              0.4444444444444444,
              "#bd3786"
             ],
             [
              0.5555555555555556,
              "#d8576b"
             ],
             [
              0.6666666666666666,
              "#ed7953"
             ],
             [
              0.7777777777777778,
              "#fb9f3a"
             ],
             [
              0.8888888888888888,
              "#fdca26"
             ],
             [
              1,
              "#f0f921"
             ]
            ],
            "type": "contour"
           }
          ],
          "contourcarpet": [
           {
            "colorbar": {
             "outlinewidth": 0,
             "ticks": ""
            },
            "type": "contourcarpet"
           }
          ],
          "heatmap": [
           {
            "colorbar": {
             "outlinewidth": 0,
             "ticks": ""
            },
            "colorscale": [
             [
              0,
              "#0d0887"
             ],
             [
              0.1111111111111111,
              "#46039f"
             ],
             [
              0.2222222222222222,
              "#7201a8"
             ],
             [
              0.3333333333333333,
              "#9c179e"
             ],
             [
              0.4444444444444444,
              "#bd3786"
             ],
             [
              0.5555555555555556,
              "#d8576b"
             ],
             [
              0.6666666666666666,
              "#ed7953"
             ],
             [
              0.7777777777777778,
              "#fb9f3a"
             ],
             [
              0.8888888888888888,
              "#fdca26"
             ],
             [
              1,
              "#f0f921"
             ]
            ],
            "type": "heatmap"
           }
          ],
          "histogram": [
           {
            "marker": {
             "pattern": {
              "fillmode": "overlay",
              "size": 10,
              "solidity": 0.2
             }
            },
            "type": "histogram"
           }
          ],
          "histogram2d": [
           {
            "colorbar": {
             "outlinewidth": 0,
             "ticks": ""
            },
            "colorscale": [
             [
              0,
              "#0d0887"
             ],
             [
              0.1111111111111111,
              "#46039f"
             ],
             [
              0.2222222222222222,
              "#7201a8"
             ],
             [
              0.3333333333333333,
              "#9c179e"
             ],
             [
              0.4444444444444444,
              "#bd3786"
             ],
             [
              0.5555555555555556,
              "#d8576b"
             ],
             [
              0.6666666666666666,
              "#ed7953"
             ],
             [
              0.7777777777777778,
              "#fb9f3a"
             ],
             [
              0.8888888888888888,
              "#fdca26"
             ],
             [
              1,
              "#f0f921"
             ]
            ],
            "type": "histogram2d"
           }
          ],
          "histogram2dcontour": [
           {
            "colorbar": {
             "outlinewidth": 0,
             "ticks": ""
            },
            "colorscale": [
             [
              0,
              "#0d0887"
             ],
             [
              0.1111111111111111,
              "#46039f"
             ],
             [
              0.2222222222222222,
              "#7201a8"
             ],
             [
              0.3333333333333333,
              "#9c179e"
             ],
             [
              0.4444444444444444,
              "#bd3786"
             ],
             [
              0.5555555555555556,
              "#d8576b"
             ],
             [
              0.6666666666666666,
              "#ed7953"
             ],
             [
              0.7777777777777778,
              "#fb9f3a"
             ],
             [
              0.8888888888888888,
              "#fdca26"
             ],
             [
              1,
              "#f0f921"
             ]
            ],
            "type": "histogram2dcontour"
           }
          ],
          "mesh3d": [
           {
            "colorbar": {
             "outlinewidth": 0,
             "ticks": ""
            },
            "type": "mesh3d"
           }
          ],
          "parcoords": [
           {
            "line": {
             "colorbar": {
              "outlinewidth": 0,
              "ticks": ""
             }
            },
            "type": "parcoords"
           }
          ],
          "pie": [
           {
            "automargin": true,
            "type": "pie"
           }
          ],
          "scatter": [
           {
            "marker": {
             "line": {
              "color": "#283442"
             }
            },
            "type": "scatter"
           }
          ],
          "scatter3d": [
           {
            "line": {
             "colorbar": {
              "outlinewidth": 0,
              "ticks": ""
             }
            },
            "marker": {
             "colorbar": {
              "outlinewidth": 0,
              "ticks": ""
             }
            },
            "type": "scatter3d"
           }
          ],
          "scattercarpet": [
           {
            "marker": {
             "colorbar": {
              "outlinewidth": 0,
              "ticks": ""
             }
            },
            "type": "scattercarpet"
           }
          ],
          "scattergeo": [
           {
            "marker": {
             "colorbar": {
              "outlinewidth": 0,
              "ticks": ""
             }
            },
            "type": "scattergeo"
           }
          ],
          "scattergl": [
           {
            "marker": {
             "line": {
              "color": "#283442"
             }
            },
            "type": "scattergl"
           }
          ],
          "scattermap": [
           {
            "marker": {
             "colorbar": {
              "outlinewidth": 0,
              "ticks": ""
             }
            },
            "type": "scattermap"
           }
          ],
          "scattermapbox": [
           {
            "marker": {
             "colorbar": {
              "outlinewidth": 0,
              "ticks": ""
             }
            },
            "type": "scattermapbox"
           }
          ],
          "scatterpolar": [
           {
            "marker": {
             "colorbar": {
              "outlinewidth": 0,
              "ticks": ""
             }
            },
            "type": "scatterpolar"
           }
          ],
          "scatterpolargl": [
           {
            "marker": {
             "colorbar": {
              "outlinewidth": 0,
              "ticks": ""
             }
            },
            "type": "scatterpolargl"
           }
          ],
          "scatterternary": [
           {
            "marker": {
             "colorbar": {
              "outlinewidth": 0,
              "ticks": ""
             }
            },
            "type": "scatterternary"
           }
          ],
          "surface": [
           {
            "colorbar": {
             "outlinewidth": 0,
             "ticks": ""
            },
            "colorscale": [
             [
              0,
              "#0d0887"
             ],
             [
              0.1111111111111111,
              "#46039f"
             ],
             [
              0.2222222222222222,
              "#7201a8"
             ],
             [
              0.3333333333333333,
              "#9c179e"
             ],
             [
              0.4444444444444444,
              "#bd3786"
             ],
             [
              0.5555555555555556,
              "#d8576b"
             ],
             [
              0.6666666666666666,
              "#ed7953"
             ],
             [
              0.7777777777777778,
              "#fb9f3a"
             ],
             [
              0.8888888888888888,
              "#fdca26"
             ],
             [
              1,
              "#f0f921"
             ]
            ],
            "type": "surface"
           }
          ],
          "table": [
           {
            "cells": {
             "fill": {
              "color": "#506784"
             },
             "line": {
              "color": "rgb(17,17,17)"
             }
            },
            "header": {
             "fill": {
              "color": "#2a3f5f"
             },
             "line": {
              "color": "rgb(17,17,17)"
             }
            },
            "type": "table"
           }
          ]
         },
         "layout": {
          "annotationdefaults": {
           "arrowcolor": "#f2f5fa",
           "arrowhead": 0,
           "arrowwidth": 1
          },
          "autotypenumbers": "strict",
          "coloraxis": {
           "colorbar": {
            "outlinewidth": 0,
            "ticks": ""
           }
          },
          "colorscale": {
           "diverging": [
            [
             0,
             "#8e0152"
            ],
            [
             0.1,
             "#c51b7d"
            ],
            [
             0.2,
             "#de77ae"
            ],
            [
             0.3,
             "#f1b6da"
            ],
            [
             0.4,
             "#fde0ef"
            ],
            [
             0.5,
             "#f7f7f7"
            ],
            [
             0.6,
             "#e6f5d0"
            ],
            [
             0.7,
             "#b8e186"
            ],
            [
             0.8,
             "#7fbc41"
            ],
            [
             0.9,
             "#4d9221"
            ],
            [
             1,
             "#276419"
            ]
           ],
           "sequential": [
            [
             0,
             "#0d0887"
            ],
            [
             0.1111111111111111,
             "#46039f"
            ],
            [
             0.2222222222222222,
             "#7201a8"
            ],
            [
             0.3333333333333333,
             "#9c179e"
            ],
            [
             0.4444444444444444,
             "#bd3786"
            ],
            [
             0.5555555555555556,
             "#d8576b"
            ],
            [
             0.6666666666666666,
             "#ed7953"
            ],
            [
             0.7777777777777778,
             "#fb9f3a"
            ],
            [
             0.8888888888888888,
             "#fdca26"
            ],
            [
             1,
             "#f0f921"
            ]
           ],
           "sequentialminus": [
            [
             0,
             "#0d0887"
            ],
            [
             0.1111111111111111,
             "#46039f"
            ],
            [
             0.2222222222222222,
             "#7201a8"
            ],
            [
             0.3333333333333333,
             "#9c179e"
            ],
            [
             0.4444444444444444,
             "#bd3786"
            ],
            [
             0.5555555555555556,
             "#d8576b"
            ],
            [
             0.6666666666666666,
             "#ed7953"
            ],
            [
             0.7777777777777778,
             "#fb9f3a"
            ],
            [
             0.8888888888888888,
             "#fdca26"
            ],
            [
             1,
             "#f0f921"
            ]
           ]
          },
          "colorway": [
           "#636efa",
           "#EF553B",
           "#00cc96",
           "#ab63fa",
           "#FFA15A",
           "#19d3f3",
           "#FF6692",
           "#B6E880",
           "#FF97FF",
           "#FECB52"
          ],
          "font": {
           "color": "#f2f5fa"
          },
          "geo": {
           "bgcolor": "rgb(17,17,17)",
           "lakecolor": "rgb(17,17,17)",
           "landcolor": "rgb(17,17,17)",
           "showlakes": true,
           "showland": true,
           "subunitcolor": "#506784"
          },
          "hoverlabel": {
           "align": "left"
          },
          "hovermode": "closest",
          "mapbox": {
           "style": "dark"
          },
          "paper_bgcolor": "rgb(17,17,17)",
          "plot_bgcolor": "rgb(17,17,17)",
          "polar": {
           "angularaxis": {
            "gridcolor": "#506784",
            "linecolor": "#506784",
            "ticks": ""
           },
           "bgcolor": "rgb(17,17,17)",
           "radialaxis": {
            "gridcolor": "#506784",
            "linecolor": "#506784",
            "ticks": ""
           }
          },
          "scene": {
           "xaxis": {
            "backgroundcolor": "rgb(17,17,17)",
            "gridcolor": "#506784",
            "gridwidth": 2,
            "linecolor": "#506784",
            "showbackground": true,
            "ticks": "",
            "zerolinecolor": "#C8D4E3"
           },
           "yaxis": {
            "backgroundcolor": "rgb(17,17,17)",
            "gridcolor": "#506784",
            "gridwidth": 2,
            "linecolor": "#506784",
            "showbackground": true,
            "ticks": "",
            "zerolinecolor": "#C8D4E3"
           },
           "zaxis": {
            "backgroundcolor": "rgb(17,17,17)",
            "gridcolor": "#506784",
            "gridwidth": 2,
            "linecolor": "#506784",
            "showbackground": true,
            "ticks": "",
            "zerolinecolor": "#C8D4E3"
           }
          },
          "shapedefaults": {
           "line": {
            "color": "#f2f5fa"
           }
          },
          "sliderdefaults": {
           "bgcolor": "#C8D4E3",
           "bordercolor": "rgb(17,17,17)",
           "borderwidth": 1,
           "tickwidth": 0
          },
          "ternary": {
           "aaxis": {
            "gridcolor": "#506784",
            "linecolor": "#506784",
            "ticks": ""
           },
           "baxis": {
            "gridcolor": "#506784",
            "linecolor": "#506784",
            "ticks": ""
           },
           "bgcolor": "rgb(17,17,17)",
           "caxis": {
            "gridcolor": "#506784",
            "linecolor": "#506784",
            "ticks": ""
           }
          },
          "title": {
           "x": 0.05
          },
          "updatemenudefaults": {
           "bgcolor": "#506784",
           "borderwidth": 0
          },
          "xaxis": {
           "automargin": true,
           "gridcolor": "#283442",
           "linecolor": "#506784",
           "ticks": "",
           "title": {
            "standoff": 15
           },
           "zerolinecolor": "#283442",
           "zerolinewidth": 2
          },
          "yaxis": {
           "automargin": true,
           "gridcolor": "#283442",
           "linecolor": "#506784",
           "ticks": "",
           "title": {
            "standoff": 15
           },
           "zerolinecolor": "#283442",
           "zerolinewidth": 2
          }
         }
        },
        "width": 800
       }
      }
     },
     "metadata": {},
     "output_type": "display_data"
    }
   ],
   "source": [
    "centre_point = fc.Point(x=10, y=10, z=0)\n",
    "radius = 10\n",
    "start_angle = 0\n",
    "arc_angle = 0.75*tau\n",
    "segments = 64\n",
    "steps = fc.arcXY(centre_point, radius, start_angle, arc_angle, segments)\n",
    "steps.append(fc.PlotAnnotation(point=steps[-1], label=\"end\"))\n",
    "steps.append(fc.PlotAnnotation(point=steps[0], label=\"start\"))\n",
    "steps.append(fc.PlotAnnotation(point=centre_point, label=\"centre\"))\n",
    "fc.transform(steps, 'plot', fc.PlotControls(color_type='print_sequence', style='line'))"
   ]
  },
  {
   "attachments": {},
   "cell_type": "markdown",
   "metadata": {},
   "source": [
    "#### variable arc"
   ]
  },
  {
   "cell_type": "code",
   "execution_count": 8,
   "metadata": {},
   "outputs": [
    {
     "data": {
      "application/vnd.plotly.v1+json": {
       "config": {
        "plotlyServerURL": "https://plot.ly"
       },
       "data": [
        {
         "line": {
          "color": [
           "rgb(204.00, 0.00, 255.00)",
           "rgb(197.62, 0.00, 255.00)",
           "rgb(191.50, 0.00, 255.00)",
           "rgb(185.13, 0.00, 255.00)",
           "rgb(179.01, 0.00, 255.00)",
           "rgb(172.64, 0.00, 255.00)",
           "rgb(166.26, 0.00, 255.00)",
           "rgb(160.14, 0.00, 255.00)",
           "rgb(153.76, 0.00, 255.00)",
           "rgb(147.39, 0.00, 255.00)",
           "rgb(141.27, 0.00, 255.00)",
           "rgb(134.90, 0.00, 255.00)",
           "rgb(128.78, 0.00, 255.00)",
           "rgb(122.40, 0.00, 255.00)",
           "rgb(116.03, 0.00, 255.00)",
           "rgb(109.91, 0.00, 255.00)",
           "rgb(103.53, 0.00, 255.00)",
           "rgb(97.41, 0.00, 255.00)",
           "rgb(91.03, 0.00, 255.00)",
           "rgb(84.66, 0.00, 255.00)",
           "rgb(78.54, 0.00, 255.00)",
           "rgb(72.16, 0.00, 255.00)",
           "rgb(65.79, 0.00, 255.00)",
           "rgb(59.67, 0.00, 255.00)",
           "rgb(53.29, 0.00, 255.00)",
           "rgb(47.17, 0.00, 255.00)",
           "rgb(40.80, 0.00, 255.00)",
           "rgb(34.43, 0.00, 255.00)",
           "rgb(28.30, 0.00, 255.00)",
           "rgb(21.93, 0.00, 255.00)",
           "rgb(15.81, 0.00, 255.00)",
           "rgb(9.43, 0.00, 255.00)",
           "rgb(3.06, 0.00, 255.00)",
           "rgb(0.00, 3.82, 255.00)",
           "rgb(0.00, 11.73, 255.00)",
           "rgb(0.00, 19.63, 255.00)",
           "rgb(0.00, 27.54, 255.00)",
           "rgb(0.00, 35.19, 255.00)",
           "rgb(0.00, 43.10, 255.00)",
           "rgb(0.00, 51.00, 255.00)",
           "rgb(0.00, 58.91, 255.00)",
           "rgb(0.00, 66.81, 255.00)",
           "rgb(0.00, 74.46, 255.00)",
           "rgb(0.00, 82.37, 255.00)",
           "rgb(0.00, 90.27, 255.00)",
           "rgb(0.00, 98.17, 255.00)",
           "rgb(0.00, 105.82, 255.00)",
           "rgb(0.00, 113.73, 255.00)",
           "rgb(0.00, 121.63, 255.00)",
           "rgb(0.00, 129.54, 255.00)",
           "rgb(0.00, 137.19, 255.00)",
           "rgb(0.00, 145.09, 255.00)",
           "rgb(0.00, 153.00, 255.00)",
           "rgb(0.00, 160.91, 255.00)",
           "rgb(0.00, 168.81, 255.00)",
           "rgb(0.00, 176.46, 255.00)",
           "rgb(0.00, 184.36, 255.00)",
           "rgb(0.00, 192.27, 255.00)",
           "rgb(0.00, 200.18, 255.00)",
           "rgb(0.00, 207.82, 255.00)",
           "rgb(0.00, 215.73, 255.00)",
           "rgb(0.00, 223.63, 255.00)",
           "rgb(0.00, 231.54, 255.00)",
           "rgb(0.00, 239.19, 255.00)",
           "rgb(0.00, 247.09, 255.00)"
          ],
          "width": 4
         },
         "mode": "lines",
         "showlegend": false,
         "type": "scatter3d",
         "x": [
          20,
          19.879,
          19.706,
          19.483,
          19.211,
          18.893,
          18.531,
          18.13,
          17.691,
          17.218,
          16.715,
          16.184,
          15.63,
          15.056,
          14.466,
          13.864,
          13.253,
          12.637,
          12.02,
          11.405,
          10.796,
          10.197,
          9.611,
          9.04,
          8.488,
          7.958,
          7.452,
          6.973,
          6.523,
          6.105,
          5.718,
          5.367,
          5.05,
          4.771,
          4.528,
          4.324,
          4.157,
          4.029,
          3.939,
          3.886,
          3.87,
          3.89,
          3.945,
          4.033,
          4.153,
          4.304,
          4.483,
          4.689,
          4.919,
          5.171,
          5.443,
          5.733,
          6.038,
          6.356,
          6.684,
          7.02,
          7.361,
          7.705,
          8.049,
          8.392,
          8.73,
          9.062,
          9.386,
          9.699,
          10
         ],
         "y": [
          10,
          10.729,
          11.44,
          12.129,
          12.794,
          13.43,
          14.035,
          14.606,
          15.139,
          15.633,
          16.086,
          16.496,
          16.86,
          17.179,
          17.452,
          17.676,
          17.853,
          17.982,
          18.063,
          18.098,
          18.086,
          18.029,
          17.928,
          17.785,
          17.601,
          17.379,
          17.12,
          16.828,
          16.504,
          16.152,
          15.773,
          15.371,
          14.95,
          14.511,
          14.058,
          13.595,
          13.123,
          12.647,
          12.169,
          11.692,
          11.219,
          10.754,
          10.297,
          9.854,
          9.424,
          9.012,
          8.618,
          8.245,
          7.895,
          7.569,
          7.269,
          6.995,
          6.749,
          6.531,
          6.342,
          6.181,
          6.051,
          5.949,
          5.876,
          5.831,
          5.813,
          5.823,
          5.858,
          5.917,
          6
         ],
         "z": [
          0,
          0,
          0,
          0,
          0,
          0,
          0,
          0,
          0,
          0,
          0,
          0,
          0,
          0,
          0,
          0,
          0,
          0,
          0,
          0,
          0,
          0,
          0,
          0,
          0,
          0,
          0,
          0,
          0,
          0,
          0,
          0,
          0,
          0,
          0,
          0,
          0,
          0,
          0,
          0,
          0,
          0,
          0,
          0,
          0,
          0,
          0,
          0,
          0,
          0,
          0,
          0,
          0,
          0,
          0,
          0,
          0,
          0,
          0,
          0,
          0,
          0,
          0,
          0,
          0
         ]
        },
        {
         "marker": {
          "color": "red",
          "size": 2
         },
         "mode": "markers",
         "showlegend": false,
         "type": "scatter3d",
         "x": [
          10,
          20,
          10
         ],
         "y": [
          6,
          10,
          10
         ],
         "z": [
          0,
          0,
          0
         ]
        }
       ],
       "layout": {
        "height": 500,
        "margin": {
         "b": 10,
         "l": 10,
         "pad": 4,
         "r": 10,
         "t": 10
        },
        "paper_bgcolor": "black",
        "scene": {
         "annotations": [
          {
           "showarrow": false,
           "text": "end",
           "x": 10,
           "y": 6,
           "yshift": 10,
           "z": 0
          },
          {
           "showarrow": false,
           "text": "start",
           "x": 20,
           "y": 10,
           "yshift": 10,
           "z": 0
          },
          {
           "showarrow": false,
           "text": "centre",
           "x": 10,
           "y": 10,
           "yshift": 10,
           "z": 0
          }
         ],
         "aspectmode": "cube",
         "camera": {
          "center": {
           "x": 0,
           "y": 0,
           "z": -0.5
          },
          "eye": {
           "x": -0.5,
           "y": -1,
           "z": 0
          }
         },
         "xaxis": {
          "backgroundcolor": "black",
          "nticks": 10,
          "range": [
           3.8690919974798117,
           20.000999999999998
          ]
         },
         "yaxis": {
          "backgroundcolor": "black",
          "nticks": 10,
          "range": [
           3.889614326017753,
           20.02152232853794
          ]
         },
         "zaxis": {
          "backgroundcolor": "black",
          "nticks": 10,
          "range": [
           0,
           16.131908002520188
          ]
         }
        },
        "template": {
         "data": {
          "bar": [
           {
            "error_x": {
             "color": "#f2f5fa"
            },
            "error_y": {
             "color": "#f2f5fa"
            },
            "marker": {
             "line": {
              "color": "rgb(17,17,17)",
              "width": 0.5
             },
             "pattern": {
              "fillmode": "overlay",
              "size": 10,
              "solidity": 0.2
             }
            },
            "type": "bar"
           }
          ],
          "barpolar": [
           {
            "marker": {
             "line": {
              "color": "rgb(17,17,17)",
              "width": 0.5
             },
             "pattern": {
              "fillmode": "overlay",
              "size": 10,
              "solidity": 0.2
             }
            },
            "type": "barpolar"
           }
          ],
          "carpet": [
           {
            "aaxis": {
             "endlinecolor": "#A2B1C6",
             "gridcolor": "#506784",
             "linecolor": "#506784",
             "minorgridcolor": "#506784",
             "startlinecolor": "#A2B1C6"
            },
            "baxis": {
             "endlinecolor": "#A2B1C6",
             "gridcolor": "#506784",
             "linecolor": "#506784",
             "minorgridcolor": "#506784",
             "startlinecolor": "#A2B1C6"
            },
            "type": "carpet"
           }
          ],
          "choropleth": [
           {
            "colorbar": {
             "outlinewidth": 0,
             "ticks": ""
            },
            "type": "choropleth"
           }
          ],
          "contour": [
           {
            "colorbar": {
             "outlinewidth": 0,
             "ticks": ""
            },
            "colorscale": [
             [
              0,
              "#0d0887"
             ],
             [
              0.1111111111111111,
              "#46039f"
             ],
             [
              0.2222222222222222,
              "#7201a8"
             ],
             [
              0.3333333333333333,
              "#9c179e"
             ],
             [
              0.4444444444444444,
              "#bd3786"
             ],
             [
              0.5555555555555556,
              "#d8576b"
             ],
             [
              0.6666666666666666,
              "#ed7953"
             ],
             [
              0.7777777777777778,
              "#fb9f3a"
             ],
             [
              0.8888888888888888,
              "#fdca26"
             ],
             [
              1,
              "#f0f921"
             ]
            ],
            "type": "contour"
           }
          ],
          "contourcarpet": [
           {
            "colorbar": {
             "outlinewidth": 0,
             "ticks": ""
            },
            "type": "contourcarpet"
           }
          ],
          "heatmap": [
           {
            "colorbar": {
             "outlinewidth": 0,
             "ticks": ""
            },
            "colorscale": [
             [
              0,
              "#0d0887"
             ],
             [
              0.1111111111111111,
              "#46039f"
             ],
             [
              0.2222222222222222,
              "#7201a8"
             ],
             [
              0.3333333333333333,
              "#9c179e"
             ],
             [
              0.4444444444444444,
              "#bd3786"
             ],
             [
              0.5555555555555556,
              "#d8576b"
             ],
             [
              0.6666666666666666,
              "#ed7953"
             ],
             [
              0.7777777777777778,
              "#fb9f3a"
             ],
             [
              0.8888888888888888,
              "#fdca26"
             ],
             [
              1,
              "#f0f921"
             ]
            ],
            "type": "heatmap"
           }
          ],
          "histogram": [
           {
            "marker": {
             "pattern": {
              "fillmode": "overlay",
              "size": 10,
              "solidity": 0.2
             }
            },
            "type": "histogram"
           }
          ],
          "histogram2d": [
           {
            "colorbar": {
             "outlinewidth": 0,
             "ticks": ""
            },
            "colorscale": [
             [
              0,
              "#0d0887"
             ],
             [
              0.1111111111111111,
              "#46039f"
             ],
             [
              0.2222222222222222,
              "#7201a8"
             ],
             [
              0.3333333333333333,
              "#9c179e"
             ],
             [
              0.4444444444444444,
              "#bd3786"
             ],
             [
              0.5555555555555556,
              "#d8576b"
             ],
             [
              0.6666666666666666,
              "#ed7953"
             ],
             [
              0.7777777777777778,
              "#fb9f3a"
             ],
             [
              0.8888888888888888,
              "#fdca26"
             ],
             [
              1,
              "#f0f921"
             ]
            ],
            "type": "histogram2d"
           }
          ],
          "histogram2dcontour": [
           {
            "colorbar": {
             "outlinewidth": 0,
             "ticks": ""
            },
            "colorscale": [
             [
              0,
              "#0d0887"
             ],
             [
              0.1111111111111111,
              "#46039f"
             ],
             [
              0.2222222222222222,
              "#7201a8"
             ],
             [
              0.3333333333333333,
              "#9c179e"
             ],
             [
              0.4444444444444444,
              "#bd3786"
             ],
             [
              0.5555555555555556,
              "#d8576b"
             ],
             [
              0.6666666666666666,
              "#ed7953"
             ],
             [
              0.7777777777777778,
              "#fb9f3a"
             ],
             [
              0.8888888888888888,
              "#fdca26"
             ],
             [
              1,
              "#f0f921"
             ]
            ],
            "type": "histogram2dcontour"
           }
          ],
          "mesh3d": [
           {
            "colorbar": {
             "outlinewidth": 0,
             "ticks": ""
            },
            "type": "mesh3d"
           }
          ],
          "parcoords": [
           {
            "line": {
             "colorbar": {
              "outlinewidth": 0,
              "ticks": ""
             }
            },
            "type": "parcoords"
           }
          ],
          "pie": [
           {
            "automargin": true,
            "type": "pie"
           }
          ],
          "scatter": [
           {
            "marker": {
             "line": {
              "color": "#283442"
             }
            },
            "type": "scatter"
           }
          ],
          "scatter3d": [
           {
            "line": {
             "colorbar": {
              "outlinewidth": 0,
              "ticks": ""
             }
            },
            "marker": {
             "colorbar": {
              "outlinewidth": 0,
              "ticks": ""
             }
            },
            "type": "scatter3d"
           }
          ],
          "scattercarpet": [
           {
            "marker": {
             "colorbar": {
              "outlinewidth": 0,
              "ticks": ""
             }
            },
            "type": "scattercarpet"
           }
          ],
          "scattergeo": [
           {
            "marker": {
             "colorbar": {
              "outlinewidth": 0,
              "ticks": ""
             }
            },
            "type": "scattergeo"
           }
          ],
          "scattergl": [
           {
            "marker": {
             "line": {
              "color": "#283442"
             }
            },
            "type": "scattergl"
           }
          ],
          "scattermap": [
           {
            "marker": {
             "colorbar": {
              "outlinewidth": 0,
              "ticks": ""
             }
            },
            "type": "scattermap"
           }
          ],
          "scattermapbox": [
           {
            "marker": {
             "colorbar": {
              "outlinewidth": 0,
              "ticks": ""
             }
            },
            "type": "scattermapbox"
           }
          ],
          "scatterpolar": [
           {
            "marker": {
             "colorbar": {
              "outlinewidth": 0,
              "ticks": ""
             }
            },
            "type": "scatterpolar"
           }
          ],
          "scatterpolargl": [
           {
            "marker": {
             "colorbar": {
              "outlinewidth": 0,
              "ticks": ""
             }
            },
            "type": "scatterpolargl"
           }
          ],
          "scatterternary": [
           {
            "marker": {
             "colorbar": {
              "outlinewidth": 0,
              "ticks": ""
             }
            },
            "type": "scatterternary"
           }
          ],
          "surface": [
           {
            "colorbar": {
             "outlinewidth": 0,
             "ticks": ""
            },
            "colorscale": [
             [
              0,
              "#0d0887"
             ],
             [
              0.1111111111111111,
              "#46039f"
             ],
             [
              0.2222222222222222,
              "#7201a8"
             ],
             [
              0.3333333333333333,
              "#9c179e"
             ],
             [
              0.4444444444444444,
              "#bd3786"
             ],
             [
              0.5555555555555556,
              "#d8576b"
             ],
             [
              0.6666666666666666,
              "#ed7953"
             ],
             [
              0.7777777777777778,
              "#fb9f3a"
             ],
             [
              0.8888888888888888,
              "#fdca26"
             ],
             [
              1,
              "#f0f921"
             ]
            ],
            "type": "surface"
           }
          ],
          "table": [
           {
            "cells": {
             "fill": {
              "color": "#506784"
             },
             "line": {
              "color": "rgb(17,17,17)"
             }
            },
            "header": {
             "fill": {
              "color": "#2a3f5f"
             },
             "line": {
              "color": "rgb(17,17,17)"
             }
            },
            "type": "table"
           }
          ]
         },
         "layout": {
          "annotationdefaults": {
           "arrowcolor": "#f2f5fa",
           "arrowhead": 0,
           "arrowwidth": 1
          },
          "autotypenumbers": "strict",
          "coloraxis": {
           "colorbar": {
            "outlinewidth": 0,
            "ticks": ""
           }
          },
          "colorscale": {
           "diverging": [
            [
             0,
             "#8e0152"
            ],
            [
             0.1,
             "#c51b7d"
            ],
            [
             0.2,
             "#de77ae"
            ],
            [
             0.3,
             "#f1b6da"
            ],
            [
             0.4,
             "#fde0ef"
            ],
            [
             0.5,
             "#f7f7f7"
            ],
            [
             0.6,
             "#e6f5d0"
            ],
            [
             0.7,
             "#b8e186"
            ],
            [
             0.8,
             "#7fbc41"
            ],
            [
             0.9,
             "#4d9221"
            ],
            [
             1,
             "#276419"
            ]
           ],
           "sequential": [
            [
             0,
             "#0d0887"
            ],
            [
             0.1111111111111111,
             "#46039f"
            ],
            [
             0.2222222222222222,
             "#7201a8"
            ],
            [
             0.3333333333333333,
             "#9c179e"
            ],
            [
             0.4444444444444444,
             "#bd3786"
            ],
            [
             0.5555555555555556,
             "#d8576b"
            ],
            [
             0.6666666666666666,
             "#ed7953"
            ],
            [
             0.7777777777777778,
             "#fb9f3a"
            ],
            [
             0.8888888888888888,
             "#fdca26"
            ],
            [
             1,
             "#f0f921"
            ]
           ],
           "sequentialminus": [
            [
             0,
             "#0d0887"
            ],
            [
             0.1111111111111111,
             "#46039f"
            ],
            [
             0.2222222222222222,
             "#7201a8"
            ],
            [
             0.3333333333333333,
             "#9c179e"
            ],
            [
             0.4444444444444444,
             "#bd3786"
            ],
            [
             0.5555555555555556,
             "#d8576b"
            ],
            [
             0.6666666666666666,
             "#ed7953"
            ],
            [
             0.7777777777777778,
             "#fb9f3a"
            ],
            [
             0.8888888888888888,
             "#fdca26"
            ],
            [
             1,
             "#f0f921"
            ]
           ]
          },
          "colorway": [
           "#636efa",
           "#EF553B",
           "#00cc96",
           "#ab63fa",
           "#FFA15A",
           "#19d3f3",
           "#FF6692",
           "#B6E880",
           "#FF97FF",
           "#FECB52"
          ],
          "font": {
           "color": "#f2f5fa"
          },
          "geo": {
           "bgcolor": "rgb(17,17,17)",
           "lakecolor": "rgb(17,17,17)",
           "landcolor": "rgb(17,17,17)",
           "showlakes": true,
           "showland": true,
           "subunitcolor": "#506784"
          },
          "hoverlabel": {
           "align": "left"
          },
          "hovermode": "closest",
          "mapbox": {
           "style": "dark"
          },
          "paper_bgcolor": "rgb(17,17,17)",
          "plot_bgcolor": "rgb(17,17,17)",
          "polar": {
           "angularaxis": {
            "gridcolor": "#506784",
            "linecolor": "#506784",
            "ticks": ""
           },
           "bgcolor": "rgb(17,17,17)",
           "radialaxis": {
            "gridcolor": "#506784",
            "linecolor": "#506784",
            "ticks": ""
           }
          },
          "scene": {
           "xaxis": {
            "backgroundcolor": "rgb(17,17,17)",
            "gridcolor": "#506784",
            "gridwidth": 2,
            "linecolor": "#506784",
            "showbackground": true,
            "ticks": "",
            "zerolinecolor": "#C8D4E3"
           },
           "yaxis": {
            "backgroundcolor": "rgb(17,17,17)",
            "gridcolor": "#506784",
            "gridwidth": 2,
            "linecolor": "#506784",
            "showbackground": true,
            "ticks": "",
            "zerolinecolor": "#C8D4E3"
           },
           "zaxis": {
            "backgroundcolor": "rgb(17,17,17)",
            "gridcolor": "#506784",
            "gridwidth": 2,
            "linecolor": "#506784",
            "showbackground": true,
            "ticks": "",
            "zerolinecolor": "#C8D4E3"
           }
          },
          "shapedefaults": {
           "line": {
            "color": "#f2f5fa"
           }
          },
          "sliderdefaults": {
           "bgcolor": "#C8D4E3",
           "bordercolor": "rgb(17,17,17)",
           "borderwidth": 1,
           "tickwidth": 0
          },
          "ternary": {
           "aaxis": {
            "gridcolor": "#506784",
            "linecolor": "#506784",
            "ticks": ""
           },
           "baxis": {
            "gridcolor": "#506784",
            "linecolor": "#506784",
            "ticks": ""
           },
           "bgcolor": "rgb(17,17,17)",
           "caxis": {
            "gridcolor": "#506784",
            "linecolor": "#506784",
            "ticks": ""
           }
          },
          "title": {
           "x": 0.05
          },
          "updatemenudefaults": {
           "bgcolor": "#506784",
           "borderwidth": 0
          },
          "xaxis": {
           "automargin": true,
           "gridcolor": "#283442",
           "linecolor": "#506784",
           "ticks": "",
           "title": {
            "standoff": 15
           },
           "zerolinecolor": "#283442",
           "zerolinewidth": 2
          },
          "yaxis": {
           "automargin": true,
           "gridcolor": "#283442",
           "linecolor": "#506784",
           "ticks": "",
           "title": {
            "standoff": 15
           },
           "zerolinecolor": "#283442",
           "zerolinewidth": 2
          }
         }
        },
        "width": 800
       }
      }
     },
     "metadata": {},
     "output_type": "display_data"
    }
   ],
   "source": [
    "centre_point = fc.Point(x=10, y=10, z=0)\n",
    "radius = 10\n",
    "start_angle = 0\n",
    "arc_angle = 0.75*tau\n",
    "segments = 64\n",
    "radius_change = -6\n",
    "z_change = 0\n",
    "steps = fc.variable_arcXY(centre_point, radius, start_angle, arc_angle, segments, radius_change, z_change)\n",
    "steps.append(fc.PlotAnnotation(point=steps[-1], label=\"end\"))\n",
    "steps.append(fc.PlotAnnotation(point=steps[0], label=\"start\"))\n",
    "steps.append(fc.PlotAnnotation(point=centre_point, label=\"centre\"))\n",
    "fc.transform(steps, 'plot', fc.PlotControls(color_type='print_sequence', style='line'))"
   ]
  },
  {
   "attachments": {},
   "cell_type": "markdown",
   "metadata": {},
   "source": [
    "#### elliptical arc"
   ]
  },
  {
   "cell_type": "code",
   "execution_count": 9,
   "metadata": {},
   "outputs": [
    {
     "data": {
      "application/vnd.plotly.v1+json": {
       "config": {
        "plotlyServerURL": "https://plot.ly"
       },
       "data": [
        {
         "line": {
          "color": [
           "rgb(204.00, 0.00, 255.00)",
           "rgb(197.62, 0.00, 255.00)",
           "rgb(191.50, 0.00, 255.00)",
           "rgb(185.13, 0.00, 255.00)",
           "rgb(179.01, 0.00, 255.00)",
           "rgb(172.64, 0.00, 255.00)",
           "rgb(166.26, 0.00, 255.00)",
           "rgb(160.14, 0.00, 255.00)",
           "rgb(153.76, 0.00, 255.00)",
           "rgb(147.39, 0.00, 255.00)",
           "rgb(141.27, 0.00, 255.00)",
           "rgb(134.90, 0.00, 255.00)",
           "rgb(128.78, 0.00, 255.00)",
           "rgb(122.40, 0.00, 255.00)",
           "rgb(116.03, 0.00, 255.00)",
           "rgb(109.91, 0.00, 255.00)",
           "rgb(103.53, 0.00, 255.00)",
           "rgb(97.41, 0.00, 255.00)",
           "rgb(91.03, 0.00, 255.00)",
           "rgb(84.66, 0.00, 255.00)",
           "rgb(78.54, 0.00, 255.00)",
           "rgb(72.16, 0.00, 255.00)",
           "rgb(65.79, 0.00, 255.00)",
           "rgb(59.67, 0.00, 255.00)",
           "rgb(53.29, 0.00, 255.00)",
           "rgb(47.17, 0.00, 255.00)",
           "rgb(40.80, 0.00, 255.00)",
           "rgb(34.43, 0.00, 255.00)",
           "rgb(28.30, 0.00, 255.00)",
           "rgb(21.93, 0.00, 255.00)",
           "rgb(15.81, 0.00, 255.00)",
           "rgb(9.43, 0.00, 255.00)",
           "rgb(3.06, 0.00, 255.00)",
           "rgb(0.00, 3.82, 255.00)",
           "rgb(0.00, 11.73, 255.00)",
           "rgb(0.00, 19.63, 255.00)",
           "rgb(0.00, 27.54, 255.00)",
           "rgb(0.00, 35.19, 255.00)",
           "rgb(0.00, 43.10, 255.00)",
           "rgb(0.00, 51.00, 255.00)",
           "rgb(0.00, 58.91, 255.00)",
           "rgb(0.00, 66.81, 255.00)",
           "rgb(0.00, 74.46, 255.00)",
           "rgb(0.00, 82.37, 255.00)",
           "rgb(0.00, 90.27, 255.00)",
           "rgb(0.00, 98.17, 255.00)",
           "rgb(0.00, 105.82, 255.00)",
           "rgb(0.00, 113.73, 255.00)",
           "rgb(0.00, 121.63, 255.00)",
           "rgb(0.00, 129.54, 255.00)",
           "rgb(0.00, 137.19, 255.00)",
           "rgb(0.00, 145.09, 255.00)",
           "rgb(0.00, 153.00, 255.00)",
           "rgb(0.00, 160.91, 255.00)",
           "rgb(0.00, 168.81, 255.00)",
           "rgb(0.00, 176.46, 255.00)",
           "rgb(0.00, 184.36, 255.00)",
           "rgb(0.00, 192.27, 255.00)",
           "rgb(0.00, 200.18, 255.00)",
           "rgb(0.00, 207.82, 255.00)",
           "rgb(0.00, 215.73, 255.00)",
           "rgb(0.00, 223.63, 255.00)",
           "rgb(0.00, 231.54, 255.00)",
           "rgb(0.00, 239.19, 255.00)",
           "rgb(0.00, 247.09, 255.00)"
          ],
          "width": 4
         },
         "mode": "lines",
         "showlegend": false,
         "type": "scatter3d",
         "x": [
          20,
          19.973,
          19.892,
          19.757,
          19.569,
          19.33,
          19.04,
          18.701,
          18.315,
          17.883,
          17.41,
          16.895,
          16.344,
          15.758,
          15.141,
          14.496,
          13.827,
          13.137,
          12.43,
          11.71,
          10.98,
          10.245,
          9.509,
          8.776,
          8.049,
          7.333,
          6.631,
          5.948,
          5.286,
          4.65,
          4.043,
          3.468,
          2.929,
          2.428,
          1.968,
          1.551,
          1.181,
          0.858,
          0.585,
          0.362,
          0.192,
          0.075,
          0.012,
          0.003,
          0.048,
          0.147,
          0.3,
          0.505,
          0.761,
          1.068,
          1.423,
          1.824,
          2.27,
          2.758,
          3.284,
          3.848,
          4.444,
          5.071,
          5.724,
          6.401,
          7.097,
          7.809,
          8.533,
          9.264,
          10
         ],
         "y": [
          10,
          10.368,
          10.734,
          11.096,
          11.451,
          11.799,
          12.138,
          12.464,
          12.778,
          13.076,
          13.358,
          13.621,
          13.865,
          14.088,
          14.289,
          14.466,
          14.619,
          14.748,
          14.85,
          14.926,
          14.976,
          14.998,
          14.994,
          14.962,
          14.904,
          14.819,
          14.708,
          14.571,
          14.41,
          14.224,
          14.016,
          13.786,
          13.536,
          13.266,
          12.978,
          12.675,
          12.357,
          12.026,
          11.684,
          11.334,
          10.975,
          10.612,
          10.245,
          9.877,
          9.51,
          9.145,
          8.785,
          8.432,
          8.087,
          7.752,
          7.429,
          7.121,
          6.828,
          6.552,
          6.295,
          6.058,
          5.843,
          5.65,
          5.48,
          5.335,
          5.215,
          5.121,
          5.054,
          5.014,
          5
         ],
         "z": [
          0,
          0,
          0,
          0,
          0,
          0,
          0,
          0,
          0,
          0,
          0,
          0,
          0,
          0,
          0,
          0,
          0,
          0,
          0,
          0,
          0,
          0,
          0,
          0,
          0,
          0,
          0,
          0,
          0,
          0,
          0,
          0,
          0,
          0,
          0,
          0,
          0,
          0,
          0,
          0,
          0,
          0,
          0,
          0,
          0,
          0,
          0,
          0,
          0,
          0,
          0,
          0,
          0,
          0,
          0,
          0,
          0,
          0,
          0,
          0,
          0,
          0,
          0,
          0,
          0
         ]
        },
        {
         "marker": {
          "color": "red",
          "size": 2
         },
         "mode": "markers",
         "showlegend": false,
         "type": "scatter3d",
         "x": [
          9.999999999999998,
          20,
          10
         ],
         "y": [
          5,
          10,
          10
         ],
         "z": [
          0,
          0,
          0
         ]
        }
       ],
       "layout": {
        "height": 500,
        "margin": {
         "b": 10,
         "l": 10,
         "pad": 4,
         "r": 10,
         "t": 10
        },
        "paper_bgcolor": "black",
        "scene": {
         "annotations": [
          {
           "showarrow": false,
           "text": "end",
           "x": 9.999999999999998,
           "y": 5,
           "yshift": 10,
           "z": 0
          },
          {
           "showarrow": false,
           "text": "start",
           "x": 20,
           "y": 10,
           "yshift": 10,
           "z": 0
          },
          {
           "showarrow": false,
           "text": "centre",
           "x": 10,
           "y": 10,
           "yshift": 10,
           "z": 0
          }
         ],
         "aspectmode": "cube",
         "camera": {
          "center": {
           "x": 0,
           "y": 0,
           "z": -0.5
          },
          "eye": {
           "x": -0.5,
           "y": -1,
           "z": 0
          }
         },
         "xaxis": {
          "backgroundcolor": "black",
          "nticks": 10,
          "range": [
           0.0020118130379582766,
           20.000999999999998
          ]
         },
         "yaxis": {
          "backgroundcolor": "black",
          "nticks": 10,
          "range": [
           -0.0002470467405100152,
           19.998741140221533
          ]
         },
         "zaxis": {
          "backgroundcolor": "black",
          "nticks": 10,
          "range": [
           0,
           19.99898818696204
          ]
         }
        },
        "template": {
         "data": {
          "bar": [
           {
            "error_x": {
             "color": "#f2f5fa"
            },
            "error_y": {
             "color": "#f2f5fa"
            },
            "marker": {
             "line": {
              "color": "rgb(17,17,17)",
              "width": 0.5
             },
             "pattern": {
              "fillmode": "overlay",
              "size": 10,
              "solidity": 0.2
             }
            },
            "type": "bar"
           }
          ],
          "barpolar": [
           {
            "marker": {
             "line": {
              "color": "rgb(17,17,17)",
              "width": 0.5
             },
             "pattern": {
              "fillmode": "overlay",
              "size": 10,
              "solidity": 0.2
             }
            },
            "type": "barpolar"
           }
          ],
          "carpet": [
           {
            "aaxis": {
             "endlinecolor": "#A2B1C6",
             "gridcolor": "#506784",
             "linecolor": "#506784",
             "minorgridcolor": "#506784",
             "startlinecolor": "#A2B1C6"
            },
            "baxis": {
             "endlinecolor": "#A2B1C6",
             "gridcolor": "#506784",
             "linecolor": "#506784",
             "minorgridcolor": "#506784",
             "startlinecolor": "#A2B1C6"
            },
            "type": "carpet"
           }
          ],
          "choropleth": [
           {
            "colorbar": {
             "outlinewidth": 0,
             "ticks": ""
            },
            "type": "choropleth"
           }
          ],
          "contour": [
           {
            "colorbar": {
             "outlinewidth": 0,
             "ticks": ""
            },
            "colorscale": [
             [
              0,
              "#0d0887"
             ],
             [
              0.1111111111111111,
              "#46039f"
             ],
             [
              0.2222222222222222,
              "#7201a8"
             ],
             [
              0.3333333333333333,
              "#9c179e"
             ],
             [
              0.4444444444444444,
              "#bd3786"
             ],
             [
              0.5555555555555556,
              "#d8576b"
             ],
             [
              0.6666666666666666,
              "#ed7953"
             ],
             [
              0.7777777777777778,
              "#fb9f3a"
             ],
             [
              0.8888888888888888,
              "#fdca26"
             ],
             [
              1,
              "#f0f921"
             ]
            ],
            "type": "contour"
           }
          ],
          "contourcarpet": [
           {
            "colorbar": {
             "outlinewidth": 0,
             "ticks": ""
            },
            "type": "contourcarpet"
           }
          ],
          "heatmap": [
           {
            "colorbar": {
             "outlinewidth": 0,
             "ticks": ""
            },
            "colorscale": [
             [
              0,
              "#0d0887"
             ],
             [
              0.1111111111111111,
              "#46039f"
             ],
             [
              0.2222222222222222,
              "#7201a8"
             ],
             [
              0.3333333333333333,
              "#9c179e"
             ],
             [
              0.4444444444444444,
              "#bd3786"
             ],
             [
              0.5555555555555556,
              "#d8576b"
             ],
             [
              0.6666666666666666,
              "#ed7953"
             ],
             [
              0.7777777777777778,
              "#fb9f3a"
             ],
             [
              0.8888888888888888,
              "#fdca26"
             ],
             [
              1,
              "#f0f921"
             ]
            ],
            "type": "heatmap"
           }
          ],
          "histogram": [
           {
            "marker": {
             "pattern": {
              "fillmode": "overlay",
              "size": 10,
              "solidity": 0.2
             }
            },
            "type": "histogram"
           }
          ],
          "histogram2d": [
           {
            "colorbar": {
             "outlinewidth": 0,
             "ticks": ""
            },
            "colorscale": [
             [
              0,
              "#0d0887"
             ],
             [
              0.1111111111111111,
              "#46039f"
             ],
             [
              0.2222222222222222,
              "#7201a8"
             ],
             [
              0.3333333333333333,
              "#9c179e"
             ],
             [
              0.4444444444444444,
              "#bd3786"
             ],
             [
              0.5555555555555556,
              "#d8576b"
             ],
             [
              0.6666666666666666,
              "#ed7953"
             ],
             [
              0.7777777777777778,
              "#fb9f3a"
             ],
             [
              0.8888888888888888,
              "#fdca26"
             ],
             [
              1,
              "#f0f921"
             ]
            ],
            "type": "histogram2d"
           }
          ],
          "histogram2dcontour": [
           {
            "colorbar": {
             "outlinewidth": 0,
             "ticks": ""
            },
            "colorscale": [
             [
              0,
              "#0d0887"
             ],
             [
              0.1111111111111111,
              "#46039f"
             ],
             [
              0.2222222222222222,
              "#7201a8"
             ],
             [
              0.3333333333333333,
              "#9c179e"
             ],
             [
              0.4444444444444444,
              "#bd3786"
             ],
             [
              0.5555555555555556,
              "#d8576b"
             ],
             [
              0.6666666666666666,
              "#ed7953"
             ],
             [
              0.7777777777777778,
              "#fb9f3a"
             ],
             [
              0.8888888888888888,
              "#fdca26"
             ],
             [
              1,
              "#f0f921"
             ]
            ],
            "type": "histogram2dcontour"
           }
          ],
          "mesh3d": [
           {
            "colorbar": {
             "outlinewidth": 0,
             "ticks": ""
            },
            "type": "mesh3d"
           }
          ],
          "parcoords": [
           {
            "line": {
             "colorbar": {
              "outlinewidth": 0,
              "ticks": ""
             }
            },
            "type": "parcoords"
           }
          ],
          "pie": [
           {
            "automargin": true,
            "type": "pie"
           }
          ],
          "scatter": [
           {
            "marker": {
             "line": {
              "color": "#283442"
             }
            },
            "type": "scatter"
           }
          ],
          "scatter3d": [
           {
            "line": {
             "colorbar": {
              "outlinewidth": 0,
              "ticks": ""
             }
            },
            "marker": {
             "colorbar": {
              "outlinewidth": 0,
              "ticks": ""
             }
            },
            "type": "scatter3d"
           }
          ],
          "scattercarpet": [
           {
            "marker": {
             "colorbar": {
              "outlinewidth": 0,
              "ticks": ""
             }
            },
            "type": "scattercarpet"
           }
          ],
          "scattergeo": [
           {
            "marker": {
             "colorbar": {
              "outlinewidth": 0,
              "ticks": ""
             }
            },
            "type": "scattergeo"
           }
          ],
          "scattergl": [
           {
            "marker": {
             "line": {
              "color": "#283442"
             }
            },
            "type": "scattergl"
           }
          ],
          "scattermap": [
           {
            "marker": {
             "colorbar": {
              "outlinewidth": 0,
              "ticks": ""
             }
            },
            "type": "scattermap"
           }
          ],
          "scattermapbox": [
           {
            "marker": {
             "colorbar": {
              "outlinewidth": 0,
              "ticks": ""
             }
            },
            "type": "scattermapbox"
           }
          ],
          "scatterpolar": [
           {
            "marker": {
             "colorbar": {
              "outlinewidth": 0,
              "ticks": ""
             }
            },
            "type": "scatterpolar"
           }
          ],
          "scatterpolargl": [
           {
            "marker": {
             "colorbar": {
              "outlinewidth": 0,
              "ticks": ""
             }
            },
            "type": "scatterpolargl"
           }
          ],
          "scatterternary": [
           {
            "marker": {
             "colorbar": {
              "outlinewidth": 0,
              "ticks": ""
             }
            },
            "type": "scatterternary"
           }
          ],
          "surface": [
           {
            "colorbar": {
             "outlinewidth": 0,
             "ticks": ""
            },
            "colorscale": [
             [
              0,
              "#0d0887"
             ],
             [
              0.1111111111111111,
              "#46039f"
             ],
             [
              0.2222222222222222,
              "#7201a8"
             ],
             [
              0.3333333333333333,
              "#9c179e"
             ],
             [
              0.4444444444444444,
              "#bd3786"
             ],
             [
              0.5555555555555556,
              "#d8576b"
             ],
             [
              0.6666666666666666,
              "#ed7953"
             ],
             [
              0.7777777777777778,
              "#fb9f3a"
             ],
             [
              0.8888888888888888,
              "#fdca26"
             ],
             [
              1,
              "#f0f921"
             ]
            ],
            "type": "surface"
           }
          ],
          "table": [
           {
            "cells": {
             "fill": {
              "color": "#506784"
             },
             "line": {
              "color": "rgb(17,17,17)"
             }
            },
            "header": {
             "fill": {
              "color": "#2a3f5f"
             },
             "line": {
              "color": "rgb(17,17,17)"
             }
            },
            "type": "table"
           }
          ]
         },
         "layout": {
          "annotationdefaults": {
           "arrowcolor": "#f2f5fa",
           "arrowhead": 0,
           "arrowwidth": 1
          },
          "autotypenumbers": "strict",
          "coloraxis": {
           "colorbar": {
            "outlinewidth": 0,
            "ticks": ""
           }
          },
          "colorscale": {
           "diverging": [
            [
             0,
             "#8e0152"
            ],
            [
             0.1,
             "#c51b7d"
            ],
            [
             0.2,
             "#de77ae"
            ],
            [
             0.3,
             "#f1b6da"
            ],
            [
             0.4,
             "#fde0ef"
            ],
            [
             0.5,
             "#f7f7f7"
            ],
            [
             0.6,
             "#e6f5d0"
            ],
            [
             0.7,
             "#b8e186"
            ],
            [
             0.8,
             "#7fbc41"
            ],
            [
             0.9,
             "#4d9221"
            ],
            [
             1,
             "#276419"
            ]
           ],
           "sequential": [
            [
             0,
             "#0d0887"
            ],
            [
             0.1111111111111111,
             "#46039f"
            ],
            [
             0.2222222222222222,
             "#7201a8"
            ],
            [
             0.3333333333333333,
             "#9c179e"
            ],
            [
             0.4444444444444444,
             "#bd3786"
            ],
            [
             0.5555555555555556,
             "#d8576b"
            ],
            [
             0.6666666666666666,
             "#ed7953"
            ],
            [
             0.7777777777777778,
             "#fb9f3a"
            ],
            [
             0.8888888888888888,
             "#fdca26"
            ],
            [
             1,
             "#f0f921"
            ]
           ],
           "sequentialminus": [
            [
             0,
             "#0d0887"
            ],
            [
             0.1111111111111111,
             "#46039f"
            ],
            [
             0.2222222222222222,
             "#7201a8"
            ],
            [
             0.3333333333333333,
             "#9c179e"
            ],
            [
             0.4444444444444444,
             "#bd3786"
            ],
            [
             0.5555555555555556,
             "#d8576b"
            ],
            [
             0.6666666666666666,
             "#ed7953"
            ],
            [
             0.7777777777777778,
             "#fb9f3a"
            ],
            [
             0.8888888888888888,
             "#fdca26"
            ],
            [
             1,
             "#f0f921"
            ]
           ]
          },
          "colorway": [
           "#636efa",
           "#EF553B",
           "#00cc96",
           "#ab63fa",
           "#FFA15A",
           "#19d3f3",
           "#FF6692",
           "#B6E880",
           "#FF97FF",
           "#FECB52"
          ],
          "font": {
           "color": "#f2f5fa"
          },
          "geo": {
           "bgcolor": "rgb(17,17,17)",
           "lakecolor": "rgb(17,17,17)",
           "landcolor": "rgb(17,17,17)",
           "showlakes": true,
           "showland": true,
           "subunitcolor": "#506784"
          },
          "hoverlabel": {
           "align": "left"
          },
          "hovermode": "closest",
          "mapbox": {
           "style": "dark"
          },
          "paper_bgcolor": "rgb(17,17,17)",
          "plot_bgcolor": "rgb(17,17,17)",
          "polar": {
           "angularaxis": {
            "gridcolor": "#506784",
            "linecolor": "#506784",
            "ticks": ""
           },
           "bgcolor": "rgb(17,17,17)",
           "radialaxis": {
            "gridcolor": "#506784",
            "linecolor": "#506784",
            "ticks": ""
           }
          },
          "scene": {
           "xaxis": {
            "backgroundcolor": "rgb(17,17,17)",
            "gridcolor": "#506784",
            "gridwidth": 2,
            "linecolor": "#506784",
            "showbackground": true,
            "ticks": "",
            "zerolinecolor": "#C8D4E3"
           },
           "yaxis": {
            "backgroundcolor": "rgb(17,17,17)",
            "gridcolor": "#506784",
            "gridwidth": 2,
            "linecolor": "#506784",
            "showbackground": true,
            "ticks": "",
            "zerolinecolor": "#C8D4E3"
           },
           "zaxis": {
            "backgroundcolor": "rgb(17,17,17)",
            "gridcolor": "#506784",
            "gridwidth": 2,
            "linecolor": "#506784",
            "showbackground": true,
            "ticks": "",
            "zerolinecolor": "#C8D4E3"
           }
          },
          "shapedefaults": {
           "line": {
            "color": "#f2f5fa"
           }
          },
          "sliderdefaults": {
           "bgcolor": "#C8D4E3",
           "bordercolor": "rgb(17,17,17)",
           "borderwidth": 1,
           "tickwidth": 0
          },
          "ternary": {
           "aaxis": {
            "gridcolor": "#506784",
            "linecolor": "#506784",
            "ticks": ""
           },
           "baxis": {
            "gridcolor": "#506784",
            "linecolor": "#506784",
            "ticks": ""
           },
           "bgcolor": "rgb(17,17,17)",
           "caxis": {
            "gridcolor": "#506784",
            "linecolor": "#506784",
            "ticks": ""
           }
          },
          "title": {
           "x": 0.05
          },
          "updatemenudefaults": {
           "bgcolor": "#506784",
           "borderwidth": 0
          },
          "xaxis": {
           "automargin": true,
           "gridcolor": "#283442",
           "linecolor": "#506784",
           "ticks": "",
           "title": {
            "standoff": 15
           },
           "zerolinecolor": "#283442",
           "zerolinewidth": 2
          },
          "yaxis": {
           "automargin": true,
           "gridcolor": "#283442",
           "linecolor": "#506784",
           "ticks": "",
           "title": {
            "standoff": 15
           },
           "zerolinecolor": "#283442",
           "zerolinewidth": 2
          }
         }
        },
        "width": 800
       }
      }
     },
     "metadata": {},
     "output_type": "display_data"
    }
   ],
   "source": [
    "centre_point = fc.Point(x=10, y=10, z=0)\n",
    "a = 10\n",
    "b = 5\n",
    "start_angle = 0\n",
    "arc_angle = 0.75*tau\n",
    "segments = 64\n",
    "steps = fc.elliptical_arcXY(centre_point, a, b, start_angle, arc_angle, segments)\n",
    "steps.append(fc.PlotAnnotation(point=steps[-1], label=\"end\"))\n",
    "steps.append(fc.PlotAnnotation(point=steps[0], label=\"start\"))\n",
    "steps.append(fc.PlotAnnotation(point=centre_point, label=\"centre\"))\n",
    "fc.transform(steps, 'plot', fc.PlotControls(color_type='print_sequence', style='line'))"
   ]
  },
  {
   "attachments": {},
   "cell_type": "markdown",
   "metadata": {},
   "source": [
    "#### spiral"
   ]
  },
  {
   "cell_type": "code",
   "execution_count": 10,
   "metadata": {},
   "outputs": [
    {
     "data": {
      "application/vnd.plotly.v1+json": {
       "config": {
        "plotlyServerURL": "https://plot.ly"
       },
       "data": [
        {
         "line": {
          "color": [
           "rgb(204.00, 0.00, 255.00)",
           "rgb(202.73, 0.00, 255.00)",
           "rgb(201.45, 0.00, 255.00)",
           "rgb(200.18, 0.00, 255.00)",
           "rgb(198.90, 0.00, 255.00)",
           "rgb(197.62, 0.00, 255.00)",
           "rgb(196.35, 0.00, 255.00)",
           "rgb(195.08, 0.00, 255.00)",
           "rgb(193.80, 0.00, 255.00)",
           "rgb(192.53, 0.00, 255.00)",
           "rgb(191.25, 0.00, 255.00)",
           "rgb(189.97, 0.00, 255.00)",
           "rgb(188.70, 0.00, 255.00)",
           "rgb(187.42, 0.00, 255.00)",
           "rgb(186.15, 0.00, 255.00)",
           "rgb(184.88, 0.00, 255.00)",
           "rgb(183.60, 0.00, 255.00)",
           "rgb(182.32, 0.00, 255.00)",
           "rgb(181.05, 0.00, 255.00)",
           "rgb(179.77, 0.00, 255.00)",
           "rgb(178.50, 0.00, 255.00)",
           "rgb(177.22, 0.00, 255.00)",
           "rgb(175.95, 0.00, 255.00)",
           "rgb(174.68, 0.00, 255.00)",
           "rgb(173.40, 0.00, 255.00)",
           "rgb(172.12, 0.00, 255.00)",
           "rgb(170.85, 0.00, 255.00)",
           "rgb(169.58, 0.00, 255.00)",
           "rgb(168.30, 0.00, 255.00)",
           "rgb(167.03, 0.00, 255.00)",
           "rgb(165.75, 0.00, 255.00)",
           "rgb(164.47, 0.00, 255.00)",
           "rgb(163.20, 0.00, 255.00)",
           "rgb(162.18, 0.00, 255.00)",
           "rgb(160.91, 0.00, 255.00)",
           "rgb(159.63, 0.00, 255.00)",
           "rgb(158.35, 0.00, 255.00)",
           "rgb(157.08, 0.00, 255.00)",
           "rgb(155.81, 0.00, 255.00)",
           "rgb(154.53, 0.00, 255.00)",
           "rgb(153.25, 0.00, 255.00)",
           "rgb(151.98, 0.00, 255.00)",
           "rgb(150.70, 0.00, 255.00)",
           "rgb(149.43, 0.00, 255.00)",
           "rgb(148.16, 0.00, 255.00)",
           "rgb(146.88, 0.00, 255.00)",
           "rgb(145.60, 0.00, 255.00)",
           "rgb(144.33, 0.00, 255.00)",
           "rgb(143.06, 0.00, 255.00)",
           "rgb(141.78, 0.00, 255.00)",
           "rgb(140.51, 0.00, 255.00)",
           "rgb(139.23, 0.00, 255.00)",
           "rgb(137.96, 0.00, 255.00)",
           "rgb(136.68, 0.00, 255.00)",
           "rgb(135.41, 0.00, 255.00)",
           "rgb(134.13, 0.00, 255.00)",
           "rgb(132.86, 0.00, 255.00)",
           "rgb(131.58, 0.00, 255.00)",
           "rgb(130.31, 0.00, 255.00)",
           "rgb(129.03, 0.00, 255.00)",
           "rgb(127.75, 0.00, 255.00)",
           "rgb(126.48, 0.00, 255.00)",
           "rgb(125.20, 0.00, 255.00)",
           "rgb(123.93, 0.00, 255.00)",
           "rgb(122.66, 0.00, 255.00)",
           "rgb(121.38, 0.00, 255.00)",
           "rgb(120.10, 0.00, 255.00)",
           "rgb(118.83, 0.00, 255.00)",
           "rgb(117.56, 0.00, 255.00)",
           "rgb(116.28, 0.00, 255.00)",
           "rgb(115.01, 0.00, 255.00)",
           "rgb(113.73, 0.00, 255.00)",
           "rgb(112.45, 0.00, 255.00)",
           "rgb(111.18, 0.00, 255.00)",
           "rgb(109.91, 0.00, 255.00)",
           "rgb(108.63, 0.00, 255.00)",
           "rgb(107.35, 0.00, 255.00)",
           "rgb(106.08, 0.00, 255.00)",
           "rgb(104.80, 0.00, 255.00)",
           "rgb(103.53, 0.00, 255.00)",
           "rgb(102.26, 0.00, 255.00)",
           "rgb(100.98, 0.00, 255.00)",
           "rgb(99.70, 0.00, 255.00)",
           "rgb(98.43, 0.00, 255.00)",
           "rgb(97.16, 0.00, 255.00)",
           "rgb(95.88, 0.00, 255.00)",
           "rgb(94.61, 0.00, 255.00)",
           "rgb(93.33, 0.00, 255.00)",
           "rgb(92.05, 0.00, 255.00)",
           "rgb(90.78, 0.00, 255.00)",
           "rgb(89.50, 0.00, 255.00)",
           "rgb(88.23, 0.00, 255.00)",
           "rgb(86.96, 0.00, 255.00)",
           "rgb(85.68, 0.00, 255.00)",
           "rgb(84.41, 0.00, 255.00)",
           "rgb(83.13, 0.00, 255.00)",
           "rgb(81.86, 0.00, 255.00)",
           "rgb(80.84, 0.00, 255.00)",
           "rgb(79.56, 0.00, 255.00)",
           "rgb(78.28, 0.00, 255.00)",
           "rgb(77.01, 0.00, 255.00)",
           "rgb(75.73, 0.00, 255.00)",
           "rgb(74.46, 0.00, 255.00)",
           "rgb(73.18, 0.00, 255.00)",
           "rgb(71.91, 0.00, 255.00)",
           "rgb(70.64, 0.00, 255.00)",
           "rgb(69.36, 0.00, 255.00)",
           "rgb(68.09, 0.00, 255.00)",
           "rgb(66.81, 0.00, 255.00)",
           "rgb(65.53, 0.00, 255.00)",
           "rgb(64.26, 0.00, 255.00)",
           "rgb(62.98, 0.00, 255.00)",
           "rgb(61.71, 0.00, 255.00)",
           "rgb(60.43, 0.00, 255.00)",
           "rgb(59.16, 0.00, 255.00)",
           "rgb(57.89, 0.00, 255.00)",
           "rgb(56.61, 0.00, 255.00)",
           "rgb(55.34, 0.00, 255.00)",
           "rgb(54.06, 0.00, 255.00)",
           "rgb(52.78, 0.00, 255.00)",
           "rgb(51.51, 0.00, 255.00)",
           "rgb(50.23, 0.00, 255.00)",
           "rgb(48.96, 0.00, 255.00)",
           "rgb(47.69, 0.00, 255.00)",
           "rgb(46.41, 0.00, 255.00)",
           "rgb(45.13, 0.00, 255.00)",
           "rgb(43.86, 0.00, 255.00)",
           "rgb(42.59, 0.00, 255.00)",
           "rgb(41.31, 0.00, 255.00)",
           "rgb(40.04, 0.00, 255.00)",
           "rgb(38.76, 0.00, 255.00)",
           "rgb(37.48, 0.00, 255.00)",
           "rgb(36.21, 0.00, 255.00)",
           "rgb(34.94, 0.00, 255.00)",
           "rgb(33.66, 0.00, 255.00)",
           "rgb(32.38, 0.00, 255.00)",
           "rgb(31.11, 0.00, 255.00)",
           "rgb(29.84, 0.00, 255.00)",
           "rgb(28.56, 0.00, 255.00)",
           "rgb(27.29, 0.00, 255.00)",
           "rgb(26.01, 0.00, 255.00)",
           "rgb(24.73, 0.00, 255.00)",
           "rgb(23.46, 0.00, 255.00)",
           "rgb(22.18, 0.00, 255.00)",
           "rgb(20.91, 0.00, 255.00)",
           "rgb(19.63, 0.00, 255.00)",
           "rgb(18.36, 0.00, 255.00)",
           "rgb(17.09, 0.00, 255.00)",
           "rgb(15.81, 0.00, 255.00)",
           "rgb(14.54, 0.00, 255.00)",
           "rgb(13.26, 0.00, 255.00)",
           "rgb(11.98, 0.00, 255.00)",
           "rgb(10.71, 0.00, 255.00)",
           "rgb(9.43, 0.00, 255.00)",
           "rgb(8.16, 0.00, 255.00)",
           "rgb(6.88, 0.00, 255.00)",
           "rgb(5.61, 0.00, 255.00)",
           "rgb(4.33, 0.00, 255.00)",
           "rgb(3.06, 0.00, 255.00)",
           "rgb(1.79, 0.00, 255.00)",
           "rgb(0.51, 0.00, 255.00)",
           "rgb(0.00, 0.77, 255.00)",
           "rgb(0.00, 2.29, 255.00)",
           "rgb(0.00, 4.08, 255.00)",
           "rgb(0.00, 5.61, 255.00)",
           "rgb(0.00, 7.14, 255.00)",
           "rgb(0.00, 8.67, 255.00)",
           "rgb(0.00, 10.20, 255.00)",
           "rgb(0.00, 11.98, 255.00)",
           "rgb(0.00, 13.51, 255.00)",
           "rgb(0.00, 15.04, 255.00)",
           "rgb(0.00, 16.57, 255.00)",
           "rgb(0.00, 18.36, 255.00)",
           "rgb(0.00, 19.89, 255.00)",
           "rgb(0.00, 21.42, 255.00)",
           "rgb(0.00, 22.95, 255.00)",
           "rgb(0.00, 24.73, 255.00)",
           "rgb(0.00, 26.26, 255.00)",
           "rgb(0.00, 27.79, 255.00)",
           "rgb(0.00, 29.33, 255.00)",
           "rgb(0.00, 30.86, 255.00)",
           "rgb(0.00, 32.64, 255.00)",
           "rgb(0.00, 34.17, 255.00)",
           "rgb(0.00, 35.70, 255.00)",
           "rgb(0.00, 37.23, 255.00)",
           "rgb(0.00, 39.02, 255.00)",
           "rgb(0.00, 40.55, 255.00)",
           "rgb(0.00, 42.08, 255.00)",
           "rgb(0.00, 43.61, 255.00)",
           "rgb(0.00, 45.39, 255.00)",
           "rgb(0.00, 46.92, 255.00)",
           "rgb(0.00, 48.45, 255.00)",
           "rgb(0.00, 49.98, 255.00)",
           "rgb(0.00, 51.51, 255.00)",
           "rgb(0.00, 53.29, 255.00)",
           "rgb(0.00, 54.82, 255.00)",
           "rgb(0.00, 56.36, 255.00)",
           "rgb(0.00, 57.89, 255.00)",
           "rgb(0.00, 59.67, 255.00)",
           "rgb(0.00, 61.20, 255.00)",
           "rgb(0.00, 62.73, 255.00)",
           "rgb(0.00, 64.26, 255.00)",
           "rgb(0.00, 66.05, 255.00)",
           "rgb(0.00, 67.58, 255.00)",
           "rgb(0.00, 69.11, 255.00)",
           "rgb(0.00, 70.64, 255.00)",
           "rgb(0.00, 72.16, 255.00)",
           "rgb(0.00, 73.95, 255.00)",
           "rgb(0.00, 75.48, 255.00)",
           "rgb(0.00, 77.01, 255.00)",
           "rgb(0.00, 78.54, 255.00)",
           "rgb(0.00, 80.33, 255.00)",
           "rgb(0.00, 81.86, 255.00)",
           "rgb(0.00, 83.39, 255.00)",
           "rgb(0.00, 84.92, 255.00)",
           "rgb(0.00, 86.70, 255.00)",
           "rgb(0.00, 88.23, 255.00)",
           "rgb(0.00, 89.76, 255.00)",
           "rgb(0.00, 91.29, 255.00)",
           "rgb(0.00, 92.82, 255.00)",
           "rgb(0.00, 94.61, 255.00)",
           "rgb(0.00, 96.14, 255.00)",
           "rgb(0.00, 97.67, 255.00)",
           "rgb(0.00, 99.20, 255.00)",
           "rgb(0.00, 100.98, 255.00)",
           "rgb(0.00, 102.51, 255.00)",
           "rgb(0.00, 104.04, 255.00)",
           "rgb(0.00, 105.57, 255.00)",
           "rgb(0.00, 107.35, 255.00)",
           "rgb(0.00, 108.88, 255.00)",
           "rgb(0.00, 110.41, 255.00)",
           "rgb(0.00, 111.95, 255.00)",
           "rgb(0.00, 113.48, 255.00)",
           "rgb(0.00, 115.26, 255.00)",
           "rgb(0.00, 116.79, 255.00)",
           "rgb(0.00, 118.32, 255.00)",
           "rgb(0.00, 119.85, 255.00)",
           "rgb(0.00, 121.63, 255.00)",
           "rgb(0.00, 123.16, 255.00)",
           "rgb(0.00, 124.69, 255.00)",
           "rgb(0.00, 126.22, 255.00)",
           "rgb(0.00, 128.01, 255.00)",
           "rgb(0.00, 129.54, 255.00)",
           "rgb(0.00, 131.07, 255.00)",
           "rgb(0.00, 132.60, 255.00)",
           "rgb(0.00, 134.13, 255.00)",
           "rgb(0.00, 135.92, 255.00)",
           "rgb(0.00, 137.45, 255.00)",
           "rgb(0.00, 138.98, 255.00)",
           "rgb(0.00, 140.51, 255.00)",
           "rgb(0.00, 142.29, 255.00)",
           "rgb(0.00, 143.82, 255.00)",
           "rgb(0.00, 145.35, 255.00)",
           "rgb(0.00, 146.88, 255.00)",
           "rgb(0.00, 148.66, 255.00)",
           "rgb(0.00, 150.19, 255.00)",
           "rgb(0.00, 151.72, 255.00)",
           "rgb(0.00, 153.25, 255.00)",
           "rgb(0.00, 154.78, 255.00)",
           "rgb(0.00, 156.57, 255.00)",
           "rgb(0.00, 158.10, 255.00)",
           "rgb(0.00, 159.63, 255.00)",
           "rgb(0.00, 161.16, 255.00)",
           "rgb(0.00, 162.94, 255.00)",
           "rgb(0.00, 164.47, 255.00)",
           "rgb(0.00, 166.00, 255.00)",
           "rgb(0.00, 167.53, 255.00)",
           "rgb(0.00, 169.32, 255.00)",
           "rgb(0.00, 170.85, 255.00)",
           "rgb(0.00, 172.38, 255.00)",
           "rgb(0.00, 173.91, 255.00)",
           "rgb(0.00, 175.44, 255.00)",
           "rgb(0.00, 177.22, 255.00)",
           "rgb(0.00, 178.75, 255.00)",
           "rgb(0.00, 180.28, 255.00)",
           "rgb(0.00, 181.81, 255.00)",
           "rgb(0.00, 183.60, 255.00)",
           "rgb(0.00, 185.13, 255.00)",
           "rgb(0.00, 186.66, 255.00)",
           "rgb(0.00, 188.19, 255.00)",
           "rgb(0.00, 189.97, 255.00)",
           "rgb(0.00, 191.50, 255.00)",
           "rgb(0.00, 193.03, 255.00)",
           "rgb(0.00, 194.56, 255.00)",
           "rgb(0.00, 196.09, 255.00)",
           "rgb(0.00, 197.88, 255.00)",
           "rgb(0.00, 199.41, 255.00)",
           "rgb(0.00, 200.94, 255.00)",
           "rgb(0.00, 202.47, 255.00)",
           "rgb(0.00, 204.26, 255.00)",
           "rgb(0.00, 205.79, 255.00)",
           "rgb(0.00, 207.31, 255.00)",
           "rgb(0.00, 208.84, 255.00)",
           "rgb(0.00, 210.63, 255.00)",
           "rgb(0.00, 212.16, 255.00)",
           "rgb(0.00, 213.69, 255.00)",
           "rgb(0.00, 215.22, 255.00)",
           "rgb(0.00, 216.75, 255.00)",
           "rgb(0.00, 218.53, 255.00)",
           "rgb(0.00, 220.06, 255.00)",
           "rgb(0.00, 221.59, 255.00)",
           "rgb(0.00, 223.12, 255.00)",
           "rgb(0.00, 224.91, 255.00)",
           "rgb(0.00, 226.44, 255.00)",
           "rgb(0.00, 227.97, 255.00)",
           "rgb(0.00, 229.50, 255.00)",
           "rgb(0.00, 231.28, 255.00)",
           "rgb(0.00, 232.81, 255.00)",
           "rgb(0.00, 234.34, 255.00)",
           "rgb(0.00, 235.88, 255.00)",
           "rgb(0.00, 237.41, 255.00)",
           "rgb(0.00, 239.19, 255.00)",
           "rgb(0.00, 240.72, 255.00)",
           "rgb(0.00, 242.25, 255.00)",
           "rgb(0.00, 243.78, 255.00)",
           "rgb(0.00, 245.56, 255.00)",
           "rgb(0.00, 247.09, 255.00)",
           "rgb(0.00, 248.62, 255.00)",
           "rgb(0.00, 250.16, 255.00)",
           "rgb(0.00, 251.94, 255.00)",
           "rgb(0.00, 253.47, 255.00)"
          ],
          "width": 4
         },
         "mode": "lines",
         "showlegend": false,
         "type": "scatter3d",
         "x": [
          20,
          19.946,
          19.796,
          19.551,
          19.216,
          18.792,
          18.284,
          17.696,
          17.036,
          16.308,
          15.521,
          14.682,
          13.798,
          12.879,
          11.934,
          10.971,
          10,
          9.03,
          8.071,
          7.132,
          6.221,
          5.348,
          4.521,
          3.747,
          3.035,
          2.391,
          1.82,
          1.33,
          0.923,
          0.604,
          0.376,
          0.241,
          0.2,
          0.253,
          0.401,
          0.64,
          0.969,
          1.385,
          1.883,
          2.458,
          3.106,
          3.819,
          4.59,
          5.413,
          6.278,
          7.179,
          8.105,
          9.049,
          10,
          10.95,
          11.89,
          12.81,
          13.702,
          14.558,
          15.368,
          16.126,
          16.824,
          17.455,
          18.013,
          18.494,
          18.892,
          19.205,
          19.428,
          19.56,
          19.6,
          19.548,
          19.403,
          19.169,
          18.846,
          18.439,
          17.951,
          17.387,
          16.753,
          16.054,
          15.299,
          14.493,
          13.645,
          12.763,
          11.856,
          10.932,
          10,
          9.069,
          8.149,
          7.248,
          6.374,
          5.536,
          4.743,
          4.001,
          3.318,
          2.7,
          2.153,
          1.682,
          1.292,
          0.987,
          0.768,
          0.639,
          0.6,
          0.651,
          0.793,
          1.023,
          1.339,
          1.738,
          2.215,
          2.768,
          3.389,
          4.072,
          4.812,
          5.601,
          6.431,
          7.295,
          8.183,
          9.088,
          10,
          10.911,
          11.812,
          12.694,
          13.549,
          14.369,
          15.146,
          15.872,
          16.541,
          17.146,
          17.681,
          18.141,
          18.523,
          18.822,
          19.035,
          19.162,
          19.2,
          19.149,
          19.011,
          18.786,
          18.477,
          18.086,
          17.618,
          17.078,
          16.47,
          15.801,
          15.077,
          14.304,
          13.492,
          12.647,
          11.778,
          10.893,
          10,
          9.109,
          8.227,
          7.364,
          6.527,
          5.725,
          4.965,
          4.255,
          3.601,
          3.009,
          2.486,
          2.035,
          1.662,
          1.37,
          1.161,
          1.037,
          1,
          1.05,
          1.185,
          1.405,
          1.708,
          2.09,
          2.548,
          3.077,
          3.671,
          4.326,
          5.035,
          5.79,
          6.585,
          7.411,
          8.261,
          9.127,
          10,
          10.872,
          11.734,
          12.578,
          13.396,
          14.181,
          14.924,
          15.618,
          16.258,
          16.836,
          17.348,
          17.788,
          18.153,
          18.439,
          18.643,
          18.764,
          18.8,
          18.751,
          18.619,
          18.403,
          18.107,
          17.733,
          17.286,
          16.769,
          16.187,
          15.547,
          14.854,
          14.116,
          13.339,
          12.531,
          11.7,
          10.853,
          10,
          9.148,
          8.305,
          7.48,
          6.68,
          5.914,
          5.187,
          4.509,
          3.884,
          3.318,
          2.818,
          2.388,
          2.032,
          1.752,
          1.553,
          1.435,
          1.4,
          1.448,
          1.578,
          1.788,
          2.078,
          2.443,
          2.881,
          3.386,
          3.954,
          4.58,
          5.257,
          5.978,
          6.738,
          7.527,
          8.339,
          9.166,
          10,
          10.833,
          11.656,
          12.462,
          13.243,
          13.992,
          14.702,
          15.365,
          15.975,
          16.527,
          17.016,
          17.436,
          17.784,
          18.056,
          18.251,
          18.366,
          18.4,
          18.353,
          18.226,
          18.02,
          17.737,
          17.381,
          16.953,
          16.459,
          15.904,
          15.293,
          14.632,
          13.927,
          13.186,
          12.415,
          11.622,
          10.814,
          10,
          9.187,
          8.383,
          7.596,
          6.833,
          6.102,
          5.41,
          4.762,
          4.166,
          3.627,
          3.151,
          2.741,
          2.401,
          2.135,
          1.945,
          1.833,
          1.8,
          1.846,
          1.97,
          2.171,
          2.447,
          2.796,
          3.213,
          3.695,
          4.237,
          4.834,
          5.479,
          6.167,
          6.891,
          7.643,
          8.417,
          9.205,
          10,
          10.793,
          11.578,
          12.346,
          13.09,
          13.804,
          14.479,
          15.111,
          15.692,
          16.218,
          16.683,
          17.083,
          17.414,
          17.673,
          17.859,
          17.968,
          18
         ],
         "y": [
          10,
          9.02,
          8.052,
          7.103,
          6.183,
          5.301,
          4.465,
          3.684,
          2.964,
          2.313,
          1.737,
          1.241,
          0.83,
          0.508,
          0.278,
          0.141,
          0.1,
          0.154,
          0.302,
          0.544,
          0.877,
          1.297,
          1.8,
          2.381,
          3.035,
          3.755,
          4.535,
          5.366,
          6.24,
          7.15,
          8.086,
          9.039,
          10,
          10.96,
          11.909,
          12.839,
          13.741,
          14.605,
          15.424,
          16.189,
          16.894,
          17.532,
          18.096,
          18.582,
          18.985,
          19.3,
          19.526,
          19.66,
          19.7,
          19.647,
          19.501,
          19.264,
          18.939,
          18.527,
          18.034,
          17.464,
          16.824,
          16.118,
          15.354,
          14.54,
          13.683,
          12.792,
          11.875,
          10.942,
          10,
          9.06,
          8.13,
          7.219,
          6.336,
          5.489,
          4.687,
          3.938,
          3.247,
          2.623,
          2.07,
          1.594,
          1.2,
          0.891,
          0.67,
          0.54,
          0.5,
          0.552,
          0.695,
          0.927,
          1.246,
          1.649,
          2.132,
          2.69,
          3.318,
          4.009,
          4.757,
          5.554,
          6.393,
          7.266,
          8.164,
          9.078,
          10,
          10.921,
          11.831,
          12.723,
          13.588,
          14.416,
          15.202,
          15.936,
          16.611,
          17.223,
          17.764,
          18.229,
          18.615,
          18.917,
          19.134,
          19.261,
          19.3,
          19.249,
          19.109,
          18.882,
          18.569,
          18.174,
          17.701,
          17.155,
          16.541,
          15.864,
          15.132,
          14.352,
          13.53,
          12.676,
          11.797,
          10.902,
          10,
          9.099,
          8.208,
          7.335,
          6.489,
          5.678,
          4.91,
          4.191,
          3.53,
          2.932,
          2.402,
          1.947,
          1.57,
          1.274,
          1.063,
          0.938,
          0.9,
          0.95,
          1.087,
          1.31,
          1.616,
          2.002,
          2.465,
          2.999,
          3.601,
          4.263,
          4.979,
          5.743,
          6.546,
          7.382,
          8.242,
          9.117,
          10,
          10.882,
          11.753,
          12.607,
          13.435,
          14.228,
          14.979,
          15.682,
          16.329,
          16.914,
          17.431,
          17.877,
          18.246,
          18.535,
          18.741,
          18.863,
          18.9,
          18.851,
          18.717,
          18.499,
          18.199,
          17.822,
          17.369,
          16.846,
          16.258,
          15.61,
          14.91,
          14.163,
          13.377,
          12.56,
          11.719,
          10.863,
          10,
          9.138,
          8.286,
          7.451,
          6.642,
          5.866,
          5.132,
          4.445,
          3.813,
          3.241,
          2.735,
          2.3,
          1.939,
          1.657,
          1.455,
          1.336,
          1.3,
          1.348,
          1.479,
          1.693,
          1.985,
          2.355,
          2.797,
          3.309,
          3.884,
          4.516,
          5.201,
          5.931,
          6.699,
          7.498,
          8.32,
          9.156,
          10,
          10.842,
          11.675,
          12.491,
          13.282,
          14.039,
          14.757,
          15.428,
          16.046,
          16.604,
          17.099,
          17.524,
          17.876,
          18.152,
          18.349,
          18.465,
          18.5,
          18.453,
          18.324,
          18.116,
          17.83,
          17.469,
          17.036,
          16.537,
          15.975,
          15.357,
          14.688,
          13.974,
          13.224,
          12.444,
          11.641,
          10.824,
          10,
          9.177,
          8.364,
          7.567,
          6.795,
          6.055,
          5.354,
          4.699,
          4.096,
          3.55,
          3.068,
          2.652,
          2.309,
          2.039,
          1.847,
          1.734,
          1.7,
          1.746,
          1.872,
          2.075,
          2.355,
          2.708,
          3.13,
          3.618,
          4.166,
          4.77,
          5.423,
          6.12,
          6.852,
          7.614,
          8.398,
          9.196,
          10,
          10.803,
          11.597,
          12.375,
          13.128,
          13.851,
          14.535,
          15.174,
          15.763,
          16.295,
          16.766,
          17.171,
          17.507,
          17.769,
          17.957,
          18.067,
          18.1,
          18.055,
          17.932,
          17.733,
          17.46,
          17.116,
          16.704,
          16.228,
          15.692,
          15.103,
          14.465,
          13.786,
          13.071,
          12.328,
          11.563,
          10.785,
          10
         ],
         "z": [
          0,
          0,
          0,
          0,
          0,
          0,
          0,
          0,
          0,
          0,
          0,
          0,
          0,
          0,
          0,
          0,
          0,
          0,
          0,
          0,
          0,
          0,
          0,
          0,
          0,
          0,
          0,
          0,
          0,
          0,
          0,
          0,
          0,
          0,
          0,
          0,
          0,
          0,
          0,
          0,
          0,
          0,
          0,
          0,
          0,
          0,
          0,
          0,
          0,
          0,
          0,
          0,
          0,
          0,
          0,
          0,
          0,
          0,
          0,
          0,
          0,
          0,
          0,
          0,
          0,
          0,
          0,
          0,
          0,
          0,
          0,
          0,
          0,
          0,
          0,
          0,
          0,
          0,
          0,
          0,
          0,
          0,
          0,
          0,
          0,
          0,
          0,
          0,
          0,
          0,
          0,
          0,
          0,
          0,
          0,
          0,
          0,
          0,
          0,
          0,
          0,
          0,
          0,
          0,
          0,
          0,
          0,
          0,
          0,
          0,
          0,
          0,
          0,
          0,
          0,
          0,
          0,
          0,
          0,
          0,
          0,
          0,
          0,
          0,
          0,
          0,
          0,
          0,
          0,
          0,
          0,
          0,
          0,
          0,
          0,
          0,
          0,
          0,
          0,
          0,
          0,
          0,
          0,
          0,
          0,
          0,
          0,
          0,
          0,
          0,
          0,
          0,
          0,
          0,
          0,
          0,
          0,
          0,
          0,
          0,
          0,
          0,
          0,
          0,
          0,
          0,
          0,
          0,
          0,
          0,
          0,
          0,
          0,
          0,
          0,
          0,
          0,
          0,
          0,
          0,
          0,
          0,
          0,
          0,
          0,
          0,
          0,
          0,
          0,
          0,
          0,
          0,
          0,
          0,
          0,
          0,
          0,
          0,
          0,
          0,
          0,
          0,
          0,
          0,
          0,
          0,
          0,
          0,
          0,
          0,
          0,
          0,
          0,
          0,
          0,
          0,
          0,
          0,
          0,
          0,
          0,
          0,
          0,
          0,
          0,
          0,
          0,
          0,
          0,
          0,
          0,
          0,
          0,
          0,
          0,
          0,
          0,
          0,
          0,
          0,
          0,
          0,
          0,
          0,
          0,
          0,
          0,
          0,
          0,
          0,
          0,
          0,
          0,
          0,
          0,
          0,
          0,
          0,
          0,
          0,
          0,
          0,
          0,
          0,
          0,
          0,
          0,
          0,
          0,
          0,
          0,
          0,
          0,
          0,
          0,
          0,
          0,
          0,
          0,
          0,
          0,
          0,
          0,
          0,
          0,
          0,
          0,
          0,
          0,
          0,
          0,
          0,
          0,
          0,
          0,
          0,
          0,
          0,
          0,
          0,
          0,
          0,
          0,
          0,
          0,
          0,
          0,
          0,
          0,
          0,
          0,
          0,
          0,
          0,
          0,
          0,
          0,
          0,
          0,
          0,
          0
         ]
        },
        {
         "marker": {
          "color": "red",
          "size": 2
         },
         "mode": "markers",
         "showlegend": false,
         "type": "scatter3d",
         "x": [
          18,
          20,
          10
         ],
         "y": [
          10.00000000000001,
          10,
          10
         ],
         "z": [
          0,
          0,
          0
         ]
        }
       ],
       "layout": {
        "height": 500,
        "margin": {
         "b": 10,
         "l": 10,
         "pad": 4,
         "r": 10,
         "t": 10
        },
        "paper_bgcolor": "black",
        "scene": {
         "annotations": [
          {
           "showarrow": false,
           "text": "end",
           "x": 18,
           "y": 10.00000000000001,
           "yshift": 10,
           "z": 0
          },
          {
           "showarrow": false,
           "text": "start",
           "x": 20,
           "y": 10,
           "yshift": 10,
           "z": 0
          },
          {
           "showarrow": false,
           "text": "centre",
           "x": 10,
           "y": 10,
           "yshift": 10,
           "z": 0
          }
         ],
         "aspectmode": "cube",
         "camera": {
          "center": {
           "x": 0,
           "y": 0,
           "z": -0.5
          },
          "eye": {
           "x": -0.5,
           "y": -1,
           "z": 0
          }
         },
         "xaxis": {
          "backgroundcolor": "black",
          "nticks": 10,
          "range": [
           0.19899999999999984,
           20.000999999999998
          ]
         },
         "yaxis": {
          "backgroundcolor": "black",
          "nticks": 10,
          "range": [
           -0.0010000000000012221,
           19.801
          ]
         },
         "zaxis": {
          "backgroundcolor": "black",
          "nticks": 10,
          "range": [
           0,
           19.802
          ]
         }
        },
        "template": {
         "data": {
          "bar": [
           {
            "error_x": {
             "color": "#f2f5fa"
            },
            "error_y": {
             "color": "#f2f5fa"
            },
            "marker": {
             "line": {
              "color": "rgb(17,17,17)",
              "width": 0.5
             },
             "pattern": {
              "fillmode": "overlay",
              "size": 10,
              "solidity": 0.2
             }
            },
            "type": "bar"
           }
          ],
          "barpolar": [
           {
            "marker": {
             "line": {
              "color": "rgb(17,17,17)",
              "width": 0.5
             },
             "pattern": {
              "fillmode": "overlay",
              "size": 10,
              "solidity": 0.2
             }
            },
            "type": "barpolar"
           }
          ],
          "carpet": [
           {
            "aaxis": {
             "endlinecolor": "#A2B1C6",
             "gridcolor": "#506784",
             "linecolor": "#506784",
             "minorgridcolor": "#506784",
             "startlinecolor": "#A2B1C6"
            },
            "baxis": {
             "endlinecolor": "#A2B1C6",
             "gridcolor": "#506784",
             "linecolor": "#506784",
             "minorgridcolor": "#506784",
             "startlinecolor": "#A2B1C6"
            },
            "type": "carpet"
           }
          ],
          "choropleth": [
           {
            "colorbar": {
             "outlinewidth": 0,
             "ticks": ""
            },
            "type": "choropleth"
           }
          ],
          "contour": [
           {
            "colorbar": {
             "outlinewidth": 0,
             "ticks": ""
            },
            "colorscale": [
             [
              0,
              "#0d0887"
             ],
             [
              0.1111111111111111,
              "#46039f"
             ],
             [
              0.2222222222222222,
              "#7201a8"
             ],
             [
              0.3333333333333333,
              "#9c179e"
             ],
             [
              0.4444444444444444,
              "#bd3786"
             ],
             [
              0.5555555555555556,
              "#d8576b"
             ],
             [
              0.6666666666666666,
              "#ed7953"
             ],
             [
              0.7777777777777778,
              "#fb9f3a"
             ],
             [
              0.8888888888888888,
              "#fdca26"
             ],
             [
              1,
              "#f0f921"
             ]
            ],
            "type": "contour"
           }
          ],
          "contourcarpet": [
           {
            "colorbar": {
             "outlinewidth": 0,
             "ticks": ""
            },
            "type": "contourcarpet"
           }
          ],
          "heatmap": [
           {
            "colorbar": {
             "outlinewidth": 0,
             "ticks": ""
            },
            "colorscale": [
             [
              0,
              "#0d0887"
             ],
             [
              0.1111111111111111,
              "#46039f"
             ],
             [
              0.2222222222222222,
              "#7201a8"
             ],
             [
              0.3333333333333333,
              "#9c179e"
             ],
             [
              0.4444444444444444,
              "#bd3786"
             ],
             [
              0.5555555555555556,
              "#d8576b"
             ],
             [
              0.6666666666666666,
              "#ed7953"
             ],
             [
              0.7777777777777778,
              "#fb9f3a"
             ],
             [
              0.8888888888888888,
              "#fdca26"
             ],
             [
              1,
              "#f0f921"
             ]
            ],
            "type": "heatmap"
           }
          ],
          "histogram": [
           {
            "marker": {
             "pattern": {
              "fillmode": "overlay",
              "size": 10,
              "solidity": 0.2
             }
            },
            "type": "histogram"
           }
          ],
          "histogram2d": [
           {
            "colorbar": {
             "outlinewidth": 0,
             "ticks": ""
            },
            "colorscale": [
             [
              0,
              "#0d0887"
             ],
             [
              0.1111111111111111,
              "#46039f"
             ],
             [
              0.2222222222222222,
              "#7201a8"
             ],
             [
              0.3333333333333333,
              "#9c179e"
             ],
             [
              0.4444444444444444,
              "#bd3786"
             ],
             [
              0.5555555555555556,
              "#d8576b"
             ],
             [
              0.6666666666666666,
              "#ed7953"
             ],
             [
              0.7777777777777778,
              "#fb9f3a"
             ],
             [
              0.8888888888888888,
              "#fdca26"
             ],
             [
              1,
              "#f0f921"
             ]
            ],
            "type": "histogram2d"
           }
          ],
          "histogram2dcontour": [
           {
            "colorbar": {
             "outlinewidth": 0,
             "ticks": ""
            },
            "colorscale": [
             [
              0,
              "#0d0887"
             ],
             [
              0.1111111111111111,
              "#46039f"
             ],
             [
              0.2222222222222222,
              "#7201a8"
             ],
             [
              0.3333333333333333,
              "#9c179e"
             ],
             [
              0.4444444444444444,
              "#bd3786"
             ],
             [
              0.5555555555555556,
              "#d8576b"
             ],
             [
              0.6666666666666666,
              "#ed7953"
             ],
             [
              0.7777777777777778,
              "#fb9f3a"
             ],
             [
              0.8888888888888888,
              "#fdca26"
             ],
             [
              1,
              "#f0f921"
             ]
            ],
            "type": "histogram2dcontour"
           }
          ],
          "mesh3d": [
           {
            "colorbar": {
             "outlinewidth": 0,
             "ticks": ""
            },
            "type": "mesh3d"
           }
          ],
          "parcoords": [
           {
            "line": {
             "colorbar": {
              "outlinewidth": 0,
              "ticks": ""
             }
            },
            "type": "parcoords"
           }
          ],
          "pie": [
           {
            "automargin": true,
            "type": "pie"
           }
          ],
          "scatter": [
           {
            "marker": {
             "line": {
              "color": "#283442"
             }
            },
            "type": "scatter"
           }
          ],
          "scatter3d": [
           {
            "line": {
             "colorbar": {
              "outlinewidth": 0,
              "ticks": ""
             }
            },
            "marker": {
             "colorbar": {
              "outlinewidth": 0,
              "ticks": ""
             }
            },
            "type": "scatter3d"
           }
          ],
          "scattercarpet": [
           {
            "marker": {
             "colorbar": {
              "outlinewidth": 0,
              "ticks": ""
             }
            },
            "type": "scattercarpet"
           }
          ],
          "scattergeo": [
           {
            "marker": {
             "colorbar": {
              "outlinewidth": 0,
              "ticks": ""
             }
            },
            "type": "scattergeo"
           }
          ],
          "scattergl": [
           {
            "marker": {
             "line": {
              "color": "#283442"
             }
            },
            "type": "scattergl"
           }
          ],
          "scattermap": [
           {
            "marker": {
             "colorbar": {
              "outlinewidth": 0,
              "ticks": ""
             }
            },
            "type": "scattermap"
           }
          ],
          "scattermapbox": [
           {
            "marker": {
             "colorbar": {
              "outlinewidth": 0,
              "ticks": ""
             }
            },
            "type": "scattermapbox"
           }
          ],
          "scatterpolar": [
           {
            "marker": {
             "colorbar": {
              "outlinewidth": 0,
              "ticks": ""
             }
            },
            "type": "scatterpolar"
           }
          ],
          "scatterpolargl": [
           {
            "marker": {
             "colorbar": {
              "outlinewidth": 0,
              "ticks": ""
             }
            },
            "type": "scatterpolargl"
           }
          ],
          "scatterternary": [
           {
            "marker": {
             "colorbar": {
              "outlinewidth": 0,
              "ticks": ""
             }
            },
            "type": "scatterternary"
           }
          ],
          "surface": [
           {
            "colorbar": {
             "outlinewidth": 0,
             "ticks": ""
            },
            "colorscale": [
             [
              0,
              "#0d0887"
             ],
             [
              0.1111111111111111,
              "#46039f"
             ],
             [
              0.2222222222222222,
              "#7201a8"
             ],
             [
              0.3333333333333333,
              "#9c179e"
             ],
             [
              0.4444444444444444,
              "#bd3786"
             ],
             [
              0.5555555555555556,
              "#d8576b"
             ],
             [
              0.6666666666666666,
              "#ed7953"
             ],
             [
              0.7777777777777778,
              "#fb9f3a"
             ],
             [
              0.8888888888888888,
              "#fdca26"
             ],
             [
              1,
              "#f0f921"
             ]
            ],
            "type": "surface"
           }
          ],
          "table": [
           {
            "cells": {
             "fill": {
              "color": "#506784"
             },
             "line": {
              "color": "rgb(17,17,17)"
             }
            },
            "header": {
             "fill": {
              "color": "#2a3f5f"
             },
             "line": {
              "color": "rgb(17,17,17)"
             }
            },
            "type": "table"
           }
          ]
         },
         "layout": {
          "annotationdefaults": {
           "arrowcolor": "#f2f5fa",
           "arrowhead": 0,
           "arrowwidth": 1
          },
          "autotypenumbers": "strict",
          "coloraxis": {
           "colorbar": {
            "outlinewidth": 0,
            "ticks": ""
           }
          },
          "colorscale": {
           "diverging": [
            [
             0,
             "#8e0152"
            ],
            [
             0.1,
             "#c51b7d"
            ],
            [
             0.2,
             "#de77ae"
            ],
            [
             0.3,
             "#f1b6da"
            ],
            [
             0.4,
             "#fde0ef"
            ],
            [
             0.5,
             "#f7f7f7"
            ],
            [
             0.6,
             "#e6f5d0"
            ],
            [
             0.7,
             "#b8e186"
            ],
            [
             0.8,
             "#7fbc41"
            ],
            [
             0.9,
             "#4d9221"
            ],
            [
             1,
             "#276419"
            ]
           ],
           "sequential": [
            [
             0,
             "#0d0887"
            ],
            [
             0.1111111111111111,
             "#46039f"
            ],
            [
             0.2222222222222222,
             "#7201a8"
            ],
            [
             0.3333333333333333,
             "#9c179e"
            ],
            [
             0.4444444444444444,
             "#bd3786"
            ],
            [
             0.5555555555555556,
             "#d8576b"
            ],
            [
             0.6666666666666666,
             "#ed7953"
            ],
            [
             0.7777777777777778,
             "#fb9f3a"
            ],
            [
             0.8888888888888888,
             "#fdca26"
            ],
            [
             1,
             "#f0f921"
            ]
           ],
           "sequentialminus": [
            [
             0,
             "#0d0887"
            ],
            [
             0.1111111111111111,
             "#46039f"
            ],
            [
             0.2222222222222222,
             "#7201a8"
            ],
            [
             0.3333333333333333,
             "#9c179e"
            ],
            [
             0.4444444444444444,
             "#bd3786"
            ],
            [
             0.5555555555555556,
             "#d8576b"
            ],
            [
             0.6666666666666666,
             "#ed7953"
            ],
            [
             0.7777777777777778,
             "#fb9f3a"
            ],
            [
             0.8888888888888888,
             "#fdca26"
            ],
            [
             1,
             "#f0f921"
            ]
           ]
          },
          "colorway": [
           "#636efa",
           "#EF553B",
           "#00cc96",
           "#ab63fa",
           "#FFA15A",
           "#19d3f3",
           "#FF6692",
           "#B6E880",
           "#FF97FF",
           "#FECB52"
          ],
          "font": {
           "color": "#f2f5fa"
          },
          "geo": {
           "bgcolor": "rgb(17,17,17)",
           "lakecolor": "rgb(17,17,17)",
           "landcolor": "rgb(17,17,17)",
           "showlakes": true,
           "showland": true,
           "subunitcolor": "#506784"
          },
          "hoverlabel": {
           "align": "left"
          },
          "hovermode": "closest",
          "mapbox": {
           "style": "dark"
          },
          "paper_bgcolor": "rgb(17,17,17)",
          "plot_bgcolor": "rgb(17,17,17)",
          "polar": {
           "angularaxis": {
            "gridcolor": "#506784",
            "linecolor": "#506784",
            "ticks": ""
           },
           "bgcolor": "rgb(17,17,17)",
           "radialaxis": {
            "gridcolor": "#506784",
            "linecolor": "#506784",
            "ticks": ""
           }
          },
          "scene": {
           "xaxis": {
            "backgroundcolor": "rgb(17,17,17)",
            "gridcolor": "#506784",
            "gridwidth": 2,
            "linecolor": "#506784",
            "showbackground": true,
            "ticks": "",
            "zerolinecolor": "#C8D4E3"
           },
           "yaxis": {
            "backgroundcolor": "rgb(17,17,17)",
            "gridcolor": "#506784",
            "gridwidth": 2,
            "linecolor": "#506784",
            "showbackground": true,
            "ticks": "",
            "zerolinecolor": "#C8D4E3"
           },
           "zaxis": {
            "backgroundcolor": "rgb(17,17,17)",
            "gridcolor": "#506784",
            "gridwidth": 2,
            "linecolor": "#506784",
            "showbackground": true,
            "ticks": "",
            "zerolinecolor": "#C8D4E3"
           }
          },
          "shapedefaults": {
           "line": {
            "color": "#f2f5fa"
           }
          },
          "sliderdefaults": {
           "bgcolor": "#C8D4E3",
           "bordercolor": "rgb(17,17,17)",
           "borderwidth": 1,
           "tickwidth": 0
          },
          "ternary": {
           "aaxis": {
            "gridcolor": "#506784",
            "linecolor": "#506784",
            "ticks": ""
           },
           "baxis": {
            "gridcolor": "#506784",
            "linecolor": "#506784",
            "ticks": ""
           },
           "bgcolor": "rgb(17,17,17)",
           "caxis": {
            "gridcolor": "#506784",
            "linecolor": "#506784",
            "ticks": ""
           }
          },
          "title": {
           "x": 0.05
          },
          "updatemenudefaults": {
           "bgcolor": "#506784",
           "borderwidth": 0
          },
          "xaxis": {
           "automargin": true,
           "gridcolor": "#283442",
           "linecolor": "#506784",
           "ticks": "",
           "title": {
            "standoff": 15
           },
           "zerolinecolor": "#283442",
           "zerolinewidth": 2
          },
          "yaxis": {
           "automargin": true,
           "gridcolor": "#283442",
           "linecolor": "#506784",
           "ticks": "",
           "title": {
            "standoff": 15
           },
           "zerolinecolor": "#283442",
           "zerolinewidth": 2
          }
         }
        },
        "width": 800
       }
      }
     },
     "metadata": {},
     "output_type": "display_data"
    }
   ],
   "source": [
    "centre_point = fc.Point(x=10, y=10, z=0)\n",
    "start_radius = 10\n",
    "end_radius = 8\n",
    "start_angle = 0\n",
    "n_turns = 5\n",
    "segments = 320\n",
    "z_change = 0\n",
    "clockwise = True\n",
    "steps = fc.spiralXY(centre_point, start_radius, end_radius, start_angle, n_turns, segments, clockwise)\n",
    "steps.append(fc.PlotAnnotation(point=steps[-1], label=\"end\"))\n",
    "steps.append(fc.PlotAnnotation(point=steps[0], label=\"start\"))\n",
    "steps.append(fc.PlotAnnotation(point=centre_point, label=\"centre\"))\n",
    "fc.transform(steps, 'plot', fc.PlotControls(color_type='print_sequence', style='line'))\n",
    "\n",
    "# spirals are also possible by using fc.variable_arcXY with 'arc_angle' set to the number of passes * tau and 'radius_change' set to the total change in radius over the whole spiral\n"
   ]
  },
  {
   "attachments": {},
   "cell_type": "markdown",
   "metadata": {},
   "source": [
    "#### helix"
   ]
  },
  {
   "cell_type": "code",
   "execution_count": 11,
   "metadata": {},
   "outputs": [
    {
     "data": {
      "application/vnd.plotly.v1+json": {
       "config": {
        "plotlyServerURL": "https://plot.ly"
       },
       "data": [
        {
         "line": {
          "color": [
           "rgb(204.00, 0.00, 255.00)",
           "rgb(202.73, 0.00, 255.00)",
           "rgb(201.45, 0.00, 255.00)",
           "rgb(200.18, 0.00, 255.00)",
           "rgb(198.90, 0.00, 255.00)",
           "rgb(197.62, 0.00, 255.00)",
           "rgb(196.35, 0.00, 255.00)",
           "rgb(195.08, 0.00, 255.00)",
           "rgb(193.80, 0.00, 255.00)",
           "rgb(192.53, 0.00, 255.00)",
           "rgb(191.25, 0.00, 255.00)",
           "rgb(189.97, 0.00, 255.00)",
           "rgb(188.70, 0.00, 255.00)",
           "rgb(187.42, 0.00, 255.00)",
           "rgb(186.15, 0.00, 255.00)",
           "rgb(184.88, 0.00, 255.00)",
           "rgb(183.60, 0.00, 255.00)",
           "rgb(182.32, 0.00, 255.00)",
           "rgb(181.05, 0.00, 255.00)",
           "rgb(179.77, 0.00, 255.00)",
           "rgb(178.50, 0.00, 255.00)",
           "rgb(177.22, 0.00, 255.00)",
           "rgb(175.95, 0.00, 255.00)",
           "rgb(174.68, 0.00, 255.00)",
           "rgb(173.40, 0.00, 255.00)",
           "rgb(172.12, 0.00, 255.00)",
           "rgb(170.85, 0.00, 255.00)",
           "rgb(169.58, 0.00, 255.00)",
           "rgb(168.30, 0.00, 255.00)",
           "rgb(167.03, 0.00, 255.00)",
           "rgb(165.75, 0.00, 255.00)",
           "rgb(164.47, 0.00, 255.00)",
           "rgb(163.20, 0.00, 255.00)",
           "rgb(162.18, 0.00, 255.00)",
           "rgb(160.91, 0.00, 255.00)",
           "rgb(159.63, 0.00, 255.00)",
           "rgb(158.35, 0.00, 255.00)",
           "rgb(157.08, 0.00, 255.00)",
           "rgb(155.81, 0.00, 255.00)",
           "rgb(154.53, 0.00, 255.00)",
           "rgb(153.25, 0.00, 255.00)",
           "rgb(151.98, 0.00, 255.00)",
           "rgb(150.70, 0.00, 255.00)",
           "rgb(149.43, 0.00, 255.00)",
           "rgb(148.16, 0.00, 255.00)",
           "rgb(146.88, 0.00, 255.00)",
           "rgb(145.60, 0.00, 255.00)",
           "rgb(144.33, 0.00, 255.00)",
           "rgb(143.06, 0.00, 255.00)",
           "rgb(141.78, 0.00, 255.00)",
           "rgb(140.51, 0.00, 255.00)",
           "rgb(139.23, 0.00, 255.00)",
           "rgb(137.96, 0.00, 255.00)",
           "rgb(136.68, 0.00, 255.00)",
           "rgb(135.41, 0.00, 255.00)",
           "rgb(134.13, 0.00, 255.00)",
           "rgb(132.86, 0.00, 255.00)",
           "rgb(131.58, 0.00, 255.00)",
           "rgb(130.31, 0.00, 255.00)",
           "rgb(129.03, 0.00, 255.00)",
           "rgb(127.75, 0.00, 255.00)",
           "rgb(126.48, 0.00, 255.00)",
           "rgb(125.20, 0.00, 255.00)",
           "rgb(123.93, 0.00, 255.00)",
           "rgb(122.66, 0.00, 255.00)",
           "rgb(121.38, 0.00, 255.00)",
           "rgb(120.10, 0.00, 255.00)",
           "rgb(118.83, 0.00, 255.00)",
           "rgb(117.56, 0.00, 255.00)",
           "rgb(116.28, 0.00, 255.00)",
           "rgb(115.01, 0.00, 255.00)",
           "rgb(113.73, 0.00, 255.00)",
           "rgb(112.45, 0.00, 255.00)",
           "rgb(111.18, 0.00, 255.00)",
           "rgb(109.91, 0.00, 255.00)",
           "rgb(108.63, 0.00, 255.00)",
           "rgb(107.35, 0.00, 255.00)",
           "rgb(106.08, 0.00, 255.00)",
           "rgb(104.80, 0.00, 255.00)",
           "rgb(103.53, 0.00, 255.00)",
           "rgb(102.26, 0.00, 255.00)",
           "rgb(100.98, 0.00, 255.00)",
           "rgb(99.70, 0.00, 255.00)",
           "rgb(98.43, 0.00, 255.00)",
           "rgb(97.16, 0.00, 255.00)",
           "rgb(95.88, 0.00, 255.00)",
           "rgb(94.61, 0.00, 255.00)",
           "rgb(93.33, 0.00, 255.00)",
           "rgb(92.05, 0.00, 255.00)",
           "rgb(90.78, 0.00, 255.00)",
           "rgb(89.50, 0.00, 255.00)",
           "rgb(88.23, 0.00, 255.00)",
           "rgb(86.96, 0.00, 255.00)",
           "rgb(85.68, 0.00, 255.00)",
           "rgb(84.41, 0.00, 255.00)",
           "rgb(83.13, 0.00, 255.00)",
           "rgb(81.86, 0.00, 255.00)",
           "rgb(80.84, 0.00, 255.00)",
           "rgb(79.56, 0.00, 255.00)",
           "rgb(78.28, 0.00, 255.00)",
           "rgb(77.01, 0.00, 255.00)",
           "rgb(75.73, 0.00, 255.00)",
           "rgb(74.46, 0.00, 255.00)",
           "rgb(73.18, 0.00, 255.00)",
           "rgb(71.91, 0.00, 255.00)",
           "rgb(70.64, 0.00, 255.00)",
           "rgb(69.36, 0.00, 255.00)",
           "rgb(68.09, 0.00, 255.00)",
           "rgb(66.81, 0.00, 255.00)",
           "rgb(65.53, 0.00, 255.00)",
           "rgb(64.26, 0.00, 255.00)",
           "rgb(62.98, 0.00, 255.00)",
           "rgb(61.71, 0.00, 255.00)",
           "rgb(60.43, 0.00, 255.00)",
           "rgb(59.16, 0.00, 255.00)",
           "rgb(57.89, 0.00, 255.00)",
           "rgb(56.61, 0.00, 255.00)",
           "rgb(55.34, 0.00, 255.00)",
           "rgb(54.06, 0.00, 255.00)",
           "rgb(52.78, 0.00, 255.00)",
           "rgb(51.51, 0.00, 255.00)",
           "rgb(50.23, 0.00, 255.00)",
           "rgb(48.96, 0.00, 255.00)",
           "rgb(47.69, 0.00, 255.00)",
           "rgb(46.41, 0.00, 255.00)",
           "rgb(45.13, 0.00, 255.00)",
           "rgb(43.86, 0.00, 255.00)",
           "rgb(42.59, 0.00, 255.00)",
           "rgb(41.31, 0.00, 255.00)",
           "rgb(40.04, 0.00, 255.00)",
           "rgb(38.76, 0.00, 255.00)",
           "rgb(37.48, 0.00, 255.00)",
           "rgb(36.21, 0.00, 255.00)",
           "rgb(34.94, 0.00, 255.00)",
           "rgb(33.66, 0.00, 255.00)",
           "rgb(32.38, 0.00, 255.00)",
           "rgb(31.11, 0.00, 255.00)",
           "rgb(29.84, 0.00, 255.00)",
           "rgb(28.56, 0.00, 255.00)",
           "rgb(27.29, 0.00, 255.00)",
           "rgb(26.01, 0.00, 255.00)",
           "rgb(24.73, 0.00, 255.00)",
           "rgb(23.46, 0.00, 255.00)",
           "rgb(22.18, 0.00, 255.00)",
           "rgb(20.91, 0.00, 255.00)",
           "rgb(19.63, 0.00, 255.00)",
           "rgb(18.36, 0.00, 255.00)",
           "rgb(17.09, 0.00, 255.00)",
           "rgb(15.81, 0.00, 255.00)",
           "rgb(14.54, 0.00, 255.00)",
           "rgb(13.26, 0.00, 255.00)",
           "rgb(11.98, 0.00, 255.00)",
           "rgb(10.71, 0.00, 255.00)",
           "rgb(9.43, 0.00, 255.00)",
           "rgb(8.16, 0.00, 255.00)",
           "rgb(6.88, 0.00, 255.00)",
           "rgb(5.61, 0.00, 255.00)",
           "rgb(4.33, 0.00, 255.00)",
           "rgb(3.06, 0.00, 255.00)",
           "rgb(1.79, 0.00, 255.00)",
           "rgb(0.51, 0.00, 255.00)",
           "rgb(0.00, 0.77, 255.00)",
           "rgb(0.00, 2.29, 255.00)",
           "rgb(0.00, 4.08, 255.00)",
           "rgb(0.00, 5.61, 255.00)",
           "rgb(0.00, 7.14, 255.00)",
           "rgb(0.00, 8.67, 255.00)",
           "rgb(0.00, 10.20, 255.00)",
           "rgb(0.00, 11.98, 255.00)",
           "rgb(0.00, 13.51, 255.00)",
           "rgb(0.00, 15.04, 255.00)",
           "rgb(0.00, 16.57, 255.00)",
           "rgb(0.00, 18.36, 255.00)",
           "rgb(0.00, 19.89, 255.00)",
           "rgb(0.00, 21.42, 255.00)",
           "rgb(0.00, 22.95, 255.00)",
           "rgb(0.00, 24.73, 255.00)",
           "rgb(0.00, 26.26, 255.00)",
           "rgb(0.00, 27.79, 255.00)",
           "rgb(0.00, 29.33, 255.00)",
           "rgb(0.00, 30.86, 255.00)",
           "rgb(0.00, 32.64, 255.00)",
           "rgb(0.00, 34.17, 255.00)",
           "rgb(0.00, 35.70, 255.00)",
           "rgb(0.00, 37.23, 255.00)",
           "rgb(0.00, 39.02, 255.00)",
           "rgb(0.00, 40.55, 255.00)",
           "rgb(0.00, 42.08, 255.00)",
           "rgb(0.00, 43.61, 255.00)",
           "rgb(0.00, 45.39, 255.00)",
           "rgb(0.00, 46.92, 255.00)",
           "rgb(0.00, 48.45, 255.00)",
           "rgb(0.00, 49.98, 255.00)",
           "rgb(0.00, 51.51, 255.00)",
           "rgb(0.00, 53.29, 255.00)",
           "rgb(0.00, 54.82, 255.00)",
           "rgb(0.00, 56.36, 255.00)",
           "rgb(0.00, 57.89, 255.00)",
           "rgb(0.00, 59.67, 255.00)",
           "rgb(0.00, 61.20, 255.00)",
           "rgb(0.00, 62.73, 255.00)",
           "rgb(0.00, 64.26, 255.00)",
           "rgb(0.00, 66.05, 255.00)",
           "rgb(0.00, 67.58, 255.00)",
           "rgb(0.00, 69.11, 255.00)",
           "rgb(0.00, 70.64, 255.00)",
           "rgb(0.00, 72.16, 255.00)",
           "rgb(0.00, 73.95, 255.00)",
           "rgb(0.00, 75.48, 255.00)",
           "rgb(0.00, 77.01, 255.00)",
           "rgb(0.00, 78.54, 255.00)",
           "rgb(0.00, 80.33, 255.00)",
           "rgb(0.00, 81.86, 255.00)",
           "rgb(0.00, 83.39, 255.00)",
           "rgb(0.00, 84.92, 255.00)",
           "rgb(0.00, 86.70, 255.00)",
           "rgb(0.00, 88.23, 255.00)",
           "rgb(0.00, 89.76, 255.00)",
           "rgb(0.00, 91.29, 255.00)",
           "rgb(0.00, 92.82, 255.00)",
           "rgb(0.00, 94.61, 255.00)",
           "rgb(0.00, 96.14, 255.00)",
           "rgb(0.00, 97.67, 255.00)",
           "rgb(0.00, 99.20, 255.00)",
           "rgb(0.00, 100.98, 255.00)",
           "rgb(0.00, 102.51, 255.00)",
           "rgb(0.00, 104.04, 255.00)",
           "rgb(0.00, 105.57, 255.00)",
           "rgb(0.00, 107.35, 255.00)",
           "rgb(0.00, 108.88, 255.00)",
           "rgb(0.00, 110.41, 255.00)",
           "rgb(0.00, 111.95, 255.00)",
           "rgb(0.00, 113.48, 255.00)",
           "rgb(0.00, 115.26, 255.00)",
           "rgb(0.00, 116.79, 255.00)",
           "rgb(0.00, 118.32, 255.00)",
           "rgb(0.00, 119.85, 255.00)",
           "rgb(0.00, 121.63, 255.00)",
           "rgb(0.00, 123.16, 255.00)",
           "rgb(0.00, 124.69, 255.00)",
           "rgb(0.00, 126.22, 255.00)",
           "rgb(0.00, 128.01, 255.00)",
           "rgb(0.00, 129.54, 255.00)",
           "rgb(0.00, 131.07, 255.00)",
           "rgb(0.00, 132.60, 255.00)",
           "rgb(0.00, 134.13, 255.00)",
           "rgb(0.00, 135.92, 255.00)",
           "rgb(0.00, 137.45, 255.00)",
           "rgb(0.00, 138.98, 255.00)",
           "rgb(0.00, 140.51, 255.00)",
           "rgb(0.00, 142.29, 255.00)",
           "rgb(0.00, 143.82, 255.00)",
           "rgb(0.00, 145.35, 255.00)",
           "rgb(0.00, 146.88, 255.00)",
           "rgb(0.00, 148.66, 255.00)",
           "rgb(0.00, 150.19, 255.00)",
           "rgb(0.00, 151.72, 255.00)",
           "rgb(0.00, 153.25, 255.00)",
           "rgb(0.00, 154.78, 255.00)",
           "rgb(0.00, 156.57, 255.00)",
           "rgb(0.00, 158.10, 255.00)",
           "rgb(0.00, 159.63, 255.00)",
           "rgb(0.00, 161.16, 255.00)",
           "rgb(0.00, 162.94, 255.00)",
           "rgb(0.00, 164.47, 255.00)",
           "rgb(0.00, 166.00, 255.00)",
           "rgb(0.00, 167.53, 255.00)",
           "rgb(0.00, 169.32, 255.00)",
           "rgb(0.00, 170.85, 255.00)",
           "rgb(0.00, 172.38, 255.00)",
           "rgb(0.00, 173.91, 255.00)",
           "rgb(0.00, 175.44, 255.00)",
           "rgb(0.00, 177.22, 255.00)",
           "rgb(0.00, 178.75, 255.00)",
           "rgb(0.00, 180.28, 255.00)",
           "rgb(0.00, 181.81, 255.00)",
           "rgb(0.00, 183.60, 255.00)",
           "rgb(0.00, 185.13, 255.00)",
           "rgb(0.00, 186.66, 255.00)",
           "rgb(0.00, 188.19, 255.00)",
           "rgb(0.00, 189.97, 255.00)",
           "rgb(0.00, 191.50, 255.00)",
           "rgb(0.00, 193.03, 255.00)",
           "rgb(0.00, 194.56, 255.00)",
           "rgb(0.00, 196.09, 255.00)",
           "rgb(0.00, 197.88, 255.00)",
           "rgb(0.00, 199.41, 255.00)",
           "rgb(0.00, 200.94, 255.00)",
           "rgb(0.00, 202.47, 255.00)",
           "rgb(0.00, 204.26, 255.00)",
           "rgb(0.00, 205.79, 255.00)",
           "rgb(0.00, 207.31, 255.00)",
           "rgb(0.00, 208.84, 255.00)",
           "rgb(0.00, 210.63, 255.00)",
           "rgb(0.00, 212.16, 255.00)",
           "rgb(0.00, 213.69, 255.00)",
           "rgb(0.00, 215.22, 255.00)",
           "rgb(0.00, 216.75, 255.00)",
           "rgb(0.00, 218.53, 255.00)",
           "rgb(0.00, 220.06, 255.00)",
           "rgb(0.00, 221.59, 255.00)",
           "rgb(0.00, 223.12, 255.00)",
           "rgb(0.00, 224.91, 255.00)",
           "rgb(0.00, 226.44, 255.00)",
           "rgb(0.00, 227.97, 255.00)",
           "rgb(0.00, 229.50, 255.00)",
           "rgb(0.00, 231.28, 255.00)",
           "rgb(0.00, 232.81, 255.00)",
           "rgb(0.00, 234.34, 255.00)",
           "rgb(0.00, 235.88, 255.00)",
           "rgb(0.00, 237.41, 255.00)",
           "rgb(0.00, 239.19, 255.00)",
           "rgb(0.00, 240.72, 255.00)",
           "rgb(0.00, 242.25, 255.00)",
           "rgb(0.00, 243.78, 255.00)",
           "rgb(0.00, 245.56, 255.00)",
           "rgb(0.00, 247.09, 255.00)",
           "rgb(0.00, 248.62, 255.00)",
           "rgb(0.00, 250.16, 255.00)",
           "rgb(0.00, 251.94, 255.00)",
           "rgb(0.00, 253.47, 255.00)"
          ],
          "width": 4
         },
         "mode": "lines",
         "showlegend": false,
         "type": "scatter3d",
         "x": [
          20,
          19.952,
          19.808,
          19.569,
          19.239,
          18.819,
          18.315,
          17.73,
          17.071,
          16.344,
          15.556,
          14.714,
          13.827,
          12.903,
          11.951,
          10.98,
          10,
          9.02,
          8.049,
          7.097,
          6.173,
          5.286,
          4.444,
          3.656,
          2.929,
          2.27,
          1.685,
          1.181,
          0.761,
          0.431,
          0.192,
          0.048,
          0,
          0.048,
          0.192,
          0.431,
          0.761,
          1.181,
          1.685,
          2.27,
          2.929,
          3.656,
          4.444,
          5.286,
          6.173,
          7.097,
          8.049,
          9.02,
          10,
          10.98,
          11.951,
          12.903,
          13.827,
          14.714,
          15.556,
          16.344,
          17.071,
          17.73,
          18.315,
          18.819,
          19.239,
          19.569,
          19.808,
          19.952,
          20,
          19.952,
          19.808,
          19.569,
          19.239,
          18.819,
          18.315,
          17.73,
          17.071,
          16.344,
          15.556,
          14.714,
          13.827,
          12.903,
          11.951,
          10.98,
          10,
          9.02,
          8.049,
          7.097,
          6.173,
          5.286,
          4.444,
          3.656,
          2.929,
          2.27,
          1.685,
          1.181,
          0.761,
          0.431,
          0.192,
          0.048,
          0,
          0.048,
          0.192,
          0.431,
          0.761,
          1.181,
          1.685,
          2.27,
          2.929,
          3.656,
          4.444,
          5.286,
          6.173,
          7.097,
          8.049,
          9.02,
          10,
          10.98,
          11.951,
          12.903,
          13.827,
          14.714,
          15.556,
          16.344,
          17.071,
          17.73,
          18.315,
          18.819,
          19.239,
          19.569,
          19.808,
          19.952,
          20,
          19.952,
          19.808,
          19.569,
          19.239,
          18.819,
          18.315,
          17.73,
          17.071,
          16.344,
          15.556,
          14.714,
          13.827,
          12.903,
          11.951,
          10.98,
          10,
          9.02,
          8.049,
          7.097,
          6.173,
          5.286,
          4.444,
          3.656,
          2.929,
          2.27,
          1.685,
          1.181,
          0.761,
          0.431,
          0.192,
          0.048,
          0,
          0.048,
          0.192,
          0.431,
          0.761,
          1.181,
          1.685,
          2.27,
          2.929,
          3.656,
          4.444,
          5.286,
          6.173,
          7.097,
          8.049,
          9.02,
          10,
          10.98,
          11.951,
          12.903,
          13.827,
          14.714,
          15.556,
          16.344,
          17.071,
          17.73,
          18.315,
          18.819,
          19.239,
          19.569,
          19.808,
          19.952,
          20,
          19.952,
          19.808,
          19.569,
          19.239,
          18.819,
          18.315,
          17.73,
          17.071,
          16.344,
          15.556,
          14.714,
          13.827,
          12.903,
          11.951,
          10.98,
          10,
          9.02,
          8.049,
          7.097,
          6.173,
          5.286,
          4.444,
          3.656,
          2.929,
          2.27,
          1.685,
          1.181,
          0.761,
          0.431,
          0.192,
          0.048,
          0,
          0.048,
          0.192,
          0.431,
          0.761,
          1.181,
          1.685,
          2.27,
          2.929,
          3.656,
          4.444,
          5.286,
          6.173,
          7.097,
          8.049,
          9.02,
          10,
          10.98,
          11.951,
          12.903,
          13.827,
          14.714,
          15.556,
          16.344,
          17.071,
          17.73,
          18.315,
          18.819,
          19.239,
          19.569,
          19.808,
          19.952,
          20,
          19.952,
          19.808,
          19.569,
          19.239,
          18.819,
          18.315,
          17.73,
          17.071,
          16.344,
          15.556,
          14.714,
          13.827,
          12.903,
          11.951,
          10.98,
          10,
          9.02,
          8.049,
          7.097,
          6.173,
          5.286,
          4.444,
          3.656,
          2.929,
          2.27,
          1.685,
          1.181,
          0.761,
          0.431,
          0.192,
          0.048,
          0,
          0.048,
          0.192,
          0.431,
          0.761,
          1.181,
          1.685,
          2.27,
          2.929,
          3.656,
          4.444,
          5.286,
          6.173,
          7.097,
          8.049,
          9.02,
          10,
          10.98,
          11.951,
          12.903,
          13.827,
          14.714,
          15.556,
          16.344,
          17.071,
          17.73,
          18.315,
          18.819,
          19.239,
          19.569,
          19.808,
          19.952,
          20
         ],
         "y": [
          10,
          9.02,
          8.049,
          7.097,
          6.173,
          5.286,
          4.444,
          3.656,
          2.929,
          2.27,
          1.685,
          1.181,
          0.761,
          0.431,
          0.192,
          0.048,
          0,
          0.048,
          0.192,
          0.431,
          0.761,
          1.181,
          1.685,
          2.27,
          2.929,
          3.656,
          4.444,
          5.286,
          6.173,
          7.097,
          8.049,
          9.02,
          10,
          10.98,
          11.951,
          12.903,
          13.827,
          14.714,
          15.556,
          16.344,
          17.071,
          17.73,
          18.315,
          18.819,
          19.239,
          19.569,
          19.808,
          19.952,
          20,
          19.952,
          19.808,
          19.569,
          19.239,
          18.819,
          18.315,
          17.73,
          17.071,
          16.344,
          15.556,
          14.714,
          13.827,
          12.903,
          11.951,
          10.98,
          10,
          9.02,
          8.049,
          7.097,
          6.173,
          5.286,
          4.444,
          3.656,
          2.929,
          2.27,
          1.685,
          1.181,
          0.761,
          0.431,
          0.192,
          0.048,
          0,
          0.048,
          0.192,
          0.431,
          0.761,
          1.181,
          1.685,
          2.27,
          2.929,
          3.656,
          4.444,
          5.286,
          6.173,
          7.097,
          8.049,
          9.02,
          10,
          10.98,
          11.951,
          12.903,
          13.827,
          14.714,
          15.556,
          16.344,
          17.071,
          17.73,
          18.315,
          18.819,
          19.239,
          19.569,
          19.808,
          19.952,
          20,
          19.952,
          19.808,
          19.569,
          19.239,
          18.819,
          18.315,
          17.73,
          17.071,
          16.344,
          15.556,
          14.714,
          13.827,
          12.903,
          11.951,
          10.98,
          10,
          9.02,
          8.049,
          7.097,
          6.173,
          5.286,
          4.444,
          3.656,
          2.929,
          2.27,
          1.685,
          1.181,
          0.761,
          0.431,
          0.192,
          0.048,
          0,
          0.048,
          0.192,
          0.431,
          0.761,
          1.181,
          1.685,
          2.27,
          2.929,
          3.656,
          4.444,
          5.286,
          6.173,
          7.097,
          8.049,
          9.02,
          10,
          10.98,
          11.951,
          12.903,
          13.827,
          14.714,
          15.556,
          16.344,
          17.071,
          17.73,
          18.315,
          18.819,
          19.239,
          19.569,
          19.808,
          19.952,
          20,
          19.952,
          19.808,
          19.569,
          19.239,
          18.819,
          18.315,
          17.73,
          17.071,
          16.344,
          15.556,
          14.714,
          13.827,
          12.903,
          11.951,
          10.98,
          10,
          9.02,
          8.049,
          7.097,
          6.173,
          5.286,
          4.444,
          3.656,
          2.929,
          2.27,
          1.685,
          1.181,
          0.761,
          0.431,
          0.192,
          0.048,
          0,
          0.048,
          0.192,
          0.431,
          0.761,
          1.181,
          1.685,
          2.27,
          2.929,
          3.656,
          4.444,
          5.286,
          6.173,
          7.097,
          8.049,
          9.02,
          10,
          10.98,
          11.951,
          12.903,
          13.827,
          14.714,
          15.556,
          16.344,
          17.071,
          17.73,
          18.315,
          18.819,
          19.239,
          19.569,
          19.808,
          19.952,
          20,
          19.952,
          19.808,
          19.569,
          19.239,
          18.819,
          18.315,
          17.73,
          17.071,
          16.344,
          15.556,
          14.714,
          13.827,
          12.903,
          11.951,
          10.98,
          10,
          9.02,
          8.049,
          7.097,
          6.173,
          5.286,
          4.444,
          3.656,
          2.929,
          2.27,
          1.685,
          1.181,
          0.761,
          0.431,
          0.192,
          0.048,
          0,
          0.048,
          0.192,
          0.431,
          0.761,
          1.181,
          1.685,
          2.27,
          2.929,
          3.656,
          4.444,
          5.286,
          6.173,
          7.097,
          8.049,
          9.02,
          10,
          10.98,
          11.951,
          12.903,
          13.827,
          14.714,
          15.556,
          16.344,
          17.071,
          17.73,
          18.315,
          18.819,
          19.239,
          19.569,
          19.808,
          19.952,
          20,
          19.952,
          19.808,
          19.569,
          19.239,
          18.819,
          18.315,
          17.73,
          17.071,
          16.344,
          15.556,
          14.714,
          13.827,
          12.903,
          11.951,
          10.98,
          10
         ],
         "z": [
          0,
          0.006,
          0.013,
          0.019,
          0.025,
          0.031,
          0.037,
          0.044,
          0.05,
          0.056,
          0.062,
          0.069,
          0.075,
          0.081,
          0.087,
          0.094,
          0.1,
          0.106,
          0.113,
          0.119,
          0.125,
          0.131,
          0.138,
          0.144,
          0.15,
          0.156,
          0.163,
          0.169,
          0.175,
          0.181,
          0.188,
          0.194,
          0.2,
          0.206,
          0.212,
          0.219,
          0.225,
          0.231,
          0.237,
          0.244,
          0.25,
          0.256,
          0.263,
          0.269,
          0.275,
          0.281,
          0.287,
          0.294,
          0.3,
          0.306,
          0.312,
          0.319,
          0.325,
          0.331,
          0.338,
          0.344,
          0.35,
          0.356,
          0.362,
          0.369,
          0.375,
          0.381,
          0.388,
          0.394,
          0.4,
          0.406,
          0.412,
          0.419,
          0.425,
          0.431,
          0.438,
          0.444,
          0.45,
          0.456,
          0.463,
          0.469,
          0.475,
          0.481,
          0.487,
          0.494,
          0.5,
          0.506,
          0.512,
          0.519,
          0.525,
          0.531,
          0.537,
          0.544,
          0.55,
          0.556,
          0.562,
          0.569,
          0.575,
          0.581,
          0.588,
          0.594,
          0.6,
          0.606,
          0.613,
          0.619,
          0.625,
          0.631,
          0.637,
          0.644,
          0.65,
          0.656,
          0.662,
          0.669,
          0.675,
          0.681,
          0.688,
          0.694,
          0.7,
          0.706,
          0.713,
          0.719,
          0.725,
          0.731,
          0.738,
          0.744,
          0.75,
          0.756,
          0.762,
          0.769,
          0.775,
          0.781,
          0.787,
          0.794,
          0.8,
          0.806,
          0.812,
          0.819,
          0.825,
          0.831,
          0.838,
          0.844,
          0.85,
          0.856,
          0.863,
          0.869,
          0.875,
          0.881,
          0.887,
          0.894,
          0.9,
          0.906,
          0.912,
          0.919,
          0.925,
          0.931,
          0.938,
          0.944,
          0.95,
          0.956,
          0.963,
          0.969,
          0.975,
          0.981,
          0.988,
          0.994,
          1,
          1.006,
          1.012,
          1.019,
          1.025,
          1.031,
          1.038,
          1.044,
          1.05,
          1.056,
          1.062,
          1.069,
          1.075,
          1.081,
          1.087,
          1.094,
          1.1,
          1.106,
          1.113,
          1.119,
          1.125,
          1.131,
          1.137,
          1.144,
          1.15,
          1.156,
          1.163,
          1.169,
          1.175,
          1.181,
          1.188,
          1.194,
          1.2,
          1.206,
          1.212,
          1.219,
          1.225,
          1.231,
          1.238,
          1.244,
          1.25,
          1.256,
          1.262,
          1.269,
          1.275,
          1.281,
          1.288,
          1.294,
          1.3,
          1.306,
          1.312,
          1.319,
          1.325,
          1.331,
          1.337,
          1.344,
          1.35,
          1.356,
          1.363,
          1.369,
          1.375,
          1.381,
          1.387,
          1.394,
          1.4,
          1.406,
          1.413,
          1.419,
          1.425,
          1.431,
          1.438,
          1.444,
          1.45,
          1.456,
          1.462,
          1.469,
          1.475,
          1.481,
          1.488,
          1.494,
          1.5,
          1.506,
          1.512,
          1.519,
          1.525,
          1.531,
          1.538,
          1.544,
          1.55,
          1.556,
          1.562,
          1.569,
          1.575,
          1.581,
          1.587,
          1.594,
          1.6,
          1.606,
          1.613,
          1.619,
          1.625,
          1.631,
          1.637,
          1.644,
          1.65,
          1.656,
          1.663,
          1.669,
          1.675,
          1.681,
          1.688,
          1.694,
          1.7,
          1.706,
          1.712,
          1.719,
          1.725,
          1.731,
          1.738,
          1.744,
          1.75,
          1.756,
          1.762,
          1.769,
          1.775,
          1.781,
          1.788,
          1.794,
          1.8,
          1.806,
          1.812,
          1.819,
          1.825,
          1.831,
          1.837,
          1.844,
          1.85,
          1.856,
          1.863,
          1.869,
          1.875,
          1.881,
          1.887,
          1.894,
          1.9,
          1.906,
          1.913,
          1.919,
          1.925,
          1.931,
          1.938,
          1.944,
          1.95,
          1.956,
          1.962,
          1.969,
          1.975,
          1.981,
          1.988,
          1.994,
          2
         ]
        },
        {
         "marker": {
          "color": "red",
          "size": 2
         },
         "mode": "markers",
         "showlegend": false,
         "type": "scatter3d",
         "x": [
          20,
          20,
          10
         ],
         "y": [
          10.000000000000012,
          10,
          10
         ],
         "z": [
          2,
          0,
          0
         ]
        }
       ],
       "layout": {
        "height": 500,
        "margin": {
         "b": 10,
         "l": 10,
         "pad": 4,
         "r": 10,
         "t": 10
        },
        "paper_bgcolor": "black",
        "scene": {
         "annotations": [
          {
           "showarrow": false,
           "text": "end",
           "x": 20,
           "y": 10.000000000000012,
           "yshift": 10,
           "z": 2
          },
          {
           "showarrow": false,
           "text": "start",
           "x": 20,
           "y": 10,
           "yshift": 10,
           "z": 0
          },
          {
           "showarrow": false,
           "text": "centre",
           "x": 10,
           "y": 10,
           "yshift": 10,
           "z": 0
          }
         ],
         "aspectmode": "cube",
         "camera": {
          "center": {
           "x": 0,
           "y": 0,
           "z": -0.45000499950005
          },
          "eye": {
           "x": -0.5,
           "y": -1,
           "z": 0
          }
         },
         "xaxis": {
          "backgroundcolor": "black",
          "nticks": 10,
          "range": [
           -0.0009999999999994458,
           20.000999999999998
          ]
         },
         "yaxis": {
          "backgroundcolor": "black",
          "nticks": 10,
          "range": [
           -0.0009999999999994458,
           20.000999999999998
          ]
         },
         "zaxis": {
          "backgroundcolor": "black",
          "nticks": 10,
          "range": [
           0,
           20.002
          ]
         }
        },
        "template": {
         "data": {
          "bar": [
           {
            "error_x": {
             "color": "#f2f5fa"
            },
            "error_y": {
             "color": "#f2f5fa"
            },
            "marker": {
             "line": {
              "color": "rgb(17,17,17)",
              "width": 0.5
             },
             "pattern": {
              "fillmode": "overlay",
              "size": 10,
              "solidity": 0.2
             }
            },
            "type": "bar"
           }
          ],
          "barpolar": [
           {
            "marker": {
             "line": {
              "color": "rgb(17,17,17)",
              "width": 0.5
             },
             "pattern": {
              "fillmode": "overlay",
              "size": 10,
              "solidity": 0.2
             }
            },
            "type": "barpolar"
           }
          ],
          "carpet": [
           {
            "aaxis": {
             "endlinecolor": "#A2B1C6",
             "gridcolor": "#506784",
             "linecolor": "#506784",
             "minorgridcolor": "#506784",
             "startlinecolor": "#A2B1C6"
            },
            "baxis": {
             "endlinecolor": "#A2B1C6",
             "gridcolor": "#506784",
             "linecolor": "#506784",
             "minorgridcolor": "#506784",
             "startlinecolor": "#A2B1C6"
            },
            "type": "carpet"
           }
          ],
          "choropleth": [
           {
            "colorbar": {
             "outlinewidth": 0,
             "ticks": ""
            },
            "type": "choropleth"
           }
          ],
          "contour": [
           {
            "colorbar": {
             "outlinewidth": 0,
             "ticks": ""
            },
            "colorscale": [
             [
              0,
              "#0d0887"
             ],
             [
              0.1111111111111111,
              "#46039f"
             ],
             [
              0.2222222222222222,
              "#7201a8"
             ],
             [
              0.3333333333333333,
              "#9c179e"
             ],
             [
              0.4444444444444444,
              "#bd3786"
             ],
             [
              0.5555555555555556,
              "#d8576b"
             ],
             [
              0.6666666666666666,
              "#ed7953"
             ],
             [
              0.7777777777777778,
              "#fb9f3a"
             ],
             [
              0.8888888888888888,
              "#fdca26"
             ],
             [
              1,
              "#f0f921"
             ]
            ],
            "type": "contour"
           }
          ],
          "contourcarpet": [
           {
            "colorbar": {
             "outlinewidth": 0,
             "ticks": ""
            },
            "type": "contourcarpet"
           }
          ],
          "heatmap": [
           {
            "colorbar": {
             "outlinewidth": 0,
             "ticks": ""
            },
            "colorscale": [
             [
              0,
              "#0d0887"
             ],
             [
              0.1111111111111111,
              "#46039f"
             ],
             [
              0.2222222222222222,
              "#7201a8"
             ],
             [
              0.3333333333333333,
              "#9c179e"
             ],
             [
              0.4444444444444444,
              "#bd3786"
             ],
             [
              0.5555555555555556,
              "#d8576b"
             ],
             [
              0.6666666666666666,
              "#ed7953"
             ],
             [
              0.7777777777777778,
              "#fb9f3a"
             ],
             [
              0.8888888888888888,
              "#fdca26"
             ],
             [
              1,
              "#f0f921"
             ]
            ],
            "type": "heatmap"
           }
          ],
          "histogram": [
           {
            "marker": {
             "pattern": {
              "fillmode": "overlay",
              "size": 10,
              "solidity": 0.2
             }
            },
            "type": "histogram"
           }
          ],
          "histogram2d": [
           {
            "colorbar": {
             "outlinewidth": 0,
             "ticks": ""
            },
            "colorscale": [
             [
              0,
              "#0d0887"
             ],
             [
              0.1111111111111111,
              "#46039f"
             ],
             [
              0.2222222222222222,
              "#7201a8"
             ],
             [
              0.3333333333333333,
              "#9c179e"
             ],
             [
              0.4444444444444444,
              "#bd3786"
             ],
             [
              0.5555555555555556,
              "#d8576b"
             ],
             [
              0.6666666666666666,
              "#ed7953"
             ],
             [
              0.7777777777777778,
              "#fb9f3a"
             ],
             [
              0.8888888888888888,
              "#fdca26"
             ],
             [
              1,
              "#f0f921"
             ]
            ],
            "type": "histogram2d"
           }
          ],
          "histogram2dcontour": [
           {
            "colorbar": {
             "outlinewidth": 0,
             "ticks": ""
            },
            "colorscale": [
             [
              0,
              "#0d0887"
             ],
             [
              0.1111111111111111,
              "#46039f"
             ],
             [
              0.2222222222222222,
              "#7201a8"
             ],
             [
              0.3333333333333333,
              "#9c179e"
             ],
             [
              0.4444444444444444,
              "#bd3786"
             ],
             [
              0.5555555555555556,
              "#d8576b"
             ],
             [
              0.6666666666666666,
              "#ed7953"
             ],
             [
              0.7777777777777778,
              "#fb9f3a"
             ],
             [
              0.8888888888888888,
              "#fdca26"
             ],
             [
              1,
              "#f0f921"
             ]
            ],
            "type": "histogram2dcontour"
           }
          ],
          "mesh3d": [
           {
            "colorbar": {
             "outlinewidth": 0,
             "ticks": ""
            },
            "type": "mesh3d"
           }
          ],
          "parcoords": [
           {
            "line": {
             "colorbar": {
              "outlinewidth": 0,
              "ticks": ""
             }
            },
            "type": "parcoords"
           }
          ],
          "pie": [
           {
            "automargin": true,
            "type": "pie"
           }
          ],
          "scatter": [
           {
            "marker": {
             "line": {
              "color": "#283442"
             }
            },
            "type": "scatter"
           }
          ],
          "scatter3d": [
           {
            "line": {
             "colorbar": {
              "outlinewidth": 0,
              "ticks": ""
             }
            },
            "marker": {
             "colorbar": {
              "outlinewidth": 0,
              "ticks": ""
             }
            },
            "type": "scatter3d"
           }
          ],
          "scattercarpet": [
           {
            "marker": {
             "colorbar": {
              "outlinewidth": 0,
              "ticks": ""
             }
            },
            "type": "scattercarpet"
           }
          ],
          "scattergeo": [
           {
            "marker": {
             "colorbar": {
              "outlinewidth": 0,
              "ticks": ""
             }
            },
            "type": "scattergeo"
           }
          ],
          "scattergl": [
           {
            "marker": {
             "line": {
              "color": "#283442"
             }
            },
            "type": "scattergl"
           }
          ],
          "scattermap": [
           {
            "marker": {
             "colorbar": {
              "outlinewidth": 0,
              "ticks": ""
             }
            },
            "type": "scattermap"
           }
          ],
          "scattermapbox": [
           {
            "marker": {
             "colorbar": {
              "outlinewidth": 0,
              "ticks": ""
             }
            },
            "type": "scattermapbox"
           }
          ],
          "scatterpolar": [
           {
            "marker": {
             "colorbar": {
              "outlinewidth": 0,
              "ticks": ""
             }
            },
            "type": "scatterpolar"
           }
          ],
          "scatterpolargl": [
           {
            "marker": {
             "colorbar": {
              "outlinewidth": 0,
              "ticks": ""
             }
            },
            "type": "scatterpolargl"
           }
          ],
          "scatterternary": [
           {
            "marker": {
             "colorbar": {
              "outlinewidth": 0,
              "ticks": ""
             }
            },
            "type": "scatterternary"
           }
          ],
          "surface": [
           {
            "colorbar": {
             "outlinewidth": 0,
             "ticks": ""
            },
            "colorscale": [
             [
              0,
              "#0d0887"
             ],
             [
              0.1111111111111111,
              "#46039f"
             ],
             [
              0.2222222222222222,
              "#7201a8"
             ],
             [
              0.3333333333333333,
              "#9c179e"
             ],
             [
              0.4444444444444444,
              "#bd3786"
             ],
             [
              0.5555555555555556,
              "#d8576b"
             ],
             [
              0.6666666666666666,
              "#ed7953"
             ],
             [
              0.7777777777777778,
              "#fb9f3a"
             ],
             [
              0.8888888888888888,
              "#fdca26"
             ],
             [
              1,
              "#f0f921"
             ]
            ],
            "type": "surface"
           }
          ],
          "table": [
           {
            "cells": {
             "fill": {
              "color": "#506784"
             },
             "line": {
              "color": "rgb(17,17,17)"
             }
            },
            "header": {
             "fill": {
              "color": "#2a3f5f"
             },
             "line": {
              "color": "rgb(17,17,17)"
             }
            },
            "type": "table"
           }
          ]
         },
         "layout": {
          "annotationdefaults": {
           "arrowcolor": "#f2f5fa",
           "arrowhead": 0,
           "arrowwidth": 1
          },
          "autotypenumbers": "strict",
          "coloraxis": {
           "colorbar": {
            "outlinewidth": 0,
            "ticks": ""
           }
          },
          "colorscale": {
           "diverging": [
            [
             0,
             "#8e0152"
            ],
            [
             0.1,
             "#c51b7d"
            ],
            [
             0.2,
             "#de77ae"
            ],
            [
             0.3,
             "#f1b6da"
            ],
            [
             0.4,
             "#fde0ef"
            ],
            [
             0.5,
             "#f7f7f7"
            ],
            [
             0.6,
             "#e6f5d0"
            ],
            [
             0.7,
             "#b8e186"
            ],
            [
             0.8,
             "#7fbc41"
            ],
            [
             0.9,
             "#4d9221"
            ],
            [
             1,
             "#276419"
            ]
           ],
           "sequential": [
            [
             0,
             "#0d0887"
            ],
            [
             0.1111111111111111,
             "#46039f"
            ],
            [
             0.2222222222222222,
             "#7201a8"
            ],
            [
             0.3333333333333333,
             "#9c179e"
            ],
            [
             0.4444444444444444,
             "#bd3786"
            ],
            [
             0.5555555555555556,
             "#d8576b"
            ],
            [
             0.6666666666666666,
             "#ed7953"
            ],
            [
             0.7777777777777778,
             "#fb9f3a"
            ],
            [
             0.8888888888888888,
             "#fdca26"
            ],
            [
             1,
             "#f0f921"
            ]
           ],
           "sequentialminus": [
            [
             0,
             "#0d0887"
            ],
            [
             0.1111111111111111,
             "#46039f"
            ],
            [
             0.2222222222222222,
             "#7201a8"
            ],
            [
             0.3333333333333333,
             "#9c179e"
            ],
            [
             0.4444444444444444,
             "#bd3786"
            ],
            [
             0.5555555555555556,
             "#d8576b"
            ],
            [
             0.6666666666666666,
             "#ed7953"
            ],
            [
             0.7777777777777778,
             "#fb9f3a"
            ],
            [
             0.8888888888888888,
             "#fdca26"
            ],
            [
             1,
             "#f0f921"
            ]
           ]
          },
          "colorway": [
           "#636efa",
           "#EF553B",
           "#00cc96",
           "#ab63fa",
           "#FFA15A",
           "#19d3f3",
           "#FF6692",
           "#B6E880",
           "#FF97FF",
           "#FECB52"
          ],
          "font": {
           "color": "#f2f5fa"
          },
          "geo": {
           "bgcolor": "rgb(17,17,17)",
           "lakecolor": "rgb(17,17,17)",
           "landcolor": "rgb(17,17,17)",
           "showlakes": true,
           "showland": true,
           "subunitcolor": "#506784"
          },
          "hoverlabel": {
           "align": "left"
          },
          "hovermode": "closest",
          "mapbox": {
           "style": "dark"
          },
          "paper_bgcolor": "rgb(17,17,17)",
          "plot_bgcolor": "rgb(17,17,17)",
          "polar": {
           "angularaxis": {
            "gridcolor": "#506784",
            "linecolor": "#506784",
            "ticks": ""
           },
           "bgcolor": "rgb(17,17,17)",
           "radialaxis": {
            "gridcolor": "#506784",
            "linecolor": "#506784",
            "ticks": ""
           }
          },
          "scene": {
           "xaxis": {
            "backgroundcolor": "rgb(17,17,17)",
            "gridcolor": "#506784",
            "gridwidth": 2,
            "linecolor": "#506784",
            "showbackground": true,
            "ticks": "",
            "zerolinecolor": "#C8D4E3"
           },
           "yaxis": {
            "backgroundcolor": "rgb(17,17,17)",
            "gridcolor": "#506784",
            "gridwidth": 2,
            "linecolor": "#506784",
            "showbackground": true,
            "ticks": "",
            "zerolinecolor": "#C8D4E3"
           },
           "zaxis": {
            "backgroundcolor": "rgb(17,17,17)",
            "gridcolor": "#506784",
            "gridwidth": 2,
            "linecolor": "#506784",
            "showbackground": true,
            "ticks": "",
            "zerolinecolor": "#C8D4E3"
           }
          },
          "shapedefaults": {
           "line": {
            "color": "#f2f5fa"
           }
          },
          "sliderdefaults": {
           "bgcolor": "#C8D4E3",
           "bordercolor": "rgb(17,17,17)",
           "borderwidth": 1,
           "tickwidth": 0
          },
          "ternary": {
           "aaxis": {
            "gridcolor": "#506784",
            "linecolor": "#506784",
            "ticks": ""
           },
           "baxis": {
            "gridcolor": "#506784",
            "linecolor": "#506784",
            "ticks": ""
           },
           "bgcolor": "rgb(17,17,17)",
           "caxis": {
            "gridcolor": "#506784",
            "linecolor": "#506784",
            "ticks": ""
           }
          },
          "title": {
           "x": 0.05
          },
          "updatemenudefaults": {
           "bgcolor": "#506784",
           "borderwidth": 0
          },
          "xaxis": {
           "automargin": true,
           "gridcolor": "#283442",
           "linecolor": "#506784",
           "ticks": "",
           "title": {
            "standoff": 15
           },
           "zerolinecolor": "#283442",
           "zerolinewidth": 2
          },
          "yaxis": {
           "automargin": true,
           "gridcolor": "#283442",
           "linecolor": "#506784",
           "ticks": "",
           "title": {
            "standoff": 15
           },
           "zerolinecolor": "#283442",
           "zerolinewidth": 2
          }
         }
        },
        "width": 800
       }
      }
     },
     "metadata": {},
     "output_type": "display_data"
    }
   ],
   "source": [
    "centre_point = fc.Point(x=10, y=10, z=0)\n",
    "start_radius = 10\n",
    "end_radius = 10\n",
    "start_angle = 0\n",
    "n_turns = 5\n",
    "pitch_z = 0.4\n",
    "segments = 320\n",
    "clockwise = True\n",
    "steps = fc.helixZ(centre_point, start_radius, end_radius, start_angle, n_turns, pitch_z, segments, clockwise)\n",
    "steps.append(fc.PlotAnnotation(point=steps[-1], label=\"end\"))\n",
    "steps.append(fc.PlotAnnotation(point=steps[0], label=\"start\"))\n",
    "steps.append(fc.PlotAnnotation(point=centre_point, label=\"centre\"))\n",
    "fc.transform(steps, 'plot', fc.PlotControls(color_type='print_sequence', style='line'))\n",
    "\n",
    "# helices are also possible by using fc.variable_arcXY with 'arc_angle' set to the number of passes * tau and 'z_change' set to the total helix length"
   ]
  },
  {
   "attachments": {},
   "cell_type": "markdown",
   "metadata": {},
   "source": [
    "#### waves"
   ]
  },
  {
   "cell_type": "code",
   "execution_count": 12,
   "metadata": {},
   "outputs": [
    {
     "data": {
      "application/vnd.plotly.v1+json": {
       "config": {
        "plotlyServerURL": "https://plot.ly"
       },
       "data": [
        {
         "line": {
          "color": [
           "rgb(204.00, 0.00, 255.00)",
           "rgb(202.73, 0.00, 255.00)",
           "rgb(201.71, 0.00, 255.00)",
           "rgb(200.43, 0.00, 255.00)",
           "rgb(199.41, 0.00, 255.00)",
           "rgb(198.14, 0.00, 255.00)",
           "rgb(197.12, 0.00, 255.00)",
           "rgb(195.84, 0.00, 255.00)",
           "rgb(194.82, 0.00, 255.00)",
           "rgb(193.55, 0.00, 255.00)",
           "rgb(192.53, 0.00, 255.00)",
           "rgb(191.25, 0.00, 255.00)",
           "rgb(190.23, 0.00, 255.00)",
           "rgb(188.95, 0.00, 255.00)",
           "rgb(187.94, 0.00, 255.00)",
           "rgb(186.66, 0.00, 255.00)",
           "rgb(185.64, 0.00, 255.00)",
           "rgb(184.36, 0.00, 255.00)",
           "rgb(183.34, 0.00, 255.00)",
           "rgb(182.07, 0.00, 255.00)",
           "rgb(181.05, 0.00, 255.00)",
           "rgb(179.77, 0.00, 255.00)",
           "rgb(178.75, 0.00, 255.00)",
           "rgb(177.48, 0.00, 255.00)",
           "rgb(176.46, 0.00, 255.00)",
           "rgb(175.19, 0.00, 255.00)",
           "rgb(174.17, 0.00, 255.00)",
           "rgb(172.89, 0.00, 255.00)",
           "rgb(171.87, 0.00, 255.00)",
           "rgb(170.59, 0.00, 255.00)",
           "rgb(169.58, 0.00, 255.00)",
           "rgb(168.30, 0.00, 255.00)",
           "rgb(167.28, 0.00, 255.00)",
           "rgb(166.00, 0.00, 255.00)",
           "rgb(164.99, 0.00, 255.00)",
           "rgb(163.71, 0.00, 255.00)",
           "rgb(162.69, 0.00, 255.00)",
           "rgb(161.41, 0.00, 255.00)",
           "rgb(160.40, 0.00, 255.00)",
           "rgb(159.12, 0.00, 255.00)"
          ],
          "width": 4
         },
         "mode": "lines",
         "showlegend": false,
         "type": "scatter3d",
         "x": [
          10,
          10,
          11,
          11,
          12,
          12,
          13,
          13,
          14,
          14,
          15,
          15,
          16,
          16,
          17,
          17,
          18,
          18,
          19,
          19,
          20,
          20,
          21,
          21,
          22,
          22,
          23,
          23,
          24,
          24,
          25,
          25,
          26,
          26,
          27,
          27,
          28,
          28,
          29,
          29
         ],
         "y": [
          10,
          15,
          15,
          10,
          10,
          15,
          15,
          10,
          10,
          15,
          15,
          10,
          10,
          15,
          15,
          10,
          10,
          15,
          15,
          10,
          10,
          15,
          15,
          10,
          10,
          15,
          15,
          10,
          10,
          15,
          15,
          10,
          10,
          15,
          15,
          10,
          10,
          15,
          15,
          10
         ],
         "z": [
          0,
          0,
          0,
          0,
          0,
          0,
          0,
          0,
          0,
          0,
          0,
          0,
          0,
          0,
          0,
          0,
          0,
          0,
          0,
          0,
          0,
          0,
          0,
          0,
          0,
          0,
          0,
          0,
          0,
          0,
          0,
          0,
          0,
          0,
          0,
          0,
          0,
          0,
          0,
          0
         ]
        },
        {
         "line": {
          "color": [
           "rgb(191.25, 127.50, 127.50)",
           "rgb(191.25, 127.50, 127.50)"
          ],
          "width": 1
         },
         "mode": "lines",
         "showlegend": false,
         "type": "scatter3d",
         "x": [
          29,
          10
         ],
         "y": [
          10,
          20
         ],
         "z": [
          0,
          0
         ]
        },
        {
         "line": {
          "color": [
           "rgb(156.82, 0.00, 255.00)",
           "rgb(156.82, 0.00, 255.00)",
           "rgb(155.81, 0.00, 255.00)",
           "rgb(154.53, 0.00, 255.00)",
           "rgb(153.51, 0.00, 255.00)",
           "rgb(152.23, 0.00, 255.00)",
           "rgb(151.22, 0.00, 255.00)",
           "rgb(149.94, 0.00, 255.00)",
           "rgb(148.92, 0.00, 255.00)",
           "rgb(147.64, 0.00, 255.00)",
           "rgb(146.62, 0.00, 255.00)",
           "rgb(145.35, 0.00, 255.00)",
           "rgb(144.33, 0.00, 255.00)",
           "rgb(143.06, 0.00, 255.00)",
           "rgb(142.04, 0.00, 255.00)",
           "rgb(140.76, 0.00, 255.00)",
           "rgb(139.74, 0.00, 255.00)",
           "rgb(138.47, 0.00, 255.00)",
           "rgb(137.45, 0.00, 255.00)",
           "rgb(136.17, 0.00, 255.00)",
           "rgb(135.15, 0.00, 255.00)",
           "rgb(133.88, 0.00, 255.00)",
           "rgb(132.86, 0.00, 255.00)",
           "rgb(131.58, 0.00, 255.00)",
           "rgb(130.56, 0.00, 255.00)",
           "rgb(129.28, 0.00, 255.00)",
           "rgb(128.27, 0.00, 255.00)",
           "rgb(126.99, 0.00, 255.00)",
           "rgb(125.97, 0.00, 255.00)",
           "rgb(124.69, 0.00, 255.00)",
           "rgb(123.67, 0.00, 255.00)",
           "rgb(122.40, 0.00, 255.00)",
           "rgb(121.12, 0.00, 255.00)",
           "rgb(120.10, 0.00, 255.00)",
           "rgb(118.83, 0.00, 255.00)",
           "rgb(117.81, 0.00, 255.00)",
           "rgb(116.54, 0.00, 255.00)",
           "rgb(115.52, 0.00, 255.00)",
           "rgb(114.24, 0.00, 255.00)",
           "rgb(113.22, 0.00, 255.00)",
           "rgb(111.95, 0.00, 255.00)",
           "rgb(110.92, 0.00, 255.00)"
          ],
          "width": 4
         },
         "mode": "lines",
         "showlegend": false,
         "type": "scatter3d",
         "x": [
          10,
          10,
          11,
          11,
          12,
          12,
          13,
          13,
          14,
          14,
          15,
          15,
          16,
          16,
          17,
          17,
          18,
          18,
          19,
          19,
          20,
          20,
          21,
          21,
          22,
          22,
          23,
          23,
          24,
          24,
          25,
          25,
          26,
          26,
          27,
          27,
          28,
          28,
          29,
          29,
          30,
          30
         ],
         "y": [
          20,
          25,
          25,
          20,
          20,
          25,
          25,
          20,
          20,
          25,
          25,
          20,
          20,
          25,
          25,
          20,
          20,
          25,
          25,
          20,
          20,
          25,
          25,
          20,
          20,
          25,
          25,
          20,
          20,
          25,
          25,
          20,
          20,
          25,
          25,
          20,
          20,
          25,
          25,
          20,
          20,
          25
         ],
         "z": [
          0,
          0,
          0,
          0,
          0,
          0,
          0,
          0,
          0,
          0,
          0,
          0,
          0,
          0,
          0,
          0,
          0,
          0,
          0,
          0,
          0,
          0,
          0,
          0,
          0,
          0,
          0,
          0,
          0,
          0,
          0,
          0,
          0,
          0,
          0,
          0,
          0,
          0,
          0,
          0,
          0,
          0
         ]
        },
        {
         "line": {
          "color": [
           "rgb(191.25, 127.50, 127.50)",
           "rgb(191.25, 127.50, 127.50)"
          ],
          "width": 1
         },
         "mode": "lines",
         "showlegend": false,
         "type": "scatter3d",
         "x": [
          30,
          10
         ],
         "y": [
          25,
          30
         ],
         "z": [
          0,
          0
         ]
        },
        {
         "line": {
          "color": [
           "rgb(108.63, 0.00, 255.00)",
           "rgb(108.63, 0.00, 255.00)",
           "rgb(107.35, 0.00, 255.00)",
           "rgb(106.33, 0.00, 255.00)",
           "rgb(105.06, 0.00, 255.00)",
           "rgb(104.04, 0.00, 255.00)",
           "rgb(102.77, 0.00, 255.00)",
           "rgb(101.75, 0.00, 255.00)",
           "rgb(100.47, 0.00, 255.00)",
           "rgb(99.45, 0.00, 255.00)",
           "rgb(98.17, 0.00, 255.00)",
           "rgb(97.16, 0.00, 255.00)",
           "rgb(95.88, 0.00, 255.00)",
           "rgb(94.86, 0.00, 255.00)",
           "rgb(93.58, 0.00, 255.00)",
           "rgb(92.56, 0.00, 255.00)",
           "rgb(91.29, 0.00, 255.00)",
           "rgb(90.27, 0.00, 255.00)",
           "rgb(88.99, 0.00, 255.00)",
           "rgb(87.97, 0.00, 255.00)",
           "rgb(86.70, 0.00, 255.00)",
           "rgb(85.68, 0.00, 255.00)",
           "rgb(84.41, 0.00, 255.00)",
           "rgb(83.39, 0.00, 255.00)",
           "rgb(82.11, 0.00, 255.00)",
           "rgb(81.09, 0.00, 255.00)",
           "rgb(79.81, 0.00, 255.00)",
           "rgb(78.80, 0.00, 255.00)",
           "rgb(77.52, 0.00, 255.00)",
           "rgb(76.50, 0.00, 255.00)",
           "rgb(75.22, 0.00, 255.00)",
           "rgb(74.20, 0.00, 255.00)",
           "rgb(72.93, 0.00, 255.00)",
           "rgb(71.91, 0.00, 255.00)",
           "rgb(70.64, 0.00, 255.00)",
           "rgb(69.62, 0.00, 255.00)",
           "rgb(68.34, 0.00, 255.00)",
           "rgb(67.32, 0.00, 255.00)",
           "rgb(66.05, 0.00, 255.00)",
           "rgb(65.03, 0.00, 255.00)",
           "rgb(63.75, 0.00, 255.00)",
           "rgb(62.73, 0.00, 255.00)",
           "rgb(61.45, 0.00, 255.00)"
          ],
          "width": 4
         },
         "mode": "lines",
         "showlegend": false,
         "type": "scatter3d",
         "x": [
          10,
          10,
          11,
          11,
          12,
          12,
          13,
          13,
          14,
          14,
          15,
          15,
          16,
          16,
          17,
          17,
          18,
          18,
          19,
          19,
          20,
          20,
          21,
          21,
          22,
          22,
          23,
          23,
          24,
          24,
          25,
          25,
          26,
          26,
          27,
          27,
          28,
          28,
          29,
          29,
          30,
          30,
          31
         ],
         "y": [
          30,
          35,
          35,
          30,
          30,
          35,
          35,
          30,
          30,
          35,
          35,
          30,
          30,
          35,
          35,
          30,
          30,
          35,
          35,
          30,
          30,
          35,
          35,
          30,
          30,
          35,
          35,
          30,
          30,
          35,
          35,
          30,
          30,
          35,
          35,
          30,
          30,
          35,
          35,
          30,
          30,
          35,
          35
         ],
         "z": [
          0,
          0,
          0,
          0,
          0,
          0,
          0,
          0,
          0,
          0,
          0,
          0,
          0,
          0,
          0,
          0,
          0,
          0,
          0,
          0,
          0,
          0,
          0,
          0,
          0,
          0,
          0,
          0,
          0,
          0,
          0,
          0,
          0,
          0,
          0,
          0,
          0,
          0,
          0,
          0,
          0,
          0,
          0
         ]
        },
        {
         "line": {
          "color": [
           "rgb(191.25, 127.50, 127.50)",
           "rgb(191.25, 127.50, 127.50)"
          ],
          "width": 1
         },
         "mode": "lines",
         "showlegend": false,
         "type": "scatter3d",
         "x": [
          31,
          10
         ],
         "y": [
          35,
          40
         ],
         "z": [
          0,
          0
         ]
        },
        {
         "line": {
          "color": [
           "rgb(59.16, 0.00, 255.00)",
           "rgb(59.16, 0.00, 255.00)",
           "rgb(58.14, 0.00, 255.00)",
           "rgb(56.87, 0.00, 255.00)",
           "rgb(55.84, 0.00, 255.00)",
           "rgb(54.57, 0.00, 255.00)",
           "rgb(53.55, 0.00, 255.00)",
           "rgb(52.27, 0.00, 255.00)",
           "rgb(51.26, 0.00, 255.00)",
           "rgb(49.98, 0.00, 255.00)",
           "rgb(48.96, 0.00, 255.00)",
           "rgb(47.69, 0.00, 255.00)",
           "rgb(46.66, 0.00, 255.00)",
           "rgb(45.39, 0.00, 255.00)",
           "rgb(44.37, 0.00, 255.00)",
           "rgb(43.10, 0.00, 255.00)",
           "rgb(42.08, 0.00, 255.00)",
           "rgb(40.80, 0.00, 255.00)",
           "rgb(39.52, 0.00, 255.00)",
           "rgb(38.50, 0.00, 255.00)",
           "rgb(37.23, 0.00, 255.00)",
           "rgb(36.21, 0.00, 255.00)",
           "rgb(34.94, 0.00, 255.00)",
           "rgb(33.91, 0.00, 255.00)",
           "rgb(32.64, 0.00, 255.00)",
           "rgb(31.62, 0.00, 255.00)",
           "rgb(30.34, 0.00, 255.00)",
           "rgb(29.33, 0.00, 255.00)",
           "rgb(28.05, 0.00, 255.00)",
           "rgb(27.03, 0.00, 255.00)",
           "rgb(25.76, 0.00, 255.00)",
           "rgb(24.73, 0.00, 255.00)",
           "rgb(23.46, 0.00, 255.00)",
           "rgb(22.44, 0.00, 255.00)",
           "rgb(21.17, 0.00, 255.00)",
           "rgb(20.14, 0.00, 255.00)",
           "rgb(18.87, 0.00, 255.00)",
           "rgb(17.85, 0.00, 255.00)",
           "rgb(16.57, 0.00, 255.00)",
           "rgb(15.55, 0.00, 255.00)",
           "rgb(14.28, 0.00, 255.00)",
           "rgb(13.26, 0.00, 255.00)",
           "rgb(11.98, 0.00, 255.00)"
          ],
          "width": 4
         },
         "mode": "lines",
         "showlegend": false,
         "type": "scatter3d",
         "x": [
          10,
          6.464,
          7.172,
          10.707,
          11.414,
          7.879,
          8.586,
          12.121,
          12.828,
          9.293,
          10,
          13.536,
          14.243,
          10.707,
          11.414,
          14.95,
          15.657,
          12.121,
          12.828,
          16.364,
          17.071,
          13.536,
          14.243,
          17.778,
          18.485,
          14.95,
          15.657,
          19.192,
          19.899,
          16.364,
          17.071,
          20.607,
          21.314,
          17.778,
          18.485,
          22.021,
          22.728,
          19.192,
          19.899,
          23.435,
          24.142,
          20.607,
          21.314
         ],
         "y": [
          40,
          43.536,
          44.243,
          40.707,
          41.414,
          44.95,
          45.657,
          42.121,
          42.828,
          46.364,
          47.071,
          43.536,
          44.243,
          47.778,
          48.485,
          44.95,
          45.657,
          49.192,
          49.899,
          46.364,
          47.071,
          50.607,
          51.314,
          47.778,
          48.485,
          52.021,
          52.728,
          49.192,
          49.899,
          53.435,
          54.142,
          50.607,
          51.314,
          54.849,
          55.556,
          52.021,
          52.728,
          56.263,
          56.971,
          53.435,
          54.142,
          57.678,
          58.385
         ],
         "z": [
          0,
          0,
          0,
          0,
          0,
          0,
          0,
          0,
          0,
          0,
          0,
          0,
          0,
          0,
          0,
          0,
          0,
          0,
          0,
          0,
          0,
          0,
          0,
          0,
          0,
          0,
          0,
          0,
          0,
          0,
          0,
          0,
          0,
          0,
          0,
          0,
          0,
          0,
          0,
          0,
          0,
          0,
          0
         ]
        },
        {
         "line": {
          "color": [
           "rgb(191.25, 127.50, 127.50)",
           "rgb(191.25, 127.50, 127.50)"
          ],
          "width": 1
         },
         "mode": "lines",
         "showlegend": false,
         "type": "scatter3d",
         "x": [
          21.314,
          40
         ],
         "y": [
          58.385,
          45
         ],
         "z": [
          0,
          0
         ]
        },
        {
         "line": {
          "color": [
           "rgb(9.69, 0.00, 255.00)",
           "rgb(9.69, 0.00, 255.00)",
           "rgb(8.67, 0.00, 255.00)",
           "rgb(7.40, 0.00, 255.00)",
           "rgb(6.38, 0.00, 255.00)",
           "rgb(5.10, 0.00, 255.00)",
           "rgb(4.08, 0.00, 255.00)",
           "rgb(2.80, 0.00, 255.00)",
           "rgb(1.79, 0.00, 255.00)",
           "rgb(0.51, 0.00, 255.00)",
           "rgb(0.00, 0.77, 255.00)",
           "rgb(0.00, 2.04, 255.00)",
           "rgb(0.00, 3.57, 255.00)",
           "rgb(0.00, 5.10, 255.00)",
           "rgb(0.00, 6.38, 255.00)",
           "rgb(0.00, 7.91, 255.00)",
           "rgb(0.00, 9.43, 255.00)",
           "rgb(0.00, 10.71, 255.00)",
           "rgb(0.00, 12.24, 255.00)",
           "rgb(0.00, 13.77, 255.00)",
           "rgb(0.00, 15.04, 255.00)"
          ],
          "width": 4
         },
         "mode": "lines",
         "showlegend": false,
         "type": "scatter3d",
         "x": [
          40,
          45,
          40,
          45,
          40,
          45,
          40,
          45,
          40,
          45,
          40,
          45,
          40,
          45,
          40,
          45,
          40,
          45,
          40,
          45,
          40
         ],
         "y": [
          45,
          44,
          43,
          42,
          41,
          40,
          39,
          38,
          37,
          36,
          35,
          34,
          33,
          32,
          31,
          30,
          29,
          28,
          27,
          26,
          25
         ],
         "z": [
          0,
          0,
          0,
          0,
          0,
          0,
          0,
          0,
          0,
          0,
          0,
          0,
          0,
          0,
          0,
          0,
          0,
          0,
          0,
          0,
          0
         ]
        },
        {
         "line": {
          "color": [
           "rgb(191.25, 127.50, 127.50)",
           "rgb(191.25, 127.50, 127.50)"
          ],
          "width": 1
         },
         "mode": "lines",
         "showlegend": false,
         "type": "scatter3d",
         "x": [
          40,
          50
         ],
         "y": [
          25,
          35
         ],
         "z": [
          0,
          0
         ]
        },
        {
         "line": {
          "color": [
           "rgb(0.00, 17.85, 255.00)",
           "rgb(0.00, 17.85, 255.00)",
           "rgb(0.00, 19.38, 255.00)",
           "rgb(0.00, 20.91, 255.00)",
           "rgb(0.00, 22.18, 255.00)",
           "rgb(0.00, 23.71, 255.00)",
           "rgb(0.00, 25.25, 255.00)",
           "rgb(0.00, 26.52, 255.00)",
           "rgb(0.00, 28.05, 255.00)",
           "rgb(0.00, 29.33, 255.00)",
           "rgb(0.00, 30.86, 255.00)",
           "rgb(0.00, 32.38, 255.00)",
           "rgb(0.00, 33.66, 255.00)",
           "rgb(0.00, 35.19, 255.00)",
           "rgb(0.00, 36.72, 255.00)",
           "rgb(0.00, 37.99, 255.00)",
           "rgb(0.00, 39.52, 255.00)",
           "rgb(0.00, 41.05, 255.00)",
           "rgb(0.00, 42.33, 255.00)",
           "rgb(0.00, 43.86, 255.00)",
           "rgb(0.00, 45.13, 255.00)",
           "rgb(0.00, 46.66, 255.00)",
           "rgb(0.00, 48.20, 255.00)",
           "rgb(0.00, 49.47, 255.00)",
           "rgb(0.00, 51.00, 255.00)",
           "rgb(0.00, 52.53, 255.00)",
           "rgb(0.00, 53.80, 255.00)",
           "rgb(0.00, 55.34, 255.00)",
           "rgb(0.00, 56.87, 255.00)",
           "rgb(0.00, 58.14, 255.00)",
           "rgb(0.00, 59.67, 255.00)",
           "rgb(0.00, 60.95, 255.00)",
           "rgb(0.00, 62.48, 255.00)",
           "rgb(0.00, 64.00, 255.00)",
           "rgb(0.00, 65.28, 255.00)",
           "rgb(0.00, 66.81, 255.00)",
           "rgb(0.00, 68.34, 255.00)",
           "rgb(0.00, 69.62, 255.00)",
           "rgb(0.00, 71.15, 255.00)",
           "rgb(0.00, 72.67, 255.00)",
           "rgb(0.00, 73.95, 255.00)",
           "rgb(0.00, 75.48, 255.00)",
           "rgb(0.00, 76.75, 255.00)",
           "rgb(0.00, 78.28, 255.00)",
           "rgb(0.00, 79.81, 255.00)",
           "rgb(0.00, 81.09, 255.00)",
           "rgb(0.00, 82.62, 255.00)",
           "rgb(0.00, 84.15, 255.00)",
           "rgb(0.00, 85.43, 255.00)",
           "rgb(0.00, 86.96, 255.00)",
           "rgb(0.00, 88.23, 255.00)",
           "rgb(0.00, 89.76, 255.00)",
           "rgb(0.00, 91.29, 255.00)",
           "rgb(0.00, 92.56, 255.00)",
           "rgb(0.00, 94.09, 255.00)",
           "rgb(0.00, 95.62, 255.00)",
           "rgb(0.00, 96.90, 255.00)",
           "rgb(0.00, 98.43, 255.00)",
           "rgb(0.00, 99.96, 255.00)",
           "rgb(0.00, 101.23, 255.00)",
           "rgb(0.00, 102.77, 255.00)",
           "rgb(0.00, 104.04, 255.00)",
           "rgb(0.00, 105.57, 255.00)",
           "rgb(0.00, 107.10, 255.00)",
           "rgb(0.00, 108.38, 255.00)",
           "rgb(0.00, 109.91, 255.00)",
           "rgb(0.00, 111.44, 255.00)",
           "rgb(0.00, 112.71, 255.00)",
           "rgb(0.00, 114.24, 255.00)",
           "rgb(0.00, 115.77, 255.00)",
           "rgb(0.00, 117.05, 255.00)",
           "rgb(0.00, 118.58, 255.00)",
           "rgb(0.00, 119.85, 255.00)",
           "rgb(0.00, 121.38, 255.00)",
           "rgb(0.00, 122.91, 255.00)",
           "rgb(0.00, 124.19, 255.00)",
           "rgb(0.00, 125.72, 255.00)",
           "rgb(0.00, 127.25, 255.00)",
           "rgb(0.00, 128.52, 255.00)",
           "rgb(0.00, 130.05, 255.00)",
           "rgb(0.00, 131.33, 255.00)",
           "rgb(0.00, 132.86, 255.00)",
           "rgb(0.00, 134.39, 255.00)",
           "rgb(0.00, 135.66, 255.00)",
           "rgb(0.00, 137.19, 255.00)",
           "rgb(0.00, 138.72, 255.00)",
           "rgb(0.00, 140.00, 255.00)",
           "rgb(0.00, 141.53, 255.00)",
           "rgb(0.00, 143.06, 255.00)",
           "rgb(0.00, 144.33, 255.00)",
           "rgb(0.00, 145.86, 255.00)",
           "rgb(0.00, 147.13, 255.00)",
           "rgb(0.00, 148.66, 255.00)",
           "rgb(0.00, 150.19, 255.00)",
           "rgb(0.00, 151.47, 255.00)",
           "rgb(0.00, 153.00, 255.00)",
           "rgb(0.00, 154.53, 255.00)",
           "rgb(0.00, 155.81, 255.00)",
           "rgb(0.00, 157.34, 255.00)",
           "rgb(0.00, 158.87, 255.00)",
           "rgb(0.00, 160.14, 255.00)",
           "rgb(0.00, 161.67, 255.00)",
           "rgb(0.00, 162.94, 255.00)",
           "rgb(0.00, 164.47, 255.00)",
           "rgb(0.00, 166.00, 255.00)",
           "rgb(0.00, 167.28, 255.00)",
           "rgb(0.00, 168.81, 255.00)",
           "rgb(0.00, 170.34, 255.00)",
           "rgb(0.00, 171.62, 255.00)",
           "rgb(0.00, 173.15, 255.00)",
           "rgb(0.00, 174.68, 255.00)",
           "rgb(0.00, 175.95, 255.00)",
           "rgb(0.00, 177.48, 255.00)",
           "rgb(0.00, 178.75, 255.00)",
           "rgb(0.00, 180.28, 255.00)",
           "rgb(0.00, 181.81, 255.00)",
           "rgb(0.00, 183.09, 255.00)",
           "rgb(0.00, 184.62, 255.00)",
           "rgb(0.00, 186.15, 255.00)",
           "rgb(0.00, 187.42, 255.00)",
           "rgb(0.00, 188.95, 255.00)",
           "rgb(0.00, 190.23, 255.00)",
           "rgb(0.00, 191.76, 255.00)",
           "rgb(0.00, 193.29, 255.00)",
           "rgb(0.00, 194.56, 255.00)",
           "rgb(0.00, 196.09, 255.00)",
           "rgb(0.00, 197.62, 255.00)",
           "rgb(0.00, 198.90, 255.00)",
           "rgb(0.00, 200.43, 255.00)",
           "rgb(0.00, 201.96, 255.00)",
           "rgb(0.00, 203.24, 255.00)",
           "rgb(0.00, 204.77, 255.00)",
           "rgb(0.00, 206.04, 255.00)",
           "rgb(0.00, 207.57, 255.00)",
           "rgb(0.00, 209.10, 255.00)",
           "rgb(0.00, 210.38, 255.00)",
           "rgb(0.00, 211.91, 255.00)",
           "rgb(0.00, 213.44, 255.00)",
           "rgb(0.00, 214.71, 255.00)",
           "rgb(0.00, 216.24, 255.00)",
           "rgb(0.00, 217.77, 255.00)",
           "rgb(0.00, 219.04, 255.00)",
           "rgb(0.00, 220.57, 255.00)",
           "rgb(0.00, 221.85, 255.00)",
           "rgb(0.00, 223.38, 255.00)",
           "rgb(0.00, 224.91, 255.00)",
           "rgb(0.00, 226.19, 255.00)",
           "rgb(0.00, 227.72, 255.00)",
           "rgb(0.00, 229.25, 255.00)",
           "rgb(0.00, 230.52, 255.00)",
           "rgb(0.00, 232.05, 255.00)",
           "rgb(0.00, 233.33, 255.00)",
           "rgb(0.00, 234.86, 255.00)",
           "rgb(0.00, 236.39, 255.00)",
           "rgb(0.00, 237.66, 255.00)",
           "rgb(0.00, 239.19, 255.00)",
           "rgb(0.00, 240.72, 255.00)",
           "rgb(0.00, 241.99, 255.00)",
           "rgb(0.00, 243.52, 255.00)",
           "rgb(0.00, 245.05, 255.00)",
           "rgb(0.00, 246.33, 255.00)"
          ],
          "width": 4
         },
         "mode": "lines",
         "showlegend": false,
         "type": "scatter3d",
         "x": [
          50,
          50.19,
          50.732,
          51.543,
          52.5,
          53.457,
          54.268,
          54.81,
          55,
          54.81,
          54.268,
          53.457,
          52.5,
          51.543,
          50.732,
          50.19,
          50,
          50.19,
          50.732,
          51.543,
          52.5,
          53.457,
          54.268,
          54.81,
          55,
          54.81,
          54.268,
          53.457,
          52.5,
          51.543,
          50.732,
          50.19,
          50,
          50.19,
          50.732,
          51.543,
          52.5,
          53.457,
          54.268,
          54.81,
          55,
          54.81,
          54.268,
          53.457,
          52.5,
          51.543,
          50.732,
          50.19,
          50,
          50.19,
          50.732,
          51.543,
          52.5,
          53.457,
          54.268,
          54.81,
          55,
          54.81,
          54.268,
          53.457,
          52.5,
          51.543,
          50.732,
          50.19,
          50,
          50.19,
          50.732,
          51.543,
          52.5,
          53.457,
          54.268,
          54.81,
          55,
          54.81,
          54.268,
          53.457,
          52.5,
          51.543,
          50.732,
          50.19,
          50,
          50.19,
          50.732,
          51.543,
          52.5,
          53.457,
          54.268,
          54.81,
          55,
          54.81,
          54.268,
          53.457,
          52.5,
          51.543,
          50.732,
          50.19,
          50,
          50.19,
          50.732,
          51.543,
          52.5,
          53.457,
          54.268,
          54.81,
          55,
          54.81,
          54.268,
          53.457,
          52.5,
          51.543,
          50.732,
          50.19,
          50,
          50.19,
          50.732,
          51.543,
          52.5,
          53.457,
          54.268,
          54.81,
          55,
          54.81,
          54.268,
          53.457,
          52.5,
          51.543,
          50.732,
          50.19,
          50,
          50.19,
          50.732,
          51.543,
          52.5,
          53.457,
          54.268,
          54.81,
          55,
          54.81,
          54.268,
          53.457,
          52.5,
          51.543,
          50.732,
          50.19,
          50,
          50.19,
          50.732,
          51.543,
          52.5,
          53.457,
          54.268,
          54.81,
          55,
          54.81,
          54.268,
          53.457,
          52.5,
          51.543,
          50.732,
          50.19,
          50
         ],
         "y": [
          35,
          34.875,
          34.75,
          34.625,
          34.5,
          34.375,
          34.25,
          34.125,
          34,
          33.875,
          33.75,
          33.625,
          33.5,
          33.375,
          33.25,
          33.125,
          33,
          32.875,
          32.75,
          32.625,
          32.5,
          32.375,
          32.25,
          32.125,
          32,
          31.875,
          31.75,
          31.625,
          31.5,
          31.375,
          31.25,
          31.125,
          31,
          30.875,
          30.75,
          30.625,
          30.5,
          30.375,
          30.25,
          30.125,
          30,
          29.875,
          29.75,
          29.625,
          29.5,
          29.375,
          29.25,
          29.125,
          29,
          28.875,
          28.75,
          28.625,
          28.5,
          28.375,
          28.25,
          28.125,
          28,
          27.875,
          27.75,
          27.625,
          27.5,
          27.375,
          27.25,
          27.125,
          27,
          26.875,
          26.75,
          26.625,
          26.5,
          26.375,
          26.25,
          26.125,
          26,
          25.875,
          25.75,
          25.625,
          25.5,
          25.375,
          25.25,
          25.125,
          25,
          24.875,
          24.75,
          24.625,
          24.5,
          24.375,
          24.25,
          24.125,
          24,
          23.875,
          23.75,
          23.625,
          23.5,
          23.375,
          23.25,
          23.125,
          23,
          22.875,
          22.75,
          22.625,
          22.5,
          22.375,
          22.25,
          22.125,
          22,
          21.875,
          21.75,
          21.625,
          21.5,
          21.375,
          21.25,
          21.125,
          21,
          20.875,
          20.75,
          20.625,
          20.5,
          20.375,
          20.25,
          20.125,
          20,
          19.875,
          19.75,
          19.625,
          19.5,
          19.375,
          19.25,
          19.125,
          19,
          18.875,
          18.75,
          18.625,
          18.5,
          18.375,
          18.25,
          18.125,
          18,
          17.875,
          17.75,
          17.625,
          17.5,
          17.375,
          17.25,
          17.125,
          17,
          16.875,
          16.75,
          16.625,
          16.5,
          16.375,
          16.25,
          16.125,
          16,
          15.875,
          15.75,
          15.625,
          15.5,
          15.375,
          15.25,
          15.125,
          15
         ],
         "z": [
          0,
          0,
          0,
          0,
          0,
          0,
          0,
          0,
          0,
          0,
          0,
          0,
          0,
          0,
          0,
          0,
          0,
          0,
          0,
          0,
          0,
          0,
          0,
          0,
          0,
          0,
          0,
          0,
          0,
          0,
          0,
          0,
          0,
          0,
          0,
          0,
          0,
          0,
          0,
          0,
          0,
          0,
          0,
          0,
          0,
          0,
          0,
          0,
          0,
          0,
          0,
          0,
          0,
          0,
          0,
          0,
          0,
          0,
          0,
          0,
          0,
          0,
          0,
          0,
          0,
          0,
          0,
          0,
          0,
          0,
          0,
          0,
          0,
          0,
          0,
          0,
          0,
          0,
          0,
          0,
          0,
          0,
          0,
          0,
          0,
          0,
          0,
          0,
          0,
          0,
          0,
          0,
          0,
          0,
          0,
          0,
          0,
          0,
          0,
          0,
          0,
          0,
          0,
          0,
          0,
          0,
          0,
          0,
          0,
          0,
          0,
          0,
          0,
          0,
          0,
          0,
          0,
          0,
          0,
          0,
          0,
          0,
          0,
          0,
          0,
          0,
          0,
          0,
          0,
          0,
          0,
          0,
          0,
          0,
          0,
          0,
          0,
          0,
          0,
          0,
          0,
          0,
          0,
          0,
          0,
          0,
          0,
          0,
          0,
          0,
          0,
          0,
          0,
          0,
          0,
          0,
          0,
          0,
          0,
          0,
          0
         ]
        },
        {
         "marker": {
          "color": "red",
          "size": 2
         },
         "mode": "markers",
         "showlegend": false,
         "type": "scatter3d",
         "x": [
          10,
          10,
          30,
          10,
          31,
          10,
          21.314,
          40,
          50
         ],
         "y": [
          10,
          20,
          25,
          30,
          35,
          40,
          58.385,
          45,
          35
         ],
         "z": [
          0,
          0,
          0,
          0,
          0,
          0,
          0,
          0,
          0
         ]
        }
       ],
       "layout": {
        "height": 500,
        "margin": {
         "b": 10,
         "l": 10,
         "pad": 4,
         "r": 10,
         "t": 10
        },
        "paper_bgcolor": "black",
        "scene": {
         "annotations": [
          {
           "showarrow": false,
           "text": "start of wave 1",
           "x": 10,
           "y": 10,
           "yshift": 10,
           "z": 0
          },
          {
           "showarrow": false,
           "text": "start of wave 2",
           "x": 10,
           "y": 20,
           "yshift": 10,
           "z": 0
          },
          {
           "showarrow": false,
           "text": "extra half period",
           "x": 30,
           "y": 25,
           "yshift": 10,
           "z": 0
          },
          {
           "showarrow": false,
           "text": "start of wave 3",
           "x": 10,
           "y": 30,
           "yshift": 10,
           "z": 0
          },
          {
           "showarrow": false,
           "text": "extra end-line",
           "x": 31,
           "y": 35,
           "yshift": 10,
           "z": 0
          },
          {
           "showarrow": false,
           "text": "start of wave 4 (squarewaveXYpolar)",
           "x": 10,
           "y": 40,
           "yshift": 10,
           "z": 0
          },
          {
           "showarrow": false,
           "text": "wave in polar direction tau/8",
           "x": 21.314,
           "y": 58.385,
           "yshift": 10,
           "z": 0
          },
          {
           "showarrow": false,
           "text": "start of wave 5 (trianglewaveXYpolar)",
           "x": 40,
           "y": 45,
           "yshift": 10,
           "z": 0
          },
          {
           "showarrow": false,
           "text": "start of wave 6 (sinewaveXYpolar)",
           "x": 50,
           "y": 35,
           "yshift": 10,
           "z": 0
          }
         ],
         "aspectmode": "cube",
         "camera": {
          "center": {
           "x": 0,
           "y": 0,
           "z": -0.5
          },
          "eye": {
           "x": -0.5,
           "y": -1,
           "z": 0
          }
         },
         "xaxis": {
          "backgroundcolor": "black",
          "nticks": 10,
          "range": [
           6.463466094067261,
           55.001000000000005
          ]
         },
         "yaxis": {
          "backgroundcolor": "black",
          "nticks": 10,
          "range": [
           9.923621202458737,
           58.46115510839148
          ]
         },
         "zaxis": {
          "backgroundcolor": "black",
          "nticks": 10,
          "range": [
           0,
           48.53753390593274
          ]
         }
        },
        "template": {
         "data": {
          "bar": [
           {
            "error_x": {
             "color": "#f2f5fa"
            },
            "error_y": {
             "color": "#f2f5fa"
            },
            "marker": {
             "line": {
              "color": "rgb(17,17,17)",
              "width": 0.5
             },
             "pattern": {
              "fillmode": "overlay",
              "size": 10,
              "solidity": 0.2
             }
            },
            "type": "bar"
           }
          ],
          "barpolar": [
           {
            "marker": {
             "line": {
              "color": "rgb(17,17,17)",
              "width": 0.5
             },
             "pattern": {
              "fillmode": "overlay",
              "size": 10,
              "solidity": 0.2
             }
            },
            "type": "barpolar"
           }
          ],
          "carpet": [
           {
            "aaxis": {
             "endlinecolor": "#A2B1C6",
             "gridcolor": "#506784",
             "linecolor": "#506784",
             "minorgridcolor": "#506784",
             "startlinecolor": "#A2B1C6"
            },
            "baxis": {
             "endlinecolor": "#A2B1C6",
             "gridcolor": "#506784",
             "linecolor": "#506784",
             "minorgridcolor": "#506784",
             "startlinecolor": "#A2B1C6"
            },
            "type": "carpet"
           }
          ],
          "choropleth": [
           {
            "colorbar": {
             "outlinewidth": 0,
             "ticks": ""
            },
            "type": "choropleth"
           }
          ],
          "contour": [
           {
            "colorbar": {
             "outlinewidth": 0,
             "ticks": ""
            },
            "colorscale": [
             [
              0,
              "#0d0887"
             ],
             [
              0.1111111111111111,
              "#46039f"
             ],
             [
              0.2222222222222222,
              "#7201a8"
             ],
             [
              0.3333333333333333,
              "#9c179e"
             ],
             [
              0.4444444444444444,
              "#bd3786"
             ],
             [
              0.5555555555555556,
              "#d8576b"
             ],
             [
              0.6666666666666666,
              "#ed7953"
             ],
             [
              0.7777777777777778,
              "#fb9f3a"
             ],
             [
              0.8888888888888888,
              "#fdca26"
             ],
             [
              1,
              "#f0f921"
             ]
            ],
            "type": "contour"
           }
          ],
          "contourcarpet": [
           {
            "colorbar": {
             "outlinewidth": 0,
             "ticks": ""
            },
            "type": "contourcarpet"
           }
          ],
          "heatmap": [
           {
            "colorbar": {
             "outlinewidth": 0,
             "ticks": ""
            },
            "colorscale": [
             [
              0,
              "#0d0887"
             ],
             [
              0.1111111111111111,
              "#46039f"
             ],
             [
              0.2222222222222222,
              "#7201a8"
             ],
             [
              0.3333333333333333,
              "#9c179e"
             ],
             [
              0.4444444444444444,
              "#bd3786"
             ],
             [
              0.5555555555555556,
              "#d8576b"
             ],
             [
              0.6666666666666666,
              "#ed7953"
             ],
             [
              0.7777777777777778,
              "#fb9f3a"
             ],
             [
              0.8888888888888888,
              "#fdca26"
             ],
             [
              1,
              "#f0f921"
             ]
            ],
            "type": "heatmap"
           }
          ],
          "histogram": [
           {
            "marker": {
             "pattern": {
              "fillmode": "overlay",
              "size": 10,
              "solidity": 0.2
             }
            },
            "type": "histogram"
           }
          ],
          "histogram2d": [
           {
            "colorbar": {
             "outlinewidth": 0,
             "ticks": ""
            },
            "colorscale": [
             [
              0,
              "#0d0887"
             ],
             [
              0.1111111111111111,
              "#46039f"
             ],
             [
              0.2222222222222222,
              "#7201a8"
             ],
             [
              0.3333333333333333,
              "#9c179e"
             ],
             [
              0.4444444444444444,
              "#bd3786"
             ],
             [
              0.5555555555555556,
              "#d8576b"
             ],
             [
              0.6666666666666666,
              "#ed7953"
             ],
             [
              0.7777777777777778,
              "#fb9f3a"
             ],
             [
              0.8888888888888888,
              "#fdca26"
             ],
             [
              1,
              "#f0f921"
             ]
            ],
            "type": "histogram2d"
           }
          ],
          "histogram2dcontour": [
           {
            "colorbar": {
             "outlinewidth": 0,
             "ticks": ""
            },
            "colorscale": [
             [
              0,
              "#0d0887"
             ],
             [
              0.1111111111111111,
              "#46039f"
             ],
             [
              0.2222222222222222,
              "#7201a8"
             ],
             [
              0.3333333333333333,
              "#9c179e"
             ],
             [
              0.4444444444444444,
              "#bd3786"
             ],
             [
              0.5555555555555556,
              "#d8576b"
             ],
             [
              0.6666666666666666,
              "#ed7953"
             ],
             [
              0.7777777777777778,
              "#fb9f3a"
             ],
             [
              0.8888888888888888,
              "#fdca26"
             ],
             [
              1,
              "#f0f921"
             ]
            ],
            "type": "histogram2dcontour"
           }
          ],
          "mesh3d": [
           {
            "colorbar": {
             "outlinewidth": 0,
             "ticks": ""
            },
            "type": "mesh3d"
           }
          ],
          "parcoords": [
           {
            "line": {
             "colorbar": {
              "outlinewidth": 0,
              "ticks": ""
             }
            },
            "type": "parcoords"
           }
          ],
          "pie": [
           {
            "automargin": true,
            "type": "pie"
           }
          ],
          "scatter": [
           {
            "marker": {
             "line": {
              "color": "#283442"
             }
            },
            "type": "scatter"
           }
          ],
          "scatter3d": [
           {
            "line": {
             "colorbar": {
              "outlinewidth": 0,
              "ticks": ""
             }
            },
            "marker": {
             "colorbar": {
              "outlinewidth": 0,
              "ticks": ""
             }
            },
            "type": "scatter3d"
           }
          ],
          "scattercarpet": [
           {
            "marker": {
             "colorbar": {
              "outlinewidth": 0,
              "ticks": ""
             }
            },
            "type": "scattercarpet"
           }
          ],
          "scattergeo": [
           {
            "marker": {
             "colorbar": {
              "outlinewidth": 0,
              "ticks": ""
             }
            },
            "type": "scattergeo"
           }
          ],
          "scattergl": [
           {
            "marker": {
             "line": {
              "color": "#283442"
             }
            },
            "type": "scattergl"
           }
          ],
          "scattermap": [
           {
            "marker": {
             "colorbar": {
              "outlinewidth": 0,
              "ticks": ""
             }
            },
            "type": "scattermap"
           }
          ],
          "scattermapbox": [
           {
            "marker": {
             "colorbar": {
              "outlinewidth": 0,
              "ticks": ""
             }
            },
            "type": "scattermapbox"
           }
          ],
          "scatterpolar": [
           {
            "marker": {
             "colorbar": {
              "outlinewidth": 0,
              "ticks": ""
             }
            },
            "type": "scatterpolar"
           }
          ],
          "scatterpolargl": [
           {
            "marker": {
             "colorbar": {
              "outlinewidth": 0,
              "ticks": ""
             }
            },
            "type": "scatterpolargl"
           }
          ],
          "scatterternary": [
           {
            "marker": {
             "colorbar": {
              "outlinewidth": 0,
              "ticks": ""
             }
            },
            "type": "scatterternary"
           }
          ],
          "surface": [
           {
            "colorbar": {
             "outlinewidth": 0,
             "ticks": ""
            },
            "colorscale": [
             [
              0,
              "#0d0887"
             ],
             [
              0.1111111111111111,
              "#46039f"
             ],
             [
              0.2222222222222222,
              "#7201a8"
             ],
             [
              0.3333333333333333,
              "#9c179e"
             ],
             [
              0.4444444444444444,
              "#bd3786"
             ],
             [
              0.5555555555555556,
              "#d8576b"
             ],
             [
              0.6666666666666666,
              "#ed7953"
             ],
             [
              0.7777777777777778,
              "#fb9f3a"
             ],
             [
              0.8888888888888888,
              "#fdca26"
             ],
             [
              1,
              "#f0f921"
             ]
            ],
            "type": "surface"
           }
          ],
          "table": [
           {
            "cells": {
             "fill": {
              "color": "#506784"
             },
             "line": {
              "color": "rgb(17,17,17)"
             }
            },
            "header": {
             "fill": {
              "color": "#2a3f5f"
             },
             "line": {
              "color": "rgb(17,17,17)"
             }
            },
            "type": "table"
           }
          ]
         },
         "layout": {
          "annotationdefaults": {
           "arrowcolor": "#f2f5fa",
           "arrowhead": 0,
           "arrowwidth": 1
          },
          "autotypenumbers": "strict",
          "coloraxis": {
           "colorbar": {
            "outlinewidth": 0,
            "ticks": ""
           }
          },
          "colorscale": {
           "diverging": [
            [
             0,
             "#8e0152"
            ],
            [
             0.1,
             "#c51b7d"
            ],
            [
             0.2,
             "#de77ae"
            ],
            [
             0.3,
             "#f1b6da"
            ],
            [
             0.4,
             "#fde0ef"
            ],
            [
             0.5,
             "#f7f7f7"
            ],
            [
             0.6,
             "#e6f5d0"
            ],
            [
             0.7,
             "#b8e186"
            ],
            [
             0.8,
             "#7fbc41"
            ],
            [
             0.9,
             "#4d9221"
            ],
            [
             1,
             "#276419"
            ]
           ],
           "sequential": [
            [
             0,
             "#0d0887"
            ],
            [
             0.1111111111111111,
             "#46039f"
            ],
            [
             0.2222222222222222,
             "#7201a8"
            ],
            [
             0.3333333333333333,
             "#9c179e"
            ],
            [
             0.4444444444444444,
             "#bd3786"
            ],
            [
             0.5555555555555556,
             "#d8576b"
            ],
            [
             0.6666666666666666,
             "#ed7953"
            ],
            [
             0.7777777777777778,
             "#fb9f3a"
            ],
            [
             0.8888888888888888,
             "#fdca26"
            ],
            [
             1,
             "#f0f921"
            ]
           ],
           "sequentialminus": [
            [
             0,
             "#0d0887"
            ],
            [
             0.1111111111111111,
             "#46039f"
            ],
            [
             0.2222222222222222,
             "#7201a8"
            ],
            [
             0.3333333333333333,
             "#9c179e"
            ],
            [
             0.4444444444444444,
             "#bd3786"
            ],
            [
             0.5555555555555556,
             "#d8576b"
            ],
            [
             0.6666666666666666,
             "#ed7953"
            ],
            [
             0.7777777777777778,
             "#fb9f3a"
            ],
            [
             0.8888888888888888,
             "#fdca26"
            ],
            [
             1,
             "#f0f921"
            ]
           ]
          },
          "colorway": [
           "#636efa",
           "#EF553B",
           "#00cc96",
           "#ab63fa",
           "#FFA15A",
           "#19d3f3",
           "#FF6692",
           "#B6E880",
           "#FF97FF",
           "#FECB52"
          ],
          "font": {
           "color": "#f2f5fa"
          },
          "geo": {
           "bgcolor": "rgb(17,17,17)",
           "lakecolor": "rgb(17,17,17)",
           "landcolor": "rgb(17,17,17)",
           "showlakes": true,
           "showland": true,
           "subunitcolor": "#506784"
          },
          "hoverlabel": {
           "align": "left"
          },
          "hovermode": "closest",
          "mapbox": {
           "style": "dark"
          },
          "paper_bgcolor": "rgb(17,17,17)",
          "plot_bgcolor": "rgb(17,17,17)",
          "polar": {
           "angularaxis": {
            "gridcolor": "#506784",
            "linecolor": "#506784",
            "ticks": ""
           },
           "bgcolor": "rgb(17,17,17)",
           "radialaxis": {
            "gridcolor": "#506784",
            "linecolor": "#506784",
            "ticks": ""
           }
          },
          "scene": {
           "xaxis": {
            "backgroundcolor": "rgb(17,17,17)",
            "gridcolor": "#506784",
            "gridwidth": 2,
            "linecolor": "#506784",
            "showbackground": true,
            "ticks": "",
            "zerolinecolor": "#C8D4E3"
           },
           "yaxis": {
            "backgroundcolor": "rgb(17,17,17)",
            "gridcolor": "#506784",
            "gridwidth": 2,
            "linecolor": "#506784",
            "showbackground": true,
            "ticks": "",
            "zerolinecolor": "#C8D4E3"
           },
           "zaxis": {
            "backgroundcolor": "rgb(17,17,17)",
            "gridcolor": "#506784",
            "gridwidth": 2,
            "linecolor": "#506784",
            "showbackground": true,
            "ticks": "",
            "zerolinecolor": "#C8D4E3"
           }
          },
          "shapedefaults": {
           "line": {
            "color": "#f2f5fa"
           }
          },
          "sliderdefaults": {
           "bgcolor": "#C8D4E3",
           "bordercolor": "rgb(17,17,17)",
           "borderwidth": 1,
           "tickwidth": 0
          },
          "ternary": {
           "aaxis": {
            "gridcolor": "#506784",
            "linecolor": "#506784",
            "ticks": ""
           },
           "baxis": {
            "gridcolor": "#506784",
            "linecolor": "#506784",
            "ticks": ""
           },
           "bgcolor": "rgb(17,17,17)",
           "caxis": {
            "gridcolor": "#506784",
            "linecolor": "#506784",
            "ticks": ""
           }
          },
          "title": {
           "x": 0.05
          },
          "updatemenudefaults": {
           "bgcolor": "#506784",
           "borderwidth": 0
          },
          "xaxis": {
           "automargin": true,
           "gridcolor": "#283442",
           "linecolor": "#506784",
           "ticks": "",
           "title": {
            "standoff": 15
           },
           "zerolinecolor": "#283442",
           "zerolinewidth": 2
          },
          "yaxis": {
           "automargin": true,
           "gridcolor": "#283442",
           "linecolor": "#506784",
           "ticks": "",
           "title": {
            "standoff": 15
           },
           "zerolinecolor": "#283442",
           "zerolinewidth": 2
          }
         }
        },
        "width": 800
       }
      }
     },
     "metadata": {},
     "output_type": "display_data"
    }
   ],
   "source": [
    "# wave 1\n",
    "start_point = fc.Point(x=10, y=10, z=0)\n",
    "direction = fc.Vector(x=1,y=0)\n",
    "amplitude = 5\n",
    "line_spacing = 1\n",
    "periods = 10\n",
    "extra_half_period = False\n",
    "extra_end_line = False\n",
    "steps = fc.squarewaveXY(start_point, direction, amplitude, line_spacing, periods, extra_half_period, extra_end_line)\n",
    "steps.append(fc.PlotAnnotation(point=start_point, label=\"start of wave 1\"))\n",
    "\n",
    "# wave 2\n",
    "start_point = fc.Point(x=10, y=20, z=0)\n",
    "extra_half_period = True\n",
    "# steps.extend([fc.Extruder(on=False), start_point, fc.Extruder(on=True)])\n",
    "steps.extend(fc.travel_to(start_point))\n",
    "steps.extend(fc.squarewaveXY(start_point, direction, amplitude, line_spacing, periods, extra_half_period, extra_end_line))\n",
    "steps.append(fc.PlotAnnotation(point=start_point, label=\"start of wave 2\"))\n",
    "steps.append(fc.PlotAnnotation(label=\"extra half period\"))\n",
    "\n",
    "# wave 3\n",
    "start_point = fc.Point(x=10, y=30, z=0)\n",
    "extra_half_period = True\n",
    "extra_end_line = True\n",
    "# steps.extend([fc.Extruder(on=False), start_point, fc.Extruder(on=True)])\n",
    "steps.extend(fc.travel_to(start_point))\n",
    "steps.extend(fc.squarewaveXY(start_point, direction, amplitude, line_spacing, periods, extra_half_period, extra_end_line))\n",
    "steps.append(fc.PlotAnnotation(point=start_point, label=\"start of wave 3\"))\n",
    "steps.append(fc.PlotAnnotation(label=\"extra end-line\"))\n",
    "\n",
    "# wave 4\n",
    "start_point = fc.Point(x=10, y=40, z=0)\n",
    "direction_polar = tau/8\n",
    "# steps.extend([fc.Extruder(on=False), start_point, fc.Extruder(on=True)])\n",
    "steps.extend(fc.travel_to(start_point))\n",
    "steps.extend(fc.squarewaveXYpolar(start_point, direction_polar, amplitude, line_spacing, periods, extra_half_period, extra_end_line))\n",
    "steps.append(fc.PlotAnnotation(point=start_point, label=\"start of wave 4 (squarewaveXYpolar)\"))\n",
    "steps.append(fc.PlotAnnotation(label=\"wave in polar direction tau/8\"))\n",
    "\n",
    "# wave 5\n",
    "start_point = fc.Point(x=40, y=45, z=0)\n",
    "direction_polar = 0.75*tau\n",
    "tip_separation = 2\n",
    "extra_half_period = False\n",
    "# steps.extend([fc.Extruder(on=False), start_point, fc.Extruder(on=True)])\n",
    "steps.extend(fc.travel_to(start_point))\n",
    "steps.extend(fc.trianglewaveXYpolar(start_point, direction_polar, amplitude, tip_separation, periods, extra_half_period))\n",
    "steps.append(fc.PlotAnnotation(point=start_point, label=\"start of wave 5 (trianglewaveXYpolar)\"))\n",
    "\n",
    "# wave 5\n",
    "start_point = fc.Point(x=50, y=35, z=0)\n",
    "direction_polar = 0.75*tau\n",
    "period_lenth = 2\n",
    "segments_per_period = 16\n",
    "extra_half_period = False\n",
    "phase_shift = 0\n",
    "# steps.extend([fc.Extruder(on=False), start_point, fc.Extruder(on=True)])\n",
    "steps.extend(fc.travel_to(start_point))\n",
    "steps.extend(fc.sinewaveXYpolar(start_point, direction_polar, amplitude, period_lenth, periods, segments_per_period, extra_half_period, phase_shift))\n",
    "steps.append(fc.PlotAnnotation(point=start_point, label=\"start of wave 6 (sinewaveXYpolar)\"))\n",
    "\n",
    "fc.transform(steps, 'plot', fc.PlotControls(color_type='print_sequence', style='line'))"
   ]
  },
  {
   "attachments": {},
   "cell_type": "markdown",
   "metadata": {},
   "source": [
    "#### segmented line\n",
    "\n",
    "typically, a straight line is created with only start and end points. this means the shape of the line cannot be edited after creation. it is sometimes advantageous to be able to change the shape retrospectively. if the line is defined as a series of segments, all the points along the line can be edited after creation. the example below shows a straight line being modified based on each point\n",
    "\n",
    "the function segmented_line() allows a segmented line to be created easily based on a start point and end point"
   ]
  },
  {
   "cell_type": "code",
   "execution_count": 13,
   "metadata": {},
   "outputs": [
    {
     "data": {
      "application/vnd.plotly.v1+json": {
       "config": {
        "plotlyServerURL": "https://plot.ly"
       },
       "data": [
        {
         "line": {
          "color": [
           "rgb(0.00, 0.00, 255.00)",
           "rgb(0.00, 17.85, 255.00)",
           "rgb(0.00, 33.15, 255.00)",
           "rgb(0.00, 51.00, 255.00)",
           "rgb(0.00, 68.85, 255.00)",
           "rgb(0.00, 84.15, 255.00)",
           "rgb(0.00, 102.00, 255.00)",
           "rgb(0.00, 119.85, 255.00)",
           "rgb(0.00, 135.15, 255.00)",
           "rgb(0.00, 153.00, 255.00)",
           "rgb(0.00, 170.85, 255.00)",
           "rgb(0.00, 186.15, 255.00)",
           "rgb(0.00, 204.00, 255.00)",
           "rgb(0.00, 221.85, 255.00)",
           "rgb(0.00, 237.15, 255.00)",
           "rgb(0.00, 255.00, 255.00)"
          ],
          "width": 4
         },
         "mode": "lines",
         "showlegend": false,
         "type": "scatter3d",
         "x": [
          0,
          6.667,
          13.333,
          20,
          26.667,
          33.333,
          40,
          46.667,
          53.333,
          60,
          66.667,
          73.333,
          80,
          86.667,
          93.333,
          100
         ],
         "y": [
          0,
          4.158,
          8.135,
          11.756,
          14.863,
          17.321,
          19.021,
          19.89,
          19.89,
          19.021,
          17.321,
          14.863,
          11.756,
          8.135,
          4.158,
          0
         ],
         "z": [
          0,
          0.007,
          0.013,
          0.02,
          0.027,
          0.033,
          0.04,
          0.047,
          0.053,
          0.06,
          0.067,
          0.073,
          0.08,
          0.087,
          0.093,
          0.1
         ]
        },
        {
         "marker": {
          "color": "red",
          "size": 2
         },
         "mode": "markers",
         "showlegend": false,
         "type": "scatter3d",
         "x": [
          0,
          6.667,
          13.333,
          20,
          26.667,
          33.333,
          40,
          46.667,
          53.333,
          60,
          66.667,
          73.333,
          80,
          86.667,
          93.333,
          100,
          50
         ],
         "y": [
          0,
          4.158,
          8.135,
          11.756,
          14.863,
          17.321,
          19.021,
          19.89,
          19.89,
          19.021,
          17.321,
          14.863,
          11.756,
          8.135,
          4.158,
          0,
          40
         ],
         "z": [
          0,
          0.007,
          0.013,
          0.02,
          0.027,
          0.033,
          0.04,
          0.047,
          0.053,
          0.06,
          0.067,
          0.073,
          0.08,
          0.087,
          0.093,
          0.1,
          0
         ]
        }
       ],
       "layout": {
        "height": 500,
        "margin": {
         "b": 10,
         "l": 10,
         "pad": 4,
         "r": 10,
         "t": 10
        },
        "paper_bgcolor": "black",
        "scene": {
         "annotations": [
          {
           "showarrow": false,
           "text": "",
           "x": 0,
           "y": 0,
           "yshift": 10,
           "z": 0
          },
          {
           "showarrow": false,
           "text": "",
           "x": 6.667,
           "y": 4.158,
           "yshift": 10,
           "z": 0.007
          },
          {
           "showarrow": false,
           "text": "",
           "x": 13.333,
           "y": 8.135,
           "yshift": 10,
           "z": 0.013
          },
          {
           "showarrow": false,
           "text": "",
           "x": 20,
           "y": 11.756,
           "yshift": 10,
           "z": 0.02
          },
          {
           "showarrow": false,
           "text": "",
           "x": 26.667,
           "y": 14.863,
           "yshift": 10,
           "z": 0.027
          },
          {
           "showarrow": false,
           "text": "",
           "x": 33.333,
           "y": 17.321,
           "yshift": 10,
           "z": 0.033
          },
          {
           "showarrow": false,
           "text": "",
           "x": 40,
           "y": 19.021,
           "yshift": 10,
           "z": 0.04
          },
          {
           "showarrow": false,
           "text": "",
           "x": 46.667,
           "y": 19.89,
           "yshift": 10,
           "z": 0.047
          },
          {
           "showarrow": false,
           "text": "",
           "x": 53.333,
           "y": 19.89,
           "yshift": 10,
           "z": 0.053
          },
          {
           "showarrow": false,
           "text": "",
           "x": 60,
           "y": 19.021,
           "yshift": 10,
           "z": 0.06
          },
          {
           "showarrow": false,
           "text": "",
           "x": 66.667,
           "y": 17.321,
           "yshift": 10,
           "z": 0.067
          },
          {
           "showarrow": false,
           "text": "",
           "x": 73.333,
           "y": 14.863,
           "yshift": 10,
           "z": 0.073
          },
          {
           "showarrow": false,
           "text": "",
           "x": 80,
           "y": 11.756,
           "yshift": 10,
           "z": 0.08
          },
          {
           "showarrow": false,
           "text": "",
           "x": 86.667,
           "y": 8.135,
           "yshift": 10,
           "z": 0.087
          },
          {
           "showarrow": false,
           "text": "",
           "x": 93.333,
           "y": 4.158,
           "yshift": 10,
           "z": 0.093
          },
          {
           "showarrow": false,
           "text": "",
           "x": 100,
           "y": 0,
           "yshift": 10,
           "z": 0.1
          },
          {
           "showarrow": false,
           "text": "points along a segmented line can be modified after creation to form a curve",
           "x": 50,
           "y": 40,
           "yshift": 10,
           "z": 0
          }
         ],
         "aspectmode": "cube",
         "camera": {
          "center": {
           "x": 0,
           "y": 0,
           "z": -0.4995000099998
          },
          "eye": {
           "x": -0.5,
           "y": -1,
           "z": 0
          }
         },
         "xaxis": {
          "backgroundcolor": "black",
          "nticks": 10,
          "range": [
           -0.0009999999999976694,
           100.001
          ]
         },
         "yaxis": {
          "backgroundcolor": "black",
          "nticks": 10,
          "range": [
           -40.055781046317264,
           59.94621895368273
          ]
         },
         "zaxis": {
          "backgroundcolor": "black",
          "nticks": 10,
          "range": [
           0,
           100.002
          ]
         }
        },
        "template": {
         "data": {
          "bar": [
           {
            "error_x": {
             "color": "#f2f5fa"
            },
            "error_y": {
             "color": "#f2f5fa"
            },
            "marker": {
             "line": {
              "color": "rgb(17,17,17)",
              "width": 0.5
             },
             "pattern": {
              "fillmode": "overlay",
              "size": 10,
              "solidity": 0.2
             }
            },
            "type": "bar"
           }
          ],
          "barpolar": [
           {
            "marker": {
             "line": {
              "color": "rgb(17,17,17)",
              "width": 0.5
             },
             "pattern": {
              "fillmode": "overlay",
              "size": 10,
              "solidity": 0.2
             }
            },
            "type": "barpolar"
           }
          ],
          "carpet": [
           {
            "aaxis": {
             "endlinecolor": "#A2B1C6",
             "gridcolor": "#506784",
             "linecolor": "#506784",
             "minorgridcolor": "#506784",
             "startlinecolor": "#A2B1C6"
            },
            "baxis": {
             "endlinecolor": "#A2B1C6",
             "gridcolor": "#506784",
             "linecolor": "#506784",
             "minorgridcolor": "#506784",
             "startlinecolor": "#A2B1C6"
            },
            "type": "carpet"
           }
          ],
          "choropleth": [
           {
            "colorbar": {
             "outlinewidth": 0,
             "ticks": ""
            },
            "type": "choropleth"
           }
          ],
          "contour": [
           {
            "colorbar": {
             "outlinewidth": 0,
             "ticks": ""
            },
            "colorscale": [
             [
              0,
              "#0d0887"
             ],
             [
              0.1111111111111111,
              "#46039f"
             ],
             [
              0.2222222222222222,
              "#7201a8"
             ],
             [
              0.3333333333333333,
              "#9c179e"
             ],
             [
              0.4444444444444444,
              "#bd3786"
             ],
             [
              0.5555555555555556,
              "#d8576b"
             ],
             [
              0.6666666666666666,
              "#ed7953"
             ],
             [
              0.7777777777777778,
              "#fb9f3a"
             ],
             [
              0.8888888888888888,
              "#fdca26"
             ],
             [
              1,
              "#f0f921"
             ]
            ],
            "type": "contour"
           }
          ],
          "contourcarpet": [
           {
            "colorbar": {
             "outlinewidth": 0,
             "ticks": ""
            },
            "type": "contourcarpet"
           }
          ],
          "heatmap": [
           {
            "colorbar": {
             "outlinewidth": 0,
             "ticks": ""
            },
            "colorscale": [
             [
              0,
              "#0d0887"
             ],
             [
              0.1111111111111111,
              "#46039f"
             ],
             [
              0.2222222222222222,
              "#7201a8"
             ],
             [
              0.3333333333333333,
              "#9c179e"
             ],
             [
              0.4444444444444444,
              "#bd3786"
             ],
             [
              0.5555555555555556,
              "#d8576b"
             ],
             [
              0.6666666666666666,
              "#ed7953"
             ],
             [
              0.7777777777777778,
              "#fb9f3a"
             ],
             [
              0.8888888888888888,
              "#fdca26"
             ],
             [
              1,
              "#f0f921"
             ]
            ],
            "type": "heatmap"
           }
          ],
          "histogram": [
           {
            "marker": {
             "pattern": {
              "fillmode": "overlay",
              "size": 10,
              "solidity": 0.2
             }
            },
            "type": "histogram"
           }
          ],
          "histogram2d": [
           {
            "colorbar": {
             "outlinewidth": 0,
             "ticks": ""
            },
            "colorscale": [
             [
              0,
              "#0d0887"
             ],
             [
              0.1111111111111111,
              "#46039f"
             ],
             [
              0.2222222222222222,
              "#7201a8"
             ],
             [
              0.3333333333333333,
              "#9c179e"
             ],
             [
              0.4444444444444444,
              "#bd3786"
             ],
             [
              0.5555555555555556,
              "#d8576b"
             ],
             [
              0.6666666666666666,
              "#ed7953"
             ],
             [
              0.7777777777777778,
              "#fb9f3a"
             ],
             [
              0.8888888888888888,
              "#fdca26"
             ],
             [
              1,
              "#f0f921"
             ]
            ],
            "type": "histogram2d"
           }
          ],
          "histogram2dcontour": [
           {
            "colorbar": {
             "outlinewidth": 0,
             "ticks": ""
            },
            "colorscale": [
             [
              0,
              "#0d0887"
             ],
             [
              0.1111111111111111,
              "#46039f"
             ],
             [
              0.2222222222222222,
              "#7201a8"
             ],
             [
              0.3333333333333333,
              "#9c179e"
             ],
             [
              0.4444444444444444,
              "#bd3786"
             ],
             [
              0.5555555555555556,
              "#d8576b"
             ],
             [
              0.6666666666666666,
              "#ed7953"
             ],
             [
              0.7777777777777778,
              "#fb9f3a"
             ],
             [
              0.8888888888888888,
              "#fdca26"
             ],
             [
              1,
              "#f0f921"
             ]
            ],
            "type": "histogram2dcontour"
           }
          ],
          "mesh3d": [
           {
            "colorbar": {
             "outlinewidth": 0,
             "ticks": ""
            },
            "type": "mesh3d"
           }
          ],
          "parcoords": [
           {
            "line": {
             "colorbar": {
              "outlinewidth": 0,
              "ticks": ""
             }
            },
            "type": "parcoords"
           }
          ],
          "pie": [
           {
            "automargin": true,
            "type": "pie"
           }
          ],
          "scatter": [
           {
            "marker": {
             "line": {
              "color": "#283442"
             }
            },
            "type": "scatter"
           }
          ],
          "scatter3d": [
           {
            "line": {
             "colorbar": {
              "outlinewidth": 0,
              "ticks": ""
             }
            },
            "marker": {
             "colorbar": {
              "outlinewidth": 0,
              "ticks": ""
             }
            },
            "type": "scatter3d"
           }
          ],
          "scattercarpet": [
           {
            "marker": {
             "colorbar": {
              "outlinewidth": 0,
              "ticks": ""
             }
            },
            "type": "scattercarpet"
           }
          ],
          "scattergeo": [
           {
            "marker": {
             "colorbar": {
              "outlinewidth": 0,
              "ticks": ""
             }
            },
            "type": "scattergeo"
           }
          ],
          "scattergl": [
           {
            "marker": {
             "line": {
              "color": "#283442"
             }
            },
            "type": "scattergl"
           }
          ],
          "scattermap": [
           {
            "marker": {
             "colorbar": {
              "outlinewidth": 0,
              "ticks": ""
             }
            },
            "type": "scattermap"
           }
          ],
          "scattermapbox": [
           {
            "marker": {
             "colorbar": {
              "outlinewidth": 0,
              "ticks": ""
             }
            },
            "type": "scattermapbox"
           }
          ],
          "scatterpolar": [
           {
            "marker": {
             "colorbar": {
              "outlinewidth": 0,
              "ticks": ""
             }
            },
            "type": "scatterpolar"
           }
          ],
          "scatterpolargl": [
           {
            "marker": {
             "colorbar": {
              "outlinewidth": 0,
              "ticks": ""
             }
            },
            "type": "scatterpolargl"
           }
          ],
          "scatterternary": [
           {
            "marker": {
             "colorbar": {
              "outlinewidth": 0,
              "ticks": ""
             }
            },
            "type": "scatterternary"
           }
          ],
          "surface": [
           {
            "colorbar": {
             "outlinewidth": 0,
             "ticks": ""
            },
            "colorscale": [
             [
              0,
              "#0d0887"
             ],
             [
              0.1111111111111111,
              "#46039f"
             ],
             [
              0.2222222222222222,
              "#7201a8"
             ],
             [
              0.3333333333333333,
              "#9c179e"
             ],
             [
              0.4444444444444444,
              "#bd3786"
             ],
             [
              0.5555555555555556,
              "#d8576b"
             ],
             [
              0.6666666666666666,
              "#ed7953"
             ],
             [
              0.7777777777777778,
              "#fb9f3a"
             ],
             [
              0.8888888888888888,
              "#fdca26"
             ],
             [
              1,
              "#f0f921"
             ]
            ],
            "type": "surface"
           }
          ],
          "table": [
           {
            "cells": {
             "fill": {
              "color": "#506784"
             },
             "line": {
              "color": "rgb(17,17,17)"
             }
            },
            "header": {
             "fill": {
              "color": "#2a3f5f"
             },
             "line": {
              "color": "rgb(17,17,17)"
             }
            },
            "type": "table"
           }
          ]
         },
         "layout": {
          "annotationdefaults": {
           "arrowcolor": "#f2f5fa",
           "arrowhead": 0,
           "arrowwidth": 1
          },
          "autotypenumbers": "strict",
          "coloraxis": {
           "colorbar": {
            "outlinewidth": 0,
            "ticks": ""
           }
          },
          "colorscale": {
           "diverging": [
            [
             0,
             "#8e0152"
            ],
            [
             0.1,
             "#c51b7d"
            ],
            [
             0.2,
             "#de77ae"
            ],
            [
             0.3,
             "#f1b6da"
            ],
            [
             0.4,
             "#fde0ef"
            ],
            [
             0.5,
             "#f7f7f7"
            ],
            [
             0.6,
             "#e6f5d0"
            ],
            [
             0.7,
             "#b8e186"
            ],
            [
             0.8,
             "#7fbc41"
            ],
            [
             0.9,
             "#4d9221"
            ],
            [
             1,
             "#276419"
            ]
           ],
           "sequential": [
            [
             0,
             "#0d0887"
            ],
            [
             0.1111111111111111,
             "#46039f"
            ],
            [
             0.2222222222222222,
             "#7201a8"
            ],
            [
             0.3333333333333333,
             "#9c179e"
            ],
            [
             0.4444444444444444,
             "#bd3786"
            ],
            [
             0.5555555555555556,
             "#d8576b"
            ],
            [
             0.6666666666666666,
             "#ed7953"
            ],
            [
             0.7777777777777778,
             "#fb9f3a"
            ],
            [
             0.8888888888888888,
             "#fdca26"
            ],
            [
             1,
             "#f0f921"
            ]
           ],
           "sequentialminus": [
            [
             0,
             "#0d0887"
            ],
            [
             0.1111111111111111,
             "#46039f"
            ],
            [
             0.2222222222222222,
             "#7201a8"
            ],
            [
             0.3333333333333333,
             "#9c179e"
            ],
            [
             0.4444444444444444,
             "#bd3786"
            ],
            [
             0.5555555555555556,
             "#d8576b"
            ],
            [
             0.6666666666666666,
             "#ed7953"
            ],
            [
             0.7777777777777778,
             "#fb9f3a"
            ],
            [
             0.8888888888888888,
             "#fdca26"
            ],
            [
             1,
             "#f0f921"
            ]
           ]
          },
          "colorway": [
           "#636efa",
           "#EF553B",
           "#00cc96",
           "#ab63fa",
           "#FFA15A",
           "#19d3f3",
           "#FF6692",
           "#B6E880",
           "#FF97FF",
           "#FECB52"
          ],
          "font": {
           "color": "#f2f5fa"
          },
          "geo": {
           "bgcolor": "rgb(17,17,17)",
           "lakecolor": "rgb(17,17,17)",
           "landcolor": "rgb(17,17,17)",
           "showlakes": true,
           "showland": true,
           "subunitcolor": "#506784"
          },
          "hoverlabel": {
           "align": "left"
          },
          "hovermode": "closest",
          "mapbox": {
           "style": "dark"
          },
          "paper_bgcolor": "rgb(17,17,17)",
          "plot_bgcolor": "rgb(17,17,17)",
          "polar": {
           "angularaxis": {
            "gridcolor": "#506784",
            "linecolor": "#506784",
            "ticks": ""
           },
           "bgcolor": "rgb(17,17,17)",
           "radialaxis": {
            "gridcolor": "#506784",
            "linecolor": "#506784",
            "ticks": ""
           }
          },
          "scene": {
           "xaxis": {
            "backgroundcolor": "rgb(17,17,17)",
            "gridcolor": "#506784",
            "gridwidth": 2,
            "linecolor": "#506784",
            "showbackground": true,
            "ticks": "",
            "zerolinecolor": "#C8D4E3"
           },
           "yaxis": {
            "backgroundcolor": "rgb(17,17,17)",
            "gridcolor": "#506784",
            "gridwidth": 2,
            "linecolor": "#506784",
            "showbackground": true,
            "ticks": "",
            "zerolinecolor": "#C8D4E3"
           },
           "zaxis": {
            "backgroundcolor": "rgb(17,17,17)",
            "gridcolor": "#506784",
            "gridwidth": 2,
            "linecolor": "#506784",
            "showbackground": true,
            "ticks": "",
            "zerolinecolor": "#C8D4E3"
           }
          },
          "shapedefaults": {
           "line": {
            "color": "#f2f5fa"
           }
          },
          "sliderdefaults": {
           "bgcolor": "#C8D4E3",
           "bordercolor": "rgb(17,17,17)",
           "borderwidth": 1,
           "tickwidth": 0
          },
          "ternary": {
           "aaxis": {
            "gridcolor": "#506784",
            "linecolor": "#506784",
            "ticks": ""
           },
           "baxis": {
            "gridcolor": "#506784",
            "linecolor": "#506784",
            "ticks": ""
           },
           "bgcolor": "rgb(17,17,17)",
           "caxis": {
            "gridcolor": "#506784",
            "linecolor": "#506784",
            "ticks": ""
           }
          },
          "title": {
           "x": 0.05
          },
          "updatemenudefaults": {
           "bgcolor": "#506784",
           "borderwidth": 0
          },
          "xaxis": {
           "automargin": true,
           "gridcolor": "#283442",
           "linecolor": "#506784",
           "ticks": "",
           "title": {
            "standoff": 15
           },
           "zerolinecolor": "#283442",
           "zerolinewidth": 2
          },
          "yaxis": {
           "automargin": true,
           "gridcolor": "#283442",
           "linecolor": "#506784",
           "ticks": "",
           "title": {
            "standoff": 15
           },
           "zerolinecolor": "#283442",
           "zerolinewidth": 2
          }
         }
        },
        "width": 800
       }
      }
     },
     "metadata": {},
     "output_type": "display_data"
    }
   ],
   "source": [
    "start_point = fc.Point(x=0, y=0, z=0)\n",
    "end_point = fc.Point(x=100, y=0, z=0.1)\n",
    "steps = fc.segmented_line(start_point, end_point, segments=15)\n",
    "for step in steps:\n",
    "    step.y = step.y + 20*sin(tau*step.x/200)\n",
    "for i in range(len(steps)): \n",
    "    steps.insert(i*2+1,fc.PlotAnnotation(label='')) # add blank PlotAnnotations at all points to highlight them in the plot \n",
    "steps.append(fc.PlotAnnotation(point=fc.Point(x=50, y=40,z=0), label='points along a segmented line can be modified after creation to form a curve'))\n",
    "fc.transform(steps, 'plot', fc.PlotControls(style='line'))"
   ]
  },
  {
   "attachments": {},
   "cell_type": "markdown",
   "metadata": {},
   "source": [
    "## II. measurements from points\n",
    "\n",
    "functions:\n",
    "- distance\n",
    "- point_to_polar\n",
    "- angleXY_between_3_points"
   ]
  },
  {
   "cell_type": "code",
   "execution_count": 14,
   "metadata": {},
   "outputs": [
    {
     "name": "stdout",
     "output_type": "stream",
     "text": [
      "distance between pt1 and pt2: 10.0\n",
      "\n",
      "'polar radius' of pt2 relative to x=0,y=0,z=0: 10.0\n",
      "'polar angle' of pt2 relative to x=0,y=0,z=0: 1.5707963267948966 (radians: 0 to tau)\n",
      "'polar angle' of pt2 relative to x=0,y=0,z=0: 90.0 (degrees: 0 to 360)\n",
      "\n",
      "angle between pt1-pt2-pt3: 0.7853981633974483 (radians: -tau to tau)\n",
      "angle between pt1-pt2-pt3: 45.0 (degrees: -360 to 360)\n"
     ]
    }
   ],
   "source": [
    "pt1, pt2, pt3 = fc.Point(x=0, y=0, z=0), fc.Point(x=0, y=10, z=0), fc.Point(x=10, y=0, z=0)\n",
    "\n",
    "distance = fc.distance(pt1, pt2)\n",
    "print('distance between pt1 and pt2: ' + str(distance))\n",
    "\n",
    "polar_data = fc.point_to_polar(pt2, fc.Point(x=0, y=0, z=0))\n",
    "print(\"\\n'polar radius' of pt2 relative to x=0,y=0,z=0: \" + str(polar_data.radius))\n",
    "print(\"'polar angle' of pt2 relative to x=0,y=0,z=0: \" + str(polar_data.angle) + ' (radians: 0 to tau)')\n",
    "print(\"'polar angle' of pt2 relative to x=0,y=0,z=0: \" + str((polar_data.angle/tau)*360) + ' (degrees: 0 to 360)')\n",
    "# see the creation of a point from polar coordinates elsewhere in this notebook - fc.polar_to_point() \n",
    "\n",
    "angle = fc.angleXY_between_3_points(pt1, pt2, pt3)\n",
    "print('\\nangle between pt1-pt2-pt3: ' + str(angle) + ' (radians: -tau to tau)')\n",
    "print('angle between pt1-pt2-pt3: ' + str((angle/tau)*360) + ' (degrees: -360 to 360)')"
   ]
  },
  {
   "attachments": {},
   "cell_type": "markdown",
   "metadata": {},
   "source": [
    "## III. move and copy points\n",
    "\n",
    "the move() function in FullControl allows moving and coping of a point, list of points, or a combined list of points and other ***state***-changing object\n",
    "\n",
    "the amount of movement is defined by FullControl's Vector object"
   ]
  },
  {
   "attachments": {},
   "cell_type": "markdown",
   "metadata": {},
   "source": [
    "#### move"
   ]
  },
  {
   "cell_type": "code",
   "execution_count": 15,
   "metadata": {},
   "outputs": [
    {
     "name": "stdout",
     "output_type": "stream",
     "text": [
      "start_point: x=0.0 y=0.0 z=0.0 color=None\n",
      "moved_start_point: x=0.0 y=0.0 z=0.5 color=None\n",
      "\n",
      "original points for a rectangle: [Point(x=0.0, y=0.0, z=0.0, color=None), Point(x=50.0, y=0.0, z=0.0, color=None), Point(x=50.0, y=20.0, z=0.0, color=None), Point(x=0.0, y=20.0, z=0.0, color=None), Point(x=0.0, y=0.0, z=0.0, color=None)]\n",
      "moved rectangle: [Point(x=0.0, y=0.0, z=0.5, color=None), Point(x=50.0, y=0.0, z=0.5, color=None), Point(x=50.0, y=20.0, z=0.5, color=None), Point(x=0.0, y=20.0, z=0.5, color=None), Point(x=0.0, y=0.0, z=0.5, color=None)]\n",
      "\n",
      "list with non-point object: [Point(x=0.0, y=0.0, z=0.0, color=None), Fan(speed_percent=90), Point(x=0.0, y=0.0, z=0.5, color=None)]\n",
      "moved list with non-point object [Point(x=0.0, y=0.0, z=0.5, color=None), Fan(speed_percent=90), Point(x=0.0, y=0.0, z=1.0, color=None)]\n"
     ]
    }
   ],
   "source": [
    "vector = fc.Vector(x=0, y=0, z=0.5)\n",
    "\n",
    "start_point = fc.Point(x=0,y=0,z=0)\n",
    "print('start_point: ' + str(start_point))\n",
    "moved_start_point = fc.move(start_point, vector)\n",
    "print('moved_start_point: ' + str(moved_start_point))\n",
    "\n",
    "steps = fc.rectangleXY(start_point, 50, 20)\n",
    "print('\\noriginal points for a rectangle: ' + str(steps))\n",
    "steps = fc.move(steps, vector)\n",
    "print('moved rectangle: ' + str(steps))\n",
    "\n",
    "steps=[start_point,fc.Fan(speed_percent=90),moved_start_point]\n",
    "print('\\nlist with non-point object: ' + str(steps))\n",
    "print('moved list with non-point object ' + str(fc.move(steps,vector)))"
   ]
  },
  {
   "attachments": {},
   "cell_type": "markdown",
   "metadata": {},
   "source": [
    "#### copy"
   ]
  },
  {
   "cell_type": "code",
   "execution_count": 16,
   "metadata": {},
   "outputs": [
    {
     "data": {
      "application/vnd.plotly.v1+json": {
       "config": {
        "plotlyServerURL": "https://plot.ly"
       },
       "data": [
        {
         "line": {
          "color": [
           "rgb(0.00, 0.00, 255.00)",
           "rgb(0.00, 0.00, 255.00)",
           "rgb(0.00, 0.00, 255.00)",
           "rgb(0.00, 0.00, 255.00)",
           "rgb(0.00, 0.00, 255.00)",
           "rgb(0.00, 63.75, 255.00)",
           "rgb(0.00, 63.75, 255.00)",
           "rgb(0.00, 63.75, 255.00)",
           "rgb(0.00, 63.75, 255.00)",
           "rgb(0.00, 63.75, 255.00)",
           "rgb(0.00, 127.50, 255.00)",
           "rgb(0.00, 127.50, 255.00)",
           "rgb(0.00, 127.50, 255.00)",
           "rgb(0.00, 127.50, 255.00)",
           "rgb(0.00, 127.50, 255.00)",
           "rgb(0.00, 191.25, 255.00)",
           "rgb(0.00, 191.25, 255.00)",
           "rgb(0.00, 191.25, 255.00)",
           "rgb(0.00, 191.25, 255.00)",
           "rgb(0.00, 191.25, 255.00)",
           "rgb(0.00, 255.00, 255.00)",
           "rgb(0.00, 255.00, 255.00)",
           "rgb(0.00, 255.00, 255.00)",
           "rgb(0.00, 255.00, 255.00)",
           "rgb(0.00, 255.00, 255.00)"
          ],
          "width": 4
         },
         "mode": "lines",
         "showlegend": false,
         "type": "scatter3d",
         "x": [
          0,
          50,
          50,
          0,
          0,
          0,
          50,
          50,
          0,
          0,
          0,
          50,
          50,
          0,
          0,
          0,
          50,
          50,
          0,
          0,
          0,
          50,
          50,
          0,
          0
         ],
         "y": [
          0,
          0,
          20,
          20,
          0,
          0,
          0,
          20,
          20,
          0,
          0,
          0,
          20,
          20,
          0,
          0,
          0,
          20,
          20,
          0,
          0,
          0,
          20,
          20,
          0
         ],
         "z": [
          0,
          0,
          0,
          0,
          0,
          0.5,
          0.5,
          0.5,
          0.5,
          0.5,
          1,
          1,
          1,
          1,
          1,
          1.5,
          1.5,
          1.5,
          1.5,
          1.5,
          2,
          2,
          2,
          2,
          2
         ]
        },
        {
         "marker": {
          "color": "red",
          "size": 2
         },
         "mode": "markers",
         "showlegend": false,
         "type": "scatter3d",
         "x": [],
         "y": [],
         "z": []
        }
       ],
       "layout": {
        "height": 500,
        "margin": {
         "b": 10,
         "l": 10,
         "pad": 4,
         "r": 10,
         "t": 10
        },
        "paper_bgcolor": "black",
        "scene": {
         "aspectmode": "cube",
         "camera": {
          "center": {
           "x": 0,
           "y": 0,
           "z": -0.48000079996800127
          },
          "eye": {
           "x": -0.5,
           "y": -1,
           "z": 0
          }
         },
         "xaxis": {
          "backgroundcolor": "black",
          "nticks": 10,
          "range": [
           -0.0010000000000012221,
           50.001000000000005
          ]
         },
         "yaxis": {
          "backgroundcolor": "black",
          "nticks": 10,
          "range": [
           -15.001000000000001,
           35.001000000000005
          ]
         },
         "zaxis": {
          "backgroundcolor": "black",
          "nticks": 10,
          "range": [
           0,
           50.002
          ]
         }
        },
        "template": {
         "data": {
          "bar": [
           {
            "error_x": {
             "color": "#f2f5fa"
            },
            "error_y": {
             "color": "#f2f5fa"
            },
            "marker": {
             "line": {
              "color": "rgb(17,17,17)",
              "width": 0.5
             },
             "pattern": {
              "fillmode": "overlay",
              "size": 10,
              "solidity": 0.2
             }
            },
            "type": "bar"
           }
          ],
          "barpolar": [
           {
            "marker": {
             "line": {
              "color": "rgb(17,17,17)",
              "width": 0.5
             },
             "pattern": {
              "fillmode": "overlay",
              "size": 10,
              "solidity": 0.2
             }
            },
            "type": "barpolar"
           }
          ],
          "carpet": [
           {
            "aaxis": {
             "endlinecolor": "#A2B1C6",
             "gridcolor": "#506784",
             "linecolor": "#506784",
             "minorgridcolor": "#506784",
             "startlinecolor": "#A2B1C6"
            },
            "baxis": {
             "endlinecolor": "#A2B1C6",
             "gridcolor": "#506784",
             "linecolor": "#506784",
             "minorgridcolor": "#506784",
             "startlinecolor": "#A2B1C6"
            },
            "type": "carpet"
           }
          ],
          "choropleth": [
           {
            "colorbar": {
             "outlinewidth": 0,
             "ticks": ""
            },
            "type": "choropleth"
           }
          ],
          "contour": [
           {
            "colorbar": {
             "outlinewidth": 0,
             "ticks": ""
            },
            "colorscale": [
             [
              0,
              "#0d0887"
             ],
             [
              0.1111111111111111,
              "#46039f"
             ],
             [
              0.2222222222222222,
              "#7201a8"
             ],
             [
              0.3333333333333333,
              "#9c179e"
             ],
             [
              0.4444444444444444,
              "#bd3786"
             ],
             [
              0.5555555555555556,
              "#d8576b"
             ],
             [
              0.6666666666666666,
              "#ed7953"
             ],
             [
              0.7777777777777778,
              "#fb9f3a"
             ],
             [
              0.8888888888888888,
              "#fdca26"
             ],
             [
              1,
              "#f0f921"
             ]
            ],
            "type": "contour"
           }
          ],
          "contourcarpet": [
           {
            "colorbar": {
             "outlinewidth": 0,
             "ticks": ""
            },
            "type": "contourcarpet"
           }
          ],
          "heatmap": [
           {
            "colorbar": {
             "outlinewidth": 0,
             "ticks": ""
            },
            "colorscale": [
             [
              0,
              "#0d0887"
             ],
             [
              0.1111111111111111,
              "#46039f"
             ],
             [
              0.2222222222222222,
              "#7201a8"
             ],
             [
              0.3333333333333333,
              "#9c179e"
             ],
             [
              0.4444444444444444,
              "#bd3786"
             ],
             [
              0.5555555555555556,
              "#d8576b"
             ],
             [
              0.6666666666666666,
              "#ed7953"
             ],
             [
              0.7777777777777778,
              "#fb9f3a"
             ],
             [
              0.8888888888888888,
              "#fdca26"
             ],
             [
              1,
              "#f0f921"
             ]
            ],
            "type": "heatmap"
           }
          ],
          "histogram": [
           {
            "marker": {
             "pattern": {
              "fillmode": "overlay",
              "size": 10,
              "solidity": 0.2
             }
            },
            "type": "histogram"
           }
          ],
          "histogram2d": [
           {
            "colorbar": {
             "outlinewidth": 0,
             "ticks": ""
            },
            "colorscale": [
             [
              0,
              "#0d0887"
             ],
             [
              0.1111111111111111,
              "#46039f"
             ],
             [
              0.2222222222222222,
              "#7201a8"
             ],
             [
              0.3333333333333333,
              "#9c179e"
             ],
             [
              0.4444444444444444,
              "#bd3786"
             ],
             [
              0.5555555555555556,
              "#d8576b"
             ],
             [
              0.6666666666666666,
              "#ed7953"
             ],
             [
              0.7777777777777778,
              "#fb9f3a"
             ],
             [
              0.8888888888888888,
              "#fdca26"
             ],
             [
              1,
              "#f0f921"
             ]
            ],
            "type": "histogram2d"
           }
          ],
          "histogram2dcontour": [
           {
            "colorbar": {
             "outlinewidth": 0,
             "ticks": ""
            },
            "colorscale": [
             [
              0,
              "#0d0887"
             ],
             [
              0.1111111111111111,
              "#46039f"
             ],
             [
              0.2222222222222222,
              "#7201a8"
             ],
             [
              0.3333333333333333,
              "#9c179e"
             ],
             [
              0.4444444444444444,
              "#bd3786"
             ],
             [
              0.5555555555555556,
              "#d8576b"
             ],
             [
              0.6666666666666666,
              "#ed7953"
             ],
             [
              0.7777777777777778,
              "#fb9f3a"
             ],
             [
              0.8888888888888888,
              "#fdca26"
             ],
             [
              1,
              "#f0f921"
             ]
            ],
            "type": "histogram2dcontour"
           }
          ],
          "mesh3d": [
           {
            "colorbar": {
             "outlinewidth": 0,
             "ticks": ""
            },
            "type": "mesh3d"
           }
          ],
          "parcoords": [
           {
            "line": {
             "colorbar": {
              "outlinewidth": 0,
              "ticks": ""
             }
            },
            "type": "parcoords"
           }
          ],
          "pie": [
           {
            "automargin": true,
            "type": "pie"
           }
          ],
          "scatter": [
           {
            "marker": {
             "line": {
              "color": "#283442"
             }
            },
            "type": "scatter"
           }
          ],
          "scatter3d": [
           {
            "line": {
             "colorbar": {
              "outlinewidth": 0,
              "ticks": ""
             }
            },
            "marker": {
             "colorbar": {
              "outlinewidth": 0,
              "ticks": ""
             }
            },
            "type": "scatter3d"
           }
          ],
          "scattercarpet": [
           {
            "marker": {
             "colorbar": {
              "outlinewidth": 0,
              "ticks": ""
             }
            },
            "type": "scattercarpet"
           }
          ],
          "scattergeo": [
           {
            "marker": {
             "colorbar": {
              "outlinewidth": 0,
              "ticks": ""
             }
            },
            "type": "scattergeo"
           }
          ],
          "scattergl": [
           {
            "marker": {
             "line": {
              "color": "#283442"
             }
            },
            "type": "scattergl"
           }
          ],
          "scattermap": [
           {
            "marker": {
             "colorbar": {
              "outlinewidth": 0,
              "ticks": ""
             }
            },
            "type": "scattermap"
           }
          ],
          "scattermapbox": [
           {
            "marker": {
             "colorbar": {
              "outlinewidth": 0,
              "ticks": ""
             }
            },
            "type": "scattermapbox"
           }
          ],
          "scatterpolar": [
           {
            "marker": {
             "colorbar": {
              "outlinewidth": 0,
              "ticks": ""
             }
            },
            "type": "scatterpolar"
           }
          ],
          "scatterpolargl": [
           {
            "marker": {
             "colorbar": {
              "outlinewidth": 0,
              "ticks": ""
             }
            },
            "type": "scatterpolargl"
           }
          ],
          "scatterternary": [
           {
            "marker": {
             "colorbar": {
              "outlinewidth": 0,
              "ticks": ""
             }
            },
            "type": "scatterternary"
           }
          ],
          "surface": [
           {
            "colorbar": {
             "outlinewidth": 0,
             "ticks": ""
            },
            "colorscale": [
             [
              0,
              "#0d0887"
             ],
             [
              0.1111111111111111,
              "#46039f"
             ],
             [
              0.2222222222222222,
              "#7201a8"
             ],
             [
              0.3333333333333333,
              "#9c179e"
             ],
             [
              0.4444444444444444,
              "#bd3786"
             ],
             [
              0.5555555555555556,
              "#d8576b"
             ],
             [
              0.6666666666666666,
              "#ed7953"
             ],
             [
              0.7777777777777778,
              "#fb9f3a"
             ],
             [
              0.8888888888888888,
              "#fdca26"
             ],
             [
              1,
              "#f0f921"
             ]
            ],
            "type": "surface"
           }
          ],
          "table": [
           {
            "cells": {
             "fill": {
              "color": "#506784"
             },
             "line": {
              "color": "rgb(17,17,17)"
             }
            },
            "header": {
             "fill": {
              "color": "#2a3f5f"
             },
             "line": {
              "color": "rgb(17,17,17)"
             }
            },
            "type": "table"
           }
          ]
         },
         "layout": {
          "annotationdefaults": {
           "arrowcolor": "#f2f5fa",
           "arrowhead": 0,
           "arrowwidth": 1
          },
          "autotypenumbers": "strict",
          "coloraxis": {
           "colorbar": {
            "outlinewidth": 0,
            "ticks": ""
           }
          },
          "colorscale": {
           "diverging": [
            [
             0,
             "#8e0152"
            ],
            [
             0.1,
             "#c51b7d"
            ],
            [
             0.2,
             "#de77ae"
            ],
            [
             0.3,
             "#f1b6da"
            ],
            [
             0.4,
             "#fde0ef"
            ],
            [
             0.5,
             "#f7f7f7"
            ],
            [
             0.6,
             "#e6f5d0"
            ],
            [
             0.7,
             "#b8e186"
            ],
            [
             0.8,
             "#7fbc41"
            ],
            [
             0.9,
             "#4d9221"
            ],
            [
             1,
             "#276419"
            ]
           ],
           "sequential": [
            [
             0,
             "#0d0887"
            ],
            [
             0.1111111111111111,
             "#46039f"
            ],
            [
             0.2222222222222222,
             "#7201a8"
            ],
            [
             0.3333333333333333,
             "#9c179e"
            ],
            [
             0.4444444444444444,
             "#bd3786"
            ],
            [
             0.5555555555555556,
             "#d8576b"
            ],
            [
             0.6666666666666666,
             "#ed7953"
            ],
            [
             0.7777777777777778,
             "#fb9f3a"
            ],
            [
             0.8888888888888888,
             "#fdca26"
            ],
            [
             1,
             "#f0f921"
            ]
           ],
           "sequentialminus": [
            [
             0,
             "#0d0887"
            ],
            [
             0.1111111111111111,
             "#46039f"
            ],
            [
             0.2222222222222222,
             "#7201a8"
            ],
            [
             0.3333333333333333,
             "#9c179e"
            ],
            [
             0.4444444444444444,
             "#bd3786"
            ],
            [
             0.5555555555555556,
             "#d8576b"
            ],
            [
             0.6666666666666666,
             "#ed7953"
            ],
            [
             0.7777777777777778,
             "#fb9f3a"
            ],
            [
             0.8888888888888888,
             "#fdca26"
            ],
            [
             1,
             "#f0f921"
            ]
           ]
          },
          "colorway": [
           "#636efa",
           "#EF553B",
           "#00cc96",
           "#ab63fa",
           "#FFA15A",
           "#19d3f3",
           "#FF6692",
           "#B6E880",
           "#FF97FF",
           "#FECB52"
          ],
          "font": {
           "color": "#f2f5fa"
          },
          "geo": {
           "bgcolor": "rgb(17,17,17)",
           "lakecolor": "rgb(17,17,17)",
           "landcolor": "rgb(17,17,17)",
           "showlakes": true,
           "showland": true,
           "subunitcolor": "#506784"
          },
          "hoverlabel": {
           "align": "left"
          },
          "hovermode": "closest",
          "mapbox": {
           "style": "dark"
          },
          "paper_bgcolor": "rgb(17,17,17)",
          "plot_bgcolor": "rgb(17,17,17)",
          "polar": {
           "angularaxis": {
            "gridcolor": "#506784",
            "linecolor": "#506784",
            "ticks": ""
           },
           "bgcolor": "rgb(17,17,17)",
           "radialaxis": {
            "gridcolor": "#506784",
            "linecolor": "#506784",
            "ticks": ""
           }
          },
          "scene": {
           "xaxis": {
            "backgroundcolor": "rgb(17,17,17)",
            "gridcolor": "#506784",
            "gridwidth": 2,
            "linecolor": "#506784",
            "showbackground": true,
            "ticks": "",
            "zerolinecolor": "#C8D4E3"
           },
           "yaxis": {
            "backgroundcolor": "rgb(17,17,17)",
            "gridcolor": "#506784",
            "gridwidth": 2,
            "linecolor": "#506784",
            "showbackground": true,
            "ticks": "",
            "zerolinecolor": "#C8D4E3"
           },
           "zaxis": {
            "backgroundcolor": "rgb(17,17,17)",
            "gridcolor": "#506784",
            "gridwidth": 2,
            "linecolor": "#506784",
            "showbackground": true,
            "ticks": "",
            "zerolinecolor": "#C8D4E3"
           }
          },
          "shapedefaults": {
           "line": {
            "color": "#f2f5fa"
           }
          },
          "sliderdefaults": {
           "bgcolor": "#C8D4E3",
           "bordercolor": "rgb(17,17,17)",
           "borderwidth": 1,
           "tickwidth": 0
          },
          "ternary": {
           "aaxis": {
            "gridcolor": "#506784",
            "linecolor": "#506784",
            "ticks": ""
           },
           "baxis": {
            "gridcolor": "#506784",
            "linecolor": "#506784",
            "ticks": ""
           },
           "bgcolor": "rgb(17,17,17)",
           "caxis": {
            "gridcolor": "#506784",
            "linecolor": "#506784",
            "ticks": ""
           }
          },
          "title": {
           "x": 0.05
          },
          "updatemenudefaults": {
           "bgcolor": "#506784",
           "borderwidth": 0
          },
          "xaxis": {
           "automargin": true,
           "gridcolor": "#283442",
           "linecolor": "#506784",
           "ticks": "",
           "title": {
            "standoff": 15
           },
           "zerolinecolor": "#283442",
           "zerolinewidth": 2
          },
          "yaxis": {
           "automargin": true,
           "gridcolor": "#283442",
           "linecolor": "#506784",
           "ticks": "",
           "title": {
            "standoff": 15
           },
           "zerolinecolor": "#283442",
           "zerolinewidth": 2
          }
         }
        },
        "width": 800
       }
      }
     },
     "metadata": {},
     "output_type": "display_data"
    }
   ],
   "source": [
    "vector = fc.Vector(x=0, y=0, z=0.5)\n",
    "start_point = fc.Point(x=0,y=0,z=0)\n",
    "steps = fc.rectangleXY(start_point, 50, 20)\n",
    "steps = fc.move(steps, vector,copy=True, copy_quantity=5)\n",
    "fc.transform(steps, 'plot', fc.PlotControls(style='line'))"
   ]
  },
  {
   "attachments": {},
   "cell_type": "markdown",
   "metadata": {},
   "source": [
    "#### move/copy (polar coordinates)"
   ]
  },
  {
   "cell_type": "code",
   "execution_count": 17,
   "metadata": {},
   "outputs": [
    {
     "data": {
      "application/vnd.plotly.v1+json": {
       "config": {
        "plotlyServerURL": "https://plot.ly"
       },
       "data": [
        {
         "line": {
          "color": [
           "rgb(0.00, 0.00, 255.00)",
           "rgb(0.00, 2.55, 255.00)",
           "rgb(0.00, 5.10, 255.00)",
           "rgb(0.00, 7.65, 255.00)",
           "rgb(0.00, 10.20, 255.00)",
           "rgb(0.00, 12.75, 255.00)",
           "rgb(0.00, 15.30, 255.00)",
           "rgb(0.00, 17.85, 255.00)",
           "rgb(0.00, 20.40, 255.00)",
           "rgb(0.00, 22.95, 255.00)",
           "rgb(0.00, 25.50, 255.00)",
           "rgb(0.00, 28.05, 255.00)",
           "rgb(0.00, 30.60, 255.00)",
           "rgb(0.00, 33.15, 255.00)",
           "rgb(0.00, 35.70, 255.00)",
           "rgb(0.00, 38.25, 255.00)",
           "rgb(0.00, 40.80, 255.00)",
           "rgb(0.00, 43.35, 255.00)",
           "rgb(0.00, 45.90, 255.00)",
           "rgb(0.00, 48.45, 255.00)",
           "rgb(0.00, 51.00, 255.00)",
           "rgb(0.00, 53.55, 255.00)",
           "rgb(0.00, 56.10, 255.00)",
           "rgb(0.00, 58.65, 255.00)",
           "rgb(0.00, 61.20, 255.00)",
           "rgb(0.00, 63.75, 255.00)",
           "rgb(0.00, 66.30, 255.00)",
           "rgb(0.00, 68.85, 255.00)",
           "rgb(0.00, 71.40, 255.00)",
           "rgb(0.00, 73.95, 255.00)",
           "rgb(0.00, 76.50, 255.00)",
           "rgb(0.00, 79.05, 255.00)",
           "rgb(0.00, 81.60, 255.00)",
           "rgb(0.00, 84.15, 255.00)",
           "rgb(0.00, 86.70, 255.00)",
           "rgb(0.00, 89.25, 255.00)",
           "rgb(0.00, 91.80, 255.00)",
           "rgb(0.00, 94.35, 255.00)",
           "rgb(0.00, 96.90, 255.00)",
           "rgb(0.00, 99.45, 255.00)",
           "rgb(0.00, 102.00, 255.00)",
           "rgb(0.00, 104.55, 255.00)",
           "rgb(0.00, 107.10, 255.00)",
           "rgb(0.00, 109.65, 255.00)",
           "rgb(0.00, 112.20, 255.00)",
           "rgb(0.00, 114.75, 255.00)",
           "rgb(0.00, 117.30, 255.00)",
           "rgb(0.00, 119.85, 255.00)",
           "rgb(0.00, 122.40, 255.00)",
           "rgb(0.00, 124.95, 255.00)",
           "rgb(0.00, 127.50, 255.00)",
           "rgb(0.00, 130.05, 255.00)",
           "rgb(0.00, 132.60, 255.00)",
           "rgb(0.00, 135.15, 255.00)",
           "rgb(0.00, 137.70, 255.00)",
           "rgb(0.00, 140.25, 255.00)",
           "rgb(0.00, 142.80, 255.00)",
           "rgb(0.00, 145.35, 255.00)",
           "rgb(0.00, 147.90, 255.00)",
           "rgb(0.00, 150.45, 255.00)",
           "rgb(0.00, 153.00, 255.00)",
           "rgb(0.00, 155.55, 255.00)",
           "rgb(0.00, 158.10, 255.00)",
           "rgb(0.00, 160.65, 255.00)",
           "rgb(0.00, 163.20, 255.00)",
           "rgb(0.00, 165.75, 255.00)",
           "rgb(0.00, 168.30, 255.00)",
           "rgb(0.00, 170.85, 255.00)",
           "rgb(0.00, 173.40, 255.00)",
           "rgb(0.00, 175.95, 255.00)",
           "rgb(0.00, 178.50, 255.00)",
           "rgb(0.00, 181.05, 255.00)",
           "rgb(0.00, 183.60, 255.00)",
           "rgb(0.00, 186.15, 255.00)",
           "rgb(0.00, 188.70, 255.00)",
           "rgb(0.00, 191.25, 255.00)",
           "rgb(0.00, 193.80, 255.00)",
           "rgb(0.00, 196.35, 255.00)",
           "rgb(0.00, 198.90, 255.00)",
           "rgb(0.00, 201.45, 255.00)",
           "rgb(0.00, 204.00, 255.00)",
           "rgb(0.00, 206.55, 255.00)",
           "rgb(0.00, 209.10, 255.00)",
           "rgb(0.00, 211.65, 255.00)",
           "rgb(0.00, 214.20, 255.00)",
           "rgb(0.00, 216.75, 255.00)",
           "rgb(0.00, 219.30, 255.00)",
           "rgb(0.00, 221.85, 255.00)",
           "rgb(0.00, 224.40, 255.00)",
           "rgb(0.00, 226.95, 255.00)",
           "rgb(0.00, 229.50, 255.00)",
           "rgb(0.00, 232.05, 255.00)",
           "rgb(0.00, 234.60, 255.00)",
           "rgb(0.00, 237.15, 255.00)",
           "rgb(0.00, 239.70, 255.00)",
           "rgb(0.00, 242.25, 255.00)",
           "rgb(0.00, 244.80, 255.00)",
           "rgb(0.00, 247.35, 255.00)",
           "rgb(0.00, 249.90, 255.00)",
           "rgb(0.00, 252.45, 255.00)",
           "rgb(0.00, 255.00, 255.00)",
           "rgb(0.00, 0.00, 255.00)",
           "rgb(0.00, 2.55, 255.00)",
           "rgb(0.00, 5.10, 255.00)",
           "rgb(0.00, 7.65, 255.00)",
           "rgb(0.00, 10.20, 255.00)",
           "rgb(0.00, 12.75, 255.00)",
           "rgb(0.00, 15.30, 255.00)",
           "rgb(0.00, 17.85, 255.00)",
           "rgb(0.00, 20.40, 255.00)",
           "rgb(0.00, 22.95, 255.00)",
           "rgb(0.00, 25.50, 255.00)",
           "rgb(0.00, 28.05, 255.00)",
           "rgb(0.00, 30.60, 255.00)",
           "rgb(0.00, 33.15, 255.00)",
           "rgb(0.00, 35.70, 255.00)",
           "rgb(0.00, 38.25, 255.00)",
           "rgb(0.00, 40.80, 255.00)",
           "rgb(0.00, 43.35, 255.00)",
           "rgb(0.00, 45.90, 255.00)",
           "rgb(0.00, 48.45, 255.00)",
           "rgb(0.00, 51.00, 255.00)",
           "rgb(0.00, 53.55, 255.00)",
           "rgb(0.00, 56.10, 255.00)",
           "rgb(0.00, 58.65, 255.00)",
           "rgb(0.00, 61.20, 255.00)",
           "rgb(0.00, 63.75, 255.00)",
           "rgb(0.00, 66.30, 255.00)",
           "rgb(0.00, 68.85, 255.00)",
           "rgb(0.00, 71.40, 255.00)",
           "rgb(0.00, 73.95, 255.00)",
           "rgb(0.00, 76.50, 255.00)",
           "rgb(0.00, 79.05, 255.00)",
           "rgb(0.00, 81.60, 255.00)",
           "rgb(0.00, 84.15, 255.00)",
           "rgb(0.00, 86.70, 255.00)",
           "rgb(0.00, 89.25, 255.00)",
           "rgb(0.00, 91.80, 255.00)",
           "rgb(0.00, 94.35, 255.00)",
           "rgb(0.00, 96.90, 255.00)",
           "rgb(0.00, 99.45, 255.00)",
           "rgb(0.00, 102.00, 255.00)",
           "rgb(0.00, 104.55, 255.00)",
           "rgb(0.00, 107.10, 255.00)",
           "rgb(0.00, 109.65, 255.00)",
           "rgb(0.00, 112.20, 255.00)",
           "rgb(0.00, 114.75, 255.00)",
           "rgb(0.00, 117.30, 255.00)",
           "rgb(0.00, 119.85, 255.00)",
           "rgb(0.00, 122.40, 255.00)",
           "rgb(0.00, 124.95, 255.00)",
           "rgb(0.00, 127.50, 255.00)",
           "rgb(0.00, 130.05, 255.00)",
           "rgb(0.00, 132.60, 255.00)",
           "rgb(0.00, 135.15, 255.00)",
           "rgb(0.00, 137.70, 255.00)",
           "rgb(0.00, 140.25, 255.00)",
           "rgb(0.00, 142.80, 255.00)",
           "rgb(0.00, 145.35, 255.00)",
           "rgb(0.00, 147.90, 255.00)",
           "rgb(0.00, 150.45, 255.00)",
           "rgb(0.00, 153.00, 255.00)",
           "rgb(0.00, 155.55, 255.00)",
           "rgb(0.00, 158.10, 255.00)",
           "rgb(0.00, 160.65, 255.00)",
           "rgb(0.00, 163.20, 255.00)",
           "rgb(0.00, 165.75, 255.00)",
           "rgb(0.00, 168.30, 255.00)",
           "rgb(0.00, 170.85, 255.00)",
           "rgb(0.00, 173.40, 255.00)",
           "rgb(0.00, 175.95, 255.00)",
           "rgb(0.00, 178.50, 255.00)",
           "rgb(0.00, 181.05, 255.00)",
           "rgb(0.00, 183.60, 255.00)",
           "rgb(0.00, 186.15, 255.00)",
           "rgb(0.00, 188.70, 255.00)",
           "rgb(0.00, 191.25, 255.00)",
           "rgb(0.00, 193.80, 255.00)",
           "rgb(0.00, 196.35, 255.00)",
           "rgb(0.00, 198.90, 255.00)",
           "rgb(0.00, 201.45, 255.00)",
           "rgb(0.00, 204.00, 255.00)",
           "rgb(0.00, 206.55, 255.00)",
           "rgb(0.00, 209.10, 255.00)",
           "rgb(0.00, 211.65, 255.00)",
           "rgb(0.00, 214.20, 255.00)",
           "rgb(0.00, 216.75, 255.00)",
           "rgb(0.00, 219.30, 255.00)",
           "rgb(0.00, 221.85, 255.00)",
           "rgb(0.00, 224.40, 255.00)",
           "rgb(0.00, 226.95, 255.00)",
           "rgb(0.00, 229.50, 255.00)",
           "rgb(0.00, 232.05, 255.00)",
           "rgb(0.00, 234.60, 255.00)",
           "rgb(0.00, 237.15, 255.00)",
           "rgb(0.00, 239.70, 255.00)",
           "rgb(0.00, 242.25, 255.00)",
           "rgb(0.00, 244.80, 255.00)",
           "rgb(0.00, 247.35, 255.00)",
           "rgb(0.00, 249.90, 255.00)",
           "rgb(0.00, 252.45, 255.00)",
           "rgb(0.00, 255.00, 255.00)",
           "rgb(0.00, 0.00, 255.00)",
           "rgb(0.00, 2.55, 255.00)",
           "rgb(0.00, 5.10, 255.00)",
           "rgb(0.00, 7.65, 255.00)",
           "rgb(0.00, 10.20, 255.00)",
           "rgb(0.00, 12.75, 255.00)",
           "rgb(0.00, 15.30, 255.00)",
           "rgb(0.00, 17.85, 255.00)",
           "rgb(0.00, 20.40, 255.00)",
           "rgb(0.00, 22.95, 255.00)",
           "rgb(0.00, 25.50, 255.00)",
           "rgb(0.00, 28.05, 255.00)",
           "rgb(0.00, 30.60, 255.00)",
           "rgb(0.00, 33.15, 255.00)",
           "rgb(0.00, 35.70, 255.00)",
           "rgb(0.00, 38.25, 255.00)",
           "rgb(0.00, 40.80, 255.00)",
           "rgb(0.00, 43.35, 255.00)",
           "rgb(0.00, 45.90, 255.00)",
           "rgb(0.00, 48.45, 255.00)",
           "rgb(0.00, 51.00, 255.00)",
           "rgb(0.00, 53.55, 255.00)",
           "rgb(0.00, 56.10, 255.00)",
           "rgb(0.00, 58.65, 255.00)",
           "rgb(0.00, 61.20, 255.00)",
           "rgb(0.00, 63.75, 255.00)",
           "rgb(0.00, 66.30, 255.00)",
           "rgb(0.00, 68.85, 255.00)",
           "rgb(0.00, 71.40, 255.00)",
           "rgb(0.00, 73.95, 255.00)",
           "rgb(0.00, 76.50, 255.00)",
           "rgb(0.00, 79.05, 255.00)",
           "rgb(0.00, 81.60, 255.00)",
           "rgb(0.00, 84.15, 255.00)",
           "rgb(0.00, 86.70, 255.00)",
           "rgb(0.00, 89.25, 255.00)",
           "rgb(0.00, 91.80, 255.00)",
           "rgb(0.00, 94.35, 255.00)",
           "rgb(0.00, 96.90, 255.00)",
           "rgb(0.00, 99.45, 255.00)",
           "rgb(0.00, 102.00, 255.00)",
           "rgb(0.00, 104.55, 255.00)",
           "rgb(0.00, 107.10, 255.00)",
           "rgb(0.00, 109.65, 255.00)",
           "rgb(0.00, 112.20, 255.00)",
           "rgb(0.00, 114.75, 255.00)",
           "rgb(0.00, 117.30, 255.00)",
           "rgb(0.00, 119.85, 255.00)",
           "rgb(0.00, 122.40, 255.00)",
           "rgb(0.00, 124.95, 255.00)",
           "rgb(0.00, 127.50, 255.00)",
           "rgb(0.00, 130.05, 255.00)",
           "rgb(0.00, 132.60, 255.00)",
           "rgb(0.00, 135.15, 255.00)",
           "rgb(0.00, 137.70, 255.00)",
           "rgb(0.00, 140.25, 255.00)",
           "rgb(0.00, 142.80, 255.00)",
           "rgb(0.00, 145.35, 255.00)",
           "rgb(0.00, 147.90, 255.00)",
           "rgb(0.00, 150.45, 255.00)",
           "rgb(0.00, 153.00, 255.00)",
           "rgb(0.00, 155.55, 255.00)",
           "rgb(0.00, 158.10, 255.00)",
           "rgb(0.00, 160.65, 255.00)",
           "rgb(0.00, 163.20, 255.00)",
           "rgb(0.00, 165.75, 255.00)",
           "rgb(0.00, 168.30, 255.00)",
           "rgb(0.00, 170.85, 255.00)",
           "rgb(0.00, 173.40, 255.00)",
           "rgb(0.00, 175.95, 255.00)",
           "rgb(0.00, 178.50, 255.00)",
           "rgb(0.00, 181.05, 255.00)",
           "rgb(0.00, 183.60, 255.00)",
           "rgb(0.00, 186.15, 255.00)",
           "rgb(0.00, 188.70, 255.00)",
           "rgb(0.00, 191.25, 255.00)",
           "rgb(0.00, 193.80, 255.00)",
           "rgb(0.00, 196.35, 255.00)",
           "rgb(0.00, 198.90, 255.00)",
           "rgb(0.00, 201.45, 255.00)",
           "rgb(0.00, 204.00, 255.00)",
           "rgb(0.00, 206.55, 255.00)",
           "rgb(0.00, 209.10, 255.00)",
           "rgb(0.00, 211.65, 255.00)",
           "rgb(0.00, 214.20, 255.00)",
           "rgb(0.00, 216.75, 255.00)",
           "rgb(0.00, 219.30, 255.00)",
           "rgb(0.00, 221.85, 255.00)",
           "rgb(0.00, 224.40, 255.00)",
           "rgb(0.00, 226.95, 255.00)",
           "rgb(0.00, 229.50, 255.00)",
           "rgb(0.00, 232.05, 255.00)",
           "rgb(0.00, 234.60, 255.00)",
           "rgb(0.00, 237.15, 255.00)",
           "rgb(0.00, 239.70, 255.00)",
           "rgb(0.00, 242.25, 255.00)",
           "rgb(0.00, 244.80, 255.00)",
           "rgb(0.00, 247.35, 255.00)",
           "rgb(0.00, 249.90, 255.00)",
           "rgb(0.00, 252.45, 255.00)",
           "rgb(0.00, 255.00, 255.00)",
           "rgb(0.00, 0.00, 255.00)",
           "rgb(0.00, 2.55, 255.00)",
           "rgb(0.00, 5.10, 255.00)",
           "rgb(0.00, 7.65, 255.00)",
           "rgb(0.00, 10.20, 255.00)",
           "rgb(0.00, 12.75, 255.00)",
           "rgb(0.00, 15.30, 255.00)",
           "rgb(0.00, 17.85, 255.00)",
           "rgb(0.00, 20.40, 255.00)",
           "rgb(0.00, 22.95, 255.00)",
           "rgb(0.00, 25.50, 255.00)",
           "rgb(0.00, 28.05, 255.00)",
           "rgb(0.00, 30.60, 255.00)",
           "rgb(0.00, 33.15, 255.00)",
           "rgb(0.00, 35.70, 255.00)",
           "rgb(0.00, 38.25, 255.00)",
           "rgb(0.00, 40.80, 255.00)",
           "rgb(0.00, 43.35, 255.00)",
           "rgb(0.00, 45.90, 255.00)",
           "rgb(0.00, 48.45, 255.00)",
           "rgb(0.00, 51.00, 255.00)",
           "rgb(0.00, 53.55, 255.00)",
           "rgb(0.00, 56.10, 255.00)",
           "rgb(0.00, 58.65, 255.00)",
           "rgb(0.00, 61.20, 255.00)",
           "rgb(0.00, 63.75, 255.00)",
           "rgb(0.00, 66.30, 255.00)",
           "rgb(0.00, 68.85, 255.00)",
           "rgb(0.00, 71.40, 255.00)",
           "rgb(0.00, 73.95, 255.00)",
           "rgb(0.00, 76.50, 255.00)",
           "rgb(0.00, 79.05, 255.00)",
           "rgb(0.00, 81.60, 255.00)",
           "rgb(0.00, 84.15, 255.00)",
           "rgb(0.00, 86.70, 255.00)",
           "rgb(0.00, 89.25, 255.00)",
           "rgb(0.00, 91.80, 255.00)",
           "rgb(0.00, 94.35, 255.00)",
           "rgb(0.00, 96.90, 255.00)",
           "rgb(0.00, 99.45, 255.00)",
           "rgb(0.00, 102.00, 255.00)",
           "rgb(0.00, 104.55, 255.00)",
           "rgb(0.00, 107.10, 255.00)",
           "rgb(0.00, 109.65, 255.00)",
           "rgb(0.00, 112.20, 255.00)",
           "rgb(0.00, 114.75, 255.00)",
           "rgb(0.00, 117.30, 255.00)",
           "rgb(0.00, 119.85, 255.00)",
           "rgb(0.00, 122.40, 255.00)",
           "rgb(0.00, 124.95, 255.00)",
           "rgb(0.00, 127.50, 255.00)",
           "rgb(0.00, 130.05, 255.00)",
           "rgb(0.00, 132.60, 255.00)",
           "rgb(0.00, 135.15, 255.00)",
           "rgb(0.00, 137.70, 255.00)",
           "rgb(0.00, 140.25, 255.00)",
           "rgb(0.00, 142.80, 255.00)",
           "rgb(0.00, 145.35, 255.00)",
           "rgb(0.00, 147.90, 255.00)",
           "rgb(0.00, 150.45, 255.00)",
           "rgb(0.00, 153.00, 255.00)",
           "rgb(0.00, 155.55, 255.00)",
           "rgb(0.00, 158.10, 255.00)",
           "rgb(0.00, 160.65, 255.00)",
           "rgb(0.00, 163.20, 255.00)",
           "rgb(0.00, 165.75, 255.00)",
           "rgb(0.00, 168.30, 255.00)",
           "rgb(0.00, 170.85, 255.00)",
           "rgb(0.00, 173.40, 255.00)",
           "rgb(0.00, 175.95, 255.00)",
           "rgb(0.00, 178.50, 255.00)",
           "rgb(0.00, 181.05, 255.00)",
           "rgb(0.00, 183.60, 255.00)",
           "rgb(0.00, 186.15, 255.00)",
           "rgb(0.00, 188.70, 255.00)",
           "rgb(0.00, 191.25, 255.00)",
           "rgb(0.00, 193.80, 255.00)",
           "rgb(0.00, 196.35, 255.00)",
           "rgb(0.00, 198.90, 255.00)",
           "rgb(0.00, 201.45, 255.00)",
           "rgb(0.00, 204.00, 255.00)",
           "rgb(0.00, 206.55, 255.00)",
           "rgb(0.00, 209.10, 255.00)",
           "rgb(0.00, 211.65, 255.00)",
           "rgb(0.00, 214.20, 255.00)",
           "rgb(0.00, 216.75, 255.00)",
           "rgb(0.00, 219.30, 255.00)",
           "rgb(0.00, 221.85, 255.00)",
           "rgb(0.00, 224.40, 255.00)",
           "rgb(0.00, 226.95, 255.00)",
           "rgb(0.00, 229.50, 255.00)",
           "rgb(0.00, 232.05, 255.00)",
           "rgb(0.00, 234.60, 255.00)",
           "rgb(0.00, 237.15, 255.00)",
           "rgb(0.00, 239.70, 255.00)",
           "rgb(0.00, 242.25, 255.00)",
           "rgb(0.00, 244.80, 255.00)",
           "rgb(0.00, 247.35, 255.00)",
           "rgb(0.00, 249.90, 255.00)",
           "rgb(0.00, 252.45, 255.00)",
           "rgb(0.00, 255.00, 255.00)",
           "rgb(0.00, 0.00, 255.00)",
           "rgb(0.00, 2.55, 255.00)",
           "rgb(0.00, 5.10, 255.00)",
           "rgb(0.00, 7.65, 255.00)",
           "rgb(0.00, 10.20, 255.00)",
           "rgb(0.00, 12.75, 255.00)",
           "rgb(0.00, 15.30, 255.00)",
           "rgb(0.00, 17.85, 255.00)",
           "rgb(0.00, 20.40, 255.00)",
           "rgb(0.00, 22.95, 255.00)",
           "rgb(0.00, 25.50, 255.00)",
           "rgb(0.00, 28.05, 255.00)",
           "rgb(0.00, 30.60, 255.00)",
           "rgb(0.00, 33.15, 255.00)",
           "rgb(0.00, 35.70, 255.00)",
           "rgb(0.00, 38.25, 255.00)",
           "rgb(0.00, 40.80, 255.00)",
           "rgb(0.00, 43.35, 255.00)",
           "rgb(0.00, 45.90, 255.00)",
           "rgb(0.00, 48.45, 255.00)",
           "rgb(0.00, 51.00, 255.00)",
           "rgb(0.00, 53.55, 255.00)",
           "rgb(0.00, 56.10, 255.00)",
           "rgb(0.00, 58.65, 255.00)",
           "rgb(0.00, 61.20, 255.00)",
           "rgb(0.00, 63.75, 255.00)",
           "rgb(0.00, 66.30, 255.00)",
           "rgb(0.00, 68.85, 255.00)",
           "rgb(0.00, 71.40, 255.00)",
           "rgb(0.00, 73.95, 255.00)",
           "rgb(0.00, 76.50, 255.00)",
           "rgb(0.00, 79.05, 255.00)",
           "rgb(0.00, 81.60, 255.00)",
           "rgb(0.00, 84.15, 255.00)",
           "rgb(0.00, 86.70, 255.00)",
           "rgb(0.00, 89.25, 255.00)",
           "rgb(0.00, 91.80, 255.00)",
           "rgb(0.00, 94.35, 255.00)",
           "rgb(0.00, 96.90, 255.00)",
           "rgb(0.00, 99.45, 255.00)",
           "rgb(0.00, 102.00, 255.00)",
           "rgb(0.00, 104.55, 255.00)",
           "rgb(0.00, 107.10, 255.00)",
           "rgb(0.00, 109.65, 255.00)",
           "rgb(0.00, 112.20, 255.00)",
           "rgb(0.00, 114.75, 255.00)",
           "rgb(0.00, 117.30, 255.00)",
           "rgb(0.00, 119.85, 255.00)",
           "rgb(0.00, 122.40, 255.00)",
           "rgb(0.00, 124.95, 255.00)",
           "rgb(0.00, 127.50, 255.00)",
           "rgb(0.00, 130.05, 255.00)",
           "rgb(0.00, 132.60, 255.00)",
           "rgb(0.00, 135.15, 255.00)",
           "rgb(0.00, 137.70, 255.00)",
           "rgb(0.00, 140.25, 255.00)",
           "rgb(0.00, 142.80, 255.00)",
           "rgb(0.00, 145.35, 255.00)",
           "rgb(0.00, 147.90, 255.00)",
           "rgb(0.00, 150.45, 255.00)",
           "rgb(0.00, 153.00, 255.00)",
           "rgb(0.00, 155.55, 255.00)",
           "rgb(0.00, 158.10, 255.00)",
           "rgb(0.00, 160.65, 255.00)",
           "rgb(0.00, 163.20, 255.00)",
           "rgb(0.00, 165.75, 255.00)",
           "rgb(0.00, 168.30, 255.00)",
           "rgb(0.00, 170.85, 255.00)",
           "rgb(0.00, 173.40, 255.00)",
           "rgb(0.00, 175.95, 255.00)",
           "rgb(0.00, 178.50, 255.00)",
           "rgb(0.00, 181.05, 255.00)",
           "rgb(0.00, 183.60, 255.00)",
           "rgb(0.00, 186.15, 255.00)",
           "rgb(0.00, 188.70, 255.00)",
           "rgb(0.00, 191.25, 255.00)",
           "rgb(0.00, 193.80, 255.00)",
           "rgb(0.00, 196.35, 255.00)",
           "rgb(0.00, 198.90, 255.00)",
           "rgb(0.00, 201.45, 255.00)",
           "rgb(0.00, 204.00, 255.00)",
           "rgb(0.00, 206.55, 255.00)",
           "rgb(0.00, 209.10, 255.00)",
           "rgb(0.00, 211.65, 255.00)",
           "rgb(0.00, 214.20, 255.00)",
           "rgb(0.00, 216.75, 255.00)",
           "rgb(0.00, 219.30, 255.00)",
           "rgb(0.00, 221.85, 255.00)",
           "rgb(0.00, 224.40, 255.00)",
           "rgb(0.00, 226.95, 255.00)",
           "rgb(0.00, 229.50, 255.00)",
           "rgb(0.00, 232.05, 255.00)",
           "rgb(0.00, 234.60, 255.00)",
           "rgb(0.00, 237.15, 255.00)",
           "rgb(0.00, 239.70, 255.00)",
           "rgb(0.00, 242.25, 255.00)",
           "rgb(0.00, 244.80, 255.00)",
           "rgb(0.00, 247.35, 255.00)",
           "rgb(0.00, 249.90, 255.00)",
           "rgb(0.00, 252.45, 255.00)",
           "rgb(0.00, 255.00, 255.00)",
           "rgb(0.00, 0.00, 255.00)",
           "rgb(0.00, 2.55, 255.00)",
           "rgb(0.00, 5.10, 255.00)",
           "rgb(0.00, 7.65, 255.00)",
           "rgb(0.00, 10.20, 255.00)",
           "rgb(0.00, 12.75, 255.00)",
           "rgb(0.00, 15.30, 255.00)",
           "rgb(0.00, 17.85, 255.00)",
           "rgb(0.00, 20.40, 255.00)",
           "rgb(0.00, 22.95, 255.00)",
           "rgb(0.00, 25.50, 255.00)",
           "rgb(0.00, 28.05, 255.00)",
           "rgb(0.00, 30.60, 255.00)",
           "rgb(0.00, 33.15, 255.00)",
           "rgb(0.00, 35.70, 255.00)",
           "rgb(0.00, 38.25, 255.00)",
           "rgb(0.00, 40.80, 255.00)",
           "rgb(0.00, 43.35, 255.00)",
           "rgb(0.00, 45.90, 255.00)",
           "rgb(0.00, 48.45, 255.00)",
           "rgb(0.00, 51.00, 255.00)",
           "rgb(0.00, 53.55, 255.00)",
           "rgb(0.00, 56.10, 255.00)",
           "rgb(0.00, 58.65, 255.00)",
           "rgb(0.00, 61.20, 255.00)",
           "rgb(0.00, 63.75, 255.00)",
           "rgb(0.00, 66.30, 255.00)",
           "rgb(0.00, 68.85, 255.00)",
           "rgb(0.00, 71.40, 255.00)",
           "rgb(0.00, 73.95, 255.00)",
           "rgb(0.00, 76.50, 255.00)",
           "rgb(0.00, 79.05, 255.00)",
           "rgb(0.00, 81.60, 255.00)",
           "rgb(0.00, 84.15, 255.00)",
           "rgb(0.00, 86.70, 255.00)",
           "rgb(0.00, 89.25, 255.00)",
           "rgb(0.00, 91.80, 255.00)",
           "rgb(0.00, 94.35, 255.00)",
           "rgb(0.00, 96.90, 255.00)",
           "rgb(0.00, 99.45, 255.00)",
           "rgb(0.00, 102.00, 255.00)",
           "rgb(0.00, 104.55, 255.00)",
           "rgb(0.00, 107.10, 255.00)",
           "rgb(0.00, 109.65, 255.00)",
           "rgb(0.00, 112.20, 255.00)",
           "rgb(0.00, 114.75, 255.00)",
           "rgb(0.00, 117.30, 255.00)",
           "rgb(0.00, 119.85, 255.00)",
           "rgb(0.00, 122.40, 255.00)",
           "rgb(0.00, 124.95, 255.00)",
           "rgb(0.00, 127.50, 255.00)",
           "rgb(0.00, 130.05, 255.00)",
           "rgb(0.00, 132.60, 255.00)",
           "rgb(0.00, 135.15, 255.00)",
           "rgb(0.00, 137.70, 255.00)",
           "rgb(0.00, 140.25, 255.00)",
           "rgb(0.00, 142.80, 255.00)",
           "rgb(0.00, 145.35, 255.00)",
           "rgb(0.00, 147.90, 255.00)",
           "rgb(0.00, 150.45, 255.00)",
           "rgb(0.00, 153.00, 255.00)",
           "rgb(0.00, 155.55, 255.00)",
           "rgb(0.00, 158.10, 255.00)",
           "rgb(0.00, 160.65, 255.00)",
           "rgb(0.00, 163.20, 255.00)",
           "rgb(0.00, 165.75, 255.00)",
           "rgb(0.00, 168.30, 255.00)",
           "rgb(0.00, 170.85, 255.00)",
           "rgb(0.00, 173.40, 255.00)",
           "rgb(0.00, 175.95, 255.00)",
           "rgb(0.00, 178.50, 255.00)",
           "rgb(0.00, 181.05, 255.00)",
           "rgb(0.00, 183.60, 255.00)",
           "rgb(0.00, 186.15, 255.00)",
           "rgb(0.00, 188.70, 255.00)",
           "rgb(0.00, 191.25, 255.00)",
           "rgb(0.00, 193.80, 255.00)",
           "rgb(0.00, 196.35, 255.00)",
           "rgb(0.00, 198.90, 255.00)",
           "rgb(0.00, 201.45, 255.00)",
           "rgb(0.00, 204.00, 255.00)",
           "rgb(0.00, 206.55, 255.00)",
           "rgb(0.00, 209.10, 255.00)",
           "rgb(0.00, 211.65, 255.00)",
           "rgb(0.00, 214.20, 255.00)",
           "rgb(0.00, 216.75, 255.00)",
           "rgb(0.00, 219.30, 255.00)",
           "rgb(0.00, 221.85, 255.00)",
           "rgb(0.00, 224.40, 255.00)",
           "rgb(0.00, 226.95, 255.00)",
           "rgb(0.00, 229.50, 255.00)",
           "rgb(0.00, 232.05, 255.00)",
           "rgb(0.00, 234.60, 255.00)",
           "rgb(0.00, 237.15, 255.00)",
           "rgb(0.00, 239.70, 255.00)",
           "rgb(0.00, 242.25, 255.00)",
           "rgb(0.00, 244.80, 255.00)",
           "rgb(0.00, 247.35, 255.00)",
           "rgb(0.00, 249.90, 255.00)",
           "rgb(0.00, 252.45, 255.00)",
           "rgb(0.00, 255.00, 255.00)"
          ],
          "width": 4
         },
         "mode": "lines",
         "showlegend": false,
         "type": "scatter3d",
         "x": [
          30,
          29.511,
          28.09,
          25.878,
          23.09,
          20,
          16.91,
          14.122,
          11.91,
          10.489,
          10,
          10.489,
          11.91,
          14.122,
          16.91,
          20,
          23.09,
          25.878,
          28.09,
          29.511,
          30,
          29.511,
          28.09,
          25.878,
          23.09,
          20,
          16.91,
          14.122,
          11.91,
          10.489,
          10,
          10.489,
          11.91,
          14.122,
          16.91,
          20,
          23.09,
          25.878,
          28.09,
          29.511,
          30,
          29.511,
          28.09,
          25.878,
          23.09,
          20,
          16.91,
          14.122,
          11.91,
          10.489,
          10,
          10.489,
          11.91,
          14.122,
          16.91,
          20,
          23.09,
          25.878,
          28.09,
          29.511,
          30,
          29.511,
          28.09,
          25.878,
          23.09,
          20,
          16.91,
          14.122,
          11.91,
          10.489,
          10,
          10.489,
          11.91,
          14.122,
          16.91,
          20,
          23.09,
          25.878,
          28.09,
          29.511,
          30,
          29.511,
          28.09,
          25.878,
          23.09,
          20,
          16.91,
          14.122,
          11.91,
          10.489,
          10,
          10.489,
          11.91,
          14.122,
          16.91,
          20,
          23.09,
          25.878,
          28.09,
          29.511,
          30,
          40,
          37.079,
          33.955,
          30.933,
          28.309,
          26.34,
          25.219,
          25.055,
          25.865,
          27.569,
          30,
          32.921,
          36.045,
          39.067,
          41.691,
          43.66,
          44.781,
          44.945,
          44.135,
          42.431,
          40,
          37.079,
          33.955,
          30.933,
          28.309,
          26.34,
          25.219,
          25.055,
          25.865,
          27.569,
          30,
          32.921,
          36.045,
          39.067,
          41.691,
          43.66,
          44.781,
          44.945,
          44.135,
          42.431,
          40,
          37.079,
          33.955,
          30.933,
          28.309,
          26.34,
          25.219,
          25.055,
          25.865,
          27.569,
          30,
          32.921,
          36.045,
          39.067,
          41.691,
          43.66,
          44.781,
          44.945,
          44.135,
          42.431,
          40,
          37.079,
          33.955,
          30.933,
          28.309,
          26.34,
          25.219,
          25.055,
          25.865,
          27.569,
          30,
          32.921,
          36.045,
          39.067,
          41.691,
          43.66,
          44.781,
          44.945,
          44.135,
          42.431,
          40,
          37.079,
          33.955,
          30.933,
          28.309,
          26.34,
          25.219,
          25.055,
          25.865,
          27.569,
          30,
          32.921,
          36.045,
          39.067,
          41.691,
          43.66,
          44.781,
          44.945,
          44.135,
          42.431,
          40,
          60,
          57.569,
          55.865,
          55.055,
          55.219,
          56.34,
          58.309,
          60.933,
          63.955,
          67.079,
          70,
          72.431,
          74.135,
          74.945,
          74.781,
          73.66,
          71.691,
          69.067,
          66.045,
          62.921,
          60,
          57.569,
          55.865,
          55.055,
          55.219,
          56.34,
          58.309,
          60.933,
          63.955,
          67.079,
          70,
          72.431,
          74.135,
          74.945,
          74.781,
          73.66,
          71.691,
          69.067,
          66.045,
          62.921,
          60,
          57.569,
          55.865,
          55.055,
          55.219,
          56.34,
          58.309,
          60.933,
          63.955,
          67.079,
          70,
          72.431,
          74.135,
          74.945,
          74.781,
          73.66,
          71.691,
          69.067,
          66.045,
          62.921,
          60,
          57.569,
          55.865,
          55.055,
          55.219,
          56.34,
          58.309,
          60.933,
          63.955,
          67.079,
          70,
          72.431,
          74.135,
          74.945,
          74.781,
          73.66,
          71.691,
          69.067,
          66.045,
          62.921,
          60,
          57.569,
          55.865,
          55.055,
          55.219,
          56.34,
          58.309,
          60.933,
          63.955,
          67.079,
          70,
          72.431,
          74.135,
          74.945,
          74.781,
          73.66,
          71.691,
          69.067,
          66.045,
          62.921,
          60,
          70,
          70.489,
          71.91,
          74.122,
          76.91,
          80,
          83.09,
          85.878,
          88.09,
          89.511,
          90,
          89.511,
          88.09,
          85.878,
          83.09,
          80,
          76.91,
          74.122,
          71.91,
          70.489,
          70,
          70.489,
          71.91,
          74.122,
          76.91,
          80,
          83.09,
          85.878,
          88.09,
          89.511,
          90,
          89.511,
          88.09,
          85.878,
          83.09,
          80,
          76.91,
          74.122,
          71.91,
          70.489,
          70,
          70.489,
          71.91,
          74.122,
          76.91,
          80,
          83.09,
          85.878,
          88.09,
          89.511,
          90,
          89.511,
          88.09,
          85.878,
          83.09,
          80,
          76.91,
          74.122,
          71.91,
          70.489,
          70,
          70.489,
          71.91,
          74.122,
          76.91,
          80,
          83.09,
          85.878,
          88.09,
          89.511,
          90,
          89.511,
          88.09,
          85.878,
          83.09,
          80,
          76.91,
          74.122,
          71.91,
          70.489,
          70,
          70.489,
          71.91,
          74.122,
          76.91,
          80,
          83.09,
          85.878,
          88.09,
          89.511,
          90,
          89.511,
          88.09,
          85.878,
          83.09,
          80,
          76.91,
          74.122,
          71.91,
          70.489,
          70,
          60,
          62.921,
          66.045,
          69.067,
          71.691,
          73.66,
          74.781,
          74.945,
          74.135,
          72.431,
          70,
          67.079,
          63.955,
          60.933,
          58.309,
          56.34,
          55.219,
          55.055,
          55.865,
          57.569,
          60,
          62.921,
          66.045,
          69.067,
          71.691,
          73.66,
          74.781,
          74.945,
          74.135,
          72.431,
          70,
          67.079,
          63.955,
          60.933,
          58.309,
          56.34,
          55.219,
          55.055,
          55.865,
          57.569,
          60,
          62.921,
          66.045,
          69.067,
          71.691,
          73.66,
          74.781,
          74.945,
          74.135,
          72.431,
          70,
          67.079,
          63.955,
          60.933,
          58.309,
          56.34,
          55.219,
          55.055,
          55.865,
          57.569,
          60,
          62.921,
          66.045,
          69.067,
          71.691,
          73.66,
          74.781,
          74.945,
          74.135,
          72.431,
          70,
          67.079,
          63.955,
          60.933,
          58.309,
          56.34,
          55.219,
          55.055,
          55.865,
          57.569,
          60,
          62.921,
          66.045,
          69.067,
          71.691,
          73.66,
          74.781,
          74.945,
          74.135,
          72.431,
          70,
          67.079,
          63.955,
          60.933,
          58.309,
          56.34,
          55.219,
          55.055,
          55.865,
          57.569,
          60,
          40,
          42.431,
          44.135,
          44.945,
          44.781,
          43.66,
          41.691,
          39.067,
          36.045,
          32.921,
          30,
          27.569,
          25.865,
          25.055,
          25.219,
          26.34,
          28.309,
          30.933,
          33.955,
          37.079,
          40,
          42.431,
          44.135,
          44.945,
          44.781,
          43.66,
          41.691,
          39.067,
          36.045,
          32.921,
          30,
          27.569,
          25.865,
          25.055,
          25.219,
          26.34,
          28.309,
          30.933,
          33.955,
          37.079,
          40,
          42.431,
          44.135,
          44.945,
          44.781,
          43.66,
          41.691,
          39.067,
          36.045,
          32.921,
          30,
          27.569,
          25.865,
          25.055,
          25.219,
          26.34,
          28.309,
          30.933,
          33.955,
          37.079,
          40,
          42.431,
          44.135,
          44.945,
          44.781,
          43.66,
          41.691,
          39.067,
          36.045,
          32.921,
          30,
          27.569,
          25.865,
          25.055,
          25.219,
          26.34,
          28.309,
          30.933,
          33.955,
          37.079,
          40,
          42.431,
          44.135,
          44.945,
          44.781,
          43.66,
          41.691,
          39.067,
          36.045,
          32.921,
          30,
          27.569,
          25.865,
          25.055,
          25.219,
          26.34,
          28.309,
          30.933,
          33.955,
          37.079,
          40
         ],
         "y": [
          50,
          53.09,
          55.878,
          58.09,
          59.511,
          60,
          59.511,
          58.09,
          55.878,
          53.09,
          50,
          46.91,
          44.122,
          41.91,
          40.489,
          40,
          40.489,
          41.91,
          44.122,
          46.91,
          50,
          53.09,
          55.878,
          58.09,
          59.511,
          60,
          59.511,
          58.09,
          55.878,
          53.09,
          50,
          46.91,
          44.122,
          41.91,
          40.489,
          40,
          40.489,
          41.91,
          44.122,
          46.91,
          50,
          53.09,
          55.878,
          58.09,
          59.511,
          60,
          59.511,
          58.09,
          55.878,
          53.09,
          50,
          46.91,
          44.122,
          41.91,
          40.489,
          40,
          40.489,
          41.91,
          44.122,
          46.91,
          50,
          53.09,
          55.878,
          58.09,
          59.511,
          60,
          59.511,
          58.09,
          55.878,
          53.09,
          50,
          46.91,
          44.122,
          41.91,
          40.489,
          40,
          40.489,
          41.91,
          44.122,
          46.91,
          50,
          53.09,
          55.878,
          58.09,
          59.511,
          60,
          59.511,
          58.09,
          55.878,
          53.09,
          50,
          46.91,
          44.122,
          41.91,
          40.489,
          40,
          40.489,
          41.91,
          44.122,
          46.91,
          50,
          32.679,
          33.801,
          33.964,
          33.155,
          31.451,
          29.019,
          26.098,
          22.974,
          19.952,
          17.328,
          15.359,
          14.238,
          14.074,
          14.884,
          16.588,
          19.019,
          21.94,
          25.065,
          28.087,
          30.711,
          32.679,
          33.801,
          33.964,
          33.155,
          31.451,
          29.019,
          26.098,
          22.974,
          19.952,
          17.328,
          15.359,
          14.238,
          14.074,
          14.884,
          16.588,
          19.019,
          21.94,
          25.065,
          28.087,
          30.711,
          32.679,
          33.801,
          33.964,
          33.155,
          31.451,
          29.019,
          26.098,
          22.974,
          19.952,
          17.328,
          15.359,
          14.238,
          14.074,
          14.884,
          16.588,
          19.019,
          21.94,
          25.065,
          28.087,
          30.711,
          32.679,
          33.801,
          33.964,
          33.155,
          31.451,
          29.019,
          26.098,
          22.974,
          19.952,
          17.328,
          15.359,
          14.238,
          14.074,
          14.884,
          16.588,
          19.019,
          21.94,
          25.065,
          28.087,
          30.711,
          32.679,
          33.801,
          33.964,
          33.155,
          31.451,
          29.019,
          26.098,
          22.974,
          19.952,
          17.328,
          15.359,
          14.238,
          14.074,
          14.884,
          16.588,
          19.019,
          21.94,
          25.065,
          28.087,
          30.711,
          32.679,
          32.679,
          30.711,
          28.087,
          25.065,
          21.94,
          19.019,
          16.588,
          14.884,
          14.074,
          14.238,
          15.359,
          17.328,
          19.952,
          22.974,
          26.098,
          29.019,
          31.451,
          33.155,
          33.964,
          33.801,
          32.679,
          30.711,
          28.087,
          25.065,
          21.94,
          19.019,
          16.588,
          14.884,
          14.074,
          14.238,
          15.359,
          17.328,
          19.952,
          22.974,
          26.098,
          29.019,
          31.451,
          33.155,
          33.964,
          33.801,
          32.679,
          30.711,
          28.087,
          25.065,
          21.94,
          19.019,
          16.588,
          14.884,
          14.074,
          14.238,
          15.359,
          17.328,
          19.952,
          22.974,
          26.098,
          29.019,
          31.451,
          33.155,
          33.964,
          33.801,
          32.679,
          30.711,
          28.087,
          25.065,
          21.94,
          19.019,
          16.588,
          14.884,
          14.074,
          14.238,
          15.359,
          17.328,
          19.952,
          22.974,
          26.098,
          29.019,
          31.451,
          33.155,
          33.964,
          33.801,
          32.679,
          30.711,
          28.087,
          25.065,
          21.94,
          19.019,
          16.588,
          14.884,
          14.074,
          14.238,
          15.359,
          17.328,
          19.952,
          22.974,
          26.098,
          29.019,
          31.451,
          33.155,
          33.964,
          33.801,
          32.679,
          50,
          46.91,
          44.122,
          41.91,
          40.489,
          40,
          40.489,
          41.91,
          44.122,
          46.91,
          50,
          53.09,
          55.878,
          58.09,
          59.511,
          60,
          59.511,
          58.09,
          55.878,
          53.09,
          50,
          46.91,
          44.122,
          41.91,
          40.489,
          40,
          40.489,
          41.91,
          44.122,
          46.91,
          50,
          53.09,
          55.878,
          58.09,
          59.511,
          60,
          59.511,
          58.09,
          55.878,
          53.09,
          50,
          46.91,
          44.122,
          41.91,
          40.489,
          40,
          40.489,
          41.91,
          44.122,
          46.91,
          50,
          53.09,
          55.878,
          58.09,
          59.511,
          60,
          59.511,
          58.09,
          55.878,
          53.09,
          50,
          46.91,
          44.122,
          41.91,
          40.489,
          40,
          40.489,
          41.91,
          44.122,
          46.91,
          50,
          53.09,
          55.878,
          58.09,
          59.511,
          60,
          59.511,
          58.09,
          55.878,
          53.09,
          50,
          46.91,
          44.122,
          41.91,
          40.489,
          40,
          40.489,
          41.91,
          44.122,
          46.91,
          50,
          53.09,
          55.878,
          58.09,
          59.511,
          60,
          59.511,
          58.09,
          55.878,
          53.09,
          50,
          67.321,
          66.199,
          66.036,
          66.845,
          68.549,
          70.981,
          73.902,
          77.026,
          80.048,
          82.672,
          84.641,
          85.762,
          85.926,
          85.116,
          83.412,
          80.981,
          78.06,
          74.935,
          71.913,
          69.289,
          67.321,
          66.199,
          66.036,
          66.845,
          68.549,
          70.981,
          73.902,
          77.026,
          80.048,
          82.672,
          84.641,
          85.762,
          85.926,
          85.116,
          83.412,
          80.981,
          78.06,
          74.935,
          71.913,
          69.289,
          67.321,
          66.199,
          66.036,
          66.845,
          68.549,
          70.981,
          73.902,
          77.026,
          80.048,
          82.672,
          84.641,
          85.762,
          85.926,
          85.116,
          83.412,
          80.981,
          78.06,
          74.935,
          71.913,
          69.289,
          67.321,
          66.199,
          66.036,
          66.845,
          68.549,
          70.981,
          73.902,
          77.026,
          80.048,
          82.672,
          84.641,
          85.762,
          85.926,
          85.116,
          83.412,
          80.981,
          78.06,
          74.935,
          71.913,
          69.289,
          67.321,
          66.199,
          66.036,
          66.845,
          68.549,
          70.981,
          73.902,
          77.026,
          80.048,
          82.672,
          84.641,
          85.762,
          85.926,
          85.116,
          83.412,
          80.981,
          78.06,
          74.935,
          71.913,
          69.289,
          67.321,
          67.321,
          69.289,
          71.913,
          74.935,
          78.06,
          80.981,
          83.412,
          85.116,
          85.926,
          85.762,
          84.641,
          82.672,
          80.048,
          77.026,
          73.902,
          70.981,
          68.549,
          66.845,
          66.036,
          66.199,
          67.321,
          69.289,
          71.913,
          74.935,
          78.06,
          80.981,
          83.412,
          85.116,
          85.926,
          85.762,
          84.641,
          82.672,
          80.048,
          77.026,
          73.902,
          70.981,
          68.549,
          66.845,
          66.036,
          66.199,
          67.321,
          69.289,
          71.913,
          74.935,
          78.06,
          80.981,
          83.412,
          85.116,
          85.926,
          85.762,
          84.641,
          82.672,
          80.048,
          77.026,
          73.902,
          70.981,
          68.549,
          66.845,
          66.036,
          66.199,
          67.321,
          69.289,
          71.913,
          74.935,
          78.06,
          80.981,
          83.412,
          85.116,
          85.926,
          85.762,
          84.641,
          82.672,
          80.048,
          77.026,
          73.902,
          70.981,
          68.549,
          66.845,
          66.036,
          66.199,
          67.321,
          69.289,
          71.913,
          74.935,
          78.06,
          80.981,
          83.412,
          85.116,
          85.926,
          85.762,
          84.641,
          82.672,
          80.048,
          77.026,
          73.902,
          70.981,
          68.549,
          66.845,
          66.036,
          66.199,
          67.321
         ],
         "z": [
          0,
          0.025,
          0.05,
          0.075,
          0.1,
          0.125,
          0.15,
          0.175,
          0.2,
          0.225,
          0.25,
          0.275,
          0.3,
          0.325,
          0.35,
          0.375,
          0.4,
          0.425,
          0.45,
          0.475,
          0.5,
          0.525,
          0.55,
          0.575,
          0.6,
          0.625,
          0.65,
          0.675,
          0.7,
          0.725,
          0.75,
          0.775,
          0.8,
          0.825,
          0.85,
          0.875,
          0.9,
          0.925,
          0.95,
          0.975,
          1,
          1.025,
          1.05,
          1.075,
          1.1,
          1.125,
          1.15,
          1.175,
          1.2,
          1.225,
          1.25,
          1.275,
          1.3,
          1.325,
          1.35,
          1.375,
          1.4,
          1.425,
          1.45,
          1.475,
          1.5,
          1.525,
          1.55,
          1.575,
          1.6,
          1.625,
          1.65,
          1.675,
          1.7,
          1.725,
          1.75,
          1.775,
          1.8,
          1.825,
          1.85,
          1.875,
          1.9,
          1.925,
          1.95,
          1.975,
          2,
          2.025,
          2.05,
          2.075,
          2.1,
          2.125,
          2.15,
          2.175,
          2.2,
          2.225,
          2.25,
          2.275,
          2.3,
          2.325,
          2.35,
          2.375,
          2.4,
          2.425,
          2.45,
          2.475,
          2.5,
          0,
          0.025,
          0.05,
          0.075,
          0.1,
          0.125,
          0.15,
          0.175,
          0.2,
          0.225,
          0.25,
          0.275,
          0.3,
          0.325,
          0.35,
          0.375,
          0.4,
          0.425,
          0.45,
          0.475,
          0.5,
          0.525,
          0.55,
          0.575,
          0.6,
          0.625,
          0.65,
          0.675,
          0.7,
          0.725,
          0.75,
          0.775,
          0.8,
          0.825,
          0.85,
          0.875,
          0.9,
          0.925,
          0.95,
          0.975,
          1,
          1.025,
          1.05,
          1.075,
          1.1,
          1.125,
          1.15,
          1.175,
          1.2,
          1.225,
          1.25,
          1.275,
          1.3,
          1.325,
          1.35,
          1.375,
          1.4,
          1.425,
          1.45,
          1.475,
          1.5,
          1.525,
          1.55,
          1.575,
          1.6,
          1.625,
          1.65,
          1.675,
          1.7,
          1.725,
          1.75,
          1.775,
          1.8,
          1.825,
          1.85,
          1.875,
          1.9,
          1.925,
          1.95,
          1.975,
          2,
          2.025,
          2.05,
          2.075,
          2.1,
          2.125,
          2.15,
          2.175,
          2.2,
          2.225,
          2.25,
          2.275,
          2.3,
          2.325,
          2.35,
          2.375,
          2.4,
          2.425,
          2.45,
          2.475,
          2.5,
          0,
          0.025,
          0.05,
          0.075,
          0.1,
          0.125,
          0.15,
          0.175,
          0.2,
          0.225,
          0.25,
          0.275,
          0.3,
          0.325,
          0.35,
          0.375,
          0.4,
          0.425,
          0.45,
          0.475,
          0.5,
          0.525,
          0.55,
          0.575,
          0.6,
          0.625,
          0.65,
          0.675,
          0.7,
          0.725,
          0.75,
          0.775,
          0.8,
          0.825,
          0.85,
          0.875,
          0.9,
          0.925,
          0.95,
          0.975,
          1,
          1.025,
          1.05,
          1.075,
          1.1,
          1.125,
          1.15,
          1.175,
          1.2,
          1.225,
          1.25,
          1.275,
          1.3,
          1.325,
          1.35,
          1.375,
          1.4,
          1.425,
          1.45,
          1.475,
          1.5,
          1.525,
          1.55,
          1.575,
          1.6,
          1.625,
          1.65,
          1.675,
          1.7,
          1.725,
          1.75,
          1.775,
          1.8,
          1.825,
          1.85,
          1.875,
          1.9,
          1.925,
          1.95,
          1.975,
          2,
          2.025,
          2.05,
          2.075,
          2.1,
          2.125,
          2.15,
          2.175,
          2.2,
          2.225,
          2.25,
          2.275,
          2.3,
          2.325,
          2.35,
          2.375,
          2.4,
          2.425,
          2.45,
          2.475,
          2.5,
          0,
          0.025,
          0.05,
          0.075,
          0.1,
          0.125,
          0.15,
          0.175,
          0.2,
          0.225,
          0.25,
          0.275,
          0.3,
          0.325,
          0.35,
          0.375,
          0.4,
          0.425,
          0.45,
          0.475,
          0.5,
          0.525,
          0.55,
          0.575,
          0.6,
          0.625,
          0.65,
          0.675,
          0.7,
          0.725,
          0.75,
          0.775,
          0.8,
          0.825,
          0.85,
          0.875,
          0.9,
          0.925,
          0.95,
          0.975,
          1,
          1.025,
          1.05,
          1.075,
          1.1,
          1.125,
          1.15,
          1.175,
          1.2,
          1.225,
          1.25,
          1.275,
          1.3,
          1.325,
          1.35,
          1.375,
          1.4,
          1.425,
          1.45,
          1.475,
          1.5,
          1.525,
          1.55,
          1.575,
          1.6,
          1.625,
          1.65,
          1.675,
          1.7,
          1.725,
          1.75,
          1.775,
          1.8,
          1.825,
          1.85,
          1.875,
          1.9,
          1.925,
          1.95,
          1.975,
          2,
          2.025,
          2.05,
          2.075,
          2.1,
          2.125,
          2.15,
          2.175,
          2.2,
          2.225,
          2.25,
          2.275,
          2.3,
          2.325,
          2.35,
          2.375,
          2.4,
          2.425,
          2.45,
          2.475,
          2.5,
          0,
          0.025,
          0.05,
          0.075,
          0.1,
          0.125,
          0.15,
          0.175,
          0.2,
          0.225,
          0.25,
          0.275,
          0.3,
          0.325,
          0.35,
          0.375,
          0.4,
          0.425,
          0.45,
          0.475,
          0.5,
          0.525,
          0.55,
          0.575,
          0.6,
          0.625,
          0.65,
          0.675,
          0.7,
          0.725,
          0.75,
          0.775,
          0.8,
          0.825,
          0.85,
          0.875,
          0.9,
          0.925,
          0.95,
          0.975,
          1,
          1.025,
          1.05,
          1.075,
          1.1,
          1.125,
          1.15,
          1.175,
          1.2,
          1.225,
          1.25,
          1.275,
          1.3,
          1.325,
          1.35,
          1.375,
          1.4,
          1.425,
          1.45,
          1.475,
          1.5,
          1.525,
          1.55,
          1.575,
          1.6,
          1.625,
          1.65,
          1.675,
          1.7,
          1.725,
          1.75,
          1.775,
          1.8,
          1.825,
          1.85,
          1.875,
          1.9,
          1.925,
          1.95,
          1.975,
          2,
          2.025,
          2.05,
          2.075,
          2.1,
          2.125,
          2.15,
          2.175,
          2.2,
          2.225,
          2.25,
          2.275,
          2.3,
          2.325,
          2.35,
          2.375,
          2.4,
          2.425,
          2.45,
          2.475,
          2.5,
          0,
          0.025,
          0.05,
          0.075,
          0.1,
          0.125,
          0.15,
          0.175,
          0.2,
          0.225,
          0.25,
          0.275,
          0.3,
          0.325,
          0.35,
          0.375,
          0.4,
          0.425,
          0.45,
          0.475,
          0.5,
          0.525,
          0.55,
          0.575,
          0.6,
          0.625,
          0.65,
          0.675,
          0.7,
          0.725,
          0.75,
          0.775,
          0.8,
          0.825,
          0.85,
          0.875,
          0.9,
          0.925,
          0.95,
          0.975,
          1,
          1.025,
          1.05,
          1.075,
          1.1,
          1.125,
          1.15,
          1.175,
          1.2,
          1.225,
          1.25,
          1.275,
          1.3,
          1.325,
          1.35,
          1.375,
          1.4,
          1.425,
          1.45,
          1.475,
          1.5,
          1.525,
          1.55,
          1.575,
          1.6,
          1.625,
          1.65,
          1.675,
          1.7,
          1.725,
          1.75,
          1.775,
          1.8,
          1.825,
          1.85,
          1.875,
          1.9,
          1.925,
          1.95,
          1.975,
          2,
          2.025,
          2.05,
          2.075,
          2.1,
          2.125,
          2.15,
          2.175,
          2.2,
          2.225,
          2.25,
          2.275,
          2.3,
          2.325,
          2.35,
          2.375,
          2.4,
          2.425,
          2.45,
          2.475,
          2.5
         ]
        },
        {
         "marker": {
          "color": "red",
          "size": 2
         },
         "mode": "markers",
         "showlegend": false,
         "type": "scatter3d",
         "x": [],
         "y": [],
         "z": []
        }
       ],
       "layout": {
        "height": 500,
        "margin": {
         "b": 10,
         "l": 10,
         "pad": 4,
         "r": 10,
         "t": 10
        },
        "paper_bgcolor": "black",
        "scene": {
         "aspectmode": "cube",
         "camera": {
          "center": {
           "x": 0,
           "y": 0,
           "z": -0.4843753906152346
          },
          "eye": {
           "x": -0.5,
           "y": -1,
           "z": 0
          }
         },
         "xaxis": {
          "backgroundcolor": "black",
          "nticks": 10,
          "range": [
           9.999000000000002,
           90.001
          ]
         },
         "yaxis": {
          "backgroundcolor": "black",
          "nticks": 10,
          "range": [
           9.999000000000002,
           90.001
          ]
         },
         "zaxis": {
          "backgroundcolor": "black",
          "nticks": 10,
          "range": [
           0,
           80.002
          ]
         }
        },
        "template": {
         "data": {
          "bar": [
           {
            "error_x": {
             "color": "#f2f5fa"
            },
            "error_y": {
             "color": "#f2f5fa"
            },
            "marker": {
             "line": {
              "color": "rgb(17,17,17)",
              "width": 0.5
             },
             "pattern": {
              "fillmode": "overlay",
              "size": 10,
              "solidity": 0.2
             }
            },
            "type": "bar"
           }
          ],
          "barpolar": [
           {
            "marker": {
             "line": {
              "color": "rgb(17,17,17)",
              "width": 0.5
             },
             "pattern": {
              "fillmode": "overlay",
              "size": 10,
              "solidity": 0.2
             }
            },
            "type": "barpolar"
           }
          ],
          "carpet": [
           {
            "aaxis": {
             "endlinecolor": "#A2B1C6",
             "gridcolor": "#506784",
             "linecolor": "#506784",
             "minorgridcolor": "#506784",
             "startlinecolor": "#A2B1C6"
            },
            "baxis": {
             "endlinecolor": "#A2B1C6",
             "gridcolor": "#506784",
             "linecolor": "#506784",
             "minorgridcolor": "#506784",
             "startlinecolor": "#A2B1C6"
            },
            "type": "carpet"
           }
          ],
          "choropleth": [
           {
            "colorbar": {
             "outlinewidth": 0,
             "ticks": ""
            },
            "type": "choropleth"
           }
          ],
          "contour": [
           {
            "colorbar": {
             "outlinewidth": 0,
             "ticks": ""
            },
            "colorscale": [
             [
              0,
              "#0d0887"
             ],
             [
              0.1111111111111111,
              "#46039f"
             ],
             [
              0.2222222222222222,
              "#7201a8"
             ],
             [
              0.3333333333333333,
              "#9c179e"
             ],
             [
              0.4444444444444444,
              "#bd3786"
             ],
             [
              0.5555555555555556,
              "#d8576b"
             ],
             [
              0.6666666666666666,
              "#ed7953"
             ],
             [
              0.7777777777777778,
              "#fb9f3a"
             ],
             [
              0.8888888888888888,
              "#fdca26"
             ],
             [
              1,
              "#f0f921"
             ]
            ],
            "type": "contour"
           }
          ],
          "contourcarpet": [
           {
            "colorbar": {
             "outlinewidth": 0,
             "ticks": ""
            },
            "type": "contourcarpet"
           }
          ],
          "heatmap": [
           {
            "colorbar": {
             "outlinewidth": 0,
             "ticks": ""
            },
            "colorscale": [
             [
              0,
              "#0d0887"
             ],
             [
              0.1111111111111111,
              "#46039f"
             ],
             [
              0.2222222222222222,
              "#7201a8"
             ],
             [
              0.3333333333333333,
              "#9c179e"
             ],
             [
              0.4444444444444444,
              "#bd3786"
             ],
             [
              0.5555555555555556,
              "#d8576b"
             ],
             [
              0.6666666666666666,
              "#ed7953"
             ],
             [
              0.7777777777777778,
              "#fb9f3a"
             ],
             [
              0.8888888888888888,
              "#fdca26"
             ],
             [
              1,
              "#f0f921"
             ]
            ],
            "type": "heatmap"
           }
          ],
          "histogram": [
           {
            "marker": {
             "pattern": {
              "fillmode": "overlay",
              "size": 10,
              "solidity": 0.2
             }
            },
            "type": "histogram"
           }
          ],
          "histogram2d": [
           {
            "colorbar": {
             "outlinewidth": 0,
             "ticks": ""
            },
            "colorscale": [
             [
              0,
              "#0d0887"
             ],
             [
              0.1111111111111111,
              "#46039f"
             ],
             [
              0.2222222222222222,
              "#7201a8"
             ],
             [
              0.3333333333333333,
              "#9c179e"
             ],
             [
              0.4444444444444444,
              "#bd3786"
             ],
             [
              0.5555555555555556,
              "#d8576b"
             ],
             [
              0.6666666666666666,
              "#ed7953"
             ],
             [
              0.7777777777777778,
              "#fb9f3a"
             ],
             [
              0.8888888888888888,
              "#fdca26"
             ],
             [
              1,
              "#f0f921"
             ]
            ],
            "type": "histogram2d"
           }
          ],
          "histogram2dcontour": [
           {
            "colorbar": {
             "outlinewidth": 0,
             "ticks": ""
            },
            "colorscale": [
             [
              0,
              "#0d0887"
             ],
             [
              0.1111111111111111,
              "#46039f"
             ],
             [
              0.2222222222222222,
              "#7201a8"
             ],
             [
              0.3333333333333333,
              "#9c179e"
             ],
             [
              0.4444444444444444,
              "#bd3786"
             ],
             [
              0.5555555555555556,
              "#d8576b"
             ],
             [
              0.6666666666666666,
              "#ed7953"
             ],
             [
              0.7777777777777778,
              "#fb9f3a"
             ],
             [
              0.8888888888888888,
              "#fdca26"
             ],
             [
              1,
              "#f0f921"
             ]
            ],
            "type": "histogram2dcontour"
           }
          ],
          "mesh3d": [
           {
            "colorbar": {
             "outlinewidth": 0,
             "ticks": ""
            },
            "type": "mesh3d"
           }
          ],
          "parcoords": [
           {
            "line": {
             "colorbar": {
              "outlinewidth": 0,
              "ticks": ""
             }
            },
            "type": "parcoords"
           }
          ],
          "pie": [
           {
            "automargin": true,
            "type": "pie"
           }
          ],
          "scatter": [
           {
            "marker": {
             "line": {
              "color": "#283442"
             }
            },
            "type": "scatter"
           }
          ],
          "scatter3d": [
           {
            "line": {
             "colorbar": {
              "outlinewidth": 0,
              "ticks": ""
             }
            },
            "marker": {
             "colorbar": {
              "outlinewidth": 0,
              "ticks": ""
             }
            },
            "type": "scatter3d"
           }
          ],
          "scattercarpet": [
           {
            "marker": {
             "colorbar": {
              "outlinewidth": 0,
              "ticks": ""
             }
            },
            "type": "scattercarpet"
           }
          ],
          "scattergeo": [
           {
            "marker": {
             "colorbar": {
              "outlinewidth": 0,
              "ticks": ""
             }
            },
            "type": "scattergeo"
           }
          ],
          "scattergl": [
           {
            "marker": {
             "line": {
              "color": "#283442"
             }
            },
            "type": "scattergl"
           }
          ],
          "scattermap": [
           {
            "marker": {
             "colorbar": {
              "outlinewidth": 0,
              "ticks": ""
             }
            },
            "type": "scattermap"
           }
          ],
          "scattermapbox": [
           {
            "marker": {
             "colorbar": {
              "outlinewidth": 0,
              "ticks": ""
             }
            },
            "type": "scattermapbox"
           }
          ],
          "scatterpolar": [
           {
            "marker": {
             "colorbar": {
              "outlinewidth": 0,
              "ticks": ""
             }
            },
            "type": "scatterpolar"
           }
          ],
          "scatterpolargl": [
           {
            "marker": {
             "colorbar": {
              "outlinewidth": 0,
              "ticks": ""
             }
            },
            "type": "scatterpolargl"
           }
          ],
          "scatterternary": [
           {
            "marker": {
             "colorbar": {
              "outlinewidth": 0,
              "ticks": ""
             }
            },
            "type": "scatterternary"
           }
          ],
          "surface": [
           {
            "colorbar": {
             "outlinewidth": 0,
             "ticks": ""
            },
            "colorscale": [
             [
              0,
              "#0d0887"
             ],
             [
              0.1111111111111111,
              "#46039f"
             ],
             [
              0.2222222222222222,
              "#7201a8"
             ],
             [
              0.3333333333333333,
              "#9c179e"
             ],
             [
              0.4444444444444444,
              "#bd3786"
             ],
             [
              0.5555555555555556,
              "#d8576b"
             ],
             [
              0.6666666666666666,
              "#ed7953"
             ],
             [
              0.7777777777777778,
              "#fb9f3a"
             ],
             [
              0.8888888888888888,
              "#fdca26"
             ],
             [
              1,
              "#f0f921"
             ]
            ],
            "type": "surface"
           }
          ],
          "table": [
           {
            "cells": {
             "fill": {
              "color": "#506784"
             },
             "line": {
              "color": "rgb(17,17,17)"
             }
            },
            "header": {
             "fill": {
              "color": "#2a3f5f"
             },
             "line": {
              "color": "rgb(17,17,17)"
             }
            },
            "type": "table"
           }
          ]
         },
         "layout": {
          "annotationdefaults": {
           "arrowcolor": "#f2f5fa",
           "arrowhead": 0,
           "arrowwidth": 1
          },
          "autotypenumbers": "strict",
          "coloraxis": {
           "colorbar": {
            "outlinewidth": 0,
            "ticks": ""
           }
          },
          "colorscale": {
           "diverging": [
            [
             0,
             "#8e0152"
            ],
            [
             0.1,
             "#c51b7d"
            ],
            [
             0.2,
             "#de77ae"
            ],
            [
             0.3,
             "#f1b6da"
            ],
            [
             0.4,
             "#fde0ef"
            ],
            [
             0.5,
             "#f7f7f7"
            ],
            [
             0.6,
             "#e6f5d0"
            ],
            [
             0.7,
             "#b8e186"
            ],
            [
             0.8,
             "#7fbc41"
            ],
            [
             0.9,
             "#4d9221"
            ],
            [
             1,
             "#276419"
            ]
           ],
           "sequential": [
            [
             0,
             "#0d0887"
            ],
            [
             0.1111111111111111,
             "#46039f"
            ],
            [
             0.2222222222222222,
             "#7201a8"
            ],
            [
             0.3333333333333333,
             "#9c179e"
            ],
            [
             0.4444444444444444,
             "#bd3786"
            ],
            [
             0.5555555555555556,
             "#d8576b"
            ],
            [
             0.6666666666666666,
             "#ed7953"
            ],
            [
             0.7777777777777778,
             "#fb9f3a"
            ],
            [
             0.8888888888888888,
             "#fdca26"
            ],
            [
             1,
             "#f0f921"
            ]
           ],
           "sequentialminus": [
            [
             0,
             "#0d0887"
            ],
            [
             0.1111111111111111,
             "#46039f"
            ],
            [
             0.2222222222222222,
             "#7201a8"
            ],
            [
             0.3333333333333333,
             "#9c179e"
            ],
            [
             0.4444444444444444,
             "#bd3786"
            ],
            [
             0.5555555555555556,
             "#d8576b"
            ],
            [
             0.6666666666666666,
             "#ed7953"
            ],
            [
             0.7777777777777778,
             "#fb9f3a"
            ],
            [
             0.8888888888888888,
             "#fdca26"
            ],
            [
             1,
             "#f0f921"
            ]
           ]
          },
          "colorway": [
           "#636efa",
           "#EF553B",
           "#00cc96",
           "#ab63fa",
           "#FFA15A",
           "#19d3f3",
           "#FF6692",
           "#B6E880",
           "#FF97FF",
           "#FECB52"
          ],
          "font": {
           "color": "#f2f5fa"
          },
          "geo": {
           "bgcolor": "rgb(17,17,17)",
           "lakecolor": "rgb(17,17,17)",
           "landcolor": "rgb(17,17,17)",
           "showlakes": true,
           "showland": true,
           "subunitcolor": "#506784"
          },
          "hoverlabel": {
           "align": "left"
          },
          "hovermode": "closest",
          "mapbox": {
           "style": "dark"
          },
          "paper_bgcolor": "rgb(17,17,17)",
          "plot_bgcolor": "rgb(17,17,17)",
          "polar": {
           "angularaxis": {
            "gridcolor": "#506784",
            "linecolor": "#506784",
            "ticks": ""
           },
           "bgcolor": "rgb(17,17,17)",
           "radialaxis": {
            "gridcolor": "#506784",
            "linecolor": "#506784",
            "ticks": ""
           }
          },
          "scene": {
           "xaxis": {
            "backgroundcolor": "rgb(17,17,17)",
            "gridcolor": "#506784",
            "gridwidth": 2,
            "linecolor": "#506784",
            "showbackground": true,
            "ticks": "",
            "zerolinecolor": "#C8D4E3"
           },
           "yaxis": {
            "backgroundcolor": "rgb(17,17,17)",
            "gridcolor": "#506784",
            "gridwidth": 2,
            "linecolor": "#506784",
            "showbackground": true,
            "ticks": "",
            "zerolinecolor": "#C8D4E3"
           },
           "zaxis": {
            "backgroundcolor": "rgb(17,17,17)",
            "gridcolor": "#506784",
            "gridwidth": 2,
            "linecolor": "#506784",
            "showbackground": true,
            "ticks": "",
            "zerolinecolor": "#C8D4E3"
           }
          },
          "shapedefaults": {
           "line": {
            "color": "#f2f5fa"
           }
          },
          "sliderdefaults": {
           "bgcolor": "#C8D4E3",
           "bordercolor": "rgb(17,17,17)",
           "borderwidth": 1,
           "tickwidth": 0
          },
          "ternary": {
           "aaxis": {
            "gridcolor": "#506784",
            "linecolor": "#506784",
            "ticks": ""
           },
           "baxis": {
            "gridcolor": "#506784",
            "linecolor": "#506784",
            "ticks": ""
           },
           "bgcolor": "rgb(17,17,17)",
           "caxis": {
            "gridcolor": "#506784",
            "linecolor": "#506784",
            "ticks": ""
           }
          },
          "title": {
           "x": 0.05
          },
          "updatemenudefaults": {
           "bgcolor": "#506784",
           "borderwidth": 0
          },
          "xaxis": {
           "automargin": true,
           "gridcolor": "#283442",
           "linecolor": "#506784",
           "ticks": "",
           "title": {
            "standoff": 15
           },
           "zerolinecolor": "#283442",
           "zerolinewidth": 2
          },
          "yaxis": {
           "automargin": true,
           "gridcolor": "#283442",
           "linecolor": "#506784",
           "ticks": "",
           "title": {
            "standoff": 15
           },
           "zerolinecolor": "#283442",
           "zerolinewidth": 2
          }
         }
        },
        "width": 800
       }
      }
     },
     "metadata": {},
     "output_type": "display_data"
    }
   ],
   "source": [
    "array_centre = fc.Point(x=50,y=50,z=0)\n",
    "first_helix_centre = fc.Point(x=20, y=50, z=0)\n",
    "steps = fc.helixZ(first_helix_centre,10,10,0,5,0.5,100)\n",
    "steps = fc.move_polar(steps, array_centre, 0, tau/6, copy=True, copy_quantity=6)\n",
    "fc.transform(steps, 'plot', fc.PlotControls(style='line'))"
   ]
  },
  {
   "attachments": {},
   "cell_type": "markdown",
   "metadata": {},
   "source": [
    "#### reflect\n",
    "\n",
    "points can be reflected about a line that is defined by either two points (fc.reflectXY), or by one point and a polar angle (fc.reflectXYpolar)\n",
    "- polar angle convention:\n",
    "    - 0 = positive x direction\n",
    "    - 0.25*tau = positive y direction\n",
    "    - 0.5*tau = negative x direction\n",
    "    - 0.75*tau = negative y direction."
   ]
  },
  {
   "cell_type": "code",
   "execution_count": 18,
   "metadata": {},
   "outputs": [
    {
     "name": "stdout",
     "output_type": "stream",
     "text": [
      "point before reflecting: \n",
      "x=50.0 y=50.0 z=0.0 color=None\n",
      "point after reflecting about x-axis using 'reflectXY()': \n",
      "x=50.0 y=-50.0 z=0.0 color=None\n",
      "point after reflecting about y-axis using 'reflect_polar()': \n",
      "x=-50.0 y=50.0 z=0.0 color=None\n"
     ]
    }
   ],
   "source": [
    "steps = []\n",
    "\n",
    "pt1 = fc.Point(x=50, y=50, z=0)\n",
    "print('point before reflecting: \\n' + str(pt1))\n",
    "pt1_reflected = fc.reflectXY(pt1, fc.Point(x=0, y=0), fc.Point(x=1, y=0))\n",
    "print(\"point after reflecting about x-axis using 'reflectXY()': \\n\" + str(pt1_reflected))\n",
    "pt1_reflected = fc.reflectXYpolar(pt1, fc.Point(x=0, y=0), tau/4)\n",
    "print(\"point after reflecting about y-axis using 'reflect_polar()': \\n\" + str(pt1_reflected))"
   ]
  },
  {
   "attachments": {},
   "cell_type": "markdown",
   "metadata": {},
   "source": [
    "#### reflecting a list\n",
    "\n",
    "FullControl's reflect functions can only be used on individual points. reflecting lists of points is not simple because a reflected list of points must typically be printed in reverse order. otherwise, the nozzle would jump from the last point to the first point of the list before printing its reflection. if the list contained instructions halfway through to change ***state*** beyond a point (e.g. turn extrusion on/off), these instructions would affect different sections of the print path for the reflected and non-reflected lists since their sequences are reversed. therefore, FullControl allows the designer to reflect points only - it is up to the designer to iterate through a list of points, as demonstrated below. if ***state***-changing objects are included in the list, it is up to the designer to decide the appropriate location for them in the reflected list and to not attempt a reflectXY() function on them since they will not have xyz attributes"
   ]
  },
  {
   "cell_type": "code",
   "execution_count": 19,
   "metadata": {},
   "outputs": [
    {
     "data": {
      "application/vnd.plotly.v1+json": {
       "config": {
        "plotlyServerURL": "https://plot.ly"
       },
       "data": [
        {
         "line": {
          "color": [
           "rgb(204.00, 0.00, 255.00)",
           "rgb(199.16, 0.00, 255.00)",
           "rgb(194.31, 0.00, 255.00)",
           "rgb(189.72, 0.00, 255.00)",
           "rgb(184.88, 0.00, 255.00)",
           "rgb(180.03, 0.00, 255.00)",
           "rgb(175.19, 0.00, 255.00)",
           "rgb(170.34, 0.00, 255.00)",
           "rgb(165.50, 0.00, 255.00)",
           "rgb(160.91, 0.00, 255.00)",
           "rgb(156.06, 0.00, 255.00)",
           "rgb(151.22, 0.00, 255.00)",
           "rgb(146.37, 0.00, 255.00)",
           "rgb(141.53, 0.00, 255.00)",
           "rgb(136.68, 0.00, 255.00)",
           "rgb(132.09, 0.00, 255.00)",
           "rgb(127.25, 0.00, 255.00)",
           "rgb(122.40, 0.00, 255.00)",
           "rgb(117.56, 0.00, 255.00)",
           "rgb(112.71, 0.00, 255.00)",
           "rgb(108.12, 0.00, 255.00)",
           "rgb(103.28, 0.00, 255.00)",
           "rgb(98.43, 0.00, 255.00)",
           "rgb(93.58, 0.00, 255.00)",
           "rgb(88.74, 0.00, 255.00)",
           "rgb(83.90, 0.00, 255.00)",
           "rgb(79.30, 0.00, 255.00)",
           "rgb(74.46, 0.00, 255.00)",
           "rgb(69.62, 0.00, 255.00)",
           "rgb(64.77, 0.00, 255.00)",
           "rgb(59.92, 0.00, 255.00)",
           "rgb(55.08, 0.00, 255.00)",
           "rgb(50.49, 0.00, 255.00)",
           "rgb(45.64, 0.00, 255.00)",
           "rgb(40.80, 0.00, 255.00)",
           "rgb(35.95, 0.00, 255.00)",
           "rgb(31.11, 0.00, 255.00)",
           "rgb(26.52, 0.00, 255.00)",
           "rgb(21.68, 0.00, 255.00)",
           "rgb(16.83, 0.00, 255.00)",
           "rgb(11.98, 0.00, 255.00)",
           "rgb(7.14, 0.00, 255.00)",
           "rgb(2.29, 0.00, 255.00)",
           "rgb(0.00, 3.06, 255.00)",
           "rgb(0.00, 8.93, 255.00)",
           "rgb(0.00, 15.04, 255.00)",
           "rgb(0.00, 20.91, 255.00)",
           "rgb(0.00, 27.03, 255.00)",
           "rgb(0.00, 32.90, 255.00)",
           "rgb(0.00, 39.02, 255.00)",
           "rgb(0.00, 44.88, 255.00)",
           "rgb(0.00, 51.00, 255.00)",
           "rgb(0.00, 57.12, 255.00)",
           "rgb(0.00, 62.98, 255.00)",
           "rgb(0.00, 69.11, 255.00)",
           "rgb(0.00, 74.97, 255.00)",
           "rgb(0.00, 81.09, 255.00)",
           "rgb(0.00, 86.96, 255.00)",
           "rgb(0.00, 93.08, 255.00)",
           "rgb(0.00, 98.94, 255.00)",
           "rgb(0.00, 105.06, 255.00)",
           "rgb(0.00, 110.92, 255.00)",
           "rgb(0.00, 117.05, 255.00)",
           "rgb(0.00, 122.91, 255.00)",
           "rgb(0.00, 129.03, 255.00)",
           "rgb(0.00, 134.90, 255.00)",
           "rgb(0.00, 141.02, 255.00)",
           "rgb(0.00, 146.88, 255.00)",
           "rgb(0.00, 153.00, 255.00)",
           "rgb(0.00, 159.12, 255.00)",
           "rgb(0.00, 164.99, 255.00)",
           "rgb(0.00, 171.11, 255.00)",
           "rgb(0.00, 176.97, 255.00)",
           "rgb(0.00, 183.09, 255.00)",
           "rgb(0.00, 188.95, 255.00)",
           "rgb(0.00, 195.08, 255.00)",
           "rgb(0.00, 200.94, 255.00)",
           "rgb(0.00, 207.06, 255.00)",
           "rgb(0.00, 212.92, 255.00)",
           "rgb(0.00, 219.04, 255.00)",
           "rgb(0.00, 224.91, 255.00)",
           "rgb(0.00, 231.03, 255.00)",
           "rgb(0.00, 236.90, 255.00)"
          ],
          "width": 4
         },
         "mode": "lines",
         "showlegend": false,
         "type": "scatter3d",
         "x": [
          42.929,
          43.284,
          43.656,
          44.043,
          44.444,
          44.859,
          45.286,
          45.724,
          46.173,
          46.631,
          47.097,
          47.57,
          48.049,
          48.533,
          49.02,
          49.509,
          50,
          80,
          82.926,
          85.74,
          88.334,
          90.607,
          92.472,
          93.858,
          94.712,
          95,
          94.712,
          93.858,
          92.472,
          90.607,
          88.334,
          85.74,
          82.926,
          80,
          79.025,
          78.087,
          77.222,
          76.464,
          75.843,
          75.381,
          75.096,
          75,
          75.096,
          75.381,
          75.843,
          76.464,
          77.222,
          78.087,
          79.025,
          80,
          80.975,
          81.913,
          82.778,
          83.536,
          84.157,
          84.619,
          84.904,
          85,
          84.904,
          84.619,
          84.157,
          83.536,
          82.778,
          81.913,
          80.975,
          80,
          60,
          59.509,
          59.02,
          58.533,
          58.049,
          57.57,
          57.097,
          56.631,
          56.173,
          55.724,
          55.286,
          54.859,
          54.444,
          54.043,
          53.656,
          53.284,
          52.929
         ],
         "y": [
          42.929,
          42.59,
          42.27,
          41.968,
          41.685,
          41.423,
          41.181,
          40.96,
          40.761,
          40.585,
          40.431,
          40.3,
          40.192,
          40.108,
          40.048,
          40.012,
          40,
          40,
          40.288,
          41.142,
          42.528,
          44.393,
          46.666,
          49.26,
          52.074,
          55,
          57.926,
          60.74,
          63.334,
          65.607,
          67.472,
          68.858,
          69.712,
          70,
          69.904,
          69.619,
          69.157,
          68.536,
          67.778,
          66.913,
          65.975,
          65,
          64.025,
          63.087,
          62.222,
          61.464,
          60.843,
          60.381,
          60.096,
          60,
          59.904,
          59.619,
          59.157,
          58.536,
          57.778,
          56.913,
          55.975,
          55,
          54.025,
          53.087,
          52.222,
          51.464,
          50.843,
          50.381,
          50.096,
          50,
          50,
          50.012,
          50.048,
          50.108,
          50.192,
          50.3,
          50.431,
          50.585,
          50.761,
          50.96,
          51.181,
          51.423,
          51.685,
          51.968,
          52.27,
          52.59,
          52.929
         ],
         "z": [
          0,
          0,
          0,
          0,
          0,
          0,
          0,
          0,
          0,
          0,
          0,
          0,
          0,
          0,
          0,
          0,
          0,
          0,
          0,
          0,
          0,
          0,
          0,
          0,
          0,
          0,
          0,
          0,
          0,
          0,
          0,
          0,
          0,
          0,
          0,
          0,
          0,
          0,
          0,
          0,
          0,
          0,
          0,
          0,
          0,
          0,
          0,
          0,
          0,
          0,
          0,
          0,
          0,
          0,
          0,
          0,
          0,
          0,
          0,
          0,
          0,
          0,
          0,
          0,
          0,
          0,
          0,
          0,
          0,
          0,
          0,
          0,
          0,
          0,
          0,
          0,
          0,
          0,
          0,
          0,
          0,
          0,
          0
         ]
        },
        {
         "marker": {
          "color": "red",
          "size": 2
         },
         "mode": "markers",
         "showlegend": false,
         "type": "scatter3d",
         "x": [
          52.929
         ],
         "y": [
          52.929
         ],
         "z": [
          0
         ]
        }
       ],
       "layout": {
        "height": 500,
        "margin": {
         "b": 10,
         "l": 10,
         "pad": 4,
         "r": 10,
         "t": 10
        },
        "paper_bgcolor": "black",
        "scene": {
         "annotations": [
          {
           "showarrow": false,
           "text": "this geometry is reflected in next plot",
           "x": 52.929,
           "y": 52.929,
           "yshift": 10,
           "z": 0
          }
         ],
         "aspectmode": "cube",
         "camera": {
          "center": {
           "x": 0,
           "y": 0,
           "z": -0.5
          },
          "eye": {
           "x": -0.5,
           "y": -1,
           "z": 0
          }
         },
         "xaxis": {
          "backgroundcolor": "black",
          "nticks": 10,
          "range": [
           42.92793218813452,
           95.001
          ]
         },
         "yaxis": {
          "backgroundcolor": "black",
          "nticks": 10,
          "range": [
           28.96346609406726,
           81.03653390593274
          ]
         },
         "zaxis": {
          "backgroundcolor": "black",
          "nticks": 10,
          "range": [
           0,
           52.07306781186548
          ]
         }
        },
        "template": {
         "data": {
          "bar": [
           {
            "error_x": {
             "color": "#f2f5fa"
            },
            "error_y": {
             "color": "#f2f5fa"
            },
            "marker": {
             "line": {
              "color": "rgb(17,17,17)",
              "width": 0.5
             },
             "pattern": {
              "fillmode": "overlay",
              "size": 10,
              "solidity": 0.2
             }
            },
            "type": "bar"
           }
          ],
          "barpolar": [
           {
            "marker": {
             "line": {
              "color": "rgb(17,17,17)",
              "width": 0.5
             },
             "pattern": {
              "fillmode": "overlay",
              "size": 10,
              "solidity": 0.2
             }
            },
            "type": "barpolar"
           }
          ],
          "carpet": [
           {
            "aaxis": {
             "endlinecolor": "#A2B1C6",
             "gridcolor": "#506784",
             "linecolor": "#506784",
             "minorgridcolor": "#506784",
             "startlinecolor": "#A2B1C6"
            },
            "baxis": {
             "endlinecolor": "#A2B1C6",
             "gridcolor": "#506784",
             "linecolor": "#506784",
             "minorgridcolor": "#506784",
             "startlinecolor": "#A2B1C6"
            },
            "type": "carpet"
           }
          ],
          "choropleth": [
           {
            "colorbar": {
             "outlinewidth": 0,
             "ticks": ""
            },
            "type": "choropleth"
           }
          ],
          "contour": [
           {
            "colorbar": {
             "outlinewidth": 0,
             "ticks": ""
            },
            "colorscale": [
             [
              0,
              "#0d0887"
             ],
             [
              0.1111111111111111,
              "#46039f"
             ],
             [
              0.2222222222222222,
              "#7201a8"
             ],
             [
              0.3333333333333333,
              "#9c179e"
             ],
             [
              0.4444444444444444,
              "#bd3786"
             ],
             [
              0.5555555555555556,
              "#d8576b"
             ],
             [
              0.6666666666666666,
              "#ed7953"
             ],
             [
              0.7777777777777778,
              "#fb9f3a"
             ],
             [
              0.8888888888888888,
              "#fdca26"
             ],
             [
              1,
              "#f0f921"
             ]
            ],
            "type": "contour"
           }
          ],
          "contourcarpet": [
           {
            "colorbar": {
             "outlinewidth": 0,
             "ticks": ""
            },
            "type": "contourcarpet"
           }
          ],
          "heatmap": [
           {
            "colorbar": {
             "outlinewidth": 0,
             "ticks": ""
            },
            "colorscale": [
             [
              0,
              "#0d0887"
             ],
             [
              0.1111111111111111,
              "#46039f"
             ],
             [
              0.2222222222222222,
              "#7201a8"
             ],
             [
              0.3333333333333333,
              "#9c179e"
             ],
             [
              0.4444444444444444,
              "#bd3786"
             ],
             [
              0.5555555555555556,
              "#d8576b"
             ],
             [
              0.6666666666666666,
              "#ed7953"
             ],
             [
              0.7777777777777778,
              "#fb9f3a"
             ],
             [
              0.8888888888888888,
              "#fdca26"
             ],
             [
              1,
              "#f0f921"
             ]
            ],
            "type": "heatmap"
           }
          ],
          "histogram": [
           {
            "marker": {
             "pattern": {
              "fillmode": "overlay",
              "size": 10,
              "solidity": 0.2
             }
            },
            "type": "histogram"
           }
          ],
          "histogram2d": [
           {
            "colorbar": {
             "outlinewidth": 0,
             "ticks": ""
            },
            "colorscale": [
             [
              0,
              "#0d0887"
             ],
             [
              0.1111111111111111,
              "#46039f"
             ],
             [
              0.2222222222222222,
              "#7201a8"
             ],
             [
              0.3333333333333333,
              "#9c179e"
             ],
             [
              0.4444444444444444,
              "#bd3786"
             ],
             [
              0.5555555555555556,
              "#d8576b"
             ],
             [
              0.6666666666666666,
              "#ed7953"
             ],
             [
              0.7777777777777778,
              "#fb9f3a"
             ],
             [
              0.8888888888888888,
              "#fdca26"
             ],
             [
              1,
              "#f0f921"
             ]
            ],
            "type": "histogram2d"
           }
          ],
          "histogram2dcontour": [
           {
            "colorbar": {
             "outlinewidth": 0,
             "ticks": ""
            },
            "colorscale": [
             [
              0,
              "#0d0887"
             ],
             [
              0.1111111111111111,
              "#46039f"
             ],
             [
              0.2222222222222222,
              "#7201a8"
             ],
             [
              0.3333333333333333,
              "#9c179e"
             ],
             [
              0.4444444444444444,
              "#bd3786"
             ],
             [
              0.5555555555555556,
              "#d8576b"
             ],
             [
              0.6666666666666666,
              "#ed7953"
             ],
             [
              0.7777777777777778,
              "#fb9f3a"
             ],
             [
              0.8888888888888888,
              "#fdca26"
             ],
             [
              1,
              "#f0f921"
             ]
            ],
            "type": "histogram2dcontour"
           }
          ],
          "mesh3d": [
           {
            "colorbar": {
             "outlinewidth": 0,
             "ticks": ""
            },
            "type": "mesh3d"
           }
          ],
          "parcoords": [
           {
            "line": {
             "colorbar": {
              "outlinewidth": 0,
              "ticks": ""
             }
            },
            "type": "parcoords"
           }
          ],
          "pie": [
           {
            "automargin": true,
            "type": "pie"
           }
          ],
          "scatter": [
           {
            "marker": {
             "line": {
              "color": "#283442"
             }
            },
            "type": "scatter"
           }
          ],
          "scatter3d": [
           {
            "line": {
             "colorbar": {
              "outlinewidth": 0,
              "ticks": ""
             }
            },
            "marker": {
             "colorbar": {
              "outlinewidth": 0,
              "ticks": ""
             }
            },
            "type": "scatter3d"
           }
          ],
          "scattercarpet": [
           {
            "marker": {
             "colorbar": {
              "outlinewidth": 0,
              "ticks": ""
             }
            },
            "type": "scattercarpet"
           }
          ],
          "scattergeo": [
           {
            "marker": {
             "colorbar": {
              "outlinewidth": 0,
              "ticks": ""
             }
            },
            "type": "scattergeo"
           }
          ],
          "scattergl": [
           {
            "marker": {
             "line": {
              "color": "#283442"
             }
            },
            "type": "scattergl"
           }
          ],
          "scattermap": [
           {
            "marker": {
             "colorbar": {
              "outlinewidth": 0,
              "ticks": ""
             }
            },
            "type": "scattermap"
           }
          ],
          "scattermapbox": [
           {
            "marker": {
             "colorbar": {
              "outlinewidth": 0,
              "ticks": ""
             }
            },
            "type": "scattermapbox"
           }
          ],
          "scatterpolar": [
           {
            "marker": {
             "colorbar": {
              "outlinewidth": 0,
              "ticks": ""
             }
            },
            "type": "scatterpolar"
           }
          ],
          "scatterpolargl": [
           {
            "marker": {
             "colorbar": {
              "outlinewidth": 0,
              "ticks": ""
             }
            },
            "type": "scatterpolargl"
           }
          ],
          "scatterternary": [
           {
            "marker": {
             "colorbar": {
              "outlinewidth": 0,
              "ticks": ""
             }
            },
            "type": "scatterternary"
           }
          ],
          "surface": [
           {
            "colorbar": {
             "outlinewidth": 0,
             "ticks": ""
            },
            "colorscale": [
             [
              0,
              "#0d0887"
             ],
             [
              0.1111111111111111,
              "#46039f"
             ],
             [
              0.2222222222222222,
              "#7201a8"
             ],
             [
              0.3333333333333333,
              "#9c179e"
             ],
             [
              0.4444444444444444,
              "#bd3786"
             ],
             [
              0.5555555555555556,
              "#d8576b"
             ],
             [
              0.6666666666666666,
              "#ed7953"
             ],
             [
              0.7777777777777778,
              "#fb9f3a"
             ],
             [
              0.8888888888888888,
              "#fdca26"
             ],
             [
              1,
              "#f0f921"
             ]
            ],
            "type": "surface"
           }
          ],
          "table": [
           {
            "cells": {
             "fill": {
              "color": "#506784"
             },
             "line": {
              "color": "rgb(17,17,17)"
             }
            },
            "header": {
             "fill": {
              "color": "#2a3f5f"
             },
             "line": {
              "color": "rgb(17,17,17)"
             }
            },
            "type": "table"
           }
          ]
         },
         "layout": {
          "annotationdefaults": {
           "arrowcolor": "#f2f5fa",
           "arrowhead": 0,
           "arrowwidth": 1
          },
          "autotypenumbers": "strict",
          "coloraxis": {
           "colorbar": {
            "outlinewidth": 0,
            "ticks": ""
           }
          },
          "colorscale": {
           "diverging": [
            [
             0,
             "#8e0152"
            ],
            [
             0.1,
             "#c51b7d"
            ],
            [
             0.2,
             "#de77ae"
            ],
            [
             0.3,
             "#f1b6da"
            ],
            [
             0.4,
             "#fde0ef"
            ],
            [
             0.5,
             "#f7f7f7"
            ],
            [
             0.6,
             "#e6f5d0"
            ],
            [
             0.7,
             "#b8e186"
            ],
            [
             0.8,
             "#7fbc41"
            ],
            [
             0.9,
             "#4d9221"
            ],
            [
             1,
             "#276419"
            ]
           ],
           "sequential": [
            [
             0,
             "#0d0887"
            ],
            [
             0.1111111111111111,
             "#46039f"
            ],
            [
             0.2222222222222222,
             "#7201a8"
            ],
            [
             0.3333333333333333,
             "#9c179e"
            ],
            [
             0.4444444444444444,
             "#bd3786"
            ],
            [
             0.5555555555555556,
             "#d8576b"
            ],
            [
             0.6666666666666666,
             "#ed7953"
            ],
            [
             0.7777777777777778,
             "#fb9f3a"
            ],
            [
             0.8888888888888888,
             "#fdca26"
            ],
            [
             1,
             "#f0f921"
            ]
           ],
           "sequentialminus": [
            [
             0,
             "#0d0887"
            ],
            [
             0.1111111111111111,
             "#46039f"
            ],
            [
             0.2222222222222222,
             "#7201a8"
            ],
            [
             0.3333333333333333,
             "#9c179e"
            ],
            [
             0.4444444444444444,
             "#bd3786"
            ],
            [
             0.5555555555555556,
             "#d8576b"
            ],
            [
             0.6666666666666666,
             "#ed7953"
            ],
            [
             0.7777777777777778,
             "#fb9f3a"
            ],
            [
             0.8888888888888888,
             "#fdca26"
            ],
            [
             1,
             "#f0f921"
            ]
           ]
          },
          "colorway": [
           "#636efa",
           "#EF553B",
           "#00cc96",
           "#ab63fa",
           "#FFA15A",
           "#19d3f3",
           "#FF6692",
           "#B6E880",
           "#FF97FF",
           "#FECB52"
          ],
          "font": {
           "color": "#f2f5fa"
          },
          "geo": {
           "bgcolor": "rgb(17,17,17)",
           "lakecolor": "rgb(17,17,17)",
           "landcolor": "rgb(17,17,17)",
           "showlakes": true,
           "showland": true,
           "subunitcolor": "#506784"
          },
          "hoverlabel": {
           "align": "left"
          },
          "hovermode": "closest",
          "mapbox": {
           "style": "dark"
          },
          "paper_bgcolor": "rgb(17,17,17)",
          "plot_bgcolor": "rgb(17,17,17)",
          "polar": {
           "angularaxis": {
            "gridcolor": "#506784",
            "linecolor": "#506784",
            "ticks": ""
           },
           "bgcolor": "rgb(17,17,17)",
           "radialaxis": {
            "gridcolor": "#506784",
            "linecolor": "#506784",
            "ticks": ""
           }
          },
          "scene": {
           "xaxis": {
            "backgroundcolor": "rgb(17,17,17)",
            "gridcolor": "#506784",
            "gridwidth": 2,
            "linecolor": "#506784",
            "showbackground": true,
            "ticks": "",
            "zerolinecolor": "#C8D4E3"
           },
           "yaxis": {
            "backgroundcolor": "rgb(17,17,17)",
            "gridcolor": "#506784",
            "gridwidth": 2,
            "linecolor": "#506784",
            "showbackground": true,
            "ticks": "",
            "zerolinecolor": "#C8D4E3"
           },
           "zaxis": {
            "backgroundcolor": "rgb(17,17,17)",
            "gridcolor": "#506784",
            "gridwidth": 2,
            "linecolor": "#506784",
            "showbackground": true,
            "ticks": "",
            "zerolinecolor": "#C8D4E3"
           }
          },
          "shapedefaults": {
           "line": {
            "color": "#f2f5fa"
           }
          },
          "sliderdefaults": {
           "bgcolor": "#C8D4E3",
           "bordercolor": "rgb(17,17,17)",
           "borderwidth": 1,
           "tickwidth": 0
          },
          "ternary": {
           "aaxis": {
            "gridcolor": "#506784",
            "linecolor": "#506784",
            "ticks": ""
           },
           "baxis": {
            "gridcolor": "#506784",
            "linecolor": "#506784",
            "ticks": ""
           },
           "bgcolor": "rgb(17,17,17)",
           "caxis": {
            "gridcolor": "#506784",
            "linecolor": "#506784",
            "ticks": ""
           }
          },
          "title": {
           "x": 0.05
          },
          "updatemenudefaults": {
           "bgcolor": "#506784",
           "borderwidth": 0
          },
          "xaxis": {
           "automargin": true,
           "gridcolor": "#283442",
           "linecolor": "#506784",
           "ticks": "",
           "title": {
            "standoff": 15
           },
           "zerolinecolor": "#283442",
           "zerolinewidth": 2
          },
          "yaxis": {
           "automargin": true,
           "gridcolor": "#283442",
           "linecolor": "#506784",
           "ticks": "",
           "title": {
            "standoff": 15
           },
           "zerolinecolor": "#283442",
           "zerolinewidth": 2
          }
         }
        },
        "width": 800
       }
      }
     },
     "metadata": {},
     "output_type": "display_data"
    },
    {
     "data": {
      "application/vnd.plotly.v1+json": {
       "config": {
        "plotlyServerURL": "https://plot.ly"
       },
       "data": [
        {
         "line": {
          "color": [
           "rgb(204.00, 0.00, 255.00)",
           "rgb(201.71, 0.00, 255.00)",
           "rgb(199.16, 0.00, 255.00)",
           "rgb(196.86, 0.00, 255.00)",
           "rgb(194.31, 0.00, 255.00)",
           "rgb(192.02, 0.00, 255.00)",
           "rgb(189.72, 0.00, 255.00)",
           "rgb(187.17, 0.00, 255.00)",
           "rgb(184.88, 0.00, 255.00)",
           "rgb(182.32, 0.00, 255.00)",
           "rgb(180.03, 0.00, 255.00)",
           "rgb(177.48, 0.00, 255.00)",
           "rgb(175.19, 0.00, 255.00)",
           "rgb(172.89, 0.00, 255.00)",
           "rgb(170.34, 0.00, 255.00)",
           "rgb(168.05, 0.00, 255.00)",
           "rgb(165.50, 0.00, 255.00)",
           "rgb(163.20, 0.00, 255.00)",
           "rgb(160.91, 0.00, 255.00)",
           "rgb(158.35, 0.00, 255.00)",
           "rgb(156.06, 0.00, 255.00)",
           "rgb(153.51, 0.00, 255.00)",
           "rgb(151.22, 0.00, 255.00)",
           "rgb(148.92, 0.00, 255.00)",
           "rgb(146.37, 0.00, 255.00)",
           "rgb(144.07, 0.00, 255.00)",
           "rgb(141.53, 0.00, 255.00)",
           "rgb(139.23, 0.00, 255.00)",
           "rgb(136.68, 0.00, 255.00)",
           "rgb(134.39, 0.00, 255.00)",
           "rgb(132.09, 0.00, 255.00)",
           "rgb(129.54, 0.00, 255.00)",
           "rgb(127.25, 0.00, 255.00)",
           "rgb(124.69, 0.00, 255.00)",
           "rgb(122.40, 0.00, 255.00)",
           "rgb(120.10, 0.00, 255.00)",
           "rgb(117.56, 0.00, 255.00)",
           "rgb(115.26, 0.00, 255.00)",
           "rgb(112.71, 0.00, 255.00)",
           "rgb(110.41, 0.00, 255.00)",
           "rgb(108.12, 0.00, 255.00)",
           "rgb(105.57, 0.00, 255.00)",
           "rgb(103.28, 0.00, 255.00)",
           "rgb(100.73, 0.00, 255.00)",
           "rgb(98.43, 0.00, 255.00)",
           "rgb(95.88, 0.00, 255.00)",
           "rgb(93.58, 0.00, 255.00)",
           "rgb(91.29, 0.00, 255.00)",
           "rgb(88.74, 0.00, 255.00)",
           "rgb(86.45, 0.00, 255.00)",
           "rgb(83.90, 0.00, 255.00)",
           "rgb(81.60, 0.00, 255.00)",
           "rgb(79.30, 0.00, 255.00)",
           "rgb(76.75, 0.00, 255.00)",
           "rgb(74.46, 0.00, 255.00)",
           "rgb(71.91, 0.00, 255.00)",
           "rgb(69.62, 0.00, 255.00)",
           "rgb(67.32, 0.00, 255.00)",
           "rgb(64.77, 0.00, 255.00)",
           "rgb(62.48, 0.00, 255.00)",
           "rgb(59.92, 0.00, 255.00)",
           "rgb(57.63, 0.00, 255.00)",
           "rgb(55.08, 0.00, 255.00)",
           "rgb(52.78, 0.00, 255.00)",
           "rgb(50.49, 0.00, 255.00)",
           "rgb(47.94, 0.00, 255.00)",
           "rgb(45.64, 0.00, 255.00)",
           "rgb(43.10, 0.00, 255.00)",
           "rgb(40.80, 0.00, 255.00)",
           "rgb(38.50, 0.00, 255.00)",
           "rgb(35.95, 0.00, 255.00)",
           "rgb(33.66, 0.00, 255.00)",
           "rgb(31.11, 0.00, 255.00)",
           "rgb(28.82, 0.00, 255.00)",
           "rgb(26.52, 0.00, 255.00)",
           "rgb(23.97, 0.00, 255.00)",
           "rgb(21.68, 0.00, 255.00)",
           "rgb(19.12, 0.00, 255.00)",
           "rgb(16.83, 0.00, 255.00)",
           "rgb(14.28, 0.00, 255.00)",
           "rgb(11.98, 0.00, 255.00)",
           "rgb(9.69, 0.00, 255.00)",
           "rgb(7.14, 0.00, 255.00)",
           "rgb(4.84, 0.00, 255.00)",
           "rgb(2.29, 0.00, 255.00)",
           "rgb(0.00, 0.00, 255.00)",
           "rgb(0.00, 3.06, 255.00)",
           "rgb(0.00, 6.12, 255.00)",
           "rgb(0.00, 8.93, 255.00)",
           "rgb(0.00, 11.98, 255.00)",
           "rgb(0.00, 15.04, 255.00)",
           "rgb(0.00, 18.10, 255.00)",
           "rgb(0.00, 20.91, 255.00)",
           "rgb(0.00, 23.97, 255.00)",
           "rgb(0.00, 27.03, 255.00)",
           "rgb(0.00, 30.09, 255.00)",
           "rgb(0.00, 32.90, 255.00)",
           "rgb(0.00, 35.95, 255.00)",
           "rgb(0.00, 39.02, 255.00)",
           "rgb(0.00, 42.08, 255.00)",
           "rgb(0.00, 44.88, 255.00)",
           "rgb(0.00, 47.94, 255.00)",
           "rgb(0.00, 51.00, 255.00)",
           "rgb(0.00, 54.06, 255.00)",
           "rgb(0.00, 57.12, 255.00)",
           "rgb(0.00, 59.92, 255.00)",
           "rgb(0.00, 62.98, 255.00)",
           "rgb(0.00, 66.05, 255.00)",
           "rgb(0.00, 69.11, 255.00)",
           "rgb(0.00, 71.91, 255.00)",
           "rgb(0.00, 74.97, 255.00)",
           "rgb(0.00, 78.03, 255.00)",
           "rgb(0.00, 81.09, 255.00)",
           "rgb(0.00, 83.90, 255.00)",
           "rgb(0.00, 86.96, 255.00)",
           "rgb(0.00, 90.02, 255.00)",
           "rgb(0.00, 93.08, 255.00)",
           "rgb(0.00, 95.88, 255.00)",
           "rgb(0.00, 98.94, 255.00)",
           "rgb(0.00, 102.00, 255.00)",
           "rgb(0.00, 105.06, 255.00)",
           "rgb(0.00, 108.12, 255.00)",
           "rgb(0.00, 110.92, 255.00)",
           "rgb(0.00, 113.98, 255.00)",
           "rgb(0.00, 117.05, 255.00)",
           "rgb(0.00, 120.10, 255.00)",
           "rgb(0.00, 122.91, 255.00)",
           "rgb(0.00, 125.97, 255.00)",
           "rgb(0.00, 129.03, 255.00)",
           "rgb(0.00, 132.09, 255.00)",
           "rgb(0.00, 134.90, 255.00)",
           "rgb(0.00, 137.96, 255.00)",
           "rgb(0.00, 141.02, 255.00)",
           "rgb(0.00, 144.07, 255.00)",
           "rgb(0.00, 146.88, 255.00)",
           "rgb(0.00, 149.94, 255.00)",
           "rgb(0.00, 153.00, 255.00)",
           "rgb(0.00, 156.06, 255.00)",
           "rgb(0.00, 159.12, 255.00)",
           "rgb(0.00, 161.93, 255.00)",
           "rgb(0.00, 164.99, 255.00)",
           "rgb(0.00, 168.05, 255.00)",
           "rgb(0.00, 171.11, 255.00)",
           "rgb(0.00, 173.91, 255.00)",
           "rgb(0.00, 176.97, 255.00)",
           "rgb(0.00, 180.03, 255.00)",
           "rgb(0.00, 183.09, 255.00)",
           "rgb(0.00, 185.89, 255.00)",
           "rgb(0.00, 188.95, 255.00)",
           "rgb(0.00, 192.02, 255.00)",
           "rgb(0.00, 195.08, 255.00)",
           "rgb(0.00, 197.88, 255.00)",
           "rgb(0.00, 200.94, 255.00)",
           "rgb(0.00, 204.00, 255.00)",
           "rgb(0.00, 207.06, 255.00)",
           "rgb(0.00, 210.12, 255.00)",
           "rgb(0.00, 212.92, 255.00)",
           "rgb(0.00, 215.98, 255.00)",
           "rgb(0.00, 219.04, 255.00)",
           "rgb(0.00, 222.10, 255.00)",
           "rgb(0.00, 224.91, 255.00)",
           "rgb(0.00, 227.97, 255.00)",
           "rgb(0.00, 231.03, 255.00)",
           "rgb(0.00, 234.09, 255.00)",
           "rgb(0.00, 236.90, 255.00)",
           "rgb(0.00, 239.95, 255.00)"
          ],
          "width": 4
         },
         "mode": "lines",
         "showlegend": false,
         "type": "scatter3d",
         "x": [
          42.929,
          43.284,
          43.656,
          44.043,
          44.444,
          44.859,
          45.286,
          45.724,
          46.173,
          46.631,
          47.097,
          47.57,
          48.049,
          48.533,
          49.02,
          49.509,
          50,
          80,
          82.926,
          85.74,
          88.334,
          90.607,
          92.472,
          93.858,
          94.712,
          95,
          94.712,
          93.858,
          92.472,
          90.607,
          88.334,
          85.74,
          82.926,
          80,
          79.025,
          78.087,
          77.222,
          76.464,
          75.843,
          75.381,
          75.096,
          75,
          75.096,
          75.381,
          75.843,
          76.464,
          77.222,
          78.087,
          79.025,
          80,
          80.975,
          81.913,
          82.778,
          83.536,
          84.157,
          84.619,
          84.904,
          85,
          84.904,
          84.619,
          84.157,
          83.536,
          82.778,
          81.913,
          80.975,
          80,
          60,
          59.509,
          59.02,
          58.533,
          58.049,
          57.57,
          57.097,
          56.631,
          56.173,
          55.724,
          55.286,
          54.859,
          54.444,
          54.043,
          53.656,
          53.284,
          52.929,
          52.929,
          52.59,
          52.27,
          51.968,
          51.685,
          51.423,
          51.181,
          50.96,
          50.761,
          50.585,
          50.431,
          50.3,
          50.192,
          50.108,
          50.048,
          50.012,
          50,
          50,
          50.096,
          50.381,
          50.843,
          51.464,
          52.222,
          53.087,
          54.025,
          55,
          55.975,
          56.913,
          57.778,
          58.536,
          59.157,
          59.619,
          59.904,
          60,
          60.096,
          60.381,
          60.843,
          61.464,
          62.222,
          63.087,
          64.025,
          65,
          65.975,
          66.913,
          67.778,
          68.536,
          69.157,
          69.619,
          69.904,
          70,
          69.712,
          68.858,
          67.472,
          65.607,
          63.334,
          60.74,
          57.926,
          55,
          52.074,
          49.26,
          46.666,
          44.393,
          42.528,
          41.142,
          40.288,
          40,
          40,
          40.012,
          40.048,
          40.108,
          40.192,
          40.3,
          40.431,
          40.585,
          40.761,
          40.96,
          41.181,
          41.423,
          41.685,
          41.968,
          42.27,
          42.59,
          42.929
         ],
         "y": [
          42.929,
          42.59,
          42.27,
          41.968,
          41.685,
          41.423,
          41.181,
          40.96,
          40.761,
          40.585,
          40.431,
          40.3,
          40.192,
          40.108,
          40.048,
          40.012,
          40,
          40,
          40.288,
          41.142,
          42.528,
          44.393,
          46.666,
          49.26,
          52.074,
          55,
          57.926,
          60.74,
          63.334,
          65.607,
          67.472,
          68.858,
          69.712,
          70,
          69.904,
          69.619,
          69.157,
          68.536,
          67.778,
          66.913,
          65.975,
          65,
          64.025,
          63.087,
          62.222,
          61.464,
          60.843,
          60.381,
          60.096,
          60,
          59.904,
          59.619,
          59.157,
          58.536,
          57.778,
          56.913,
          55.975,
          55,
          54.025,
          53.087,
          52.222,
          51.464,
          50.843,
          50.381,
          50.096,
          50,
          50,
          50.012,
          50.048,
          50.108,
          50.192,
          50.3,
          50.431,
          50.585,
          50.761,
          50.96,
          51.181,
          51.423,
          51.685,
          51.968,
          52.27,
          52.59,
          52.929,
          52.929,
          53.284,
          53.656,
          54.043,
          54.444,
          54.859,
          55.286,
          55.724,
          56.173,
          56.631,
          57.097,
          57.57,
          58.049,
          58.533,
          59.02,
          59.509,
          60,
          80,
          80.975,
          81.913,
          82.778,
          83.536,
          84.157,
          84.619,
          84.904,
          85,
          84.904,
          84.619,
          84.157,
          83.536,
          82.778,
          81.913,
          80.975,
          80,
          79.025,
          78.087,
          77.222,
          76.464,
          75.843,
          75.381,
          75.096,
          75,
          75.096,
          75.381,
          75.843,
          76.464,
          77.222,
          78.087,
          79.025,
          80,
          82.926,
          85.74,
          88.334,
          90.607,
          92.472,
          93.858,
          94.712,
          95,
          94.712,
          93.858,
          92.472,
          90.607,
          88.334,
          85.74,
          82.926,
          80,
          50,
          49.509,
          49.02,
          48.533,
          48.049,
          47.57,
          47.097,
          46.631,
          46.173,
          45.724,
          45.286,
          44.859,
          44.444,
          44.043,
          43.656,
          43.284,
          42.929
         ],
         "z": [
          0,
          0,
          0,
          0,
          0,
          0,
          0,
          0,
          0,
          0,
          0,
          0,
          0,
          0,
          0,
          0,
          0,
          0,
          0,
          0,
          0,
          0,
          0,
          0,
          0,
          0,
          0,
          0,
          0,
          0,
          0,
          0,
          0,
          0,
          0,
          0,
          0,
          0,
          0,
          0,
          0,
          0,
          0,
          0,
          0,
          0,
          0,
          0,
          0,
          0,
          0,
          0,
          0,
          0,
          0,
          0,
          0,
          0,
          0,
          0,
          0,
          0,
          0,
          0,
          0,
          0,
          0,
          0,
          0,
          0,
          0,
          0,
          0,
          0,
          0,
          0,
          0,
          0,
          0,
          0,
          0,
          0,
          0,
          0,
          0,
          0,
          0,
          0,
          0,
          0,
          0,
          0,
          0,
          0,
          0,
          0,
          0,
          0,
          0,
          0,
          0,
          0,
          0,
          0,
          0,
          0,
          0,
          0,
          0,
          0,
          0,
          0,
          0,
          0,
          0,
          0,
          0,
          0,
          0,
          0,
          0,
          0,
          0,
          0,
          0,
          0,
          0,
          0,
          0,
          0,
          0,
          0,
          0,
          0,
          0,
          0,
          0,
          0,
          0,
          0,
          0,
          0,
          0,
          0,
          0,
          0,
          0,
          0,
          0,
          0,
          0,
          0,
          0,
          0,
          0,
          0,
          0,
          0,
          0,
          0,
          0,
          0,
          0,
          0,
          0,
          0
         ]
        },
        {
         "marker": {
          "color": "red",
          "size": 2
         },
         "mode": "markers",
         "showlegend": false,
         "type": "scatter3d",
         "x": [
          43,
          43.475,
          43.95,
          44.425,
          44.9,
          45.375,
          45.85,
          46.325,
          46.8,
          47.275,
          47.75,
          48.225,
          48.7,
          49.175,
          49.65,
          50.125,
          50.6,
          51.075,
          51.55,
          52.025,
          52.5,
          52.928932188134524
         ],
         "y": [
          43,
          43.475,
          43.95,
          44.425,
          44.9,
          45.375,
          45.85,
          46.325,
          46.8,
          47.275,
          47.75,
          48.225,
          48.7,
          49.175,
          49.65,
          50.125,
          50.6,
          51.075,
          51.55,
          52.025,
          52.5,
          52.928932188134524
         ],
         "z": [
          0,
          0,
          0,
          0,
          0,
          0,
          0,
          0,
          0,
          0,
          0,
          0,
          0,
          0,
          0,
          0,
          0,
          0,
          0,
          0,
          0,
          0
         ]
        }
       ],
       "layout": {
        "height": 500,
        "margin": {
         "b": 10,
         "l": 10,
         "pad": 4,
         "r": 10,
         "t": 10
        },
        "paper_bgcolor": "black",
        "scene": {
         "annotations": [
          {
           "showarrow": false,
           "text": "",
           "x": 43,
           "y": 43,
           "yshift": 10,
           "z": 0
          },
          {
           "showarrow": false,
           "text": "",
           "x": 43.475,
           "y": 43.475,
           "yshift": 10,
           "z": 0
          },
          {
           "showarrow": false,
           "text": "",
           "x": 43.95,
           "y": 43.95,
           "yshift": 10,
           "z": 0
          },
          {
           "showarrow": false,
           "text": "",
           "x": 44.425,
           "y": 44.425,
           "yshift": 10,
           "z": 0
          },
          {
           "showarrow": false,
           "text": "",
           "x": 44.9,
           "y": 44.9,
           "yshift": 10,
           "z": 0
          },
          {
           "showarrow": false,
           "text": "",
           "x": 45.375,
           "y": 45.375,
           "yshift": 10,
           "z": 0
          },
          {
           "showarrow": false,
           "text": "",
           "x": 45.85,
           "y": 45.85,
           "yshift": 10,
           "z": 0
          },
          {
           "showarrow": false,
           "text": "",
           "x": 46.325,
           "y": 46.325,
           "yshift": 10,
           "z": 0
          },
          {
           "showarrow": false,
           "text": "",
           "x": 46.8,
           "y": 46.8,
           "yshift": 10,
           "z": 0
          },
          {
           "showarrow": false,
           "text": "",
           "x": 47.275,
           "y": 47.275,
           "yshift": 10,
           "z": 0
          },
          {
           "showarrow": false,
           "text": "",
           "x": 47.75,
           "y": 47.75,
           "yshift": 10,
           "z": 0
          },
          {
           "showarrow": false,
           "text": "",
           "x": 48.225,
           "y": 48.225,
           "yshift": 10,
           "z": 0
          },
          {
           "showarrow": false,
           "text": "",
           "x": 48.7,
           "y": 48.7,
           "yshift": 10,
           "z": 0
          },
          {
           "showarrow": false,
           "text": "",
           "x": 49.175,
           "y": 49.175,
           "yshift": 10,
           "z": 0
          },
          {
           "showarrow": false,
           "text": "",
           "x": 49.65,
           "y": 49.65,
           "yshift": 10,
           "z": 0
          },
          {
           "showarrow": false,
           "text": "",
           "x": 50.125,
           "y": 50.125,
           "yshift": 10,
           "z": 0
          },
          {
           "showarrow": false,
           "text": "",
           "x": 50.6,
           "y": 50.6,
           "yshift": 10,
           "z": 0
          },
          {
           "showarrow": false,
           "text": "",
           "x": 51.075,
           "y": 51.075,
           "yshift": 10,
           "z": 0
          },
          {
           "showarrow": false,
           "text": "",
           "x": 51.55,
           "y": 51.55,
           "yshift": 10,
           "z": 0
          },
          {
           "showarrow": false,
           "text": "",
           "x": 52.025,
           "y": 52.025,
           "yshift": 10,
           "z": 0
          },
          {
           "showarrow": false,
           "text": "",
           "x": 52.5,
           "y": 52.5,
           "yshift": 10,
           "z": 0
          },
          {
           "showarrow": false,
           "text": "all points from the previous plot were reflected and added to the path (in reverse order)",
           "x": 52.928932188134524,
           "y": 52.928932188134524,
           "yshift": 10,
           "z": 0
          }
         ],
         "aspectmode": "cube",
         "camera": {
          "center": {
           "x": 0,
           "y": 0,
           "z": -0.5
          },
          "eye": {
           "x": -0.5,
           "y": -1,
           "z": 0
          }
         },
         "xaxis": {
          "backgroundcolor": "black",
          "nticks": 10,
          "range": [
           39.998999999999995,
           95.001
          ]
         },
         "yaxis": {
          "backgroundcolor": "black",
          "nticks": 10,
          "range": [
           39.998999999999995,
           95.001
          ]
         },
         "zaxis": {
          "backgroundcolor": "black",
          "nticks": 10,
          "range": [
           0,
           55.002
          ]
         }
        },
        "template": {
         "data": {
          "bar": [
           {
            "error_x": {
             "color": "#f2f5fa"
            },
            "error_y": {
             "color": "#f2f5fa"
            },
            "marker": {
             "line": {
              "color": "rgb(17,17,17)",
              "width": 0.5
             },
             "pattern": {
              "fillmode": "overlay",
              "size": 10,
              "solidity": 0.2
             }
            },
            "type": "bar"
           }
          ],
          "barpolar": [
           {
            "marker": {
             "line": {
              "color": "rgb(17,17,17)",
              "width": 0.5
             },
             "pattern": {
              "fillmode": "overlay",
              "size": 10,
              "solidity": 0.2
             }
            },
            "type": "barpolar"
           }
          ],
          "carpet": [
           {
            "aaxis": {
             "endlinecolor": "#A2B1C6",
             "gridcolor": "#506784",
             "linecolor": "#506784",
             "minorgridcolor": "#506784",
             "startlinecolor": "#A2B1C6"
            },
            "baxis": {
             "endlinecolor": "#A2B1C6",
             "gridcolor": "#506784",
             "linecolor": "#506784",
             "minorgridcolor": "#506784",
             "startlinecolor": "#A2B1C6"
            },
            "type": "carpet"
           }
          ],
          "choropleth": [
           {
            "colorbar": {
             "outlinewidth": 0,
             "ticks": ""
            },
            "type": "choropleth"
           }
          ],
          "contour": [
           {
            "colorbar": {
             "outlinewidth": 0,
             "ticks": ""
            },
            "colorscale": [
             [
              0,
              "#0d0887"
             ],
             [
              0.1111111111111111,
              "#46039f"
             ],
             [
              0.2222222222222222,
              "#7201a8"
             ],
             [
              0.3333333333333333,
              "#9c179e"
             ],
             [
              0.4444444444444444,
              "#bd3786"
             ],
             [
              0.5555555555555556,
              "#d8576b"
             ],
             [
              0.6666666666666666,
              "#ed7953"
             ],
             [
              0.7777777777777778,
              "#fb9f3a"
             ],
             [
              0.8888888888888888,
              "#fdca26"
             ],
             [
              1,
              "#f0f921"
             ]
            ],
            "type": "contour"
           }
          ],
          "contourcarpet": [
           {
            "colorbar": {
             "outlinewidth": 0,
             "ticks": ""
            },
            "type": "contourcarpet"
           }
          ],
          "heatmap": [
           {
            "colorbar": {
             "outlinewidth": 0,
             "ticks": ""
            },
            "colorscale": [
             [
              0,
              "#0d0887"
             ],
             [
              0.1111111111111111,
              "#46039f"
             ],
             [
              0.2222222222222222,
              "#7201a8"
             ],
             [
              0.3333333333333333,
              "#9c179e"
             ],
             [
              0.4444444444444444,
              "#bd3786"
             ],
             [
              0.5555555555555556,
              "#d8576b"
             ],
             [
              0.6666666666666666,
              "#ed7953"
             ],
             [
              0.7777777777777778,
              "#fb9f3a"
             ],
             [
              0.8888888888888888,
              "#fdca26"
             ],
             [
              1,
              "#f0f921"
             ]
            ],
            "type": "heatmap"
           }
          ],
          "histogram": [
           {
            "marker": {
             "pattern": {
              "fillmode": "overlay",
              "size": 10,
              "solidity": 0.2
             }
            },
            "type": "histogram"
           }
          ],
          "histogram2d": [
           {
            "colorbar": {
             "outlinewidth": 0,
             "ticks": ""
            },
            "colorscale": [
             [
              0,
              "#0d0887"
             ],
             [
              0.1111111111111111,
              "#46039f"
             ],
             [
              0.2222222222222222,
              "#7201a8"
             ],
             [
              0.3333333333333333,
              "#9c179e"
             ],
             [
              0.4444444444444444,
              "#bd3786"
             ],
             [
              0.5555555555555556,
              "#d8576b"
             ],
             [
              0.6666666666666666,
              "#ed7953"
             ],
             [
              0.7777777777777778,
              "#fb9f3a"
             ],
             [
              0.8888888888888888,
              "#fdca26"
             ],
             [
              1,
              "#f0f921"
             ]
            ],
            "type": "histogram2d"
           }
          ],
          "histogram2dcontour": [
           {
            "colorbar": {
             "outlinewidth": 0,
             "ticks": ""
            },
            "colorscale": [
             [
              0,
              "#0d0887"
             ],
             [
              0.1111111111111111,
              "#46039f"
             ],
             [
              0.2222222222222222,
              "#7201a8"
             ],
             [
              0.3333333333333333,
              "#9c179e"
             ],
             [
              0.4444444444444444,
              "#bd3786"
             ],
             [
              0.5555555555555556,
              "#d8576b"
             ],
             [
              0.6666666666666666,
              "#ed7953"
             ],
             [
              0.7777777777777778,
              "#fb9f3a"
             ],
             [
              0.8888888888888888,
              "#fdca26"
             ],
             [
              1,
              "#f0f921"
             ]
            ],
            "type": "histogram2dcontour"
           }
          ],
          "mesh3d": [
           {
            "colorbar": {
             "outlinewidth": 0,
             "ticks": ""
            },
            "type": "mesh3d"
           }
          ],
          "parcoords": [
           {
            "line": {
             "colorbar": {
              "outlinewidth": 0,
              "ticks": ""
             }
            },
            "type": "parcoords"
           }
          ],
          "pie": [
           {
            "automargin": true,
            "type": "pie"
           }
          ],
          "scatter": [
           {
            "marker": {
             "line": {
              "color": "#283442"
             }
            },
            "type": "scatter"
           }
          ],
          "scatter3d": [
           {
            "line": {
             "colorbar": {
              "outlinewidth": 0,
              "ticks": ""
             }
            },
            "marker": {
             "colorbar": {
              "outlinewidth": 0,
              "ticks": ""
             }
            },
            "type": "scatter3d"
           }
          ],
          "scattercarpet": [
           {
            "marker": {
             "colorbar": {
              "outlinewidth": 0,
              "ticks": ""
             }
            },
            "type": "scattercarpet"
           }
          ],
          "scattergeo": [
           {
            "marker": {
             "colorbar": {
              "outlinewidth": 0,
              "ticks": ""
             }
            },
            "type": "scattergeo"
           }
          ],
          "scattergl": [
           {
            "marker": {
             "line": {
              "color": "#283442"
             }
            },
            "type": "scattergl"
           }
          ],
          "scattermap": [
           {
            "marker": {
             "colorbar": {
              "outlinewidth": 0,
              "ticks": ""
             }
            },
            "type": "scattermap"
           }
          ],
          "scattermapbox": [
           {
            "marker": {
             "colorbar": {
              "outlinewidth": 0,
              "ticks": ""
             }
            },
            "type": "scattermapbox"
           }
          ],
          "scatterpolar": [
           {
            "marker": {
             "colorbar": {
              "outlinewidth": 0,
              "ticks": ""
             }
            },
            "type": "scatterpolar"
           }
          ],
          "scatterpolargl": [
           {
            "marker": {
             "colorbar": {
              "outlinewidth": 0,
              "ticks": ""
             }
            },
            "type": "scatterpolargl"
           }
          ],
          "scatterternary": [
           {
            "marker": {
             "colorbar": {
              "outlinewidth": 0,
              "ticks": ""
             }
            },
            "type": "scatterternary"
           }
          ],
          "surface": [
           {
            "colorbar": {
             "outlinewidth": 0,
             "ticks": ""
            },
            "colorscale": [
             [
              0,
              "#0d0887"
             ],
             [
              0.1111111111111111,
              "#46039f"
             ],
             [
              0.2222222222222222,
              "#7201a8"
             ],
             [
              0.3333333333333333,
              "#9c179e"
             ],
             [
              0.4444444444444444,
              "#bd3786"
             ],
             [
              0.5555555555555556,
              "#d8576b"
             ],
             [
              0.6666666666666666,
              "#ed7953"
             ],
             [
              0.7777777777777778,
              "#fb9f3a"
             ],
             [
              0.8888888888888888,
              "#fdca26"
             ],
             [
              1,
              "#f0f921"
             ]
            ],
            "type": "surface"
           }
          ],
          "table": [
           {
            "cells": {
             "fill": {
              "color": "#506784"
             },
             "line": {
              "color": "rgb(17,17,17)"
             }
            },
            "header": {
             "fill": {
              "color": "#2a3f5f"
             },
             "line": {
              "color": "rgb(17,17,17)"
             }
            },
            "type": "table"
           }
          ]
         },
         "layout": {
          "annotationdefaults": {
           "arrowcolor": "#f2f5fa",
           "arrowhead": 0,
           "arrowwidth": 1
          },
          "autotypenumbers": "strict",
          "coloraxis": {
           "colorbar": {
            "outlinewidth": 0,
            "ticks": ""
           }
          },
          "colorscale": {
           "diverging": [
            [
             0,
             "#8e0152"
            ],
            [
             0.1,
             "#c51b7d"
            ],
            [
             0.2,
             "#de77ae"
            ],
            [
             0.3,
             "#f1b6da"
            ],
            [
             0.4,
             "#fde0ef"
            ],
            [
             0.5,
             "#f7f7f7"
            ],
            [
             0.6,
             "#e6f5d0"
            ],
            [
             0.7,
             "#b8e186"
            ],
            [
             0.8,
             "#7fbc41"
            ],
            [
             0.9,
             "#4d9221"
            ],
            [
             1,
             "#276419"
            ]
           ],
           "sequential": [
            [
             0,
             "#0d0887"
            ],
            [
             0.1111111111111111,
             "#46039f"
            ],
            [
             0.2222222222222222,
             "#7201a8"
            ],
            [
             0.3333333333333333,
             "#9c179e"
            ],
            [
             0.4444444444444444,
             "#bd3786"
            ],
            [
             0.5555555555555556,
             "#d8576b"
            ],
            [
             0.6666666666666666,
             "#ed7953"
            ],
            [
             0.7777777777777778,
             "#fb9f3a"
            ],
            [
             0.8888888888888888,
             "#fdca26"
            ],
            [
             1,
             "#f0f921"
            ]
           ],
           "sequentialminus": [
            [
             0,
             "#0d0887"
            ],
            [
             0.1111111111111111,
             "#46039f"
            ],
            [
             0.2222222222222222,
             "#7201a8"
            ],
            [
             0.3333333333333333,
             "#9c179e"
            ],
            [
             0.4444444444444444,
             "#bd3786"
            ],
            [
             0.5555555555555556,
             "#d8576b"
            ],
            [
             0.6666666666666666,
             "#ed7953"
            ],
            [
             0.7777777777777778,
             "#fb9f3a"
            ],
            [
             0.8888888888888888,
             "#fdca26"
            ],
            [
             1,
             "#f0f921"
            ]
           ]
          },
          "colorway": [
           "#636efa",
           "#EF553B",
           "#00cc96",
           "#ab63fa",
           "#FFA15A",
           "#19d3f3",
           "#FF6692",
           "#B6E880",
           "#FF97FF",
           "#FECB52"
          ],
          "font": {
           "color": "#f2f5fa"
          },
          "geo": {
           "bgcolor": "rgb(17,17,17)",
           "lakecolor": "rgb(17,17,17)",
           "landcolor": "rgb(17,17,17)",
           "showlakes": true,
           "showland": true,
           "subunitcolor": "#506784"
          },
          "hoverlabel": {
           "align": "left"
          },
          "hovermode": "closest",
          "mapbox": {
           "style": "dark"
          },
          "paper_bgcolor": "rgb(17,17,17)",
          "plot_bgcolor": "rgb(17,17,17)",
          "polar": {
           "angularaxis": {
            "gridcolor": "#506784",
            "linecolor": "#506784",
            "ticks": ""
           },
           "bgcolor": "rgb(17,17,17)",
           "radialaxis": {
            "gridcolor": "#506784",
            "linecolor": "#506784",
            "ticks": ""
           }
          },
          "scene": {
           "xaxis": {
            "backgroundcolor": "rgb(17,17,17)",
            "gridcolor": "#506784",
            "gridwidth": 2,
            "linecolor": "#506784",
            "showbackground": true,
            "ticks": "",
            "zerolinecolor": "#C8D4E3"
           },
           "yaxis": {
            "backgroundcolor": "rgb(17,17,17)",
            "gridcolor": "#506784",
            "gridwidth": 2,
            "linecolor": "#506784",
            "showbackground": true,
            "ticks": "",
            "zerolinecolor": "#C8D4E3"
           },
           "zaxis": {
            "backgroundcolor": "rgb(17,17,17)",
            "gridcolor": "#506784",
            "gridwidth": 2,
            "linecolor": "#506784",
            "showbackground": true,
            "ticks": "",
            "zerolinecolor": "#C8D4E3"
           }
          },
          "shapedefaults": {
           "line": {
            "color": "#f2f5fa"
           }
          },
          "sliderdefaults": {
           "bgcolor": "#C8D4E3",
           "bordercolor": "rgb(17,17,17)",
           "borderwidth": 1,
           "tickwidth": 0
          },
          "ternary": {
           "aaxis": {
            "gridcolor": "#506784",
            "linecolor": "#506784",
            "ticks": ""
           },
           "baxis": {
            "gridcolor": "#506784",
            "linecolor": "#506784",
            "ticks": ""
           },
           "bgcolor": "rgb(17,17,17)",
           "caxis": {
            "gridcolor": "#506784",
            "linecolor": "#506784",
            "ticks": ""
           }
          },
          "title": {
           "x": 0.05
          },
          "updatemenudefaults": {
           "bgcolor": "#506784",
           "borderwidth": 0
          },
          "xaxis": {
           "automargin": true,
           "gridcolor": "#283442",
           "linecolor": "#506784",
           "ticks": "",
           "title": {
            "standoff": 15
           },
           "zerolinecolor": "#283442",
           "zerolinewidth": 2
          },
          "yaxis": {
           "automargin": true,
           "gridcolor": "#283442",
           "linecolor": "#506784",
           "ticks": "",
           "title": {
            "standoff": 15
           },
           "zerolinecolor": "#283442",
           "zerolinewidth": 2
          }
         }
        },
        "width": 800
       }
      }
     },
     "metadata": {},
     "output_type": "display_data"
    }
   ],
   "source": [
    "steps = []\n",
    "steps.extend(fc.arcXY(fc.Point(x=50, y=50, z=0), 10, (5/8)*tau, tau/8, 16))\n",
    "steps.extend(fc.arcXY(fc.Point(x=80, y=55, z=0), 15, 0.75*tau, 0.5*tau, 16))\n",
    "steps.extend(fc.arcXY(fc.Point(x=80, y=65, z=0), 5, 0.25*tau, 0.5*tau, 16))\n",
    "steps.extend(fc.arcXY(fc.Point(x=80, y=55, z=0), 5, 0.25*tau, -0.5*tau, 16))\n",
    "steps.extend(fc.arcXY(fc.Point(x=60, y=60, z=0), 10, 0.75*tau, -tau/8, 16))\n",
    "\n",
    "steps_and_annotation = steps + [fc.PlotAnnotation(label='this geometry is reflected in next plot')]\n",
    "fc.transform(steps_and_annotation, 'plot', fc.PlotControls(color_type='print_sequence', style='line'))\n",
    "\n",
    "steps_reflected = []\n",
    "step_count = len(steps)\n",
    "for i in range(step_count):\n",
    "    # reflect about a line connecting the first point (steps[0]) and last point (steps[-1])\n",
    "    steps_reflected.append(fc.reflectXY(steps[(step_count-1)-i], steps[0], steps[-1]))\n",
    "steps.extend(steps_reflected)\n",
    "steps.extend([fc.PlotAnnotation(point = pt, label='') for pt in fc.segmented_line(fc.Point(x=43, y=43, z=0), fc.Point(x=52.5, y=52.5, z=0), 20)])\n",
    "# add some points to the plot to indicate the reflection line\n",
    "steps.append(fc.PlotAnnotation(point=steps[step_count], label='all points from the previous plot were reflected and added to the path (in reverse order)'))\n",
    "fc.transform(steps, 'plot', fc.PlotControls(color_type='print_sequence', style='line'))"
   ]
  }
 ],
 "metadata": {
  "kernelspec": {
   "display_name": "fullcontrol",
   "language": "python",
   "name": "python3"
  },
  "language_info": {
   "codemirror_mode": {
    "name": "ipython",
    "version": 3
   },
   "file_extension": ".py",
   "mimetype": "text/x-python",
   "name": "python",
   "nbconvert_exporter": "python",
   "pygments_lexer": "ipython3",
   "version": "3.11.14"
  }
 },
 "nbformat": 4,
 "nbformat_minor": 4
}
